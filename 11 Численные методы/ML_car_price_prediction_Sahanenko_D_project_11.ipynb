{
 "cells": [
  {
   "cell_type": "markdown",
   "metadata": {},
   "source": [
    "# Определение стоимости автомобилей"
   ]
  },
  {
   "cell_type": "markdown",
   "metadata": {},
   "source": [
    "Сервис по продаже автомобилей с пробегом «Не бит, не крашен» разрабатывает приложение для привлечения новых клиентов. В нём можно быстро узнать рыночную стоимость своего автомобиля. В вашем распоряжении исторические данные: технические характеристики, комплектации и цены автомобилей. Вам нужно построить модель для определения стоимости. \n",
    "\n",
    "**Заказчику важны**:\n",
    "\n",
    "- качество предсказания;\n",
    "- скорость предсказания;\n",
    "- время обучения.\n",
    "\n",
    "**Технические требования заказчика:**\n",
    "- Для оценки качества моделей применять метрику RMSE.\n",
    "- Значение метрики RMSE должно быть меньше 2500.\n",
    "- Использовать в проекте библиотеку LightGBM и другие модели градиентного бустинга."
   ]
  },
  {
   "cell_type": "markdown",
   "metadata": {},
   "source": [
    "## План по выполнению проекта\n",
    "    1. Загрузить и подготовить данные.\n",
    "    2. Обучить разные модели с различными гиперпараметрами.\n",
    "    3. Проанализировать скорость работы и качество моделей. "
   ]
  },
  {
   "cell_type": "markdown",
   "metadata": {},
   "source": [
    "## Описание данных\n",
    "Данные находятся в файле /datasets/autos.csv.\n",
    "\n",
    "    Признаки\n",
    "        DateCrawled — дата скачивания анкеты из базы\n",
    "        VehicleType — тип автомобильного кузова\n",
    "        RegistrationYear — год регистрации автомобиля\n",
    "        Gearbox — тип коробки передач\n",
    "        Power — мощность (л. с.)\n",
    "        Model — модель автомобиля\n",
    "        Kilometer — пробег (км)\n",
    "        RegistrationMonth — месяц регистрации автомобиля\n",
    "        FuelType — тип топлива\n",
    "        Brand — марка автомобиля\n",
    "        NotRepaired — была машина в ремонте или нет\n",
    "        DateCreated — дата создания анкеты\n",
    "        NumberOfPictures — количество фотографий автомобиля\n",
    "        PostalCode — почтовый индекс владельца анкеты (пользователя)\n",
    "        LastSeen — дата последней активности пользователя\n",
    "        \n",
    "    Целевой признак\n",
    "        Price — цена (евро)"
   ]
  },
  {
   "cell_type": "markdown",
   "metadata": {},
   "source": [
    "## Шаг №1. Подготовка данных"
   ]
  },
  {
   "cell_type": "code",
   "execution_count": 1,
   "metadata": {},
   "outputs": [
    {
     "name": "stdout",
     "output_type": "stream",
     "text": [
      "Requirement already satisfied: lightgbm in c:\\users\\dotce\\anaconda3\\lib\\site-packages (3.3.5)\n",
      "Requirement already satisfied: numpy in c:\\users\\dotce\\anaconda3\\lib\\site-packages (from lightgbm) (1.20.3)\n",
      "Requirement already satisfied: wheel in c:\\users\\dotce\\anaconda3\\lib\\site-packages (from lightgbm) (0.37.0)\n",
      "Requirement already satisfied: scipy in c:\\users\\dotce\\anaconda3\\lib\\site-packages (from lightgbm) (1.7.1)\n",
      "Requirement already satisfied: scikit-learn!=0.22.0 in c:\\users\\dotce\\anaconda3\\lib\\site-packages (from lightgbm) (0.24.2)\n",
      "Requirement already satisfied: threadpoolctl>=2.0.0 in c:\\users\\dotce\\anaconda3\\lib\\site-packages (from scikit-learn!=0.22.0->lightgbm) (2.2.0)\n",
      "Requirement already satisfied: joblib>=0.11 in c:\\users\\dotce\\anaconda3\\lib\\site-packages (from scikit-learn!=0.22.0->lightgbm) (1.1.0)\n",
      "Requirement already satisfied: catboost in c:\\users\\dotce\\anaconda3\\lib\\site-packages (1.1.1)\n",
      "Requirement already satisfied: numpy>=1.16.0 in c:\\users\\dotce\\anaconda3\\lib\\site-packages (from catboost) (1.20.3)\n",
      "Requirement already satisfied: matplotlib in c:\\users\\dotce\\anaconda3\\lib\\site-packages (from catboost) (3.4.3)\n",
      "Requirement already satisfied: six in c:\\users\\dotce\\anaconda3\\lib\\site-packages (from catboost) (1.16.0)\n",
      "Requirement already satisfied: graphviz in c:\\users\\dotce\\anaconda3\\lib\\site-packages (from catboost) (0.20)\n",
      "Requirement already satisfied: plotly in c:\\users\\dotce\\anaconda3\\lib\\site-packages (from catboost) (5.9.0)\n",
      "Requirement already satisfied: scipy in c:\\users\\dotce\\anaconda3\\lib\\site-packages (from catboost) (1.7.1)\n",
      "Requirement already satisfied: pandas>=0.24.0 in c:\\users\\dotce\\anaconda3\\lib\\site-packages (from catboost) (1.3.4)\n",
      "Requirement already satisfied: python-dateutil>=2.7.3 in c:\\users\\dotce\\anaconda3\\lib\\site-packages (from pandas>=0.24.0->catboost) (2.8.2)\n",
      "Requirement already satisfied: pytz>=2017.3 in c:\\users\\dotce\\anaconda3\\lib\\site-packages (from pandas>=0.24.0->catboost) (2021.3)\n",
      "Requirement already satisfied: cycler>=0.10 in c:\\users\\dotce\\anaconda3\\lib\\site-packages (from matplotlib->catboost) (0.10.0)\n",
      "Requirement already satisfied: kiwisolver>=1.0.1 in c:\\users\\dotce\\anaconda3\\lib\\site-packages (from matplotlib->catboost) (1.3.1)\n",
      "Requirement already satisfied: pyparsing>=2.2.1 in c:\\users\\dotce\\anaconda3\\lib\\site-packages (from matplotlib->catboost) (3.0.4)\n",
      "Requirement already satisfied: pillow>=6.2.0 in c:\\users\\dotce\\anaconda3\\lib\\site-packages (from matplotlib->catboost) (8.4.0)\n",
      "Requirement already satisfied: tenacity>=6.2.0 in c:\\users\\dotce\\anaconda3\\lib\\site-packages (from plotly->catboost) (8.0.1)\n"
     ]
    }
   ],
   "source": [
    "# импортируем библиотеки \n",
    "import os\n",
    "import math\n",
    "import time\n",
    "import itertools \n",
    "import urllib.request\n",
    "import numpy as np\n",
    "import pandas as pd\n",
    "import seaborn as sns\n",
    "import matplotlib.pyplot as plt\n",
    "from pathlib import Path\n",
    "\n",
    "from sklearn.metrics import mean_squared_error\n",
    "from sklearn.model_selection import cross_val_score\n",
    "from sklearn.preprocessing import StandardScaler\n",
    "from sklearn.model_selection import train_test_split\n",
    "from sklearn.linear_model import LinearRegression\n",
    "from sklearn.model_selection import GridSearchCV\n",
    "\n",
    "import warnings\n",
    "warnings.filterwarnings('ignore')\n",
    "\n",
    "!pip install lightgbm -U\n",
    "import lightgbm as lgb\n",
    "from lightgbm import LGBMRegressor\n",
    "\n",
    "!pip install catboost -U\n",
    "from catboost import CatBoostRegressor"
   ]
  },
  {
   "cell_type": "code",
   "execution_count": 2,
   "metadata": {},
   "outputs": [],
   "source": [
    "class DataScience:\n",
    "\n",
    "    def path_to_files(self, path, link):\n",
    "        Path('datasets').mkdir(parents=True, exist_ok=True)\n",
    "        def get_file(file_name, url):\n",
    "            if not os.path.exists(file_name):\n",
    "                print(file_name, 'файл не найден, будет загружен из сети')\n",
    "                _ = urllib.request.urlretrieve(url, file_name)\n",
    "        urls = {\n",
    "            'dataset': (path, link)\n",
    "        }\n",
    "        [get_file(*urls[k]) for k in urls]\n",
    "        data = pd.read_csv(urls['dataset'][0])\n",
    "        return data\n",
    "\n",
    "\n",
    "    def corr_diagram(self, x):\n",
    "        plt.figure(figsize=(12, 10), dpi=80)\n",
    "        sns.heatmap(x.corr(), xticklabels=x.corr().columns, yticklabels=x.corr().columns, cmap='RdYlGn', center=0,\n",
    "                    annot=True)\n",
    "        plt.title('Диаграмма корреляции', fontsize=22)\n",
    "        plt.xticks(fontsize=12)\n",
    "        plt.yticks(fontsize=12)\n",
    "        plt.show()\n",
    "\n",
    "    def clean_dataset(self, df):\n",
    "        assert isinstance(df, pd.DataFrame), \"df needs to be a pd.DataFrame\"\n",
    "        df.dropna(inplace=True)\n",
    "        indices_to_keep = ~df.isin([np.nan, np.inf, -np.inf]).any(1)\n",
    "\n",
    "        return df[indices_to_keep].astype(np.float64)\n",
    "\n",
    "    def missing_zero_values_table(self, df):\n",
    "        zero_val = (df == 0.00).astype(int).sum(axis=0)\n",
    "        mis_val = df.isnull().sum()\n",
    "        mis_val_percent = 100 * df.isnull().sum() / len(df)\n",
    "        mz_table = pd.concat([zero_val, mis_val, mis_val_percent], axis=1)\n",
    "        mz_table = mz_table.rename(\n",
    "            columns={0: 'Zero Values', 1: 'Missing Values', 2: '% of Total Values'})\n",
    "        mz_table['Total Zero and Missing Values'] = mz_table['Zero Values'] + mz_table['Missing Values']\n",
    "        mz_table['% Total Zero and Missing Values'] = 100 * mz_table['Total Zero and Missing Values'] / len(df)\n",
    "        mz_table['Data Type'] = df.dtypes\n",
    "        mz_table = mz_table[mz_table.iloc[:, 1] != 0].sort_values('% of Total Values', ascending=False).round(1)\n",
    "        print(\"Your selected dataframe has \" + str(df.shape[1]) + \" columns and \" + str(df.shape[0]) + \" Rows.\\n\"\n",
    "           \"There are \" + str(mz_table.shape[0]) +\n",
    "              \" columns that have missing values.\") \n",
    "        print(\"Number of rows that have at least one NaN\", df.isnull().any(axis=1).sum(), \" or \",  f\"{df.isnull().any(axis=1).sum() / len(df):.1%}\")        \n",
    "        return mz_table\n",
    "\n",
    "    def fill_with_mode(self, column, column1, column2):\n",
    "        df[column] = df.groupby([column1, column2])[column].transform(lambda x: x.fillna((x.mode()[0] if not x.mode().empty else \"Empty\")))       \n"
   ]
  },
  {
   "cell_type": "code",
   "execution_count": 3,
   "metadata": {},
   "outputs": [],
   "source": [
    "# присвоим переменной ds созданный класс DataScience\n",
    "ds = DataScience()"
   ]
  },
  {
   "cell_type": "code",
   "execution_count": 4,
   "metadata": {},
   "outputs": [],
   "source": [
    "# загрузим файл autos.csv в переменную df\n",
    "\n",
    "try:\n",
    "    df = ds.path_to_files('e:/Яндекс.Практикум/Спринт 14 Численные методы/datasets/autos.csv','https://code.s3.yandex.net/datasets/autos.csv')\n",
    "except:\n",
    "    df = pd.read_csv(\"/datasets/autos.csv\")"
   ]
  },
  {
   "cell_type": "code",
   "execution_count": 5,
   "metadata": {},
   "outputs": [
    {
     "data": {
      "text/html": [
       "<div>\n",
       "<style scoped>\n",
       "    .dataframe tbody tr th:only-of-type {\n",
       "        vertical-align: middle;\n",
       "    }\n",
       "\n",
       "    .dataframe tbody tr th {\n",
       "        vertical-align: top;\n",
       "    }\n",
       "\n",
       "    .dataframe thead th {\n",
       "        text-align: right;\n",
       "    }\n",
       "</style>\n",
       "<table border=\"1\" class=\"dataframe\">\n",
       "  <thead>\n",
       "    <tr style=\"text-align: right;\">\n",
       "      <th></th>\n",
       "      <th>DateCrawled</th>\n",
       "      <th>Price</th>\n",
       "      <th>VehicleType</th>\n",
       "      <th>RegistrationYear</th>\n",
       "      <th>Gearbox</th>\n",
       "      <th>Power</th>\n",
       "      <th>Model</th>\n",
       "      <th>Kilometer</th>\n",
       "      <th>RegistrationMonth</th>\n",
       "      <th>FuelType</th>\n",
       "      <th>Brand</th>\n",
       "      <th>NotRepaired</th>\n",
       "      <th>DateCreated</th>\n",
       "      <th>NumberOfPictures</th>\n",
       "      <th>PostalCode</th>\n",
       "      <th>LastSeen</th>\n",
       "    </tr>\n",
       "  </thead>\n",
       "  <tbody>\n",
       "    <tr>\n",
       "      <th>0</th>\n",
       "      <td>2016-03-24 11:52:17</td>\n",
       "      <td>480</td>\n",
       "      <td>NaN</td>\n",
       "      <td>1993</td>\n",
       "      <td>manual</td>\n",
       "      <td>0</td>\n",
       "      <td>golf</td>\n",
       "      <td>150000</td>\n",
       "      <td>0</td>\n",
       "      <td>petrol</td>\n",
       "      <td>volkswagen</td>\n",
       "      <td>NaN</td>\n",
       "      <td>2016-03-24 00:00:00</td>\n",
       "      <td>0</td>\n",
       "      <td>70435</td>\n",
       "      <td>2016-04-07 03:16:57</td>\n",
       "    </tr>\n",
       "    <tr>\n",
       "      <th>1</th>\n",
       "      <td>2016-03-24 10:58:45</td>\n",
       "      <td>18300</td>\n",
       "      <td>coupe</td>\n",
       "      <td>2011</td>\n",
       "      <td>manual</td>\n",
       "      <td>190</td>\n",
       "      <td>NaN</td>\n",
       "      <td>125000</td>\n",
       "      <td>5</td>\n",
       "      <td>gasoline</td>\n",
       "      <td>audi</td>\n",
       "      <td>yes</td>\n",
       "      <td>2016-03-24 00:00:00</td>\n",
       "      <td>0</td>\n",
       "      <td>66954</td>\n",
       "      <td>2016-04-07 01:46:50</td>\n",
       "    </tr>\n",
       "    <tr>\n",
       "      <th>2</th>\n",
       "      <td>2016-03-14 12:52:21</td>\n",
       "      <td>9800</td>\n",
       "      <td>suv</td>\n",
       "      <td>2004</td>\n",
       "      <td>auto</td>\n",
       "      <td>163</td>\n",
       "      <td>grand</td>\n",
       "      <td>125000</td>\n",
       "      <td>8</td>\n",
       "      <td>gasoline</td>\n",
       "      <td>jeep</td>\n",
       "      <td>NaN</td>\n",
       "      <td>2016-03-14 00:00:00</td>\n",
       "      <td>0</td>\n",
       "      <td>90480</td>\n",
       "      <td>2016-04-05 12:47:46</td>\n",
       "    </tr>\n",
       "    <tr>\n",
       "      <th>3</th>\n",
       "      <td>2016-03-17 16:54:04</td>\n",
       "      <td>1500</td>\n",
       "      <td>small</td>\n",
       "      <td>2001</td>\n",
       "      <td>manual</td>\n",
       "      <td>75</td>\n",
       "      <td>golf</td>\n",
       "      <td>150000</td>\n",
       "      <td>6</td>\n",
       "      <td>petrol</td>\n",
       "      <td>volkswagen</td>\n",
       "      <td>no</td>\n",
       "      <td>2016-03-17 00:00:00</td>\n",
       "      <td>0</td>\n",
       "      <td>91074</td>\n",
       "      <td>2016-03-17 17:40:17</td>\n",
       "    </tr>\n",
       "    <tr>\n",
       "      <th>4</th>\n",
       "      <td>2016-03-31 17:25:20</td>\n",
       "      <td>3600</td>\n",
       "      <td>small</td>\n",
       "      <td>2008</td>\n",
       "      <td>manual</td>\n",
       "      <td>69</td>\n",
       "      <td>fabia</td>\n",
       "      <td>90000</td>\n",
       "      <td>7</td>\n",
       "      <td>gasoline</td>\n",
       "      <td>skoda</td>\n",
       "      <td>no</td>\n",
       "      <td>2016-03-31 00:00:00</td>\n",
       "      <td>0</td>\n",
       "      <td>60437</td>\n",
       "      <td>2016-04-06 10:17:21</td>\n",
       "    </tr>\n",
       "    <tr>\n",
       "      <th>5</th>\n",
       "      <td>2016-04-04 17:36:23</td>\n",
       "      <td>650</td>\n",
       "      <td>sedan</td>\n",
       "      <td>1995</td>\n",
       "      <td>manual</td>\n",
       "      <td>102</td>\n",
       "      <td>3er</td>\n",
       "      <td>150000</td>\n",
       "      <td>10</td>\n",
       "      <td>petrol</td>\n",
       "      <td>bmw</td>\n",
       "      <td>yes</td>\n",
       "      <td>2016-04-04 00:00:00</td>\n",
       "      <td>0</td>\n",
       "      <td>33775</td>\n",
       "      <td>2016-04-06 19:17:07</td>\n",
       "    </tr>\n",
       "    <tr>\n",
       "      <th>6</th>\n",
       "      <td>2016-04-01 20:48:51</td>\n",
       "      <td>2200</td>\n",
       "      <td>convertible</td>\n",
       "      <td>2004</td>\n",
       "      <td>manual</td>\n",
       "      <td>109</td>\n",
       "      <td>2_reihe</td>\n",
       "      <td>150000</td>\n",
       "      <td>8</td>\n",
       "      <td>petrol</td>\n",
       "      <td>peugeot</td>\n",
       "      <td>no</td>\n",
       "      <td>2016-04-01 00:00:00</td>\n",
       "      <td>0</td>\n",
       "      <td>67112</td>\n",
       "      <td>2016-04-05 18:18:39</td>\n",
       "    </tr>\n",
       "    <tr>\n",
       "      <th>7</th>\n",
       "      <td>2016-03-21 18:54:38</td>\n",
       "      <td>0</td>\n",
       "      <td>sedan</td>\n",
       "      <td>1980</td>\n",
       "      <td>manual</td>\n",
       "      <td>50</td>\n",
       "      <td>other</td>\n",
       "      <td>40000</td>\n",
       "      <td>7</td>\n",
       "      <td>petrol</td>\n",
       "      <td>volkswagen</td>\n",
       "      <td>no</td>\n",
       "      <td>2016-03-21 00:00:00</td>\n",
       "      <td>0</td>\n",
       "      <td>19348</td>\n",
       "      <td>2016-03-25 16:47:58</td>\n",
       "    </tr>\n",
       "    <tr>\n",
       "      <th>8</th>\n",
       "      <td>2016-04-04 23:42:13</td>\n",
       "      <td>14500</td>\n",
       "      <td>bus</td>\n",
       "      <td>2014</td>\n",
       "      <td>manual</td>\n",
       "      <td>125</td>\n",
       "      <td>c_max</td>\n",
       "      <td>30000</td>\n",
       "      <td>8</td>\n",
       "      <td>petrol</td>\n",
       "      <td>ford</td>\n",
       "      <td>NaN</td>\n",
       "      <td>2016-04-04 00:00:00</td>\n",
       "      <td>0</td>\n",
       "      <td>94505</td>\n",
       "      <td>2016-04-04 23:42:13</td>\n",
       "    </tr>\n",
       "    <tr>\n",
       "      <th>9</th>\n",
       "      <td>2016-03-17 10:53:50</td>\n",
       "      <td>999</td>\n",
       "      <td>small</td>\n",
       "      <td>1998</td>\n",
       "      <td>manual</td>\n",
       "      <td>101</td>\n",
       "      <td>golf</td>\n",
       "      <td>150000</td>\n",
       "      <td>0</td>\n",
       "      <td>NaN</td>\n",
       "      <td>volkswagen</td>\n",
       "      <td>NaN</td>\n",
       "      <td>2016-03-17 00:00:00</td>\n",
       "      <td>0</td>\n",
       "      <td>27472</td>\n",
       "      <td>2016-03-31 17:17:06</td>\n",
       "    </tr>\n",
       "  </tbody>\n",
       "</table>\n",
       "</div>"
      ],
      "text/plain": [
       "           DateCrawled  Price  VehicleType  RegistrationYear Gearbox  Power  \\\n",
       "0  2016-03-24 11:52:17    480          NaN              1993  manual      0   \n",
       "1  2016-03-24 10:58:45  18300        coupe              2011  manual    190   \n",
       "2  2016-03-14 12:52:21   9800          suv              2004    auto    163   \n",
       "3  2016-03-17 16:54:04   1500        small              2001  manual     75   \n",
       "4  2016-03-31 17:25:20   3600        small              2008  manual     69   \n",
       "5  2016-04-04 17:36:23    650        sedan              1995  manual    102   \n",
       "6  2016-04-01 20:48:51   2200  convertible              2004  manual    109   \n",
       "7  2016-03-21 18:54:38      0        sedan              1980  manual     50   \n",
       "8  2016-04-04 23:42:13  14500          bus              2014  manual    125   \n",
       "9  2016-03-17 10:53:50    999        small              1998  manual    101   \n",
       "\n",
       "     Model  Kilometer  RegistrationMonth  FuelType       Brand NotRepaired  \\\n",
       "0     golf     150000                  0    petrol  volkswagen         NaN   \n",
       "1      NaN     125000                  5  gasoline        audi         yes   \n",
       "2    grand     125000                  8  gasoline        jeep         NaN   \n",
       "3     golf     150000                  6    petrol  volkswagen          no   \n",
       "4    fabia      90000                  7  gasoline       skoda          no   \n",
       "5      3er     150000                 10    petrol         bmw         yes   \n",
       "6  2_reihe     150000                  8    petrol     peugeot          no   \n",
       "7    other      40000                  7    petrol  volkswagen          no   \n",
       "8    c_max      30000                  8    petrol        ford         NaN   \n",
       "9     golf     150000                  0       NaN  volkswagen         NaN   \n",
       "\n",
       "           DateCreated  NumberOfPictures  PostalCode             LastSeen  \n",
       "0  2016-03-24 00:00:00                 0       70435  2016-04-07 03:16:57  \n",
       "1  2016-03-24 00:00:00                 0       66954  2016-04-07 01:46:50  \n",
       "2  2016-03-14 00:00:00                 0       90480  2016-04-05 12:47:46  \n",
       "3  2016-03-17 00:00:00                 0       91074  2016-03-17 17:40:17  \n",
       "4  2016-03-31 00:00:00                 0       60437  2016-04-06 10:17:21  \n",
       "5  2016-04-04 00:00:00                 0       33775  2016-04-06 19:17:07  \n",
       "6  2016-04-01 00:00:00                 0       67112  2016-04-05 18:18:39  \n",
       "7  2016-03-21 00:00:00                 0       19348  2016-03-25 16:47:58  \n",
       "8  2016-04-04 00:00:00                 0       94505  2016-04-04 23:42:13  \n",
       "9  2016-03-17 00:00:00                 0       27472  2016-03-31 17:17:06  "
      ]
     },
     "metadata": {},
     "output_type": "display_data"
    }
   ],
   "source": [
    "# откроем датафрейм\n",
    "display(df.head(10))"
   ]
  },
  {
   "cell_type": "code",
   "execution_count": 6,
   "metadata": {},
   "outputs": [
    {
     "name": "stdout",
     "output_type": "stream",
     "text": [
      "<class 'pandas.core.frame.DataFrame'>\n",
      "RangeIndex: 354369 entries, 0 to 354368\n",
      "Data columns (total 16 columns):\n",
      " #   Column             Non-Null Count   Dtype \n",
      "---  ------             --------------   ----- \n",
      " 0   DateCrawled        354369 non-null  object\n",
      " 1   Price              354369 non-null  int64 \n",
      " 2   VehicleType        316879 non-null  object\n",
      " 3   RegistrationYear   354369 non-null  int64 \n",
      " 4   Gearbox            334536 non-null  object\n",
      " 5   Power              354369 non-null  int64 \n",
      " 6   Model              334664 non-null  object\n",
      " 7   Kilometer          354369 non-null  int64 \n",
      " 8   RegistrationMonth  354369 non-null  int64 \n",
      " 9   FuelType           321474 non-null  object\n",
      " 10  Brand              354369 non-null  object\n",
      " 11  NotRepaired        283215 non-null  object\n",
      " 12  DateCreated        354369 non-null  object\n",
      " 13  NumberOfPictures   354369 non-null  int64 \n",
      " 14  PostalCode         354369 non-null  int64 \n",
      " 15  LastSeen           354369 non-null  object\n",
      "dtypes: int64(7), object(9)\n",
      "memory usage: 43.3+ MB\n"
     ]
    },
    {
     "data": {
      "text/plain": [
       "None"
      ]
     },
     "metadata": {},
     "output_type": "display_data"
    }
   ],
   "source": [
    "# изучим общую инфмормацию о датасете\n",
    "display(df.info())"
   ]
  },
  {
   "cell_type": "code",
   "execution_count": 7,
   "metadata": {},
   "outputs": [
    {
     "data": {
      "text/html": [
       "<div>\n",
       "<style scoped>\n",
       "    .dataframe tbody tr th:only-of-type {\n",
       "        vertical-align: middle;\n",
       "    }\n",
       "\n",
       "    .dataframe tbody tr th {\n",
       "        vertical-align: top;\n",
       "    }\n",
       "\n",
       "    .dataframe thead th {\n",
       "        text-align: right;\n",
       "    }\n",
       "</style>\n",
       "<table border=\"1\" class=\"dataframe\">\n",
       "  <thead>\n",
       "    <tr style=\"text-align: right;\">\n",
       "      <th></th>\n",
       "      <th>Price</th>\n",
       "      <th>RegistrationYear</th>\n",
       "      <th>Power</th>\n",
       "      <th>Kilometer</th>\n",
       "      <th>RegistrationMonth</th>\n",
       "      <th>NumberOfPictures</th>\n",
       "      <th>PostalCode</th>\n",
       "    </tr>\n",
       "  </thead>\n",
       "  <tbody>\n",
       "    <tr>\n",
       "      <th>count</th>\n",
       "      <td>354369.000000</td>\n",
       "      <td>354369.000000</td>\n",
       "      <td>354369.000000</td>\n",
       "      <td>354369.000000</td>\n",
       "      <td>354369.000000</td>\n",
       "      <td>354369.0</td>\n",
       "      <td>354369.000000</td>\n",
       "    </tr>\n",
       "    <tr>\n",
       "      <th>mean</th>\n",
       "      <td>4416.656776</td>\n",
       "      <td>2004.234448</td>\n",
       "      <td>110.094337</td>\n",
       "      <td>128211.172535</td>\n",
       "      <td>5.714645</td>\n",
       "      <td>0.0</td>\n",
       "      <td>50508.689087</td>\n",
       "    </tr>\n",
       "    <tr>\n",
       "      <th>std</th>\n",
       "      <td>4514.158514</td>\n",
       "      <td>90.227958</td>\n",
       "      <td>189.850405</td>\n",
       "      <td>37905.341530</td>\n",
       "      <td>3.726421</td>\n",
       "      <td>0.0</td>\n",
       "      <td>25783.096248</td>\n",
       "    </tr>\n",
       "    <tr>\n",
       "      <th>min</th>\n",
       "      <td>0.000000</td>\n",
       "      <td>1000.000000</td>\n",
       "      <td>0.000000</td>\n",
       "      <td>5000.000000</td>\n",
       "      <td>0.000000</td>\n",
       "      <td>0.0</td>\n",
       "      <td>1067.000000</td>\n",
       "    </tr>\n",
       "    <tr>\n",
       "      <th>25%</th>\n",
       "      <td>1050.000000</td>\n",
       "      <td>1999.000000</td>\n",
       "      <td>69.000000</td>\n",
       "      <td>125000.000000</td>\n",
       "      <td>3.000000</td>\n",
       "      <td>0.0</td>\n",
       "      <td>30165.000000</td>\n",
       "    </tr>\n",
       "    <tr>\n",
       "      <th>50%</th>\n",
       "      <td>2700.000000</td>\n",
       "      <td>2003.000000</td>\n",
       "      <td>105.000000</td>\n",
       "      <td>150000.000000</td>\n",
       "      <td>6.000000</td>\n",
       "      <td>0.0</td>\n",
       "      <td>49413.000000</td>\n",
       "    </tr>\n",
       "    <tr>\n",
       "      <th>75%</th>\n",
       "      <td>6400.000000</td>\n",
       "      <td>2008.000000</td>\n",
       "      <td>143.000000</td>\n",
       "      <td>150000.000000</td>\n",
       "      <td>9.000000</td>\n",
       "      <td>0.0</td>\n",
       "      <td>71083.000000</td>\n",
       "    </tr>\n",
       "    <tr>\n",
       "      <th>max</th>\n",
       "      <td>20000.000000</td>\n",
       "      <td>9999.000000</td>\n",
       "      <td>20000.000000</td>\n",
       "      <td>150000.000000</td>\n",
       "      <td>12.000000</td>\n",
       "      <td>0.0</td>\n",
       "      <td>99998.000000</td>\n",
       "    </tr>\n",
       "  </tbody>\n",
       "</table>\n",
       "</div>"
      ],
      "text/plain": [
       "               Price  RegistrationYear          Power      Kilometer  \\\n",
       "count  354369.000000     354369.000000  354369.000000  354369.000000   \n",
       "mean     4416.656776       2004.234448     110.094337  128211.172535   \n",
       "std      4514.158514         90.227958     189.850405   37905.341530   \n",
       "min         0.000000       1000.000000       0.000000    5000.000000   \n",
       "25%      1050.000000       1999.000000      69.000000  125000.000000   \n",
       "50%      2700.000000       2003.000000     105.000000  150000.000000   \n",
       "75%      6400.000000       2008.000000     143.000000  150000.000000   \n",
       "max     20000.000000       9999.000000   20000.000000  150000.000000   \n",
       "\n",
       "       RegistrationMonth  NumberOfPictures     PostalCode  \n",
       "count      354369.000000          354369.0  354369.000000  \n",
       "mean            5.714645               0.0   50508.689087  \n",
       "std             3.726421               0.0   25783.096248  \n",
       "min             0.000000               0.0    1067.000000  \n",
       "25%             3.000000               0.0   30165.000000  \n",
       "50%             6.000000               0.0   49413.000000  \n",
       "75%             9.000000               0.0   71083.000000  \n",
       "max            12.000000               0.0   99998.000000  "
      ]
     },
     "metadata": {},
     "output_type": "display_data"
    }
   ],
   "source": [
    "# взглянем на статистики\n",
    "display(df.describe())"
   ]
  },
  {
   "cell_type": "code",
   "execution_count": 8,
   "metadata": {},
   "outputs": [
    {
     "name": "stdout",
     "output_type": "stream",
     "text": [
      "Your selected dataframe has 16 columns and 354369 Rows.\n",
      "There are 5 columns that have missing values.\n",
      "Number of rows that have at least one NaN 108555  or  30.6%\n"
     ]
    },
    {
     "data": {
      "text/html": [
       "<div>\n",
       "<style scoped>\n",
       "    .dataframe tbody tr th:only-of-type {\n",
       "        vertical-align: middle;\n",
       "    }\n",
       "\n",
       "    .dataframe tbody tr th {\n",
       "        vertical-align: top;\n",
       "    }\n",
       "\n",
       "    .dataframe thead th {\n",
       "        text-align: right;\n",
       "    }\n",
       "</style>\n",
       "<table border=\"1\" class=\"dataframe\">\n",
       "  <thead>\n",
       "    <tr style=\"text-align: right;\">\n",
       "      <th></th>\n",
       "      <th>Zero Values</th>\n",
       "      <th>Missing Values</th>\n",
       "      <th>% of Total Values</th>\n",
       "      <th>Total Zero and Missing Values</th>\n",
       "      <th>% Total Zero and Missing Values</th>\n",
       "      <th>Data Type</th>\n",
       "    </tr>\n",
       "  </thead>\n",
       "  <tbody>\n",
       "    <tr>\n",
       "      <th>NotRepaired</th>\n",
       "      <td>0</td>\n",
       "      <td>71154</td>\n",
       "      <td>20.1</td>\n",
       "      <td>71154</td>\n",
       "      <td>20.1</td>\n",
       "      <td>object</td>\n",
       "    </tr>\n",
       "    <tr>\n",
       "      <th>VehicleType</th>\n",
       "      <td>0</td>\n",
       "      <td>37490</td>\n",
       "      <td>10.6</td>\n",
       "      <td>37490</td>\n",
       "      <td>10.6</td>\n",
       "      <td>object</td>\n",
       "    </tr>\n",
       "    <tr>\n",
       "      <th>FuelType</th>\n",
       "      <td>0</td>\n",
       "      <td>32895</td>\n",
       "      <td>9.3</td>\n",
       "      <td>32895</td>\n",
       "      <td>9.3</td>\n",
       "      <td>object</td>\n",
       "    </tr>\n",
       "    <tr>\n",
       "      <th>Gearbox</th>\n",
       "      <td>0</td>\n",
       "      <td>19833</td>\n",
       "      <td>5.6</td>\n",
       "      <td>19833</td>\n",
       "      <td>5.6</td>\n",
       "      <td>object</td>\n",
       "    </tr>\n",
       "    <tr>\n",
       "      <th>Model</th>\n",
       "      <td>0</td>\n",
       "      <td>19705</td>\n",
       "      <td>5.6</td>\n",
       "      <td>19705</td>\n",
       "      <td>5.6</td>\n",
       "      <td>object</td>\n",
       "    </tr>\n",
       "  </tbody>\n",
       "</table>\n",
       "</div>"
      ],
      "text/plain": [
       "             Zero Values  Missing Values  % of Total Values  \\\n",
       "NotRepaired            0           71154               20.1   \n",
       "VehicleType            0           37490               10.6   \n",
       "FuelType               0           32895                9.3   \n",
       "Gearbox                0           19833                5.6   \n",
       "Model                  0           19705                5.6   \n",
       "\n",
       "             Total Zero and Missing Values  % Total Zero and Missing Values  \\\n",
       "NotRepaired                          71154                             20.1   \n",
       "VehicleType                          37490                             10.6   \n",
       "FuelType                             32895                              9.3   \n",
       "Gearbox                              19833                              5.6   \n",
       "Model                                19705                              5.6   \n",
       "\n",
       "            Data Type  \n",
       "NotRepaired    object  \n",
       "VehicleType    object  \n",
       "FuelType       object  \n",
       "Gearbox        object  \n",
       "Model          object  "
      ]
     },
     "execution_count": 8,
     "metadata": {},
     "output_type": "execute_result"
    }
   ],
   "source": [
    "# прменим метод missing_zero_values_table класса DataScience, чтобы получить информацию по количеству пустых значений\n",
    "ds.missing_zero_values_table(df) "
   ]
  },
  {
   "cell_type": "markdown",
   "metadata": {},
   "source": [
    "Датафрейм содержит более 30% строк с пропущенными значениями - удалять такой массив данных нецелесообразно!"
   ]
  },
  {
   "cell_type": "code",
   "execution_count": 9,
   "metadata": {},
   "outputs": [
    {
     "data": {
      "text/plain": [
       "4"
      ]
     },
     "execution_count": 9,
     "metadata": {},
     "output_type": "execute_result"
    }
   ],
   "source": [
    "# посчитаем количество дубликатов в датасете\n",
    "df.duplicated().sum()"
   ]
  },
  {
   "cell_type": "code",
   "execution_count": 10,
   "metadata": {},
   "outputs": [],
   "source": [
    "# сделаем замену текстовых значений в признаке 'NotRepaired': \"yes\" заменим на 1 , \"no\" на 0\n",
    "df['NotRepaired'] = df['NotRepaired'].map({'yes':1, 'no':0})"
   ]
  },
  {
   "cell_type": "code",
   "execution_count": 11,
   "metadata": {},
   "outputs": [
    {
     "data": {
      "text/plain": [
       "Brand           40\n",
       "Model          250\n",
       "VehicleType      8\n",
       "Gearbox          2\n",
       "FuelType         7\n",
       "dtype: int64"
      ]
     },
     "execution_count": 11,
     "metadata": {},
     "output_type": "execute_result"
    }
   ],
   "source": [
    "# посчитаем количество уникальных значений в категориальных признаках\n",
    "categorical = ['Brand','Model','VehicleType','Gearbox','FuelType']\n",
    "numerical_features_names = df.select_dtypes(include=['int64'])\n",
    "df[categorical].nunique()"
   ]
  },
  {
   "cell_type": "code",
   "execution_count": 12,
   "metadata": {},
   "outputs": [
    {
     "data": {
      "text/plain": [
       "2700.0"
      ]
     },
     "execution_count": 12,
     "metadata": {},
     "output_type": "execute_result"
    },
    {
     "data": {
      "image/png": "[encoded data removed]",
      "text/plain": [
       "<Figure size 432x288 with 1 Axes>"
      ]
     },
     "metadata": {
      "needs_background": "light"
     },
     "output_type": "display_data"
    }
   ],
   "source": [
    "# посмотрим на распределение целевого признака\n",
    "sns.distplot(df.Price.values)\n",
    "np.median(df.Price.values)"
   ]
  },
  {
   "cell_type": "code",
   "execution_count": 13,
   "metadata": {},
   "outputs": [
    {
     "name": "stdout",
     "output_type": "stream",
     "text": [
      "Число строк с ценой авто не более 1 Евро  =  11961\n",
      "Данные строки будут удалены из датафрейма\n"
     ]
    }
   ],
   "source": [
    "# удалим из датафрейма строки с ценой, равной 0 или 1 Евро. \n",
    "# даже несмотря на то, что такая цена может быть в реальности (например, \n",
    "# авто на металлолом), для нашего исследования такие авто не несут практической значимости: цену в 0-1 Евро предсказать точно \n",
    "# крайне сложно (кто-то сдает на металлолом, а кто-то выставит как раритет один и тот же автомобиль по хорошей цене!)\n",
    "print(\"Число строк с ценой авто не более 1 Евро  = \", df[df['Price']<=1].shape[0])\n",
    "df = df[df['Price']>1]\n",
    "print(\"Данные строки будут удалены из датафрейма\")"
   ]
  },
  {
   "cell_type": "code",
   "execution_count": 14,
   "metadata": {},
   "outputs": [
    {
     "name": "stdout",
     "output_type": "stream",
     "text": [
      "Число строк с авто мощностью свыше 4600 л.с. =  80\n",
      "Данные строки будут удалены из датафрейма\n"
     ]
    }
   ],
   "source": [
    "# удалим из датафрейма автомобили с мощностью больше 4600 л.с., потому что таких автомобилей не бывает \n",
    "# к сведению: самый мощный авто на 2022 год - БЕЛАЗ (4600 л.с.) \n",
    "# https://www.arenda-auto.ru/news/samye-moshchnye-avtomobili-v-mire.html \n",
    "print(\"Число строк с авто мощностью свыше 4600 л.с. = \", df[df['Power']>4600].shape[0])\n",
    "df = df[df['Power']<=4600]\n",
    "print(\"Данные строки будут удалены из датафрейма\")"
   ]
  },
  {
   "cell_type": "code",
   "execution_count": 15,
   "metadata": {},
   "outputs": [
    {
     "data": {
      "image/png": "[encoded data removed]",
      "text/plain": [
       "<Figure size 432x288 with 1 Axes>"
      ]
     },
     "metadata": {
      "needs_background": "light"
     },
     "output_type": "display_data"
    }
   ],
   "source": [
    "# построим \"ящик с усами\" по распределению мощностей автомобилей\n",
    "sns.boxplot(data=df['Power']);"
   ]
  },
  {
   "cell_type": "code",
   "execution_count": 16,
   "metadata": {},
   "outputs": [
    {
     "name": "stdout",
     "output_type": "stream",
     "text": [
      "Год регистрации авто, минимальный 1000\n",
      "Год регистрации авто, максимальный 9999\n"
     ]
    },
    {
     "data": {
      "image/png": "[encoded data removed]",
      "text/plain": [
       "<Figure size 432x288 with 1 Axes>"
      ]
     },
     "metadata": {
      "needs_background": "light"
     },
     "output_type": "display_data"
    }
   ],
   "source": [
    "# проверим столбец с датой регистрации авто, для этого\n",
    "# построим \"ящик с усами\" по распределению годов регистрации автомобилей\n",
    "sns.boxplot(data=df['RegistrationYear']);\n",
    "print(\"Год регистрации авто, минимальный\", df['RegistrationYear'].min())\n",
    "print(\"Год регистрации авто, максимальный\", df['RegistrationYear'].max())"
   ]
  },
  {
   "cell_type": "markdown",
   "metadata": {},
   "source": [
    "Как видно на графике, присутствует достаточно много выбросов и аномалий, с которыми необходимо разобраться дальше!"
   ]
  },
  {
   "cell_type": "code",
   "execution_count": 17,
   "metadata": {},
   "outputs": [
    {
     "name": "stdout",
     "output_type": "stream",
     "text": [
      "Количество объектов ДО удаления аномалий по году регистрации авто 342328\n",
      "Количество объектов ПОСЛЕ удаления аномалий по году регистрации авто 328622\n",
      "Процент удаленных строк =  4.0%\n"
     ]
    }
   ],
   "source": [
    "# добавим в df столбец 'YearCrawled', в котором будет год загрузки анкеты  \n",
    "df['DateCrawled'] = pd.to_datetime(df['DateCrawled'], format='%Y-%m-%d %H:%M')\n",
    "df['YearCrawled'] = df['DateCrawled'].dt.year\n",
    "cars_up_to_del = df['YearCrawled'].shape[0]\n",
    "print(\"Количество объектов ДО удаления аномалий по году регистрации авто\", cars_up_to_del)\n",
    "\n",
    "# оставим в df только те объекты, по которым df['RegistrationYear'] <= df['YearCrawled'], т.е. регистрация \n",
    "# авто не позже, чем дата создания анкеты \n",
    "df = df[df['RegistrationYear'] <= df['YearCrawled']]\n",
    "cars_after_del = df['YearCrawled'].shape[0]\n",
    "print(\"Количество объектов ПОСЛЕ удаления аномалий по году регистрации авто\", cars_after_del)\n",
    "print(\"Процент удаленных строк = \", f\"{ (cars_up_to_del - cars_after_del) / cars_up_to_del:.1%}\")"
   ]
  },
  {
   "cell_type": "code",
   "execution_count": 18,
   "metadata": {},
   "outputs": [
    {
     "name": "stdout",
     "output_type": "stream",
     "text": [
      "Число строк с автомобилями старше 1886 года  =  49\n",
      "Данные строки будут удалены из датафрейма\n"
     ]
    }
   ],
   "source": [
    "# удалим из датафрейма объекты с годом регистрации менее чем 1886 год, т.к. именно в этом году, а точнее\n",
    "# 29 января 1886 года Карл Фридрих Бенц (Karl Friedrich Benz) представил миру свой первый автомобиль. \n",
    "# Эта моторизированная повозка могла развивать скорость до 18 км/ч.\n",
    "# Возможно, следовало бы оставить в исследовании только авто, выпущенные после 1980 года (примерно), но интересно посмотреть, \n",
    "# как отработает модель с предсказанием цены на коллекционные и ретро автомобили\n",
    "print(\"Число строк с автомобилями старше 1886 года  = \", df[df['RegistrationYear']<1886].shape[0])\n",
    "df = df[df['Price']>=1886]\n",
    "print(\"Данные строки будут удалены из датафрейма\")"
   ]
  },
  {
   "cell_type": "code",
   "execution_count": 19,
   "metadata": {},
   "outputs": [],
   "source": [
    "# удалим из датафрейма строки с ценой, равной 0 или 1 Евро. \n",
    "# даже несмотря на то, что такая цена может быть в реальности (например, \n",
    "# авто на металлолом), для нашего исследования такие авто не несут практической значимости: цену в 0-1 Евро предсказать точно \n",
    "# крайне сложно (кто-то сдает на металлолом, а кто-то выставит как раритет один и тот же автомобиль по хорошей цене!)\n",
    "#print(\"Число строк с ценой авто не более 1 Евро  = \", df[df['Price']<=1].shape[0])\n",
    "#df = df[df['Price']>1]"
   ]
  },
  {
   "cell_type": "code",
   "execution_count": 20,
   "metadata": {},
   "outputs": [
    {
     "data": {
      "text/html": [
       "<div>\n",
       "<style scoped>\n",
       "    .dataframe tbody tr th:only-of-type {\n",
       "        vertical-align: middle;\n",
       "    }\n",
       "\n",
       "    .dataframe tbody tr th {\n",
       "        vertical-align: top;\n",
       "    }\n",
       "\n",
       "    .dataframe thead th {\n",
       "        text-align: right;\n",
       "    }\n",
       "</style>\n",
       "<table border=\"1\" class=\"dataframe\">\n",
       "  <thead>\n",
       "    <tr style=\"text-align: right;\">\n",
       "      <th></th>\n",
       "      <th>Price</th>\n",
       "      <th>VehicleType</th>\n",
       "      <th>RegistrationYear</th>\n",
       "      <th>Gearbox</th>\n",
       "      <th>Power</th>\n",
       "      <th>Model</th>\n",
       "      <th>Kilometer</th>\n",
       "      <th>RegistrationMonth</th>\n",
       "      <th>FuelType</th>\n",
       "      <th>Brand</th>\n",
       "      <th>NotRepaired</th>\n",
       "      <th>YearCrawled</th>\n",
       "    </tr>\n",
       "  </thead>\n",
       "  <tbody>\n",
       "    <tr>\n",
       "      <th>1</th>\n",
       "      <td>18300</td>\n",
       "      <td>coupe</td>\n",
       "      <td>2011</td>\n",
       "      <td>manual</td>\n",
       "      <td>190</td>\n",
       "      <td>NaN</td>\n",
       "      <td>125000</td>\n",
       "      <td>5</td>\n",
       "      <td>gasoline</td>\n",
       "      <td>audi</td>\n",
       "      <td>1.0</td>\n",
       "      <td>2016</td>\n",
       "    </tr>\n",
       "    <tr>\n",
       "      <th>2</th>\n",
       "      <td>9800</td>\n",
       "      <td>suv</td>\n",
       "      <td>2004</td>\n",
       "      <td>auto</td>\n",
       "      <td>163</td>\n",
       "      <td>grand</td>\n",
       "      <td>125000</td>\n",
       "      <td>8</td>\n",
       "      <td>gasoline</td>\n",
       "      <td>jeep</td>\n",
       "      <td>NaN</td>\n",
       "      <td>2016</td>\n",
       "    </tr>\n",
       "    <tr>\n",
       "      <th>4</th>\n",
       "      <td>3600</td>\n",
       "      <td>small</td>\n",
       "      <td>2008</td>\n",
       "      <td>manual</td>\n",
       "      <td>69</td>\n",
       "      <td>fabia</td>\n",
       "      <td>90000</td>\n",
       "      <td>7</td>\n",
       "      <td>gasoline</td>\n",
       "      <td>skoda</td>\n",
       "      <td>0.0</td>\n",
       "      <td>2016</td>\n",
       "    </tr>\n",
       "    <tr>\n",
       "      <th>6</th>\n",
       "      <td>2200</td>\n",
       "      <td>convertible</td>\n",
       "      <td>2004</td>\n",
       "      <td>manual</td>\n",
       "      <td>109</td>\n",
       "      <td>2_reihe</td>\n",
       "      <td>150000</td>\n",
       "      <td>8</td>\n",
       "      <td>petrol</td>\n",
       "      <td>peugeot</td>\n",
       "      <td>0.0</td>\n",
       "      <td>2016</td>\n",
       "    </tr>\n",
       "    <tr>\n",
       "      <th>8</th>\n",
       "      <td>14500</td>\n",
       "      <td>bus</td>\n",
       "      <td>2014</td>\n",
       "      <td>manual</td>\n",
       "      <td>125</td>\n",
       "      <td>c_max</td>\n",
       "      <td>30000</td>\n",
       "      <td>8</td>\n",
       "      <td>petrol</td>\n",
       "      <td>ford</td>\n",
       "      <td>NaN</td>\n",
       "      <td>2016</td>\n",
       "    </tr>\n",
       "  </tbody>\n",
       "</table>\n",
       "</div>"
      ],
      "text/plain": [
       "   Price  VehicleType  RegistrationYear Gearbox  Power    Model  Kilometer  \\\n",
       "1  18300        coupe              2011  manual    190      NaN     125000   \n",
       "2   9800          suv              2004    auto    163    grand     125000   \n",
       "4   3600        small              2008  manual     69    fabia      90000   \n",
       "6   2200  convertible              2004  manual    109  2_reihe     150000   \n",
       "8  14500          bus              2014  manual    125    c_max      30000   \n",
       "\n",
       "   RegistrationMonth  FuelType    Brand  NotRepaired  YearCrawled  \n",
       "1                  5  gasoline     audi          1.0         2016  \n",
       "2                  8  gasoline     jeep          NaN         2016  \n",
       "4                  7  gasoline    skoda          0.0         2016  \n",
       "6                  8    petrol  peugeot          0.0         2016  \n",
       "8                  8    petrol     ford          NaN         2016  "
      ]
     },
     "execution_count": 20,
     "metadata": {},
     "output_type": "execute_result"
    }
   ],
   "source": [
    "#Удалим столбцы которые нам не понадобятся\n",
    "df=df.drop(['DateCreated', 'DateCrawled', 'PostalCode','LastSeen','NumberOfPictures'], axis=1)\n",
    "df.head(5)"
   ]
  },
  {
   "cell_type": "code",
   "execution_count": 21,
   "metadata": {},
   "outputs": [],
   "source": [
    "# пустые значения в NotRepaired заменим на 0, так как скорее всего пользователи, \n",
    "# заполнявшие форму, в графе о починке авто ничего не ставили, если авто не чинилось\n",
    "df['NotRepaired'] = df['NotRepaired'].fillna(0)\n",
    "df['NotRepaired'] = df['NotRepaired'].astype('int64')"
   ]
  },
  {
   "cell_type": "code",
   "execution_count": 22,
   "metadata": {},
   "outputs": [],
   "source": [
    "# на основе имеющихся данных заменим пустые значения методом fill_with_mode класса DataScience\n",
    "ds.fill_with_mode('Model','Brand','RegistrationYear')\n",
    "ds.fill_with_mode('VehicleType','Brand','Model')\n",
    "ds.fill_with_mode('FuelType','Brand','Model')"
   ]
  },
  {
   "cell_type": "code",
   "execution_count": 23,
   "metadata": {},
   "outputs": [
    {
     "name": "stdout",
     "output_type": "stream",
     "text": [
      "Your selected dataframe has 12 columns and 207761 Rows.\n",
      "There are 4 columns that have missing values.\n",
      "Number of rows that have at least one NaN 8337  or  4.0%\n"
     ]
    },
    {
     "data": {
      "text/html": [
       "<div>\n",
       "<style scoped>\n",
       "    .dataframe tbody tr th:only-of-type {\n",
       "        vertical-align: middle;\n",
       "    }\n",
       "\n",
       "    .dataframe tbody tr th {\n",
       "        vertical-align: top;\n",
       "    }\n",
       "\n",
       "    .dataframe thead th {\n",
       "        text-align: right;\n",
       "    }\n",
       "</style>\n",
       "<table border=\"1\" class=\"dataframe\">\n",
       "  <thead>\n",
       "    <tr style=\"text-align: right;\">\n",
       "      <th></th>\n",
       "      <th>Zero Values</th>\n",
       "      <th>Missing Values</th>\n",
       "      <th>% of Total Values</th>\n",
       "      <th>Total Zero and Missing Values</th>\n",
       "      <th>% Total Zero and Missing Values</th>\n",
       "      <th>Data Type</th>\n",
       "    </tr>\n",
       "  </thead>\n",
       "  <tbody>\n",
       "    <tr>\n",
       "      <th>Gearbox</th>\n",
       "      <td>0</td>\n",
       "      <td>6609</td>\n",
       "      <td>3.2</td>\n",
       "      <td>6609</td>\n",
       "      <td>3.2</td>\n",
       "      <td>object</td>\n",
       "    </tr>\n",
       "    <tr>\n",
       "      <th>Model</th>\n",
       "      <td>0</td>\n",
       "      <td>1950</td>\n",
       "      <td>0.9</td>\n",
       "      <td>1950</td>\n",
       "      <td>0.9</td>\n",
       "      <td>object</td>\n",
       "    </tr>\n",
       "    <tr>\n",
       "      <th>VehicleType</th>\n",
       "      <td>0</td>\n",
       "      <td>4</td>\n",
       "      <td>0.0</td>\n",
       "      <td>4</td>\n",
       "      <td>0.0</td>\n",
       "      <td>object</td>\n",
       "    </tr>\n",
       "    <tr>\n",
       "      <th>FuelType</th>\n",
       "      <td>0</td>\n",
       "      <td>1</td>\n",
       "      <td>0.0</td>\n",
       "      <td>1</td>\n",
       "      <td>0.0</td>\n",
       "      <td>object</td>\n",
       "    </tr>\n",
       "  </tbody>\n",
       "</table>\n",
       "</div>"
      ],
      "text/plain": [
       "             Zero Values  Missing Values  % of Total Values  \\\n",
       "Gearbox                0            6609                3.2   \n",
       "Model                  0            1950                0.9   \n",
       "VehicleType            0               4                0.0   \n",
       "FuelType               0               1                0.0   \n",
       "\n",
       "             Total Zero and Missing Values  % Total Zero and Missing Values  \\\n",
       "Gearbox                               6609                              3.2   \n",
       "Model                                 1950                              0.9   \n",
       "VehicleType                              4                              0.0   \n",
       "FuelType                                 1                              0.0   \n",
       "\n",
       "            Data Type  \n",
       "Gearbox        object  \n",
       "Model          object  \n",
       "VehicleType    object  \n",
       "FuelType       object  "
      ]
     },
     "execution_count": 23,
     "metadata": {},
     "output_type": "execute_result"
    }
   ],
   "source": [
    "#Заменим Empty на nan\n",
    "df = df.replace('Empty',np.nan)\n",
    "\n",
    "# посмотрим на остаток пропущенных значений в датафрейме\n",
    "ds.missing_zero_values_table(df)  # строк с пропущенными данными уже всего лишь 6,2 %, их можно удалить!"
   ]
  },
  {
   "cell_type": "code",
   "execution_count": 24,
   "metadata": {},
   "outputs": [
    {
     "name": "stdout",
     "output_type": "stream",
     "text": [
      "<class 'pandas.core.frame.DataFrame'>\n",
      "Int64Index: 180434 entries, 1 to 354368\n",
      "Data columns (total 12 columns):\n",
      " #   Column             Non-Null Count   Dtype \n",
      "---  ------             --------------   ----- \n",
      " 0   Price              180434 non-null  int64 \n",
      " 1   VehicleType        180434 non-null  object\n",
      " 2   RegistrationYear   180434 non-null  int64 \n",
      " 3   Gearbox            180434 non-null  object\n",
      " 4   Power              180434 non-null  int64 \n",
      " 5   Model              180434 non-null  object\n",
      " 6   Kilometer          180434 non-null  int64 \n",
      " 7   RegistrationMonth  180434 non-null  int64 \n",
      " 8   FuelType           180434 non-null  object\n",
      " 9   Brand              180434 non-null  object\n",
      " 10  NotRepaired        180434 non-null  int64 \n",
      " 11  YearCrawled        180434 non-null  int64 \n",
      "dtypes: int64(7), object(5)\n",
      "memory usage: 17.9+ MB\n"
     ]
    }
   ],
   "source": [
    "# удалим nan значения и дубликаты\n",
    "df = df.dropna()\n",
    "df = df.drop_duplicates()\n",
    "df.info()"
   ]
  },
  {
   "cell_type": "code",
   "execution_count": 25,
   "metadata": {},
   "outputs": [
    {
     "data": {
      "image/png": "[encoded data removed]",
      "text/plain": [
       "<Figure size 960x800 with 2 Axes>"
      ]
     },
     "metadata": {
      "needs_background": "light"
     },
     "output_type": "display_data"
    }
   ],
   "source": [
    "# нарисуем диаграмму корреляций\n",
    "ds.corr_diagram(df)"
   ]
  },
  {
   "cell_type": "markdown",
   "metadata": {},
   "source": [
    "## Вывод по \"Шаг №1. Подготовка данных\"\n",
    "    Проанализировали отдельные столбцы на выбросы (провели срез в признаке Power до 4600 лошадинных сил, т.к. больших мощностей у автомобилей не бывает).\n",
    "    Заменили пустые значения в столбцах 'VehicleType', 'FuelType', 'Model' на имеющиеся значения с похожими значениями.\n",
    "    Удалили дубликаты и пустые значения.\n",
    "    \n",
    "    Таким образом, данные подготовлены для работы с моделями!"
   ]
  },
  {
   "cell_type": "markdown",
   "metadata": {},
   "source": [
    "## Шаг №2. Обучение моделей"
   ]
  },
  {
   "cell_type": "markdown",
   "metadata": {},
   "source": [
    "### Шаг №2.0. Подготовка признаков и выборок "
   ]
  },
  {
   "cell_type": "code",
   "execution_count": 26,
   "metadata": {},
   "outputs": [],
   "source": [
    "# применим технику прямого кодирования, чтобы преобразовать категориальные признаки в численные.\n",
    "df_ohe = pd.get_dummies(df, drop_first=True)"
   ]
  },
  {
   "cell_type": "code",
   "execution_count": 27,
   "metadata": {},
   "outputs": [],
   "source": [
    "# признаки для обучения модели линейной регрессии\n",
    "features_lr = df_ohe.drop(['Price'], axis = 1)\n",
    "target_lr = df_ohe['Price']"
   ]
  },
  {
   "cell_type": "code",
   "execution_count": 28,
   "metadata": {},
   "outputs": [],
   "source": [
    "# преобразуем столбцы с категориальными признаки в тип данных category\n",
    "categorical = ['VehicleType', 'Gearbox', 'Model', 'FuelType', 'Brand', 'NotRepaired']\n",
    "for col in categorical:\n",
    "    df[col] = df[col].astype('category')"
   ]
  },
  {
   "cell_type": "code",
   "execution_count": 29,
   "metadata": {},
   "outputs": [],
   "source": [
    "# признаки для обучения моделей CBR и LGBM\n",
    "features = df.drop(['Price'], axis = 1)\n",
    "target = df['Price']"
   ]
  },
  {
   "cell_type": "code",
   "execution_count": 30,
   "metadata": {},
   "outputs": [],
   "source": [
    "# разделим датафрейм на выборки для линейной регрессии\n",
    "features_train_lr, features_test_lr, target_train_lr, target_test_lr = train_test_split(features_lr, target_lr, test_size=.25, random_state=12345)"
   ]
  },
  {
   "cell_type": "code",
   "execution_count": 31,
   "metadata": {},
   "outputs": [],
   "source": [
    "# cтандартизируем признаки после разделения на обучающую и тестовую выборки с помощью StandardScaler для линейной регрессии\n",
    "scaler = StandardScaler()\n",
    "numeric = ['RegistrationYear','Power','Kilometer']\n",
    "scaler.fit(features_train_lr[numeric])\n",
    "features_train_lr[numeric] = scaler.transform(features_train_lr[numeric])\n",
    "features_test_lr[numeric] = scaler.transform(features_test_lr[numeric])"
   ]
  },
  {
   "cell_type": "code",
   "execution_count": 32,
   "metadata": {},
   "outputs": [],
   "source": [
    "# разделим датафрейм на выборки для CatBoostRegressor (разработка Яндекс) и LightGBM (разработка MicroSoft)\n",
    "features_train, features_test, target_train, target_test = train_test_split(features, target, test_size=.25, random_state=12345)"
   ]
  },
  {
   "cell_type": "code",
   "execution_count": 33,
   "metadata": {},
   "outputs": [],
   "source": [
    "# cтандартизируем признаки после разделения на обучающую и тестовую выборки \n",
    "# с помощью StandardScaler для CatBoostRegressor и LightGBM\n",
    "scaler = StandardScaler()\n",
    "numeric = ['RegistrationYear','Power','Kilometer']\n",
    "scaler.fit(features_train[numeric])\n",
    "features_train[numeric] = scaler.transform(features_train[numeric])\n",
    "features_test[numeric] = scaler.transform(features_test[numeric])"
   ]
  },
  {
   "cell_type": "code",
   "execution_count": 34,
   "metadata": {},
   "outputs": [],
   "source": [
    "#напишем формулу для получения значения метрики RMSE\n",
    "def rmse (target, predictions):\n",
    "    mse = mean_squared_error(target, predictions)\n",
    "    rmse = mse ** 0.5\n",
    "    return rmse"
   ]
  },
  {
   "cell_type": "markdown",
   "metadata": {},
   "source": [
    "### Шаг №2.1. LinearRegression"
   ]
  },
  {
   "cell_type": "markdown",
   "metadata": {},
   "source": [
    "Обучим, получим предсказания и проверим качество модели LinearRegression с замером времени"
   ]
  },
  {
   "cell_type": "code",
   "execution_count": 35,
   "metadata": {},
   "outputs": [],
   "source": [
    "lr_model = LinearRegression()"
   ]
  },
  {
   "cell_type": "code",
   "execution_count": 36,
   "metadata": {},
   "outputs": [
    {
     "name": "stdout",
     "output_type": "stream",
     "text": [
      "Wall time: 2.5 s\n"
     ]
    },
    {
     "data": {
      "text/plain": [
       "LinearRegression()"
      ]
     },
     "execution_count": 36,
     "metadata": {},
     "output_type": "execute_result"
    }
   ],
   "source": [
    "%%time\n",
    "lr_model.fit(features_train_lr, target_train_lr)"
   ]
  },
  {
   "cell_type": "code",
   "execution_count": 37,
   "metadata": {
    "scrolled": true
   },
   "outputs": [
    {
     "data": {
      "text/html": [
       "<div>\n",
       "<style scoped>\n",
       "    .dataframe tbody tr th:only-of-type {\n",
       "        vertical-align: middle;\n",
       "    }\n",
       "\n",
       "    .dataframe tbody tr th {\n",
       "        vertical-align: top;\n",
       "    }\n",
       "\n",
       "    .dataframe thead th {\n",
       "        text-align: right;\n",
       "    }\n",
       "</style>\n",
       "<table border=\"1\" class=\"dataframe\">\n",
       "  <thead>\n",
       "    <tr style=\"text-align: right;\">\n",
       "      <th></th>\n",
       "      <th>RegistrationYear</th>\n",
       "      <th>Power</th>\n",
       "      <th>Kilometer</th>\n",
       "      <th>RegistrationMonth</th>\n",
       "      <th>NotRepaired</th>\n",
       "      <th>YearCrawled</th>\n",
       "      <th>VehicleType_convertible</th>\n",
       "      <th>VehicleType_coupe</th>\n",
       "      <th>VehicleType_other</th>\n",
       "      <th>VehicleType_sedan</th>\n",
       "      <th>...</th>\n",
       "      <th>Brand_saab</th>\n",
       "      <th>Brand_seat</th>\n",
       "      <th>Brand_skoda</th>\n",
       "      <th>Brand_smart</th>\n",
       "      <th>Brand_subaru</th>\n",
       "      <th>Brand_suzuki</th>\n",
       "      <th>Brand_toyota</th>\n",
       "      <th>Brand_trabant</th>\n",
       "      <th>Brand_volkswagen</th>\n",
       "      <th>Brand_volvo</th>\n",
       "    </tr>\n",
       "  </thead>\n",
       "  <tbody>\n",
       "    <tr>\n",
       "      <th>72865</th>\n",
       "      <td>0.966362</td>\n",
       "      <td>-0.629858</td>\n",
       "      <td>-1.318157</td>\n",
       "      <td>10</td>\n",
       "      <td>0</td>\n",
       "      <td>2016</td>\n",
       "      <td>0</td>\n",
       "      <td>0</td>\n",
       "      <td>0</td>\n",
       "      <td>0</td>\n",
       "      <td>...</td>\n",
       "      <td>0</td>\n",
       "      <td>0</td>\n",
       "      <td>1</td>\n",
       "      <td>0</td>\n",
       "      <td>0</td>\n",
       "      <td>0</td>\n",
       "      <td>0</td>\n",
       "      <td>0</td>\n",
       "      <td>0</td>\n",
       "      <td>0</td>\n",
       "    </tr>\n",
       "    <tr>\n",
       "      <th>91552</th>\n",
       "      <td>-0.262633</td>\n",
       "      <td>-0.303875</td>\n",
       "      <td>0.698173</td>\n",
       "      <td>12</td>\n",
       "      <td>0</td>\n",
       "      <td>2016</td>\n",
       "      <td>0</td>\n",
       "      <td>0</td>\n",
       "      <td>0</td>\n",
       "      <td>0</td>\n",
       "      <td>...</td>\n",
       "      <td>0</td>\n",
       "      <td>0</td>\n",
       "      <td>0</td>\n",
       "      <td>0</td>\n",
       "      <td>0</td>\n",
       "      <td>1</td>\n",
       "      <td>0</td>\n",
       "      <td>0</td>\n",
       "      <td>0</td>\n",
       "      <td>0</td>\n",
       "    </tr>\n",
       "    <tr>\n",
       "      <th>202120</th>\n",
       "      <td>0.198240</td>\n",
       "      <td>1.411083</td>\n",
       "      <td>0.698173</td>\n",
       "      <td>9</td>\n",
       "      <td>0</td>\n",
       "      <td>2016</td>\n",
       "      <td>0</td>\n",
       "      <td>0</td>\n",
       "      <td>0</td>\n",
       "      <td>1</td>\n",
       "      <td>...</td>\n",
       "      <td>0</td>\n",
       "      <td>0</td>\n",
       "      <td>0</td>\n",
       "      <td>0</td>\n",
       "      <td>0</td>\n",
       "      <td>0</td>\n",
       "      <td>0</td>\n",
       "      <td>0</td>\n",
       "      <td>0</td>\n",
       "      <td>0</td>\n",
       "    </tr>\n",
       "    <tr>\n",
       "      <th>280751</th>\n",
       "      <td>0.044616</td>\n",
       "      <td>1.269351</td>\n",
       "      <td>0.698173</td>\n",
       "      <td>2</td>\n",
       "      <td>0</td>\n",
       "      <td>2016</td>\n",
       "      <td>0</td>\n",
       "      <td>0</td>\n",
       "      <td>0</td>\n",
       "      <td>1</td>\n",
       "      <td>...</td>\n",
       "      <td>0</td>\n",
       "      <td>0</td>\n",
       "      <td>0</td>\n",
       "      <td>0</td>\n",
       "      <td>0</td>\n",
       "      <td>0</td>\n",
       "      <td>0</td>\n",
       "      <td>0</td>\n",
       "      <td>0</td>\n",
       "      <td>0</td>\n",
       "    </tr>\n",
       "    <tr>\n",
       "      <th>338077</th>\n",
       "      <td>-2.106126</td>\n",
       "      <td>-0.502299</td>\n",
       "      <td>0.698173</td>\n",
       "      <td>3</td>\n",
       "      <td>0</td>\n",
       "      <td>2016</td>\n",
       "      <td>0</td>\n",
       "      <td>1</td>\n",
       "      <td>0</td>\n",
       "      <td>0</td>\n",
       "      <td>...</td>\n",
       "      <td>0</td>\n",
       "      <td>0</td>\n",
       "      <td>0</td>\n",
       "      <td>0</td>\n",
       "      <td>0</td>\n",
       "      <td>0</td>\n",
       "      <td>0</td>\n",
       "      <td>0</td>\n",
       "      <td>1</td>\n",
       "      <td>0</td>\n",
       "    </tr>\n",
       "  </tbody>\n",
       "</table>\n",
       "<p>5 rows × 305 columns</p>\n",
       "</div>"
      ],
      "text/plain": [
       "        RegistrationYear     Power  Kilometer  RegistrationMonth  NotRepaired  \\\n",
       "72865           0.966362 -0.629858  -1.318157                 10            0   \n",
       "91552          -0.262633 -0.303875   0.698173                 12            0   \n",
       "202120          0.198240  1.411083   0.698173                  9            0   \n",
       "280751          0.044616  1.269351   0.698173                  2            0   \n",
       "338077         -2.106126 -0.502299   0.698173                  3            0   \n",
       "\n",
       "        YearCrawled  VehicleType_convertible  VehicleType_coupe  \\\n",
       "72865          2016                        0                  0   \n",
       "91552          2016                        0                  0   \n",
       "202120         2016                        0                  0   \n",
       "280751         2016                        0                  0   \n",
       "338077         2016                        0                  1   \n",
       "\n",
       "        VehicleType_other  VehicleType_sedan  ...  Brand_saab  Brand_seat  \\\n",
       "72865                   0                  0  ...           0           0   \n",
       "91552                   0                  0  ...           0           0   \n",
       "202120                  0                  1  ...           0           0   \n",
       "280751                  0                  1  ...           0           0   \n",
       "338077                  0                  0  ...           0           0   \n",
       "\n",
       "        Brand_skoda  Brand_smart  Brand_subaru  Brand_suzuki  Brand_toyota  \\\n",
       "72865             1            0             0             0             0   \n",
       "91552             0            0             0             1             0   \n",
       "202120            0            0             0             0             0   \n",
       "280751            0            0             0             0             0   \n",
       "338077            0            0             0             0             0   \n",
       "\n",
       "        Brand_trabant  Brand_volkswagen  Brand_volvo  \n",
       "72865               0                 0            0  \n",
       "91552               0                 0            0  \n",
       "202120              0                 0            0  \n",
       "280751              0                 0            0  \n",
       "338077              0                 1            0  \n",
       "\n",
       "[5 rows x 305 columns]"
      ]
     },
     "execution_count": 37,
     "metadata": {},
     "output_type": "execute_result"
    }
   ],
   "source": [
    "features_test_lr.head()"
   ]
  },
  {
   "cell_type": "code",
   "execution_count": 38,
   "metadata": {},
   "outputs": [
    {
     "data": {
      "text/plain": [
       "(1887, 20000)"
      ]
     },
     "execution_count": 38,
     "metadata": {},
     "output_type": "execute_result"
    }
   ],
   "source": [
    "target_test_lr.min(), target_test_lr.max()"
   ]
  },
  {
   "cell_type": "code",
   "execution_count": 39,
   "metadata": {},
   "outputs": [
    {
     "name": "stdout",
     "output_type": "stream",
     "text": [
      "Wall time: 103 ms\n"
     ]
    }
   ],
   "source": [
    "%%time\n",
    "predicted_lr = lr_model.predict(features_test_lr)"
   ]
  },
  {
   "cell_type": "code",
   "execution_count": 40,
   "metadata": {},
   "outputs": [
    {
     "data": {
      "text/plain": [
       "-13383936.0"
      ]
     },
     "execution_count": 40,
     "metadata": {},
     "output_type": "execute_result"
    }
   ],
   "source": [
    "predicted_lr.min()"
   ]
  },
  {
   "cell_type": "code",
   "execution_count": 41,
   "metadata": {},
   "outputs": [
    {
     "name": "stdout",
     "output_type": "stream",
     "text": [
      "303847763\n"
     ]
    }
   ],
   "source": [
    "rmse_lr = round(rmse(target_test_lr, predicted_lr))\n",
    "print(rmse_lr)"
   ]
  },
  {
   "cell_type": "code",
   "execution_count": 42,
   "metadata": {},
   "outputs": [
    {
     "data": {
      "text/plain": [
       "(135325, 305)"
      ]
     },
     "execution_count": 42,
     "metadata": {},
     "output_type": "execute_result"
    }
   ],
   "source": [
    "features_train_lr.shape"
   ]
  },
  {
   "cell_type": "code",
   "execution_count": 43,
   "metadata": {},
   "outputs": [
    {
     "data": {
      "text/plain": [
       "(135325,)"
      ]
     },
     "execution_count": 43,
     "metadata": {},
     "output_type": "execute_result"
    }
   ],
   "source": [
    "target_train_lr.shape"
   ]
  },
  {
   "cell_type": "code",
   "execution_count": 44,
   "metadata": {},
   "outputs": [
    {
     "data": {
      "text/plain": [
       "(45109, 305)"
      ]
     },
     "execution_count": 44,
     "metadata": {},
     "output_type": "execute_result"
    }
   ],
   "source": [
    "features_test_lr.shape"
   ]
  },
  {
   "cell_type": "code",
   "execution_count": 45,
   "metadata": {},
   "outputs": [
    {
     "data": {
      "text/plain": [
       "(45109,)"
      ]
     },
     "execution_count": 45,
     "metadata": {},
     "output_type": "execute_result"
    }
   ],
   "source": [
    "target_test_lr.shape"
   ]
  },
  {
   "cell_type": "markdown",
   "metadata": {},
   "source": [
    "### Шаг №2.2. CatBoostRegressor"
   ]
  },
  {
   "cell_type": "markdown",
   "metadata": {},
   "source": [
    " Обучим, получим предсказания и проверим качество модели CatBoostRegressor с замером времени. Официальный сайт - https://catboost.ai/ \n",
    " Ознакомительная статья по данной модели размещена по ссылке https://itnan.ru/post.php?c=1&p=594077\n",
    "    \n",
    "    CatBoost – библиотека, которая была разработана Яндексом в 2017 году, представляет разновидность семейства алгоритмов Boosting и является усовершенствованной реализацией Gradient Boosting Decision Trees (GBDT). CatBoost имеет поддержку категориальных переменных и обеспечивает высокую точность. Стоит сказать, что CatBoost решает проблему смещения градиента (Gradient Bias) и смещения предсказания (Prediction Shift), это позволяет уменьшить вероятность переобучения и повысить точность алгоритма."
   ]
  },
  {
   "cell_type": "code",
   "execution_count": 46,
   "metadata": {},
   "outputs": [
    {
     "name": "stdout",
     "output_type": "stream",
     "text": [
      "Learning rate set to 0.5\n",
      "0:\tlearn: 3265.0478005\ttotal: 245ms\tremaining: 2.2s\n",
      "9:\tlearn: 1947.4633662\ttotal: 1.1s\tremaining: 0us\n",
      "Learning rate set to 0.5\n",
      "0:\tlearn: 3250.3719267\ttotal: 92.7ms\tremaining: 834ms\n",
      "9:\tlearn: 1950.5761485\ttotal: 902ms\tremaining: 0us\n",
      "Score при iterations = 10 : [0.80150758 0.80491302]\n",
      "Score mean = 0.8032103008833793\n",
      "\n",
      "Learning rate set to 0.5\n",
      "0:\tlearn: 3265.0478005\ttotal: 88.7ms\tremaining: 3.46s\n",
      "10:\tlearn: 1935.8134777\ttotal: 938ms\tremaining: 2.47s\n",
      "20:\tlearn: 1814.8496989\ttotal: 1.77s\tremaining: 1.6s\n",
      "30:\tlearn: 1752.9888997\ttotal: 2.62s\tremaining: 760ms\n",
      "39:\tlearn: 1715.0047061\ttotal: 3.36s\tremaining: 0us\n",
      "Learning rate set to 0.5\n",
      "0:\tlearn: 3250.3719267\ttotal: 87ms\tremaining: 3.39s\n",
      "10:\tlearn: 1941.3509130\ttotal: 899ms\tremaining: 2.37s\n",
      "20:\tlearn: 1821.2115584\ttotal: 1.75s\tremaining: 1.58s\n",
      "30:\tlearn: 1751.4569584\ttotal: 2.62s\tremaining: 759ms\n",
      "39:\tlearn: 1703.7879650\ttotal: 3.4s\tremaining: 0us\n",
      "Score при iterations = 40 : [0.82560047 0.82940676]\n",
      "Score mean = 0.8275036180188569\n",
      "\n",
      "Learning rate set to 0.5\n",
      "0:\tlearn: 3265.0478005\ttotal: 86.3ms\tremaining: 5.96s\n",
      "10:\tlearn: 1935.8134777\ttotal: 967ms\tremaining: 5.19s\n",
      "20:\tlearn: 1814.8496989\ttotal: 1.8s\tremaining: 4.2s\n",
      "30:\tlearn: 1752.9888997\ttotal: 2.62s\tremaining: 3.29s\n",
      "40:\tlearn: 1706.8545062\ttotal: 3.4s\tremaining: 2.4s\n",
      "50:\tlearn: 1661.3249797\ttotal: 4.2s\tremaining: 1.56s\n",
      "60:\tlearn: 1632.7458054\ttotal: 4.98s\tremaining: 735ms\n",
      "69:\tlearn: 1605.4569885\ttotal: 5.71s\tremaining: 0us\n",
      "Learning rate set to 0.5\n",
      "0:\tlearn: 3250.3719267\ttotal: 90.3ms\tremaining: 6.23s\n",
      "10:\tlearn: 1941.3509130\ttotal: 968ms\tremaining: 5.19s\n",
      "20:\tlearn: 1821.2115584\ttotal: 1.79s\tremaining: 4.18s\n",
      "30:\tlearn: 1751.4569584\ttotal: 2.58s\tremaining: 3.25s\n",
      "40:\tlearn: 1698.7913130\ttotal: 3.37s\tremaining: 2.38s\n",
      "50:\tlearn: 1660.0372324\ttotal: 4.18s\tremaining: 1.56s\n",
      "60:\tlearn: 1629.1933023\ttotal: 4.95s\tremaining: 731ms\n",
      "69:\tlearn: 1598.3982464\ttotal: 5.64s\tremaining: 0us\n",
      "Score при iterations = 70 : [0.83030064 0.83283   ]\n",
      "Score mean = 0.8315653221419584\n",
      "\n",
      "Learning rate set to 0.5\n",
      "0:\tlearn: 3265.0478005\ttotal: 81.3ms\tremaining: 8.05s\n",
      "10:\tlearn: 1935.8134777\ttotal: 898ms\tremaining: 7.27s\n",
      "20:\tlearn: 1814.8496989\ttotal: 1.68s\tremaining: 6.31s\n",
      "30:\tlearn: 1752.9888997\ttotal: 2.47s\tremaining: 5.5s\n",
      "40:\tlearn: 1706.8545062\ttotal: 3.26s\tremaining: 4.69s\n",
      "50:\tlearn: 1661.3249797\ttotal: 4.04s\tremaining: 3.88s\n",
      "60:\tlearn: 1632.7458054\ttotal: 4.82s\tremaining: 3.08s\n",
      "70:\tlearn: 1601.8431578\ttotal: 5.6s\tremaining: 2.29s\n",
      "80:\tlearn: 1570.1639550\ttotal: 6.35s\tremaining: 1.49s\n",
      "90:\tlearn: 1546.8817161\ttotal: 7.11s\tremaining: 703ms\n",
      "99:\tlearn: 1529.1987587\ttotal: 7.8s\tremaining: 0us\n",
      "Learning rate set to 0.5\n",
      "0:\tlearn: 3250.3719267\ttotal: 80.4ms\tremaining: 7.96s\n",
      "10:\tlearn: 1941.3509130\ttotal: 888ms\tremaining: 7.18s\n",
      "20:\tlearn: 1821.2115584\ttotal: 1.7s\tremaining: 6.4s\n",
      "30:\tlearn: 1751.4569584\ttotal: 2.52s\tremaining: 5.6s\n",
      "40:\tlearn: 1698.7913130\ttotal: 3.36s\tremaining: 4.84s\n",
      "50:\tlearn: 1660.0372324\ttotal: 4.15s\tremaining: 3.98s\n",
      "60:\tlearn: 1629.1933023\ttotal: 4.93s\tremaining: 3.15s\n",
      "70:\tlearn: 1597.2089649\ttotal: 5.71s\tremaining: 2.33s\n",
      "80:\tlearn: 1577.7717145\ttotal: 6.48s\tremaining: 1.52s\n",
      "90:\tlearn: 1551.2371079\ttotal: 7.28s\tremaining: 720ms\n",
      "99:\tlearn: 1529.5312071\ttotal: 7.98s\tremaining: 0us\n",
      "Score при iterations = 100 : [0.83125726 0.83361509]\n",
      "Score mean = 0.8324361795286255\n",
      "\n",
      "Learning rate set to 0.418541\n",
      "0:\tlearn: 3433.0270796\ttotal: 84.4ms\tremaining: 10.9s\n",
      "10:\tlearn: 1940.8044998\ttotal: 884ms\tremaining: 9.56s\n",
      "20:\tlearn: 1836.0450847\ttotal: 1.65s\tremaining: 8.56s\n",
      "30:\tlearn: 1774.2407796\ttotal: 2.42s\tremaining: 7.73s\n",
      "40:\tlearn: 1735.1846542\ttotal: 3.2s\tremaining: 6.96s\n",
      "50:\tlearn: 1703.5305060\ttotal: 3.98s\tremaining: 6.16s\n",
      "60:\tlearn: 1662.8980007\ttotal: 4.75s\tremaining: 5.37s\n",
      "70:\tlearn: 1637.1474405\ttotal: 5.51s\tremaining: 4.58s\n",
      "80:\tlearn: 1607.6132592\ttotal: 6.37s\tremaining: 3.85s\n",
      "90:\tlearn: 1584.1171069\ttotal: 7.14s\tremaining: 3.06s\n",
      "100:\tlearn: 1562.1227762\ttotal: 7.95s\tremaining: 2.28s\n",
      "110:\tlearn: 1539.4514562\ttotal: 8.74s\tremaining: 1.5s\n",
      "120:\tlearn: 1520.1342429\ttotal: 9.56s\tremaining: 711ms\n",
      "129:\tlearn: 1503.4074081\ttotal: 10.3s\tremaining: 0us\n",
      "Learning rate set to 0.418542\n",
      "0:\tlearn: 3422.4455142\ttotal: 89.7ms\tremaining: 11.6s\n",
      "10:\tlearn: 1952.3542431\ttotal: 899ms\tremaining: 9.72s\n",
      "20:\tlearn: 1851.2404847\ttotal: 1.68s\tremaining: 8.7s\n",
      "30:\tlearn: 1765.6828080\ttotal: 2.46s\tremaining: 7.86s\n",
      "40:\tlearn: 1714.3442353\ttotal: 3.23s\tremaining: 7.01s\n",
      "50:\tlearn: 1679.8963450\ttotal: 3.97s\tremaining: 6.15s\n",
      "60:\tlearn: 1646.3851133\ttotal: 4.75s\tremaining: 5.37s\n",
      "70:\tlearn: 1621.8694897\ttotal: 5.53s\tremaining: 4.6s\n",
      "80:\tlearn: 1598.6604101\ttotal: 6.3s\tremaining: 3.81s\n",
      "90:\tlearn: 1577.6732312\ttotal: 7.06s\tremaining: 3.03s\n",
      "100:\tlearn: 1554.7261699\ttotal: 7.84s\tremaining: 2.25s\n",
      "110:\tlearn: 1533.5077848\ttotal: 8.62s\tremaining: 1.48s\n",
      "120:\tlearn: 1509.7592805\ttotal: 9.4s\tremaining: 699ms\n",
      "129:\tlearn: 1492.8320693\ttotal: 10.1s\tremaining: 0us\n",
      "Score при iterations = 130 : [0.83473007 0.83665863]\n",
      "Score mean = 0.8356943521475768\n",
      "\n"
     ]
    }
   ],
   "source": [
    "#построим модель CBR и исследуем её работу с различными значениями гиперпараметра iterations с помощью кросс-валидации\n",
    "for iteration in range(10, 151, 30):\n",
    "    cat_model = CatBoostRegressor(loss_function=\"RMSE\", iterations=iteration, depth=10, verbose=10, cat_features=categorical)\n",
    "    cat_cv = cross_val_score(cat_model, features_train, target_train, cv=2)\n",
    "    print(\"Score при iterations =\", iteration, \":\", cat_cv)\n",
    "    print(\"Score mean =\", sum(cat_cv)/len(cat_cv))\n",
    "    print()"
   ]
  },
  {
   "cell_type": "code",
   "execution_count": 47,
   "metadata": {},
   "outputs": [
    {
     "name": "stdout",
     "output_type": "stream",
     "text": [
      "Learning rate set to 0.5\n",
      "0:\tlearn: 3441.3905013\ttotal: 37.4ms\tremaining: 710ms\n",
      "5:\tlearn: 2297.7663429\ttotal: 232ms\tremaining: 542ms\n",
      "10:\tlearn: 2150.1555078\ttotal: 409ms\tremaining: 334ms\n",
      "15:\tlearn: 2082.7339149\ttotal: 589ms\tremaining: 147ms\n",
      "19:\tlearn: 2051.8774049\ttotal: 734ms\tremaining: 0us\n",
      "Learning rate set to 0.5\n",
      "0:\tlearn: 3420.0206233\ttotal: 38.1ms\tremaining: 724ms\n",
      "5:\tlearn: 2288.3424798\ttotal: 247ms\tremaining: 576ms\n",
      "10:\tlearn: 2147.4084696\ttotal: 442ms\tremaining: 361ms\n",
      "15:\tlearn: 2086.8486769\ttotal: 645ms\tremaining: 161ms\n",
      "19:\tlearn: 2057.1049487\ttotal: 810ms\tremaining: 0us\n",
      "Score при depth = 5 : [0.78933797 0.79191096]\n",
      "Score mean = 0.79062446296962\n",
      "\n",
      "Learning rate set to 0.5\n",
      "0:\tlearn: 3352.4842420\ttotal: 55.5ms\tremaining: 1.05s\n",
      "5:\tlearn: 2190.7086703\ttotal: 335ms\tremaining: 782ms\n",
      "10:\tlearn: 2053.6869074\ttotal: 625ms\tremaining: 511ms\n",
      "15:\tlearn: 1989.1497201\ttotal: 908ms\tremaining: 227ms\n",
      "19:\tlearn: 1951.8044782\ttotal: 1.12s\tremaining: 0us\n",
      "Learning rate set to 0.5\n",
      "0:\tlearn: 3344.0120664\ttotal: 58.4ms\tremaining: 1.11s\n",
      "5:\tlearn: 2184.4417786\ttotal: 343ms\tremaining: 801ms\n",
      "10:\tlearn: 2058.2076976\ttotal: 635ms\tremaining: 519ms\n",
      "15:\tlearn: 1994.2758127\ttotal: 930ms\tremaining: 233ms\n",
      "19:\tlearn: 1963.0446771\ttotal: 1.16s\tremaining: 0us\n",
      "Score при depth = 7 : [0.80490397 0.80637985]\n",
      "Score mean = 0.8056419091556692\n",
      "\n",
      "Learning rate set to 0.5\n",
      "0:\tlearn: 3264.2061112\ttotal: 67.5ms\tremaining: 1.28s\n",
      "5:\tlearn: 2076.4688174\ttotal: 438ms\tremaining: 1.02s\n",
      "10:\tlearn: 1955.7338036\ttotal: 784ms\tremaining: 641ms\n",
      "15:\tlearn: 1894.4559766\ttotal: 1.13s\tremaining: 283ms\n",
      "19:\tlearn: 1863.5636887\ttotal: 1.46s\tremaining: 0us\n",
      "Learning rate set to 0.5\n",
      "0:\tlearn: 3269.2698116\ttotal: 64.9ms\tremaining: 1.23s\n",
      "5:\tlearn: 2101.2552887\ttotal: 409ms\tremaining: 954ms\n",
      "10:\tlearn: 1971.9870585\ttotal: 776ms\tremaining: 635ms\n",
      "15:\tlearn: 1922.7521737\ttotal: 1.17s\tremaining: 292ms\n",
      "19:\tlearn: 1891.6784381\ttotal: 1.47s\tremaining: 0us\n",
      "Score при depth = 9 : [0.81513002 0.81390585]\n",
      "Score mean = 0.8145179356179498\n",
      "\n",
      "Learning rate set to 0.5\n",
      "0:\tlearn: 3243.1931934\ttotal: 120ms\tremaining: 2.28s\n",
      "5:\tlearn: 2013.2507890\ttotal: 739ms\tremaining: 1.72s\n",
      "10:\tlearn: 1888.5330690\ttotal: 1.34s\tremaining: 1.09s\n",
      "15:\tlearn: 1820.4881918\ttotal: 1.88s\tremaining: 470ms\n",
      "19:\tlearn: 1799.6848052\ttotal: 2.21s\tremaining: 0us\n",
      "Learning rate set to 0.5\n",
      "0:\tlearn: 3223.6441735\ttotal: 106ms\tremaining: 2.01s\n",
      "5:\tlearn: 2020.5337472\ttotal: 644ms\tremaining: 1.5s\n",
      "10:\tlearn: 1904.7461013\ttotal: 1.18s\tremaining: 965ms\n",
      "15:\tlearn: 1833.8763943\ttotal: 1.7s\tremaining: 425ms\n",
      "19:\tlearn: 1779.6837609\ttotal: 2.13s\tremaining: 0us\n",
      "Score при depth = 11 : [0.81762977 0.82352328]\n",
      "Score mean = 0.8205765213226661\n",
      "\n",
      "Learning rate set to 0.5\n",
      "0:\tlearn: 3209.5406616\ttotal: 296ms\tremaining: 5.63s\n",
      "5:\tlearn: 1933.3929595\ttotal: 1.97s\tremaining: 4.59s\n",
      "10:\tlearn: 1800.6374668\ttotal: 3.63s\tremaining: 2.97s\n",
      "15:\tlearn: 1726.9985962\ttotal: 5.29s\tremaining: 1.32s\n",
      "19:\tlearn: 1684.5559750\ttotal: 6.63s\tremaining: 0us\n",
      "Learning rate set to 0.5\n",
      "0:\tlearn: 3173.9620205\ttotal: 338ms\tremaining: 6.42s\n",
      "5:\tlearn: 1938.9994762\ttotal: 1.96s\tremaining: 4.58s\n",
      "10:\tlearn: 1820.9042256\ttotal: 3.44s\tremaining: 2.81s\n",
      "15:\tlearn: 1739.6210573\ttotal: 4.91s\tremaining: 1.23s\n",
      "19:\tlearn: 1682.2608641\ttotal: 6.04s\tremaining: 0us\n",
      "Score при depth = 13 : [0.82284485 0.82479837]\n",
      "Score mean = 0.8238216098573309\n",
      "\n",
      "Learning rate set to 0.5\n",
      "0:\tlearn: 3181.6348341\ttotal: 985ms\tremaining: 18.7s\n",
      "5:\tlearn: 1871.8190994\ttotal: 6.28s\tremaining: 14.7s\n",
      "10:\tlearn: 1715.2088860\ttotal: 11.6s\tremaining: 9.51s\n",
      "15:\tlearn: 1624.0990226\ttotal: 16.7s\tremaining: 4.17s\n",
      "19:\tlearn: 1580.7918272\ttotal: 19.7s\tremaining: 0us\n",
      "Learning rate set to 0.5\n",
      "0:\tlearn: 3173.9620205\ttotal: 458ms\tremaining: 8.7s\n",
      "5:\tlearn: 1883.9446550\ttotal: 5.47s\tremaining: 12.8s\n",
      "10:\tlearn: 1769.6107359\ttotal: 9.14s\tremaining: 7.48s\n",
      "15:\tlearn: 1662.1902894\ttotal: 13.8s\tremaining: 3.45s\n",
      "19:\tlearn: 1608.4560375\ttotal: 17.5s\tremaining: 0us\n",
      "Score при depth = 15 : [0.81827166 0.82426888]\n",
      "Score mean = 0.8212702693893237\n",
      "\n"
     ]
    }
   ],
   "source": [
    "#исследуем работу модели с различными значениями гиперпараметра depth\n",
    "for depth in range(5, 16, 2):\n",
    "    cat_model = CatBoostRegressor(loss_function=\"RMSE\", iterations=20, depth=depth, verbose=5, cat_features=categorical)\n",
    "    cat_cv = cross_val_score(cat_model, features_train, target_train, cv=2)\n",
    "    print(\"Score при depth =\", depth, \":\", cat_cv)\n",
    "    print(\"Score mean =\", sum(cat_cv)/len(cat_cv))\n",
    "    print()"
   ]
  },
  {
   "cell_type": "markdown",
   "metadata": {},
   "source": [
    "При увеличении iterations модель сначала дает намного бОльшую точность (в 2 раза), затем увеличение точности начинает снижаться, до тех пор, пока разница не становится совсем незначительной. Следует учесть, что скорость обучения модели для нас важна так же, как и точность ее работы, поэтому выберем оптимальный вариант с числом iterations 110.\n",
    "\n",
    "При изменении параметра depth прослеживается такая же тенденция, поэтому оптимальной глубиной будет число 15.\n",
    "\n",
    "Измерим время обучения и работы модели со значением iterations = 110 и depth = 15."
   ]
  },
  {
   "cell_type": "code",
   "execution_count": 48,
   "metadata": {},
   "outputs": [],
   "source": [
    "cat_model_selected_options= CatBoostRegressor(loss_function=\"RMSE\", iterations=110, depth=15, verbose=10)"
   ]
  },
  {
   "cell_type": "code",
   "execution_count": 49,
   "metadata": {},
   "outputs": [
    {
     "name": "stdout",
     "output_type": "stream",
     "text": [
      "Learning rate set to 0.5\n",
      "0:\tlearn: 3145.2231823\ttotal: 1.08s\tremaining: 1m 57s\n",
      "10:\tlearn: 1774.7469250\ttotal: 10.5s\tremaining: 1m 34s\n",
      "20:\tlearn: 1643.4954823\ttotal: 19.2s\tremaining: 1m 21s\n",
      "30:\tlearn: 1541.5398211\ttotal: 28.4s\tremaining: 1m 12s\n",
      "40:\tlearn: 1458.7631646\ttotal: 37.8s\tremaining: 1m 3s\n",
      "50:\tlearn: 1387.6954416\ttotal: 46.3s\tremaining: 53.6s\n",
      "60:\tlearn: 1342.0590397\ttotal: 55.3s\tremaining: 44.5s\n",
      "70:\tlearn: 1302.7320821\ttotal: 1m 4s\tremaining: 35.3s\n",
      "80:\tlearn: 1273.3429755\ttotal: 1m 12s\tremaining: 26s\n",
      "90:\tlearn: 1249.1487632\ttotal: 1m 21s\tremaining: 17s\n",
      "100:\tlearn: 1220.5857605\ttotal: 1m 30s\tremaining: 8.06s\n",
      "109:\tlearn: 1200.5920723\ttotal: 1m 38s\tremaining: 0us\n",
      "Wall time: 1min 39s\n"
     ]
    },
    {
     "data": {
      "text/plain": [
       "<catboost.core.CatBoostRegressor at 0x1cd8e197910>"
      ]
     },
     "execution_count": 49,
     "metadata": {},
     "output_type": "execute_result"
    }
   ],
   "source": [
    "%%time\n",
    "cat_model_selected_options.fit(features_train, target_train, cat_features=categorical)"
   ]
  },
  {
   "cell_type": "code",
   "execution_count": 50,
   "metadata": {},
   "outputs": [
    {
     "name": "stdout",
     "output_type": "stream",
     "text": [
      "Wall time: 86.9 ms\n"
     ]
    }
   ],
   "source": [
    "%%time\n",
    "predicted_cat_selected_options = pd.Series(cat_model_selected_options.predict(features_test))"
   ]
  },
  {
   "cell_type": "code",
   "execution_count": 51,
   "metadata": {},
   "outputs": [
    {
     "data": {
      "text/plain": [
       "1824.669552151516"
      ]
     },
     "execution_count": 51,
     "metadata": {},
     "output_type": "execute_result"
    }
   ],
   "source": [
    "rmse(target_test, predicted_cat_selected_options)"
   ]
  },
  {
   "cell_type": "markdown",
   "metadata": {},
   "source": [
    "### Дополнительный шаг №2.2.1. CatBoostRegressor _ GridSearch"
   ]
  },
  {
   "cell_type": "markdown",
   "metadata": {},
   "source": [
    "В данном разделе сделана попытка подбора наилучших гиперпараметров с помощью GridSearch. К сожалению, подбор параметров с широким диапазоном не удалось закончить ввиду времени выполнения, но на \"легком наборе параметров\" можно показать принцип работы GridSearch для CatBoostRegressor()"
   ]
  },
  {
   "cell_type": "code",
   "execution_count": 52,
   "metadata": {},
   "outputs": [
    {
     "name": "stdout",
     "output_type": "stream",
     "text": [
      "0:\tlearn: 4199.6236688\ttotal: 922ms\tremaining: 2m 17s\n",
      "1:\tlearn: 3943.7233808\ttotal: 1.76s\tremaining: 2m 9s\n",
      "2:\tlearn: 3709.2579523\ttotal: 2.58s\tremaining: 2m 6s\n",
      "3:\tlearn: 3502.4747102\ttotal: 3.38s\tremaining: 2m 3s\n",
      "4:\tlearn: 3321.8467802\ttotal: 4.29s\tremaining: 2m 4s\n",
      "5:\tlearn: 3160.8417709\ttotal: 5.22s\tremaining: 2m 5s\n",
      "6:\tlearn: 3021.8650733\ttotal: 6.14s\tremaining: 2m 5s\n",
      "7:\tlearn: 2874.5393879\ttotal: 7.06s\tremaining: 2m 5s\n",
      "8:\tlearn: 2749.8144347\ttotal: 8.01s\tremaining: 2m 5s\n",
      "9:\tlearn: 2639.3304224\ttotal: 8.93s\tremaining: 2m 4s\n",
      "10:\tlearn: 2546.7934925\ttotal: 9.87s\tremaining: 2m 4s\n",
      "11:\tlearn: 2460.3781727\ttotal: 10.8s\tremaining: 2m 3s\n",
      "12:\tlearn: 2388.0786025\ttotal: 11.7s\tremaining: 2m 3s\n",
      "13:\tlearn: 2324.3211111\ttotal: 12.6s\tremaining: 2m 2s\n",
      "14:\tlearn: 2268.9118851\ttotal: 13.5s\tremaining: 2m 1s\n",
      "15:\tlearn: 2221.2947224\ttotal: 14.3s\tremaining: 1m 59s\n",
      "16:\tlearn: 2180.0404938\ttotal: 15.2s\tremaining: 1m 58s\n",
      "17:\tlearn: 2139.3277355\ttotal: 16.1s\tremaining: 1m 58s\n",
      "18:\tlearn: 2103.7108958\ttotal: 17s\tremaining: 1m 57s\n",
      "19:\tlearn: 2074.1187349\ttotal: 17.9s\tremaining: 1m 56s\n",
      "20:\tlearn: 2048.1618160\ttotal: 18.8s\tremaining: 1m 55s\n",
      "21:\tlearn: 2024.7457751\ttotal: 19.8s\tremaining: 1m 54s\n",
      "22:\tlearn: 2002.8241149\ttotal: 20.7s\tremaining: 1m 54s\n",
      "23:\tlearn: 1979.5026415\ttotal: 21.6s\tremaining: 1m 53s\n",
      "24:\tlearn: 1955.3335010\ttotal: 22.5s\tremaining: 1m 52s\n",
      "25:\tlearn: 1934.6437773\ttotal: 23.4s\tremaining: 1m 51s\n",
      "26:\tlearn: 1915.7816799\ttotal: 24.4s\tremaining: 1m 51s\n",
      "27:\tlearn: 1899.3544402\ttotal: 25.3s\tremaining: 1m 50s\n",
      "28:\tlearn: 1883.5806929\ttotal: 26.3s\tremaining: 1m 49s\n",
      "29:\tlearn: 1870.3857887\ttotal: 27.2s\tremaining: 1m 48s\n",
      "30:\tlearn: 1858.4080396\ttotal: 28s\tremaining: 1m 47s\n",
      "31:\tlearn: 1848.2367851\ttotal: 28.9s\tremaining: 1m 46s\n",
      "32:\tlearn: 1837.1214574\ttotal: 29.7s\tremaining: 1m 45s\n",
      "33:\tlearn: 1828.8722835\ttotal: 30.5s\tremaining: 1m 44s\n",
      "34:\tlearn: 1821.3559212\ttotal: 31.4s\tremaining: 1m 43s\n",
      "35:\tlearn: 1812.4234979\ttotal: 32.3s\tremaining: 1m 42s\n",
      "36:\tlearn: 1804.4547354\ttotal: 33.3s\tremaining: 1m 41s\n",
      "37:\tlearn: 1798.8438382\ttotal: 34.2s\tremaining: 1m 40s\n",
      "38:\tlearn: 1792.9143776\ttotal: 35.1s\tremaining: 1m 39s\n",
      "39:\tlearn: 1787.6436566\ttotal: 36.1s\tremaining: 1m 39s\n",
      "40:\tlearn: 1782.6617231\ttotal: 37.1s\tremaining: 1m 38s\n",
      "41:\tlearn: 1777.4692217\ttotal: 38s\tremaining: 1m 37s\n",
      "42:\tlearn: 1771.5818241\ttotal: 38.9s\tremaining: 1m 36s\n",
      "43:\tlearn: 1767.4378776\ttotal: 39.8s\tremaining: 1m 35s\n",
      "44:\tlearn: 1763.6327888\ttotal: 40.8s\tremaining: 1m 35s\n",
      "45:\tlearn: 1760.7515941\ttotal: 41.7s\tremaining: 1m 34s\n",
      "46:\tlearn: 1757.0256301\ttotal: 42.6s\tremaining: 1m 33s\n",
      "47:\tlearn: 1751.9764502\ttotal: 43.5s\tremaining: 1m 32s\n",
      "48:\tlearn: 1749.6463981\ttotal: 44.3s\tremaining: 1m 31s\n",
      "49:\tlearn: 1746.9055960\ttotal: 45.1s\tremaining: 1m 30s\n",
      "50:\tlearn: 1743.8992622\ttotal: 45.9s\tremaining: 1m 29s\n",
      "51:\tlearn: 1739.7888414\ttotal: 46.8s\tremaining: 1m 28s\n",
      "52:\tlearn: 1734.1575264\ttotal: 47.7s\tremaining: 1m 27s\n",
      "53:\tlearn: 1731.5270097\ttotal: 48.6s\tremaining: 1m 26s\n",
      "54:\tlearn: 1729.3533027\ttotal: 49.6s\tremaining: 1m 25s\n",
      "55:\tlearn: 1724.5839399\ttotal: 50.5s\tremaining: 1m 24s\n",
      "56:\tlearn: 1718.9302601\ttotal: 51.4s\tremaining: 1m 23s\n",
      "57:\tlearn: 1713.8173666\ttotal: 52.3s\tremaining: 1m 22s\n",
      "58:\tlearn: 1709.3315449\ttotal: 53.2s\tremaining: 1m 22s\n",
      "59:\tlearn: 1704.2511994\ttotal: 54.1s\tremaining: 1m 21s\n",
      "60:\tlearn: 1701.0707107\ttotal: 55s\tremaining: 1m 20s\n",
      "61:\tlearn: 1694.9925292\ttotal: 56s\tremaining: 1m 19s\n",
      "62:\tlearn: 1690.7617655\ttotal: 56.9s\tremaining: 1m 18s\n",
      "63:\tlearn: 1688.0892335\ttotal: 57.8s\tremaining: 1m 17s\n",
      "64:\tlearn: 1685.6336312\ttotal: 58.7s\tremaining: 1m 16s\n",
      "65:\tlearn: 1683.2677677\ttotal: 59.7s\tremaining: 1m 15s\n",
      "66:\tlearn: 1678.2037863\ttotal: 1m\tremaining: 1m 15s\n",
      "67:\tlearn: 1673.7728423\ttotal: 1m 1s\tremaining: 1m 14s\n",
      "68:\tlearn: 1670.9262906\ttotal: 1m 2s\tremaining: 1m 13s\n",
      "69:\tlearn: 1667.8271410\ttotal: 1m 3s\tremaining: 1m 12s\n",
      "70:\tlearn: 1665.1828649\ttotal: 1m 4s\tremaining: 1m 11s\n",
      "71:\tlearn: 1660.9901088\ttotal: 1m 4s\tremaining: 1m 10s\n",
      "72:\tlearn: 1659.0699556\ttotal: 1m 5s\tremaining: 1m 9s\n",
      "73:\tlearn: 1656.9192714\ttotal: 1m 6s\tremaining: 1m 8s\n",
      "74:\tlearn: 1654.8812800\ttotal: 1m 7s\tremaining: 1m 7s\n",
      "75:\tlearn: 1651.5581666\ttotal: 1m 8s\tremaining: 1m 6s\n",
      "76:\tlearn: 1649.0559572\ttotal: 1m 9s\tremaining: 1m 5s\n",
      "77:\tlearn: 1646.5461616\ttotal: 1m 10s\tremaining: 1m 4s\n",
      "78:\tlearn: 1645.3171173\ttotal: 1m 11s\tremaining: 1m 3s\n",
      "79:\tlearn: 1642.5654846\ttotal: 1m 12s\tremaining: 1m 3s\n",
      "80:\tlearn: 1638.6134849\ttotal: 1m 13s\tremaining: 1m 2s\n",
      "81:\tlearn: 1636.3428122\ttotal: 1m 14s\tremaining: 1m 1s\n",
      "82:\tlearn: 1634.7025087\ttotal: 1m 14s\tremaining: 1m\n",
      "83:\tlearn: 1632.8554236\ttotal: 1m 15s\tremaining: 59.5s\n",
      "84:\tlearn: 1630.1815873\ttotal: 1m 16s\tremaining: 58.5s\n",
      "85:\tlearn: 1627.1489309\ttotal: 1m 17s\tremaining: 57.6s\n",
      "86:\tlearn: 1625.2815261\ttotal: 1m 18s\tremaining: 56.6s\n",
      "87:\tlearn: 1623.1174766\ttotal: 1m 19s\tremaining: 55.7s\n",
      "88:\tlearn: 1621.3499917\ttotal: 1m 19s\tremaining: 54.7s\n",
      "89:\tlearn: 1618.2066836\ttotal: 1m 20s\tremaining: 53.8s\n",
      "90:\tlearn: 1615.3690253\ttotal: 1m 21s\tremaining: 52.9s\n",
      "91:\tlearn: 1613.5606205\ttotal: 1m 22s\tremaining: 52.1s\n",
      "92:\tlearn: 1611.8605141\ttotal: 1m 23s\tremaining: 51.3s\n",
      "93:\tlearn: 1610.8395514\ttotal: 1m 24s\tremaining: 50.4s\n",
      "94:\tlearn: 1608.4456045\ttotal: 1m 25s\tremaining: 49.5s\n",
      "95:\tlearn: 1606.1338876\ttotal: 1m 26s\tremaining: 48.6s\n",
      "96:\tlearn: 1605.9094967\ttotal: 1m 26s\tremaining: 47.3s\n",
      "97:\tlearn: 1604.1017638\ttotal: 1m 27s\tremaining: 46.4s\n",
      "98:\tlearn: 1602.5511515\ttotal: 1m 28s\tremaining: 45.5s\n",
      "99:\tlearn: 1600.6498576\ttotal: 1m 29s\tremaining: 44.7s\n",
      "100:\tlearn: 1598.7789255\ttotal: 1m 30s\tremaining: 43.8s\n",
      "101:\tlearn: 1596.9096334\ttotal: 1m 31s\tremaining: 42.9s\n",
      "102:\tlearn: 1594.9080903\ttotal: 1m 32s\tremaining: 42s\n",
      "103:\tlearn: 1592.8241398\ttotal: 1m 32s\tremaining: 41.1s\n",
      "104:\tlearn: 1590.5150045\ttotal: 1m 33s\tremaining: 40.1s\n",
      "105:\tlearn: 1588.6138286\ttotal: 1m 34s\tremaining: 39.2s\n",
      "106:\tlearn: 1584.7219266\ttotal: 1m 35s\tremaining: 38.4s\n",
      "107:\tlearn: 1584.6804360\ttotal: 1m 35s\tremaining: 37.1s\n",
      "108:\tlearn: 1584.6558006\ttotal: 1m 35s\tremaining: 35.9s\n",
      "109:\tlearn: 1582.9534451\ttotal: 1m 36s\tremaining: 35.1s\n",
      "110:\tlearn: 1580.1723683\ttotal: 1m 37s\tremaining: 34.2s\n",
      "111:\tlearn: 1578.7853350\ttotal: 1m 38s\tremaining: 33.4s\n",
      "112:\tlearn: 1576.6055990\ttotal: 1m 39s\tremaining: 32.5s\n",
      "113:\tlearn: 1574.4721595\ttotal: 1m 40s\tremaining: 31.6s\n",
      "114:\tlearn: 1572.2502678\ttotal: 1m 41s\tremaining: 30.8s\n",
      "115:\tlearn: 1572.2088315\ttotal: 1m 41s\tremaining: 29.6s\n",
      "116:\tlearn: 1570.9699075\ttotal: 1m 42s\tremaining: 28.8s\n",
      "117:\tlearn: 1569.1950244\ttotal: 1m 42s\tremaining: 27.9s\n",
      "118:\tlearn: 1567.6733833\ttotal: 1m 43s\tremaining: 27.1s\n",
      "119:\tlearn: 1565.2328834\ttotal: 1m 44s\tremaining: 26.2s\n",
      "120:\tlearn: 1563.4236266\ttotal: 1m 45s\tremaining: 25.3s\n",
      "121:\tlearn: 1560.9659050\ttotal: 1m 46s\tremaining: 24.5s\n",
      "122:\tlearn: 1559.2972111\ttotal: 1m 47s\tremaining: 23.6s\n",
      "123:\tlearn: 1558.0074894\ttotal: 1m 48s\tremaining: 22.7s\n",
      "124:\tlearn: 1556.2796220\ttotal: 1m 49s\tremaining: 21.8s\n",
      "125:\tlearn: 1554.4680161\ttotal: 1m 50s\tremaining: 21s\n",
      "126:\tlearn: 1552.5038019\ttotal: 1m 50s\tremaining: 20.1s\n",
      "127:\tlearn: 1550.5727135\ttotal: 1m 51s\tremaining: 19.2s\n",
      "128:\tlearn: 1548.6653823\ttotal: 1m 52s\tremaining: 18.3s\n",
      "129:\tlearn: 1547.2248796\ttotal: 1m 53s\tremaining: 17.5s\n",
      "130:\tlearn: 1544.4771180\ttotal: 1m 54s\tremaining: 16.6s\n",
      "131:\tlearn: 1542.8338614\ttotal: 1m 55s\tremaining: 15.7s\n",
      "132:\tlearn: 1541.2979912\ttotal: 1m 56s\tremaining: 14.9s\n",
      "133:\tlearn: 1539.6971269\ttotal: 1m 57s\tremaining: 14s\n",
      "134:\tlearn: 1539.0012611\ttotal: 1m 58s\tremaining: 13.1s\n",
      "135:\tlearn: 1536.5129739\ttotal: 1m 59s\tremaining: 12.3s\n",
      "136:\tlearn: 1534.5753911\ttotal: 2m\tremaining: 11.4s\n",
      "137:\tlearn: 1533.3707392\ttotal: 2m 1s\tremaining: 10.5s\n",
      "138:\tlearn: 1531.6160342\ttotal: 2m 1s\tremaining: 9.65s\n",
      "139:\tlearn: 1529.6108631\ttotal: 2m 2s\tremaining: 8.78s\n",
      "140:\tlearn: 1527.2246327\ttotal: 2m 3s\tremaining: 7.9s\n",
      "141:\tlearn: 1525.7055419\ttotal: 2m 4s\tremaining: 7.02s\n",
      "142:\tlearn: 1524.4001807\ttotal: 2m 5s\tremaining: 6.14s\n",
      "143:\tlearn: 1523.2219049\ttotal: 2m 6s\tremaining: 5.26s\n",
      "144:\tlearn: 1521.0154067\ttotal: 2m 7s\tremaining: 4.38s\n",
      "145:\tlearn: 1519.2119450\ttotal: 2m 7s\tremaining: 3.5s\n",
      "146:\tlearn: 1517.3119388\ttotal: 2m 8s\tremaining: 2.63s\n",
      "147:\tlearn: 1516.0081941\ttotal: 2m 9s\tremaining: 1.75s\n",
      "148:\tlearn: 1514.6626274\ttotal: 2m 10s\tremaining: 877ms\n",
      "149:\tlearn: 1513.3407996\ttotal: 2m 11s\tremaining: 0us\n",
      " Results from Grid Search \n",
      "\n",
      " The best estimator across ALL searched params:\n",
      " <catboost.core.CatBoostRegressor object at 0x000001CD8E0C45B0>\n",
      "\n",
      " The best score across ALL searched params:\n",
      " -1815.657974713406\n",
      "\n",
      " The best parameters across ALL searched params:\n",
      " {'depth': 15, 'iterations': 150, 'learning_rate': 0.1, 'loss_function': 'RMSE'}\n"
     ]
    }
   ],
   "source": [
    "model_CBR = CatBoostRegressor()\n",
    "\n",
    "parameters = {'depth'         : [15,20],\n",
    "                  'learning_rate' : [0.01, 0.1],\n",
    "                  'iterations'    : [110, 150],\n",
    "                  'loss_function':  ['RMSE']\n",
    "                 }\n",
    "\n",
    "grid = GridSearchCV(estimator=model_CBR, param_grid = parameters, cv = 2, n_jobs=-1, scoring='neg_root_mean_squared_error')\n",
    "grid.fit(features_train, target_train, cat_features=categorical)\n",
    "\n",
    "print(\" Results from Grid Search \" )\n",
    "print(\"\\n The best estimator across ALL searched params:\\n\", grid.best_estimator_)\n",
    "print(\"\\n The best score across ALL searched params:\\n\", grid.best_score_)\n",
    "print(\"\\n The best parameters across ALL searched params:\\n\", grid.best_params_)"
   ]
  },
  {
   "cell_type": "markdown",
   "metadata": {},
   "source": [
    "Измерим время обучения и работы модели со значениями гиперпараметров, подобранными через GridSearchCV"
   ]
  },
  {
   "cell_type": "code",
   "execution_count": 53,
   "metadata": {},
   "outputs": [],
   "source": [
    "cat_model_selected_options_grid= CatBoostRegressor(**grid.best_params_)"
   ]
  },
  {
   "cell_type": "code",
   "execution_count": 54,
   "metadata": {},
   "outputs": [
    {
     "name": "stdout",
     "output_type": "stream",
     "text": [
      "0:\tlearn: 4199.6236688\ttotal: 973ms\tremaining: 2m 24s\n",
      "1:\tlearn: 3943.7233808\ttotal: 1.89s\tremaining: 2m 19s\n",
      "2:\tlearn: 3709.2579523\ttotal: 2.92s\tremaining: 2m 23s\n",
      "3:\tlearn: 3502.4747102\ttotal: 3.87s\tremaining: 2m 21s\n",
      "4:\tlearn: 3321.8467802\ttotal: 4.81s\tremaining: 2m 19s\n",
      "5:\tlearn: 3160.8417709\ttotal: 5.73s\tremaining: 2m 17s\n",
      "6:\tlearn: 3021.8650733\ttotal: 6.58s\tremaining: 2m 14s\n",
      "7:\tlearn: 2874.5393879\ttotal: 7.42s\tremaining: 2m 11s\n",
      "8:\tlearn: 2749.8144347\ttotal: 8.24s\tremaining: 2m 9s\n",
      "9:\tlearn: 2639.3304224\ttotal: 9.07s\tremaining: 2m 6s\n",
      "10:\tlearn: 2546.7934925\ttotal: 9.95s\tremaining: 2m 5s\n",
      "11:\tlearn: 2460.3781727\ttotal: 10.8s\tremaining: 2m 4s\n",
      "12:\tlearn: 2388.0786025\ttotal: 11.8s\tremaining: 2m 4s\n",
      "13:\tlearn: 2324.3211111\ttotal: 12.7s\tremaining: 2m 3s\n",
      "14:\tlearn: 2268.9118851\ttotal: 13.6s\tremaining: 2m 2s\n",
      "15:\tlearn: 2221.2947224\ttotal: 14.5s\tremaining: 2m 1s\n",
      "16:\tlearn: 2180.0404938\ttotal: 15.3s\tremaining: 1m 59s\n",
      "17:\tlearn: 2139.3277355\ttotal: 16.1s\tremaining: 1m 58s\n",
      "18:\tlearn: 2103.7108958\ttotal: 17s\tremaining: 1m 57s\n",
      "19:\tlearn: 2074.1187349\ttotal: 17.8s\tremaining: 1m 55s\n",
      "20:\tlearn: 2048.1618160\ttotal: 18.7s\tremaining: 1m 54s\n",
      "21:\tlearn: 2024.7457751\ttotal: 19.6s\tremaining: 1m 54s\n",
      "22:\tlearn: 2002.8241149\ttotal: 20.6s\tremaining: 1m 53s\n",
      "23:\tlearn: 1979.5026415\ttotal: 21.6s\tremaining: 1m 53s\n",
      "24:\tlearn: 1955.3335010\ttotal: 22.5s\tremaining: 1m 52s\n",
      "25:\tlearn: 1934.6437773\ttotal: 23.4s\tremaining: 1m 51s\n",
      "26:\tlearn: 1915.7816799\ttotal: 24.2s\tremaining: 1m 50s\n",
      "27:\tlearn: 1899.3544402\ttotal: 25.1s\tremaining: 1m 49s\n",
      "28:\tlearn: 1883.5806929\ttotal: 26s\tremaining: 1m 48s\n",
      "29:\tlearn: 1870.3857887\ttotal: 27s\tremaining: 1m 47s\n",
      "30:\tlearn: 1858.4080396\ttotal: 27.9s\tremaining: 1m 47s\n",
      "31:\tlearn: 1848.2367851\ttotal: 28.8s\tremaining: 1m 46s\n",
      "32:\tlearn: 1837.1214574\ttotal: 29.8s\tremaining: 1m 45s\n",
      "33:\tlearn: 1828.8722835\ttotal: 30.7s\tremaining: 1m 44s\n",
      "34:\tlearn: 1821.3559212\ttotal: 31.6s\tremaining: 1m 43s\n",
      "35:\tlearn: 1812.4234979\ttotal: 32.5s\tremaining: 1m 42s\n",
      "36:\tlearn: 1804.4547354\ttotal: 33.5s\tremaining: 1m 42s\n",
      "37:\tlearn: 1798.8438382\ttotal: 34.4s\tremaining: 1m 41s\n",
      "38:\tlearn: 1792.9143776\ttotal: 35.3s\tremaining: 1m 40s\n",
      "39:\tlearn: 1787.6436566\ttotal: 36.2s\tremaining: 1m 39s\n",
      "40:\tlearn: 1782.6617231\ttotal: 37.1s\tremaining: 1m 38s\n",
      "41:\tlearn: 1777.4692217\ttotal: 38.1s\tremaining: 1m 37s\n",
      "42:\tlearn: 1771.5818241\ttotal: 39s\tremaining: 1m 37s\n",
      "43:\tlearn: 1767.4378776\ttotal: 39.8s\tremaining: 1m 35s\n",
      "44:\tlearn: 1763.6327888\ttotal: 40.7s\tremaining: 1m 34s\n",
      "45:\tlearn: 1760.7515941\ttotal: 41.6s\tremaining: 1m 34s\n",
      "46:\tlearn: 1757.0256301\ttotal: 42.5s\tremaining: 1m 33s\n",
      "47:\tlearn: 1751.9764502\ttotal: 43.5s\tremaining: 1m 32s\n",
      "48:\tlearn: 1749.6463981\ttotal: 44.4s\tremaining: 1m 31s\n",
      "49:\tlearn: 1746.9055960\ttotal: 45.3s\tremaining: 1m 30s\n",
      "50:\tlearn: 1743.8992622\ttotal: 46.2s\tremaining: 1m 29s\n",
      "51:\tlearn: 1739.7888414\ttotal: 47.1s\tremaining: 1m 28s\n",
      "52:\tlearn: 1734.1575264\ttotal: 48s\tremaining: 1m 27s\n",
      "53:\tlearn: 1731.5270097\ttotal: 48.9s\tremaining: 1m 27s\n",
      "54:\tlearn: 1729.3533027\ttotal: 49.9s\tremaining: 1m 26s\n",
      "55:\tlearn: 1724.5839399\ttotal: 50.8s\tremaining: 1m 25s\n",
      "56:\tlearn: 1718.9302601\ttotal: 51.7s\tremaining: 1m 24s\n",
      "57:\tlearn: 1713.8173666\ttotal: 52.7s\tremaining: 1m 23s\n",
      "58:\tlearn: 1709.3315449\ttotal: 53.6s\tremaining: 1m 22s\n",
      "59:\tlearn: 1704.2511994\ttotal: 54.4s\tremaining: 1m 21s\n",
      "60:\tlearn: 1701.0707107\ttotal: 55.3s\tremaining: 1m 20s\n",
      "61:\tlearn: 1694.9925292\ttotal: 56.1s\tremaining: 1m 19s\n",
      "62:\tlearn: 1690.7617655\ttotal: 57s\tremaining: 1m 18s\n",
      "63:\tlearn: 1688.0892335\ttotal: 57.9s\tremaining: 1m 17s\n",
      "64:\tlearn: 1685.6336312\ttotal: 58.8s\tremaining: 1m 16s\n",
      "65:\tlearn: 1683.2677677\ttotal: 59.7s\tremaining: 1m 15s\n",
      "66:\tlearn: 1678.2037863\ttotal: 1m\tremaining: 1m 15s\n",
      "67:\tlearn: 1673.7728423\ttotal: 1m 1s\tremaining: 1m 14s\n",
      "68:\tlearn: 1670.9262906\ttotal: 1m 2s\tremaining: 1m 13s\n",
      "69:\tlearn: 1667.8271410\ttotal: 1m 3s\tremaining: 1m 12s\n",
      "70:\tlearn: 1665.1828649\ttotal: 1m 4s\tremaining: 1m 11s\n",
      "71:\tlearn: 1660.9901088\ttotal: 1m 5s\tremaining: 1m 10s\n",
      "72:\tlearn: 1659.0699556\ttotal: 1m 6s\tremaining: 1m 9s\n",
      "73:\tlearn: 1656.9192714\ttotal: 1m 7s\tremaining: 1m 8s\n",
      "74:\tlearn: 1654.8812800\ttotal: 1m 8s\tremaining: 1m 8s\n",
      "75:\tlearn: 1651.5581666\ttotal: 1m 8s\tremaining: 1m 7s\n",
      "76:\tlearn: 1649.0559572\ttotal: 1m 9s\tremaining: 1m 6s\n",
      "77:\tlearn: 1646.5461616\ttotal: 1m 10s\tremaining: 1m 5s\n",
      "78:\tlearn: 1645.3171173\ttotal: 1m 11s\tremaining: 1m 4s\n",
      "79:\tlearn: 1642.5654846\ttotal: 1m 12s\tremaining: 1m 3s\n",
      "80:\tlearn: 1638.6134849\ttotal: 1m 13s\tremaining: 1m 2s\n",
      "81:\tlearn: 1636.3428122\ttotal: 1m 14s\tremaining: 1m 1s\n",
      "82:\tlearn: 1634.7025087\ttotal: 1m 15s\tremaining: 1m\n",
      "83:\tlearn: 1632.8554236\ttotal: 1m 16s\tremaining: 59.8s\n",
      "84:\tlearn: 1630.1815873\ttotal: 1m 17s\tremaining: 58.9s\n",
      "85:\tlearn: 1627.1489309\ttotal: 1m 18s\tremaining: 58.1s\n",
      "86:\tlearn: 1625.2815261\ttotal: 1m 18s\tremaining: 57.2s\n",
      "87:\tlearn: 1623.1174766\ttotal: 1m 19s\tremaining: 56.2s\n",
      "88:\tlearn: 1621.3499917\ttotal: 1m 20s\tremaining: 55.3s\n",
      "89:\tlearn: 1618.2066836\ttotal: 1m 21s\tremaining: 54.3s\n",
      "90:\tlearn: 1615.3690253\ttotal: 1m 22s\tremaining: 53.4s\n",
      "91:\tlearn: 1613.5606205\ttotal: 1m 23s\tremaining: 52.5s\n",
      "92:\tlearn: 1611.8605141\ttotal: 1m 24s\tremaining: 51.6s\n",
      "93:\tlearn: 1610.8395514\ttotal: 1m 25s\tremaining: 50.7s\n",
      "94:\tlearn: 1608.4456045\ttotal: 1m 26s\tremaining: 49.8s\n",
      "95:\tlearn: 1606.1338876\ttotal: 1m 26s\tremaining: 48.8s\n",
      "96:\tlearn: 1605.9094967\ttotal: 1m 26s\tremaining: 47.5s\n",
      "97:\tlearn: 1604.1017638\ttotal: 1m 27s\tremaining: 46.5s\n",
      "98:\tlearn: 1602.5511515\ttotal: 1m 28s\tremaining: 45.6s\n",
      "99:\tlearn: 1600.6498576\ttotal: 1m 29s\tremaining: 44.7s\n",
      "100:\tlearn: 1598.7789255\ttotal: 1m 30s\tremaining: 43.8s\n",
      "101:\tlearn: 1596.9096334\ttotal: 1m 31s\tremaining: 43s\n",
      "102:\tlearn: 1594.9080903\ttotal: 1m 32s\tremaining: 42.1s\n",
      "103:\tlearn: 1592.8241398\ttotal: 1m 33s\tremaining: 41.2s\n",
      "104:\tlearn: 1590.5150045\ttotal: 1m 34s\tremaining: 40.4s\n",
      "105:\tlearn: 1588.6138286\ttotal: 1m 35s\tremaining: 39.5s\n",
      "106:\tlearn: 1584.7219266\ttotal: 1m 36s\tremaining: 38.6s\n",
      "107:\tlearn: 1584.6804360\ttotal: 1m 36s\tremaining: 37.4s\n",
      "108:\tlearn: 1584.6558006\ttotal: 1m 36s\tremaining: 36.2s\n",
      "109:\tlearn: 1582.9534451\ttotal: 1m 37s\tremaining: 35.3s\n",
      "110:\tlearn: 1580.1723683\ttotal: 1m 37s\tremaining: 34.4s\n",
      "111:\tlearn: 1578.7853350\ttotal: 1m 38s\tremaining: 33.6s\n",
      "112:\tlearn: 1576.6055990\ttotal: 1m 39s\tremaining: 32.7s\n",
      "113:\tlearn: 1574.4721595\ttotal: 1m 40s\tremaining: 31.8s\n",
      "114:\tlearn: 1572.2502678\ttotal: 1m 41s\tremaining: 30.9s\n",
      "115:\tlearn: 1572.2088315\ttotal: 1m 41s\tremaining: 29.8s\n",
      "116:\tlearn: 1570.9699075\ttotal: 1m 42s\tremaining: 28.9s\n",
      "117:\tlearn: 1569.1950244\ttotal: 1m 43s\tremaining: 28s\n",
      "118:\tlearn: 1567.6733833\ttotal: 1m 44s\tremaining: 27.2s\n",
      "119:\tlearn: 1565.2328834\ttotal: 1m 45s\tremaining: 26.3s\n",
      "120:\tlearn: 1563.4236266\ttotal: 1m 45s\tremaining: 25.4s\n",
      "121:\tlearn: 1560.9659050\ttotal: 1m 46s\tremaining: 24.5s\n",
      "122:\tlearn: 1559.2972111\ttotal: 1m 47s\tremaining: 23.6s\n",
      "123:\tlearn: 1558.0074894\ttotal: 1m 48s\tremaining: 22.8s\n",
      "124:\tlearn: 1556.2796220\ttotal: 1m 49s\tremaining: 21.9s\n",
      "125:\tlearn: 1554.4680161\ttotal: 1m 50s\tremaining: 21.1s\n",
      "126:\tlearn: 1552.5038019\ttotal: 1m 51s\tremaining: 20.2s\n",
      "127:\tlearn: 1550.5727135\ttotal: 1m 52s\tremaining: 19.3s\n",
      "128:\tlearn: 1548.6653823\ttotal: 1m 53s\tremaining: 18.4s\n",
      "129:\tlearn: 1547.2248796\ttotal: 1m 54s\tremaining: 17.6s\n",
      "130:\tlearn: 1544.4771180\ttotal: 1m 54s\tremaining: 16.7s\n",
      "131:\tlearn: 1542.8338614\ttotal: 1m 55s\tremaining: 15.8s\n",
      "132:\tlearn: 1541.2979912\ttotal: 1m 56s\tremaining: 14.9s\n",
      "133:\tlearn: 1539.6971269\ttotal: 1m 57s\tremaining: 14.1s\n",
      "134:\tlearn: 1539.0012611\ttotal: 1m 58s\tremaining: 13.2s\n",
      "135:\tlearn: 1536.5129739\ttotal: 1m 59s\tremaining: 12.3s\n",
      "136:\tlearn: 1534.5753911\ttotal: 2m\tremaining: 11.4s\n",
      "137:\tlearn: 1533.3707392\ttotal: 2m 1s\tremaining: 10.6s\n",
      "138:\tlearn: 1531.6160342\ttotal: 2m 2s\tremaining: 9.67s\n",
      "139:\tlearn: 1529.6108631\ttotal: 2m 3s\tremaining: 8.8s\n",
      "140:\tlearn: 1527.2246327\ttotal: 2m 4s\tremaining: 7.92s\n",
      "141:\tlearn: 1525.7055419\ttotal: 2m 5s\tremaining: 7.05s\n",
      "142:\tlearn: 1524.4001807\ttotal: 2m 6s\tremaining: 6.17s\n",
      "143:\tlearn: 1523.2219049\ttotal: 2m 7s\tremaining: 5.29s\n",
      "144:\tlearn: 1521.0154067\ttotal: 2m 8s\tremaining: 4.42s\n",
      "145:\tlearn: 1519.2119450\ttotal: 2m 8s\tremaining: 3.53s\n",
      "146:\tlearn: 1517.3119388\ttotal: 2m 9s\tremaining: 2.65s\n",
      "147:\tlearn: 1516.0081941\ttotal: 2m 10s\tremaining: 1.76s\n",
      "148:\tlearn: 1514.6626274\ttotal: 2m 11s\tremaining: 883ms\n",
      "149:\tlearn: 1513.3407996\ttotal: 2m 12s\tremaining: 0us\n",
      "Wall time: 2min 13s\n"
     ]
    },
    {
     "data": {
      "text/plain": [
       "<catboost.core.CatBoostRegressor at 0x1cd8e0d35b0>"
      ]
     },
     "execution_count": 54,
     "metadata": {},
     "output_type": "execute_result"
    }
   ],
   "source": [
    "%%time\n",
    "cat_model_selected_options_grid.fit(features_train, target_train, cat_features=categorical)"
   ]
  },
  {
   "cell_type": "code",
   "execution_count": 55,
   "metadata": {},
   "outputs": [
    {
     "name": "stdout",
     "output_type": "stream",
     "text": [
      "Wall time: 90.9 ms\n"
     ]
    }
   ],
   "source": [
    "%%time\n",
    "predicted_cat_selected_options_grid = pd.Series(cat_model_selected_options_grid.predict(features_test))"
   ]
  },
  {
   "cell_type": "code",
   "execution_count": 56,
   "metadata": {},
   "outputs": [
    {
     "name": "stdout",
     "output_type": "stream",
     "text": [
      "1786\n"
     ]
    }
   ],
   "source": [
    "rmse_cbr = round(rmse(target_test, predicted_cat_selected_options_grid))\n",
    "print(rmse_cbr)"
   ]
  },
  {
   "cell_type": "markdown",
   "metadata": {},
   "source": [
    "### Шаг №2.3. LightGBM"
   ]
  },
  {
   "cell_type": "markdown",
   "metadata": {},
   "source": [
    "Обучим, получим предсказания и проверим качество модели LightGBM с замером времени\n",
    "\n",
    "LightGBM, сокращение от Light Gradient Boosting Machine, представляет собой бесплатную распределенную структуру повышения градиента с открытым исходным кодом для машинного обучения, первоначально разработанную Microsoft.\n",
    "\n",
    "Официальная страница https://lightgbm.readthedocs.io/en/v3.3.2/"
   ]
  },
  {
   "cell_type": "code",
   "execution_count": 57,
   "metadata": {},
   "outputs": [],
   "source": [
    "params = {\n",
    "    'boosting_type': 'gbdt',\n",
    "    'objective': 'regression',\n",
    "    'metric': 'rmse',\n",
    "    'max_depth': 7, \n",
    "    'learning_rate': 0.2,\n",
    "    'verbose': 0\n",
    "}"
   ]
  },
  {
   "cell_type": "code",
   "execution_count": 58,
   "metadata": {},
   "outputs": [],
   "source": [
    "lgbm_model = LGBMRegressor(**params)"
   ]
  },
  {
   "cell_type": "code",
   "execution_count": 59,
   "metadata": {},
   "outputs": [
    {
     "name": "stdout",
     "output_type": "stream",
     "text": [
      "[LightGBM] [Warning] Accuracy may be bad since you didn't explicitly set num_leaves OR 2^max_depth > num_leaves. (num_leaves=31).\n",
      "[LightGBM] [Warning] Accuracy may be bad since you didn't explicitly set num_leaves OR 2^max_depth > num_leaves. (num_leaves=31).\n",
      "[LightGBM] [Warning] Auto-choosing row-wise multi-threading, the overhead of testing was 0.005379 seconds.\n",
      "You can set `force_row_wise=true` to remove the overhead.\n",
      "And if memory is not enough, you can set `force_col_wise=true`.\n",
      "[LightGBM] [Warning] No further splits with positive gain, best gain: -inf\n",
      "[LightGBM] [Warning] No further splits with positive gain, best gain: -inf\n",
      "Wall time: 1.07 s\n"
     ]
    },
    {
     "data": {
      "text/plain": [
       "LGBMRegressor(learning_rate=0.2, max_depth=7, metric='rmse',\n",
       "              objective='regression', verbose=0)"
      ]
     },
     "execution_count": 59,
     "metadata": {},
     "output_type": "execute_result"
    }
   ],
   "source": [
    "%%time\n",
    "lgbm_model.fit(features_train, target_train)"
   ]
  },
  {
   "cell_type": "code",
   "execution_count": 60,
   "metadata": {},
   "outputs": [
    {
     "name": "stdout",
     "output_type": "stream",
     "text": [
      "Wall time: 89.9 ms\n"
     ]
    }
   ],
   "source": [
    "%%time\n",
    "predictions_lgbm = lgbm_model.predict(features_test)"
   ]
  },
  {
   "cell_type": "code",
   "execution_count": 61,
   "metadata": {},
   "outputs": [
    {
     "name": "stdout",
     "output_type": "stream",
     "text": [
      "1777\n"
     ]
    }
   ],
   "source": [
    "rmse_lgbm = round(rmse(target_test, predictions_lgbm))\n",
    "print(rmse_lgbm)"
   ]
  },
  {
   "cell_type": "markdown",
   "metadata": {},
   "source": [
    "## Шаг №3. Анализ моделей"
   ]
  },
  {
   "cell_type": "markdown",
   "metadata": {},
   "source": [
    "Сведем полученные данные по скорости обучения (в секундах), скорости предсказания (в миллисекундах) и качеству моделей (в данном случае RMSE) в таблицу"
   ]
  },
  {
   "cell_type": "code",
   "execution_count": 62,
   "metadata": {},
   "outputs": [
    {
     "data": {
      "text/html": [
       "<div>\n",
       "<style scoped>\n",
       "    .dataframe tbody tr th:only-of-type {\n",
       "        vertical-align: middle;\n",
       "    }\n",
       "\n",
       "    .dataframe tbody tr th {\n",
       "        vertical-align: top;\n",
       "    }\n",
       "\n",
       "    .dataframe thead th {\n",
       "        text-align: right;\n",
       "    }\n",
       "</style>\n",
       "<table border=\"1\" class=\"dataframe\">\n",
       "  <thead>\n",
       "    <tr style=\"text-align: right;\">\n",
       "      <th></th>\n",
       "      <th>model</th>\n",
       "      <th>train_time, sec</th>\n",
       "      <th>work_time, msec</th>\n",
       "      <th>rmse</th>\n",
       "    </tr>\n",
       "  </thead>\n",
       "  <tbody>\n",
       "    <tr>\n",
       "      <th>0</th>\n",
       "      <td>LR</td>\n",
       "      <td>2.5</td>\n",
       "      <td>103</td>\n",
       "      <td>303847763</td>\n",
       "    </tr>\n",
       "    <tr>\n",
       "      <th>1</th>\n",
       "      <td>CBR</td>\n",
       "      <td>133.0</td>\n",
       "      <td>91</td>\n",
       "      <td>1786</td>\n",
       "    </tr>\n",
       "    <tr>\n",
       "      <th>2</th>\n",
       "      <td>LGB</td>\n",
       "      <td>1.0</td>\n",
       "      <td>90</td>\n",
       "      <td>1777</td>\n",
       "    </tr>\n",
       "  </tbody>\n",
       "</table>\n",
       "</div>"
      ],
      "text/plain": [
       "  model  train_time, sec  work_time, msec       rmse\n",
       "0    LR              2.5              103  303847763\n",
       "1   CBR            133.0               91       1786\n",
       "2   LGB              1.0               90       1777"
      ]
     },
     "execution_count": 62,
     "metadata": {},
     "output_type": "execute_result"
    }
   ],
   "source": [
    "# занесем время обучения моделей в переменные\n",
    "train_time_lr = 2.5\n",
    "train_time_cbr = 133\n",
    "train_time_lgbm = 1\n",
    "\n",
    "# занесем время предсказания моделей в переменные\n",
    "work_time_lr = 103\n",
    "work_time_cbr = 91\n",
    "work_time_lgbm = 90\n",
    "\n",
    "# подготовим датафрейм для анализа\n",
    "models = [['LR', train_time_lr, work_time_lr, rmse_lr], \n",
    "          ['CBR', train_time_cbr, work_time_cbr, rmse_cbr], \n",
    "          ['LGB', train_time_lgbm, work_time_lgbm, rmse_lgbm]] \n",
    "    \n",
    "df_model = pd.DataFrame(models, columns =['model', 'train_time, sec', 'work_time, msec', 'rmse']) \n",
    "df_model"
   ]
  },
  {
   "cell_type": "code",
   "execution_count": 63,
   "metadata": {},
   "outputs": [
    {
     "data": {
      "image/png": "[encoded data removed]",
      "text/plain": [
       "<Figure size 864x432 with 1 Axes>"
      ]
     },
     "metadata": {},
     "output_type": "display_data"
    }
   ],
   "source": [
    "# представим на диаграмме данные по параметру train_time, sec\n",
    "\n",
    "fig, ax = plt.subplots()\n",
    "\n",
    "x = df_model['model']\n",
    "y = df_model['train_time, sec']\n",
    "ax.bar(x, y)\n",
    "\n",
    "ax.set_title('Время обучения модели, в сек.')\n",
    "ax.set_facecolor('seashell')\n",
    "fig.set_facecolor('floralwhite')\n",
    "fig.set_figwidth(12)    #  ширина Figure\n",
    "fig.set_figheight(6)    #  высота Figure\n",
    "\n",
    "plt.show()"
   ]
  },
  {
   "cell_type": "code",
   "execution_count": 64,
   "metadata": {},
   "outputs": [
    {
     "data": {
      "image/png": "[encoded data removed]",
      "text/plain": [
       "<Figure size 864x432 with 1 Axes>"
      ]
     },
     "metadata": {},
     "output_type": "display_data"
    }
   ],
   "source": [
    "# представим на диаграмме данные по параметру work_time, msec\n",
    "\n",
    "fig, ax = plt.subplots()\n",
    "\n",
    "x = df_model['model']\n",
    "y = df_model['work_time, msec']\n",
    "ax.bar(x, y)\n",
    "\n",
    "ax.set_title('Время работы модели (предсказания), в мс')\n",
    "ax.set_facecolor('seashell')\n",
    "fig.set_facecolor('floralwhite')\n",
    "fig.set_figwidth(12)    #  ширина Figure\n",
    "fig.set_figheight(6)    #  высота Figure\n",
    "\n",
    "plt.show()"
   ]
  },
  {
   "cell_type": "code",
   "execution_count": 65,
   "metadata": {},
   "outputs": [
    {
     "data": {
      "image/png": "[encoded data removed]",
      "text/plain": [
       "<Figure size 864x432 with 1 Axes>"
      ]
     },
     "metadata": {},
     "output_type": "display_data"
    }
   ],
   "source": [
    "# подготовим датафрейм для анализа качества только CBR и LGBM моделей, т.к. по параметру RMSE модель LR будет не в масштабе\n",
    "models_CBR_LGBM = [\n",
    "                   ['CBR', train_time_cbr, work_time_cbr, rmse_cbr], \n",
    "                   ['LGB', train_time_lgbm, work_time_lgbm, rmse_lgbm]] \n",
    "\n",
    "df_model = pd.DataFrame(models_CBR_LGBM, columns =['model', 'train_time, sec', 'work_time, msec', 'rmse']) \n",
    "\n",
    "# представим на диаграмме данные по параметру rmse\n",
    "fig, ax = plt.subplots()\n",
    "\n",
    "x = df_model['model']\n",
    "y = df_model['rmse']\n",
    "ax.bar(x, y)\n",
    "\n",
    "ax.set_title('Качество модели (чем ниже RMSE, тем качественнее предсказывает модель)')\n",
    "ax.set_facecolor('seashell')\n",
    "fig.set_facecolor('floralwhite')\n",
    "fig.set_figwidth(12)    #  ширина Figure\n",
    "fig.set_figheight(6)    #  высота Figure\n",
    "\n",
    "plt.show()"
   ]
  },
  {
   "cell_type": "markdown",
   "metadata": {},
   "source": [
    "## Вывод по исследованию"
   ]
  },
  {
   "cell_type": "markdown",
   "metadata": {},
   "source": [
    "В исследовании были подобраны параметры и обучены 3 модели: LinearRegression, CatBoostRegressor и LightGBM. Самой быстрой и точной оказалась модель LightGBM, незначительно ей уступает в точности CatBoostRegressor, при этом CatBoostRegressor на два порядка дольше всех обучается. Модель LinearRegression не прошла отбор по критерию качества - RMSE превысил максимально допустимое значение в 2500.\n",
    "\n",
    "**Цель исследования достигнута, а именно создана модель для предсказания рыночной стоимости автомобилей, которая должна иметь высокое качество предсказания (RMSE не более 2500), высокая скорость предсказания и малое время обучения. Такой моделью оказалась LGBMRegressor(learning_rate=0.2, max_depth=7, metric='rmse', objective='regression', verbose=0)"
   ]
  }
 ],
 "metadata": {
  "ExecuteTimeLog": [
   {
    "duration": 14680,
    "start_time": "2022-07-14T17:44:16.754Z"
   },
   {
    "duration": 15,
    "start_time": "2022-07-14T17:44:31.437Z"
   },
   {
    "duration": 24,
    "start_time": "2022-07-14T17:44:31.453Z"
   },
   {
    "duration": 405,
    "start_time": "2022-07-14T17:44:31.479Z"
   },
   {
    "duration": 1,
    "start_time": "2022-07-14T17:44:31.887Z"
   },
   {
    "duration": 0,
    "start_time": "2022-07-14T17:44:31.889Z"
   },
   {
    "duration": 0,
    "start_time": "2022-07-14T17:44:31.890Z"
   },
   {
    "duration": 0,
    "start_time": "2022-07-14T17:44:31.891Z"
   },
   {
    "duration": 0,
    "start_time": "2022-07-14T17:44:31.909Z"
   },
   {
    "duration": 0,
    "start_time": "2022-07-14T17:44:31.910Z"
   },
   {
    "duration": 1,
    "start_time": "2022-07-14T17:44:31.911Z"
   },
   {
    "duration": 0,
    "start_time": "2022-07-14T17:44:31.912Z"
   },
   {
    "duration": 0,
    "start_time": "2022-07-14T17:44:31.914Z"
   },
   {
    "duration": 0,
    "start_time": "2022-07-14T17:44:31.915Z"
   },
   {
    "duration": 0,
    "start_time": "2022-07-14T17:44:31.916Z"
   },
   {
    "duration": 0,
    "start_time": "2022-07-14T17:44:31.917Z"
   },
   {
    "duration": 0,
    "start_time": "2022-07-14T17:44:31.918Z"
   },
   {
    "duration": 0,
    "start_time": "2022-07-14T17:44:31.919Z"
   },
   {
    "duration": 0,
    "start_time": "2022-07-14T17:44:31.920Z"
   },
   {
    "duration": 0,
    "start_time": "2022-07-14T17:44:31.921Z"
   },
   {
    "duration": 0,
    "start_time": "2022-07-14T17:44:31.922Z"
   },
   {
    "duration": 0,
    "start_time": "2022-07-14T17:44:31.922Z"
   },
   {
    "duration": 0,
    "start_time": "2022-07-14T17:44:31.924Z"
   },
   {
    "duration": 1,
    "start_time": "2022-07-14T17:44:31.924Z"
   },
   {
    "duration": 0,
    "start_time": "2022-07-14T17:44:31.925Z"
   },
   {
    "duration": 0,
    "start_time": "2022-07-14T17:44:31.927Z"
   },
   {
    "duration": 0,
    "start_time": "2022-07-14T17:44:31.928Z"
   },
   {
    "duration": 0,
    "start_time": "2022-07-14T17:44:31.929Z"
   },
   {
    "duration": 0,
    "start_time": "2022-07-14T17:44:31.930Z"
   },
   {
    "duration": 0,
    "start_time": "2022-07-14T17:44:31.931Z"
   },
   {
    "duration": 0,
    "start_time": "2022-07-14T17:44:31.932Z"
   },
   {
    "duration": 0,
    "start_time": "2022-07-14T17:44:31.933Z"
   },
   {
    "duration": 0,
    "start_time": "2022-07-14T17:44:31.934Z"
   },
   {
    "duration": 1,
    "start_time": "2022-07-14T17:44:31.934Z"
   },
   {
    "duration": 1336,
    "start_time": "2022-07-14T17:45:47.653Z"
   },
   {
    "duration": 19,
    "start_time": "2022-07-14T17:45:59.506Z"
   },
   {
    "duration": 135,
    "start_time": "2022-07-14T17:46:01.845Z"
   },
   {
    "duration": 109,
    "start_time": "2022-07-14T17:46:02.234Z"
   },
   {
    "duration": 662,
    "start_time": "2022-07-14T17:46:03.785Z"
   },
   {
    "duration": 429,
    "start_time": "2022-07-14T17:46:09.503Z"
   },
   {
    "duration": 52,
    "start_time": "2022-07-14T17:46:12.351Z"
   },
   {
    "duration": 189,
    "start_time": "2022-07-14T17:46:12.925Z"
   },
   {
    "duration": 1435,
    "start_time": "2022-07-14T17:46:14.239Z"
   },
   {
    "duration": 58,
    "start_time": "2022-07-14T17:46:17.016Z"
   },
   {
    "duration": 49,
    "start_time": "2022-07-14T17:46:19.056Z"
   },
   {
    "duration": 108,
    "start_time": "2022-07-14T17:46:20.599Z"
   },
   {
    "duration": 101,
    "start_time": "2022-07-14T17:46:20.780Z"
   },
   {
    "duration": 153,
    "start_time": "2022-07-14T17:46:21.117Z"
   },
   {
    "duration": 32,
    "start_time": "2022-07-14T17:46:22.548Z"
   },
   {
    "duration": 3,
    "start_time": "2022-07-14T17:46:22.749Z"
   },
   {
    "duration": 34,
    "start_time": "2022-07-14T17:46:22.936Z"
   },
   {
    "duration": 6,
    "start_time": "2022-07-14T17:46:27.155Z"
   },
   {
    "duration": 1373,
    "start_time": "2022-07-14T17:46:27.491Z"
   },
   {
    "duration": 259,
    "start_time": "2022-07-14T17:46:28.866Z"
   },
   {
    "duration": 190,
    "start_time": "2022-07-14T17:46:54.663Z"
   },
   {
    "duration": 527,
    "start_time": "2022-07-14T17:46:55.705Z"
   },
   {
    "duration": 2,
    "start_time": "2022-07-14T17:47:03.173Z"
   },
   {
    "duration": 294,
    "start_time": "2022-07-14T17:47:06.716Z"
   },
   {
    "duration": 111,
    "start_time": "2022-07-14T17:47:10.041Z"
   },
   {
    "duration": 66,
    "start_time": "2022-07-14T17:47:11.587Z"
   },
   {
    "duration": 6,
    "start_time": "2022-07-14T17:47:13.949Z"
   },
   {
    "duration": 157,
    "start_time": "2022-07-14T17:47:15.084Z"
   },
   {
    "duration": 80,
    "start_time": "2022-07-14T17:47:16.845Z"
   },
   {
    "duration": 21,
    "start_time": "2022-07-14T17:47:17.650Z"
   },
   {
    "duration": 79,
    "start_time": "2022-07-14T17:47:18.117Z"
   },
   {
    "duration": 2,
    "start_time": "2022-07-14T17:47:19.673Z"
   },
   {
    "duration": 3,
    "start_time": "2022-07-14T17:47:21.923Z"
   },
   {
    "duration": 10998,
    "start_time": "2022-07-14T17:47:22.518Z"
   },
   {
    "duration": 193,
    "start_time": "2022-07-14T17:47:33.518Z"
   },
   {
    "duration": 6,
    "start_time": "2022-07-14T17:47:38.747Z"
   },
   {
    "duration": 93,
    "start_time": "2022-07-14T17:47:55.798Z"
   },
   {
    "duration": 99,
    "start_time": "2022-07-14T17:48:02.414Z"
   },
   {
    "duration": 5,
    "start_time": "2022-07-14T17:48:03.315Z"
   },
   {
    "duration": 15,
    "start_time": "2022-07-14T17:48:22.020Z"
   },
   {
    "duration": 5,
    "start_time": "2022-07-14T17:48:37.143Z"
   },
   {
    "duration": 4,
    "start_time": "2022-07-14T17:48:45.240Z"
   },
   {
    "duration": 5,
    "start_time": "2022-07-14T17:48:53.212Z"
   },
   {
    "duration": 5,
    "start_time": "2022-07-14T17:49:08.100Z"
   },
   {
    "duration": 4,
    "start_time": "2022-07-14T17:49:18.659Z"
   },
   {
    "duration": 3,
    "start_time": "2022-07-14T17:49:34.339Z"
   },
   {
    "duration": 11485,
    "start_time": "2022-07-14T17:49:42.224Z"
   },
   {
    "duration": 15,
    "start_time": "2022-07-14T17:49:53.711Z"
   },
   {
    "duration": 4,
    "start_time": "2022-07-14T17:49:53.727Z"
   },
   {
    "duration": 63,
    "start_time": "2022-07-14T17:49:58.347Z"
   },
   {
    "duration": 4,
    "start_time": "2022-07-14T17:50:05.712Z"
   },
   {
    "duration": 5,
    "start_time": "2022-07-14T17:50:08.569Z"
   },
   {
    "duration": 3,
    "start_time": "2022-07-14T17:50:17.275Z"
   },
   {
    "duration": 58395,
    "start_time": "2022-07-14T17:50:18.138Z"
   },
   {
    "duration": 79,
    "start_time": "2022-07-14T17:51:16.535Z"
   },
   {
    "duration": 6,
    "start_time": "2022-07-14T17:51:16.616Z"
   },
   {
    "duration": 5,
    "start_time": "2022-07-14T17:53:22.743Z"
   },
   {
    "duration": 4,
    "start_time": "2022-07-14T17:53:40.977Z"
   },
   {
    "duration": 4,
    "start_time": "2022-07-14T17:54:01.693Z"
   },
   {
    "duration": 5,
    "start_time": "2022-07-14T17:54:21.445Z"
   }
  ],
  "kernelspec": {
   "display_name": "Python 3 (ipykernel)",
   "language": "python",
   "name": "python3"
  },
  "language_info": {
   "codemirror_mode": {
    "name": "ipython",
    "version": 3
   },
   "file_extension": ".py",
   "mimetype": "text/x-python",
   "name": "python",
   "nbconvert_exporter": "python",
   "pygments_lexer": "ipython3",
   "version": "3.9.7"
  },
  "toc": {
   "base_numbering": 1,
   "nav_menu": {
    "height": "145px",
    "width": "349px"
   },
   "number_sections": true,
   "sideBar": true,
   "skip_h1_title": true,
   "title_cell": "Table of Contents",
   "title_sidebar": "Contents",
   "toc_cell": false,
   "toc_position": {},
   "toc_section_display": true,
   "toc_window_display": false
  }
 },
 "nbformat": 4,
 "nbformat_minor": 2
}
