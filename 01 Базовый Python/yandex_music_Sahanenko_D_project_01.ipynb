{
 "cells": [
  {
   "cell_type": "markdown",
   "metadata": {
    "id": "E0vqbgi9ay0H"
   },
   "source": [
    "# Яндекс.Музыка"
   ]
  },
  {
   "cell_type": "markdown",
   "metadata": {
    "id": "VUC88oWjTJw2"
   },
   "source": [
    "**Цель исследования** — проверить три гипотезы:\n",
    "1. Активность пользователей зависит от дня недели. Причём в Москве и Петербурге это проявляется по-разному.\n",
    "2. В понедельник утром в Москве преобладают одни жанры, а в Петербурге — другие. Так же и вечером пятницы преобладают разные жанры — в зависимости от города. \n",
    "3. Москва и Петербург предпочитают разные жанры музыки. В Москве чаще слушают поп-музыку, в Петербурге — русский рэп."
   ]
  },
  {
   "cell_type": "markdown",
   "metadata": {
    "id": "Ml1hmfXC_Zcs"
   },
   "source": [
    "## Обзор данных"
   ]
  },
  {
   "cell_type": "code",
   "execution_count": 1,
   "metadata": {
    "id": "AXN7PHPN_Zcs"
   },
   "outputs": [],
   "source": [
    "# импорт библиотеки pandas\n",
    "import pandas as pd"
   ]
  },
  {
   "cell_type": "code",
   "execution_count": 2,
   "metadata": {
    "id": "fFVu7vqh_Zct"
   },
   "outputs": [],
   "source": [
    "# чтение файла с данными и сохранение в df\n",
    "df = pd.read_csv(\"e:/Яндекс.Практикум/Спринт 02 Базовый Python/yandex_music_project.csv\")"
   ]
  },
  {
   "cell_type": "code",
   "execution_count": 3,
   "metadata": {
    "id": "oWTVX3gW_Zct"
   },
   "outputs": [
    {
     "data": {
      "text/html": [
       "<div>\n",
       "<style scoped>\n",
       "    .dataframe tbody tr th:only-of-type {\n",
       "        vertical-align: middle;\n",
       "    }\n",
       "\n",
       "    .dataframe tbody tr th {\n",
       "        vertical-align: top;\n",
       "    }\n",
       "\n",
       "    .dataframe thead th {\n",
       "        text-align: right;\n",
       "    }\n",
       "</style>\n",
       "<table border=\"1\" class=\"dataframe\">\n",
       "  <thead>\n",
       "    <tr style=\"text-align: right;\">\n",
       "      <th></th>\n",
       "      <th>userID</th>\n",
       "      <th>Track</th>\n",
       "      <th>artist</th>\n",
       "      <th>genre</th>\n",
       "      <th>City</th>\n",
       "      <th>time</th>\n",
       "      <th>Day</th>\n",
       "    </tr>\n",
       "  </thead>\n",
       "  <tbody>\n",
       "    <tr>\n",
       "      <th>0</th>\n",
       "      <td>FFB692EC</td>\n",
       "      <td>Kamigata To Boots</td>\n",
       "      <td>The Mass Missile</td>\n",
       "      <td>rock</td>\n",
       "      <td>Saint-Petersburg</td>\n",
       "      <td>20:28:33</td>\n",
       "      <td>Wednesday</td>\n",
       "    </tr>\n",
       "    <tr>\n",
       "      <th>1</th>\n",
       "      <td>55204538</td>\n",
       "      <td>Delayed Because of Accident</td>\n",
       "      <td>Andreas Rönnberg</td>\n",
       "      <td>rock</td>\n",
       "      <td>Moscow</td>\n",
       "      <td>14:07:09</td>\n",
       "      <td>Friday</td>\n",
       "    </tr>\n",
       "    <tr>\n",
       "      <th>2</th>\n",
       "      <td>20EC38</td>\n",
       "      <td>Funiculì funiculà</td>\n",
       "      <td>Mario Lanza</td>\n",
       "      <td>pop</td>\n",
       "      <td>Saint-Petersburg</td>\n",
       "      <td>20:58:07</td>\n",
       "      <td>Wednesday</td>\n",
       "    </tr>\n",
       "    <tr>\n",
       "      <th>3</th>\n",
       "      <td>A3DD03C9</td>\n",
       "      <td>Dragons in the Sunset</td>\n",
       "      <td>Fire + Ice</td>\n",
       "      <td>folk</td>\n",
       "      <td>Saint-Petersburg</td>\n",
       "      <td>08:37:09</td>\n",
       "      <td>Monday</td>\n",
       "    </tr>\n",
       "    <tr>\n",
       "      <th>4</th>\n",
       "      <td>E2DC1FAE</td>\n",
       "      <td>Soul People</td>\n",
       "      <td>Space Echo</td>\n",
       "      <td>dance</td>\n",
       "      <td>Moscow</td>\n",
       "      <td>08:34:34</td>\n",
       "      <td>Monday</td>\n",
       "    </tr>\n",
       "    <tr>\n",
       "      <th>5</th>\n",
       "      <td>842029A1</td>\n",
       "      <td>Преданная</td>\n",
       "      <td>IMPERVTOR</td>\n",
       "      <td>rusrap</td>\n",
       "      <td>Saint-Petersburg</td>\n",
       "      <td>13:09:41</td>\n",
       "      <td>Friday</td>\n",
       "    </tr>\n",
       "    <tr>\n",
       "      <th>6</th>\n",
       "      <td>4CB90AA5</td>\n",
       "      <td>True</td>\n",
       "      <td>Roman Messer</td>\n",
       "      <td>dance</td>\n",
       "      <td>Moscow</td>\n",
       "      <td>13:00:07</td>\n",
       "      <td>Wednesday</td>\n",
       "    </tr>\n",
       "    <tr>\n",
       "      <th>7</th>\n",
       "      <td>F03E1C1F</td>\n",
       "      <td>Feeling This Way</td>\n",
       "      <td>Polina Griffith</td>\n",
       "      <td>dance</td>\n",
       "      <td>Moscow</td>\n",
       "      <td>20:47:49</td>\n",
       "      <td>Wednesday</td>\n",
       "    </tr>\n",
       "    <tr>\n",
       "      <th>8</th>\n",
       "      <td>8FA1D3BE</td>\n",
       "      <td>И вновь продолжается бой</td>\n",
       "      <td>NaN</td>\n",
       "      <td>ruspop</td>\n",
       "      <td>Moscow</td>\n",
       "      <td>09:17:40</td>\n",
       "      <td>Friday</td>\n",
       "    </tr>\n",
       "    <tr>\n",
       "      <th>9</th>\n",
       "      <td>E772D5C0</td>\n",
       "      <td>Pessimist</td>\n",
       "      <td>NaN</td>\n",
       "      <td>dance</td>\n",
       "      <td>Saint-Petersburg</td>\n",
       "      <td>21:20:49</td>\n",
       "      <td>Wednesday</td>\n",
       "    </tr>\n",
       "  </tbody>\n",
       "</table>\n",
       "</div>"
      ],
      "text/plain": [
       "     userID                        Track            artist   genre  \\\n",
       "0  FFB692EC            Kamigata To Boots  The Mass Missile    rock   \n",
       "1  55204538  Delayed Because of Accident  Andreas Rönnberg    rock   \n",
       "2    20EC38            Funiculì funiculà       Mario Lanza     pop   \n",
       "3  A3DD03C9        Dragons in the Sunset        Fire + Ice    folk   \n",
       "4  E2DC1FAE                  Soul People        Space Echo   dance   \n",
       "5  842029A1                    Преданная         IMPERVTOR  rusrap   \n",
       "6  4CB90AA5                         True      Roman Messer   dance   \n",
       "7  F03E1C1F             Feeling This Way   Polina Griffith   dance   \n",
       "8  8FA1D3BE     И вновь продолжается бой               NaN  ruspop   \n",
       "9  E772D5C0                    Pessimist               NaN   dance   \n",
       "\n",
       "             City        time        Day  \n",
       "0  Saint-Petersburg  20:28:33  Wednesday  \n",
       "1            Moscow  14:07:09     Friday  \n",
       "2  Saint-Petersburg  20:58:07  Wednesday  \n",
       "3  Saint-Petersburg  08:37:09     Monday  \n",
       "4            Moscow  08:34:34     Monday  \n",
       "5  Saint-Petersburg  13:09:41     Friday  \n",
       "6            Moscow  13:00:07  Wednesday  \n",
       "7            Moscow  20:47:49  Wednesday  \n",
       "8            Moscow  09:17:40     Friday  \n",
       "9  Saint-Petersburg  21:20:49  Wednesday  "
      ]
     },
     "execution_count": 3,
     "metadata": {},
     "output_type": "execute_result"
    }
   ],
   "source": [
    "# получение первых 10 строк таблицы df\n",
    "df.head(10)"
   ]
  },
  {
   "cell_type": "code",
   "execution_count": 4,
   "metadata": {
    "id": "DSf2kIb-_Zct"
   },
   "outputs": [
    {
     "name": "stdout",
     "output_type": "stream",
     "text": [
      "<class 'pandas.core.frame.DataFrame'>\n",
      "RangeIndex: 65079 entries, 0 to 65078\n",
      "Data columns (total 7 columns):\n",
      " #   Column    Non-Null Count  Dtype \n",
      "---  ------    --------------  ----- \n",
      " 0     userID  65079 non-null  object\n",
      " 1   Track     63848 non-null  object\n",
      " 2   artist    57876 non-null  object\n",
      " 3   genre     63881 non-null  object\n",
      " 4     City    65079 non-null  object\n",
      " 5   time      65079 non-null  object\n",
      " 6   Day       65079 non-null  object\n",
      "dtypes: object(7)\n",
      "memory usage: 3.5+ MB\n"
     ]
    }
   ],
   "source": [
    "# получение общей информации о данных в таблице df\n",
    "df.info()"
   ]
  },
  {
   "cell_type": "markdown",
   "metadata": {
    "id": "TaQ2Iwbr_Zct"
   },
   "source": [
    "Итак, в таблице семь столбцов. Тип данных во всех столбцах — `object`.\n",
    "\n",
    "Разберемся с наполнением столбцов:\n",
    "* `userID` — идентификатор пользователя;\n",
    "* `Track` — название трека;  \n",
    "* `artist` — имя исполнителя;\n",
    "* `genre` — название жанра;\n",
    "* `City` — город пользователя;\n",
    "* `time` — время начала прослушивания;\n",
    "* `Day` — день недели.\n",
    "\n",
    "В названиях столбцов видны три нарушения стиля:\n",
    "1. Строчные буквы сочетаются с прописными.\n",
    "2. Встречаются пробелы.\n",
    "3. Не все названия столбцов являются информативными. Так, `City` можно было назвать `user_from_city`, `time` - `listening_start_time`, `Day` - `day_of_the_week`, `Track` - `track_name` (аналогично можно и для `artist` и `genre`, но тут все понятно).\n",
    "\n",
    "Количество значений в столбцах различается. Значит, в данных есть пропущенные значения."
   ]
  },
  {
   "cell_type": "markdown",
   "metadata": {
    "id": "MCB6-dXG_Zct"
   },
   "source": [
    "**Выводы**\n",
    "\n",
    "В каждой строке таблицы — данные о прослушанном треке. Часть колонок описывает саму композицию: название, исполнителя и жанр. Остальные данные рассказывают о пользователе: из какого он города, когда он слушал музыку. \n",
    "\n",
    "Предварительно можно утверждать, что данных достаточно для проверки гипотез. Но встречаются пропуски в данных, а в названиях колонок — расхождения с хорошим стилем.\n",
    "\n",
    "Чтобы двигаться дальше, нужно устранить проблемы в данных."
   ]
  },
  {
   "cell_type": "markdown",
   "metadata": {
    "id": "SjYF6Ub9_Zct"
   },
   "source": [
    "## Предобработка данных"
   ]
  },
  {
   "cell_type": "markdown",
   "metadata": {
    "id": "dIaKXr29_Zct"
   },
   "source": [
    "### Стиль заголовков"
   ]
  },
  {
   "cell_type": "code",
   "execution_count": 5,
   "metadata": {
    "id": "oKOTdF_Q_Zct"
   },
   "outputs": [
    {
     "data": {
      "text/plain": [
       "Index(['  userID', 'Track', 'artist', 'genre', '  City  ', 'time', 'Day'], dtype='object')"
      ]
     },
     "execution_count": 5,
     "metadata": {},
     "output_type": "execute_result"
    }
   ],
   "source": [
    "# перечень названий столбцов таблицы df\n",
    "df.columns"
   ]
  },
  {
   "cell_type": "code",
   "execution_count": 6,
   "metadata": {
    "id": "ISlFqs5y_Zct"
   },
   "outputs": [],
   "source": [
    "# переименование столбцов соответствие с хорошим стилем\n",
    "df = df.rename(columns={'  userID': 'userID', 'Track': 'track', '  City  ':'city', 'Day': 'day'})"
   ]
  },
  {
   "cell_type": "code",
   "execution_count": 7,
   "metadata": {
    "id": "d4NOAmTW_Zct"
   },
   "outputs": [
    {
     "data": {
      "text/plain": [
       "Index(['userID', 'track', 'artist', 'genre', 'city', 'time', 'day'], dtype='object')"
      ]
     },
     "execution_count": 7,
     "metadata": {},
     "output_type": "execute_result"
    }
   ],
   "source": [
    "# проверка результатов - перечень названий столбцов\n",
    "df.columns"
   ]
  },
  {
   "cell_type": "markdown",
   "metadata": {
    "id": "5ISfbcfY_Zct"
   },
   "source": [
    "### Пропуски значений"
   ]
  },
  {
   "cell_type": "code",
   "execution_count": 8,
   "metadata": {
    "id": "RskX29qr_Zct"
   },
   "outputs": [
    {
     "data": {
      "text/plain": [
       "userID       0\n",
       "track     1231\n",
       "artist    7203\n",
       "genre     1198\n",
       "city         0\n",
       "time         0\n",
       "day          0\n",
       "dtype: int64"
      ]
     },
     "execution_count": 8,
     "metadata": {},
     "output_type": "execute_result"
    }
   ],
   "source": [
    "# подсчёт пропусков\n",
    "df.isna().sum()"
   ]
  },
  {
   "cell_type": "code",
   "execution_count": 9,
   "metadata": {
    "id": "KplB5qWs_Zct"
   },
   "outputs": [],
   "source": [
    "# перебор названий столбцов в цикле и замена пропущенных значений на 'unknown'\n",
    "columns_to_replace = [\"track\", \"artist\", \"genre\"]\n",
    "for row in df:\n",
    "    df[columns_to_replace] = df[columns_to_replace].fillna('unknown') "
   ]
  },
  {
   "cell_type": "code",
   "execution_count": 10,
   "metadata": {
    "id": "Tq4nYRX4_Zct"
   },
   "outputs": [
    {
     "data": {
      "text/plain": [
       "userID    0\n",
       "track     0\n",
       "artist    0\n",
       "genre     0\n",
       "city      0\n",
       "time      0\n",
       "day       0\n",
       "dtype: int64"
      ]
     },
     "metadata": {},
     "output_type": "display_data"
    }
   ],
   "source": [
    "# подсчёт пропусков\n",
    "display(df.isna().sum())"
   ]
  },
  {
   "cell_type": "markdown",
   "metadata": {
    "id": "BWKRtBJ3_Zct"
   },
   "source": [
    "### Дубликаты"
   ]
  },
  {
   "cell_type": "code",
   "execution_count": 11,
   "metadata": {
    "id": "36eES_S0_Zct"
   },
   "outputs": [
    {
     "data": {
      "text/plain": [
       "3826"
      ]
     },
     "execution_count": 11,
     "metadata": {},
     "output_type": "execute_result"
    }
   ],
   "source": [
    "# подсчёт явных дубликатов\n",
    "df.duplicated().sum()"
   ]
  },
  {
   "cell_type": "code",
   "execution_count": 12,
   "metadata": {
    "id": "exFHq6tt_Zct"
   },
   "outputs": [],
   "source": [
    "# удаление явных дубликатов (с удалением старых индексов и формированием новых)\n",
    "df = df.drop_duplicates().reset_index(drop=True)"
   ]
  },
  {
   "cell_type": "code",
   "execution_count": 13,
   "metadata": {
    "id": "-8PuNWQ0_Zct"
   },
   "outputs": [
    {
     "data": {
      "text/plain": [
       "0"
      ]
     },
     "execution_count": 13,
     "metadata": {},
     "output_type": "execute_result"
    }
   ],
   "source": [
    "# проверка на отсутствие дубликатов\n",
    "df.duplicated().sum()"
   ]
  },
  {
   "cell_type": "code",
   "execution_count": 14,
   "metadata": {
    "id": "JIUcqzZN_Zct"
   },
   "outputs": [
    {
     "data": {
      "text/plain": [
       "array(['acid', 'acoustic', 'action', 'adult', 'africa', 'afrikaans',\n",
       "       'alternative', 'alternativepunk', 'ambient', 'americana',\n",
       "       'animated', 'anime', 'arabesk', 'arabic', 'arena',\n",
       "       'argentinetango', 'art', 'audiobook', 'author', 'avantgarde',\n",
       "       'axé', 'baile', 'balkan', 'beats', 'bigroom', 'black', 'bluegrass',\n",
       "       'blues', 'bollywood', 'bossa', 'brazilian', 'breakbeat', 'breaks',\n",
       "       'broadway', 'cantautori', 'cantopop', 'canzone', 'caribbean',\n",
       "       'caucasian', 'celtic', 'chamber', 'chanson', 'children', 'chill',\n",
       "       'chinese', 'choral', 'christian', 'christmas', 'classical',\n",
       "       'classicmetal', 'club', 'colombian', 'comedy', 'conjazz',\n",
       "       'contemporary', 'country', 'cuban', 'dance', 'dancehall',\n",
       "       'dancepop', 'dark', 'death', 'deep', 'deutschrock', 'deutschspr',\n",
       "       'dirty', 'disco', 'dnb', 'documentary', 'downbeat', 'downtempo',\n",
       "       'drum', 'dub', 'dubstep', 'eastern', 'easy', 'electronic',\n",
       "       'electropop', 'emo', 'entehno', 'epicmetal', 'estrada', 'ethnic',\n",
       "       'eurofolk', 'european', 'experimental', 'extrememetal', 'fado',\n",
       "       'fairytail', 'film', 'fitness', 'flamenco', 'folk', 'folklore',\n",
       "       'folkmetal', 'folkrock', 'folktronica', 'forró', 'frankreich',\n",
       "       'französisch', 'french', 'funk', 'future', 'gangsta', 'garage',\n",
       "       'german', 'ghazal', 'gitarre', 'glitch', 'gospel', 'gothic',\n",
       "       'grime', 'grunge', 'gypsy', 'handsup', \"hard'n'heavy\", 'hardcore',\n",
       "       'hardstyle', 'hardtechno', 'hip', 'hip-hop', 'hiphop',\n",
       "       'historisch', 'holiday', 'hop', 'horror', 'house', 'hymn', 'idm',\n",
       "       'independent', 'indian', 'indie', 'indipop', 'industrial',\n",
       "       'inspirational', 'instrumental', 'international', 'irish', 'jam',\n",
       "       'japanese', 'jazz', 'jewish', 'jpop', 'jungle', 'k-pop',\n",
       "       'karadeniz', 'karaoke', 'kayokyoku', 'korean', 'laiko', 'latin',\n",
       "       'latino', 'leftfield', 'local', 'lounge', 'loungeelectronic',\n",
       "       'lovers', 'malaysian', 'mandopop', 'marschmusik', 'meditative',\n",
       "       'mediterranean', 'melodic', 'metal', 'metalcore', 'mexican',\n",
       "       'middle', 'minimal', 'miscellaneous', 'modern', 'mood', 'mpb',\n",
       "       'muslim', 'native', 'neoklassik', 'neue', 'new', 'newage',\n",
       "       'newwave', 'nu', 'nujazz', 'numetal', 'oceania', 'old', 'opera',\n",
       "       'orchestral', 'other', 'piano', 'podcasts', 'pop', 'popdance',\n",
       "       'popelectronic', 'popeurodance', 'poprussian', 'post',\n",
       "       'posthardcore', 'postrock', 'power', 'progmetal', 'progressive',\n",
       "       'psychedelic', 'punjabi', 'punk', 'quebecois', 'ragga', 'ram',\n",
       "       'rancheras', 'rap', 'rave', 'reggae', 'reggaeton', 'regional',\n",
       "       'relax', 'religious', 'retro', 'rhythm', 'rnb', 'rnr', 'rock',\n",
       "       'rockabilly', 'rockalternative', 'rockindie', 'rockother',\n",
       "       'romance', 'roots', 'ruspop', 'rusrap', 'rusrock', 'russian',\n",
       "       'salsa', 'samba', 'scenic', 'schlager', 'self', 'sertanejo',\n",
       "       'shanson', 'shoegazing', 'showtunes', 'singer', 'ska', 'skarock',\n",
       "       'slow', 'smooth', 'soft', 'soul', 'soulful', 'sound', 'soundtrack',\n",
       "       'southern', 'specialty', 'speech', 'spiritual', 'sport',\n",
       "       'stonerrock', 'surf', 'swing', 'synthpop', 'synthrock',\n",
       "       'sängerportrait', 'tango', 'tanzorchester', 'taraftar', 'tatar',\n",
       "       'tech', 'techno', 'teen', 'thrash', 'top', 'traditional',\n",
       "       'tradjazz', 'trance', 'tribal', 'trip', 'triphop', 'tropical',\n",
       "       'türk', 'türkçe', 'ukrrock', 'unknown', 'urban', 'uzbek',\n",
       "       'variété', 'vi', 'videogame', 'vocal', 'western', 'world',\n",
       "       'worldbeat', 'ïîï', 'электроника'], dtype=object)"
      ]
     },
     "execution_count": 14,
     "metadata": {},
     "output_type": "execute_result"
    }
   ],
   "source": [
    "# Просмотр уникальных названий жанров\n",
    "df['genre'].sort_values().unique()\n"
   ]
  },
  {
   "cell_type": "code",
   "execution_count": 15,
   "metadata": {
    "id": "ErNDkmns_Zct"
   },
   "outputs": [],
   "source": [
    "# Функция для замены неявных дубликатов\n",
    "def replace_wrong_genres(wrong_genres, correct_genre):\n",
    "        df[\"genre\"] = df[\"genre\"].replace(wrong_genres, correct_genre)\n",
    "        return df[\"genre\"]\n"
   ]
  },
  {
   "cell_type": "code",
   "execution_count": 16,
   "metadata": {
    "id": "YN5i2hpmSo09"
   },
   "outputs": [
    {
     "data": {
      "text/plain": [
       "0              rock\n",
       "1              rock\n",
       "2               pop\n",
       "3              folk\n",
       "4             dance\n",
       "            ...    \n",
       "61248           rnb\n",
       "61249        hiphop\n",
       "61250    industrial\n",
       "61251          rock\n",
       "61252       country\n",
       "Name: genre, Length: 61253, dtype: object"
      ]
     },
     "execution_count": 16,
     "metadata": {},
     "output_type": "execute_result"
    }
   ],
   "source": [
    "# Устранение неявных дубликатов\n",
    "replace_wrong_genres([\"hip\", \"hop\", \"hip-hop\"], \"hiphop\")"
   ]
  },
  {
   "cell_type": "code",
   "execution_count": 17,
   "metadata": {
    "id": "wvixALnFG15m"
   },
   "outputs": [
    {
     "data": {
      "text/plain": [
       "array(['acid', 'acoustic', 'action', 'adult', 'africa', 'afrikaans',\n",
       "       'alternative', 'alternativepunk', 'ambient', 'americana',\n",
       "       'animated', 'anime', 'arabesk', 'arabic', 'arena',\n",
       "       'argentinetango', 'art', 'audiobook', 'author', 'avantgarde',\n",
       "       'axé', 'baile', 'balkan', 'beats', 'bigroom', 'black', 'bluegrass',\n",
       "       'blues', 'bollywood', 'bossa', 'brazilian', 'breakbeat', 'breaks',\n",
       "       'broadway', 'cantautori', 'cantopop', 'canzone', 'caribbean',\n",
       "       'caucasian', 'celtic', 'chamber', 'chanson', 'children', 'chill',\n",
       "       'chinese', 'choral', 'christian', 'christmas', 'classical',\n",
       "       'classicmetal', 'club', 'colombian', 'comedy', 'conjazz',\n",
       "       'contemporary', 'country', 'cuban', 'dance', 'dancehall',\n",
       "       'dancepop', 'dark', 'death', 'deep', 'deutschrock', 'deutschspr',\n",
       "       'dirty', 'disco', 'dnb', 'documentary', 'downbeat', 'downtempo',\n",
       "       'drum', 'dub', 'dubstep', 'eastern', 'easy', 'electronic',\n",
       "       'electropop', 'emo', 'entehno', 'epicmetal', 'estrada', 'ethnic',\n",
       "       'eurofolk', 'european', 'experimental', 'extrememetal', 'fado',\n",
       "       'fairytail', 'film', 'fitness', 'flamenco', 'folk', 'folklore',\n",
       "       'folkmetal', 'folkrock', 'folktronica', 'forró', 'frankreich',\n",
       "       'französisch', 'french', 'funk', 'future', 'gangsta', 'garage',\n",
       "       'german', 'ghazal', 'gitarre', 'glitch', 'gospel', 'gothic',\n",
       "       'grime', 'grunge', 'gypsy', 'handsup', \"hard'n'heavy\", 'hardcore',\n",
       "       'hardstyle', 'hardtechno', 'hiphop', 'historisch', 'holiday',\n",
       "       'horror', 'house', 'hymn', 'idm', 'independent', 'indian', 'indie',\n",
       "       'indipop', 'industrial', 'inspirational', 'instrumental',\n",
       "       'international', 'irish', 'jam', 'japanese', 'jazz', 'jewish',\n",
       "       'jpop', 'jungle', 'k-pop', 'karadeniz', 'karaoke', 'kayokyoku',\n",
       "       'korean', 'laiko', 'latin', 'latino', 'leftfield', 'local',\n",
       "       'lounge', 'loungeelectronic', 'lovers', 'malaysian', 'mandopop',\n",
       "       'marschmusik', 'meditative', 'mediterranean', 'melodic', 'metal',\n",
       "       'metalcore', 'mexican', 'middle', 'minimal', 'miscellaneous',\n",
       "       'modern', 'mood', 'mpb', 'muslim', 'native', 'neoklassik', 'neue',\n",
       "       'new', 'newage', 'newwave', 'nu', 'nujazz', 'numetal', 'oceania',\n",
       "       'old', 'opera', 'orchestral', 'other', 'piano', 'podcasts', 'pop',\n",
       "       'popdance', 'popelectronic', 'popeurodance', 'poprussian', 'post',\n",
       "       'posthardcore', 'postrock', 'power', 'progmetal', 'progressive',\n",
       "       'psychedelic', 'punjabi', 'punk', 'quebecois', 'ragga', 'ram',\n",
       "       'rancheras', 'rap', 'rave', 'reggae', 'reggaeton', 'regional',\n",
       "       'relax', 'religious', 'retro', 'rhythm', 'rnb', 'rnr', 'rock',\n",
       "       'rockabilly', 'rockalternative', 'rockindie', 'rockother',\n",
       "       'romance', 'roots', 'ruspop', 'rusrap', 'rusrock', 'russian',\n",
       "       'salsa', 'samba', 'scenic', 'schlager', 'self', 'sertanejo',\n",
       "       'shanson', 'shoegazing', 'showtunes', 'singer', 'ska', 'skarock',\n",
       "       'slow', 'smooth', 'soft', 'soul', 'soulful', 'sound', 'soundtrack',\n",
       "       'southern', 'specialty', 'speech', 'spiritual', 'sport',\n",
       "       'stonerrock', 'surf', 'swing', 'synthpop', 'synthrock',\n",
       "       'sängerportrait', 'tango', 'tanzorchester', 'taraftar', 'tatar',\n",
       "       'tech', 'techno', 'teen', 'thrash', 'top', 'traditional',\n",
       "       'tradjazz', 'trance', 'tribal', 'trip', 'triphop', 'tropical',\n",
       "       'türk', 'türkçe', 'ukrrock', 'unknown', 'urban', 'uzbek',\n",
       "       'variété', 'vi', 'videogame', 'vocal', 'western', 'world',\n",
       "       'worldbeat', 'ïîï', 'электроника'], dtype=object)"
      ]
     },
     "execution_count": 17,
     "metadata": {},
     "output_type": "execute_result"
    }
   ],
   "source": [
    "# Проверка на неявные дубликаты\n",
    "df['genre'].sort_values().unique()"
   ]
  },
  {
   "cell_type": "markdown",
   "metadata": {
    "id": "jz6a9-7HQUDd"
   },
   "source": [
    "**Выводы**\n",
    "\n",
    "Предобработка обнаружила три проблемы в данных:\n",
    "\n",
    "- нарушения в стиле заголовков,\n",
    "- пропущенные значения,\n",
    "- дубликаты — явные и неявные.\n",
    "\n",
    "Мы исправили заголовки, чтобы упростить работу с таблицей: без дубликатов исследование станет более точным.\n",
    "\n",
    "Пропущенные значения мы заменили на `'unknown'`. Ещё предстоит увидеть, не повредят ли исследованию пропуски в колонке `genre`.\n",
    "\n",
    "Теперь можно перейти к проверке гипотез. "
   ]
  },
  {
   "cell_type": "markdown",
   "metadata": {
    "id": "WttZHXH0SqKk"
   },
   "source": [
    "## Проверка гипотез"
   ]
  },
  {
   "cell_type": "markdown",
   "metadata": {
    "id": "Im936VVi_Zcu"
   },
   "source": [
    "### Сравнение поведения пользователей двух столиц"
   ]
  },
  {
   "cell_type": "markdown",
   "metadata": {
    "id": "nwt_MuaL_Zcu"
   },
   "source": [
    "Первая гипотеза утверждает, что пользователи по-разному слушают музыку в Москве и Санкт-Петербурге. Проверим это предположение по данным о трёх днях недели — понедельнике, среде и пятнице. Для этого:\n",
    "\n",
    "* Разделим пользователей Москвы и Санкт-Петербурга\n",
    "* Сравним, сколько треков послушала каждая группа пользователей в понедельник, среду и пятницу."
   ]
  },
  {
   "cell_type": "code",
   "execution_count": 18,
   "metadata": {
    "id": "0_Qs96oh_Zcu"
   },
   "outputs": [
    {
     "data": {
      "text/plain": [
       "city\n",
       "Moscow              42741\n",
       "Saint-Petersburg    18512\n",
       "Name: track, dtype: int64"
      ]
     },
     "execution_count": 18,
     "metadata": {},
     "output_type": "execute_result"
    }
   ],
   "source": [
    "# Подсчёт прослушиваний в каждом городе\n",
    "df.groupby(\"city\")[\"track\"].count()"
   ]
  },
  {
   "cell_type": "markdown",
   "metadata": {
    "id": "dzli3w8o_Zcu"
   },
   "source": [
    "В Москве прослушиваний больше, чем в Петербурге. Из этого не следует, что московские пользователи чаще слушают музыку. Просто самих пользователей в Москве больше.\n",
    "\n",
    "Теперь сгруппируем данные по дню недели и подсчитаем прослушивания в понедельник, среду и пятницу. Учтем, что в данных есть информация только о прослушиваниях только за эти дни."
   ]
  },
  {
   "cell_type": "code",
   "execution_count": 19,
   "metadata": {
    "id": "uZMKjiJz_Zcu"
   },
   "outputs": [
    {
     "data": {
      "text/plain": [
       "day\n",
       "Friday       21840\n",
       "Monday       21354\n",
       "Wednesday    18059\n",
       "Name: track, dtype: int64"
      ]
     },
     "execution_count": 19,
     "metadata": {},
     "output_type": "execute_result"
    }
   ],
   "source": [
    "# Подсчёт прослушиваний в каждый из трёх дней\n",
    "df.groupby(\"day\")[\"track\"].count()"
   ]
  },
  {
   "cell_type": "markdown",
   "metadata": {
    "id": "cC2tNrlL_Zcu"
   },
   "source": [
    "В среднем пользователи из двух городов менее активны по средам. Но картина может измениться, если рассмотреть каждый город в отдельности."
   ]
  },
  {
   "cell_type": "code",
   "execution_count": 20,
   "metadata": {
    "id": "Nz3GdQB1_Zcu"
   },
   "outputs": [],
   "source": [
    "# Функция для подсчёта прослушиваний для конкретного города и дня.\n",
    "# С помощью последовательной фильтрации с логической индексацией она \n",
    "# сначала получит из исходной таблицы строки с нужным днём,\n",
    "# затем из результата отфильтрует строки с нужным городом,\n",
    "# методом count() посчитает количество значений в колонке user_id. \n",
    "# Это количество функция вернёт в качестве результата\n",
    "def number_tracks(day, city):\n",
    "    track_list = df[df['day'] == day]\n",
    "    track_list = track_list[track_list['city'] == city]\n",
    "    track_list_count = track_list[\"userID\"].count()\n",
    "    return track_list_count"
   ]
  },
  {
   "cell_type": "code",
   "execution_count": 21,
   "metadata": {
    "id": "rJcRATNQ_Zcu"
   },
   "outputs": [
    {
     "data": {
      "text/plain": [
       "15740"
      ]
     },
     "execution_count": 21,
     "metadata": {},
     "output_type": "execute_result"
    }
   ],
   "source": [
    "# количество прослушиваний в Москве по понедельникам\n",
    "number_tracks(\"Monday\", \"Moscow\")"
   ]
  },
  {
   "cell_type": "code",
   "execution_count": 22,
   "metadata": {
    "id": "hq_ncZ5T_Zcu"
   },
   "outputs": [
    {
     "data": {
      "text/plain": [
       "5614"
      ]
     },
     "execution_count": 22,
     "metadata": {},
     "output_type": "execute_result"
    }
   ],
   "source": [
    "# количество прослушиваний в Санкт-Петербурге по понедельникам\n",
    "number_tracks(\"Monday\", \"Saint-Petersburg\")"
   ]
  },
  {
   "cell_type": "code",
   "execution_count": 23,
   "metadata": {
    "id": "_NTy2VPU_Zcu"
   },
   "outputs": [
    {
     "data": {
      "text/plain": [
       "11056"
      ]
     },
     "execution_count": 23,
     "metadata": {},
     "output_type": "execute_result"
    }
   ],
   "source": [
    "# количество прослушиваний в Москве по средам\n",
    "number_tracks(\"Wednesday\", \"Moscow\")"
   ]
  },
  {
   "cell_type": "code",
   "execution_count": 24,
   "metadata": {
    "id": "j2y3TAwo_Zcu"
   },
   "outputs": [
    {
     "data": {
      "text/plain": [
       "7003"
      ]
     },
     "execution_count": 24,
     "metadata": {},
     "output_type": "execute_result"
    }
   ],
   "source": [
    "# количество прослушиваний в Санкт-Петербурге по средам\n",
    "number_tracks(\"Wednesday\", \"Saint-Petersburg\")"
   ]
  },
  {
   "cell_type": "code",
   "execution_count": 25,
   "metadata": {
    "id": "vYDw5u_K_Zcu"
   },
   "outputs": [
    {
     "data": {
      "text/plain": [
       "15945"
      ]
     },
     "execution_count": 25,
     "metadata": {},
     "output_type": "execute_result"
    }
   ],
   "source": [
    "# количество прослушиваний в Москве по пятницам\n",
    "number_tracks(\"Friday\", \"Moscow\")"
   ]
  },
  {
   "cell_type": "code",
   "execution_count": 26,
   "metadata": {
    "id": "8_yzFtW3_Zcu"
   },
   "outputs": [
    {
     "data": {
      "text/plain": [
       "5895"
      ]
     },
     "execution_count": 26,
     "metadata": {},
     "output_type": "execute_result"
    }
   ],
   "source": [
    "# количество прослушиваний в Санкт-Петербурге по пятницам\n",
    "number_tracks(\"Friday\", \"Saint-Petersburg\")"
   ]
  },
  {
   "cell_type": "code",
   "execution_count": 27,
   "metadata": {
    "id": "APAcLpOr_Zcu"
   },
   "outputs": [
    {
     "data": {
      "text/html": [
       "<div>\n",
       "<style scoped>\n",
       "    .dataframe tbody tr th:only-of-type {\n",
       "        vertical-align: middle;\n",
       "    }\n",
       "\n",
       "    .dataframe tbody tr th {\n",
       "        vertical-align: top;\n",
       "    }\n",
       "\n",
       "    .dataframe thead th {\n",
       "        text-align: right;\n",
       "    }\n",
       "</style>\n",
       "<table border=\"1\" class=\"dataframe\">\n",
       "  <thead>\n",
       "    <tr style=\"text-align: right;\">\n",
       "      <th></th>\n",
       "      <th>city</th>\n",
       "      <th>monday</th>\n",
       "      <th>wednesday</th>\n",
       "      <th>friday</th>\n",
       "    </tr>\n",
       "  </thead>\n",
       "  <tbody>\n",
       "    <tr>\n",
       "      <th>0</th>\n",
       "      <td>Москва</td>\n",
       "      <td>15740</td>\n",
       "      <td>11056</td>\n",
       "      <td>15945</td>\n",
       "    </tr>\n",
       "    <tr>\n",
       "      <th>1</th>\n",
       "      <td>Санкт-Петербург</td>\n",
       "      <td>5614</td>\n",
       "      <td>7003</td>\n",
       "      <td>5895</td>\n",
       "    </tr>\n",
       "  </tbody>\n",
       "</table>\n",
       "</div>"
      ],
      "text/plain": [
       "              city  monday  wednesday  friday\n",
       "0           Москва   15740      11056   15945\n",
       "1  Санкт-Петербург    5614       7003    5895"
      ]
     },
     "execution_count": 27,
     "metadata": {},
     "output_type": "execute_result"
    }
   ],
   "source": [
    "# Таблица с результатами\n",
    "pd.DataFrame(data=[['Москва', 15740, 11056, 15945], ['Санкт-Петербург', 5614, 7003, 5895]], columns=['city', 'monday', 'wednesday', 'friday'])"
   ]
  },
  {
   "cell_type": "markdown",
   "metadata": {
    "id": "-EgPIHYu_Zcu"
   },
   "source": [
    "**Выводы**\n",
    "\n",
    "Данные показывают разницу поведения пользователей:\n",
    "\n",
    "- В Москве пик прослушиваний приходится на понедельник и пятницу, а в среду заметен спад.\n",
    "- В Петербурге, наоборот, больше слушают музыку по средам. Активность в понедельник и пятницу здесь почти в равной мере уступает среде.\n",
    "\n",
    "Значит, данные говорят в пользу первой гипотезы."
   ]
  },
  {
   "cell_type": "markdown",
   "metadata": {
    "id": "atZAxtq4_Zcu"
   },
   "source": [
    "### Музыка в начале и в конце недели"
   ]
  },
  {
   "cell_type": "markdown",
   "metadata": {
    "id": "eXrQqXFH_Zcu"
   },
   "source": [
    "Согласно второй гипотезе, утром в понедельник в Москве преобладают одни жанры, а в Петербурге — другие. Так же и вечером пятницы преобладают разные жанры — в зависимости от города."
   ]
  },
  {
   "cell_type": "code",
   "execution_count": 28,
   "metadata": {
    "id": "qeaFfM_P_Zcu"
   },
   "outputs": [],
   "source": [
    "# получение таблицы moscow_general из тех строк таблицы df, \n",
    "# для которых значение в столбце 'city' равно 'Moscow'\n",
    "moscow_general = df[df['city']=='Moscow']"
   ]
  },
  {
   "cell_type": "code",
   "execution_count": 29,
   "metadata": {
    "id": "ORaVRKto_Zcu"
   },
   "outputs": [],
   "source": [
    "# получение таблицы spb_general из тех строк таблицы df,\n",
    "# для которых значение в столбце 'city' равно 'Saint-Petersburg'\n",
    "spb_general = df[df['city']=='Saint-Petersburg']"
   ]
  },
  {
   "cell_type": "code",
   "execution_count": 30,
   "metadata": {},
   "outputs": [],
   "source": [
    "def genre_weekday(df, day, time1, time2):\n",
    "    # последовательная фильтрация: оставляем в genre_df только те строки df, у которых день равен day\n",
    "    genre_df = df[df['day'] == day]\n",
    "    # оставляем в genre_df только те строки genre_df, у которых время меньше time2\n",
    "    genre_df = genre_df[genre_df['time'] < time2]\n",
    "    # оставляем в genre_df только те строки genre_df, у которых время больше time1\n",
    "    genre_df = genre_df[genre_df['time'] > time1]\n",
    "    # сгруппируем отфильтрованный датафрейм по столбцу с названиями жанров, возьмём столбец genre_name и посчитаем кол-во строк для каждого жанра методом count()\n",
    "    genre_df_grouped = genre_df.groupby('genre')['genre'].count()\n",
    "    # отсортируем результат по убыванию (чтобы в начале Series оказались самые популярные жанры)\n",
    "    genre_df_sorted = genre_df_grouped.sort_values(ascending=False)\n",
    "    # вернём Series с 10 самыми популярными жанрами в указанный отрезок времени заданного дня\n",
    "    return genre_df_sorted[:10]"
   ]
  },
  {
   "cell_type": "markdown",
   "metadata": {
    "id": "la2s2_PF_Zcu"
   },
   "source": [
    "Cравним результаты функции `genre_weekday()` для Москвы и Санкт-Петербурга в понедельник утром (с 7:00 до 11:00) и в пятницу вечером (с 17:00 до 23:00):"
   ]
  },
  {
   "cell_type": "code",
   "execution_count": 31,
   "metadata": {
    "id": "yz7itPUQ_Zcu"
   },
   "outputs": [
    {
     "data": {
      "text/plain": [
       "genre\n",
       "pop            781\n",
       "dance          549\n",
       "electronic     480\n",
       "rock           474\n",
       "hiphop         286\n",
       "ruspop         186\n",
       "world          181\n",
       "rusrap         175\n",
       "alternative    164\n",
       "unknown        161\n",
       "Name: genre, dtype: int64"
      ]
     },
     "execution_count": 31,
     "metadata": {},
     "output_type": "execute_result"
    }
   ],
   "source": [
    "# вызов функции для утра понедельника в Москве\n",
    "genre_weekday(moscow_general, 'Monday', '07:00', '11:00')"
   ]
  },
  {
   "cell_type": "code",
   "execution_count": 32,
   "metadata": {
    "id": "kwUcHPdy_Zcu"
   },
   "outputs": [
    {
     "data": {
      "text/plain": [
       "genre\n",
       "pop            218\n",
       "dance          182\n",
       "rock           162\n",
       "electronic     147\n",
       "hiphop          80\n",
       "ruspop          64\n",
       "alternative     58\n",
       "rusrap          55\n",
       "jazz            44\n",
       "classical       40\n",
       "Name: genre, dtype: int64"
      ]
     },
     "execution_count": 32,
     "metadata": {},
     "output_type": "execute_result"
    }
   ],
   "source": [
    "# вызов функции для утра понедельника в Петербурге\n",
    "genre_weekday(spb_general, 'Monday', '07:00', '11:00')"
   ]
  },
  {
   "cell_type": "code",
   "execution_count": 33,
   "metadata": {
    "id": "EzXVRE1o_Zcu"
   },
   "outputs": [
    {
     "data": {
      "text/plain": [
       "genre\n",
       "pop            713\n",
       "rock           517\n",
       "dance          495\n",
       "electronic     482\n",
       "hiphop         273\n",
       "world          208\n",
       "ruspop         170\n",
       "alternative    163\n",
       "classical      163\n",
       "rusrap         142\n",
       "Name: genre, dtype: int64"
      ]
     },
     "execution_count": 33,
     "metadata": {},
     "output_type": "execute_result"
    }
   ],
   "source": [
    "# вызов функции для вечера пятницы в Москве\n",
    "genre_weekday(moscow_general, 'Friday', '17:00', '23:00')"
   ]
  },
  {
   "cell_type": "code",
   "execution_count": 34,
   "metadata": {
    "id": "JZaEKu5v_Zcu"
   },
   "outputs": [
    {
     "data": {
      "text/plain": [
       "genre\n",
       "pop            256\n",
       "electronic     216\n",
       "rock           216\n",
       "dance          210\n",
       "hiphop          97\n",
       "alternative     63\n",
       "jazz            61\n",
       "classical       60\n",
       "rusrap          59\n",
       "world           54\n",
       "Name: genre, dtype: int64"
      ]
     },
     "execution_count": 34,
     "metadata": {},
     "output_type": "execute_result"
    }
   ],
   "source": [
    "# вызов функции для вечера пятницы в Петербурге\n",
    "genre_weekday(spb_general, 'Friday', '17:00', '23:00')"
   ]
  },
  {
   "cell_type": "markdown",
   "metadata": {
    "id": "wrCe4MNX_Zcu"
   },
   "source": [
    "**Выводы**\n",
    "\n",
    "Если сравнить топ-10 жанров в понедельник утром, можно сделать такие выводы:\n",
    "\n",
    "1. В Москве и Петербурге слушают похожую музыку. Единственное отличие — в московский рейтинг вошёл жанр “world”, а в петербургский — джаз и классика.\n",
    "\n",
    "2. В Москве пропущенных значений оказалось так много, что значение `'unknown'` заняло десятое место среди самых популярных жанров. Значит, пропущенные значения занимают существенную долю в данных и угрожают достоверности исследования.\n",
    "\n",
    "Вечер пятницы не меняет эту картину. Некоторые жанры поднимаются немного выше, другие спускаются, но в целом топ-10 остаётся тем же самым.\n",
    "\n",
    "Таким образом, вторая гипотеза подтвердилась лишь частично:\n",
    "* Пользователи слушают похожую музыку в начале недели и в конце.\n",
    "* Разница между Москвой и Петербургом не слишком выражена. В Москве чаще слушают русскую популярную музыку, в Петербурге — джаз.\n",
    "\n",
    "Однако пропуски в данных ставят под сомнение этот результат. В Москве их так много, что рейтинг топ-10 мог бы выглядеть иначе, если бы не утерянные  данные о жанрах."
   ]
  },
  {
   "cell_type": "markdown",
   "metadata": {
    "id": "JolODAqr_Zcu"
   },
   "source": [
    "### Жанровые предпочтения в Москве и Петербурге\n",
    "\n",
    "Гипотеза: Петербург — столица рэпа, музыку этого жанра там слушают чаще, чем в Москве.  А Москва — город контрастов, в котором, тем не менее, преобладает поп-музыка."
   ]
  },
  {
   "cell_type": "code",
   "execution_count": 35,
   "metadata": {
    "id": "r19lIPke_Zcu"
   },
   "outputs": [],
   "source": [
    "# группировка таблицы moscow_general по столбцу 'genre'\n",
    "moscow_genres = moscow_general.groupby('genre')['genre'].count().sort_values(ascending=False)"
   ]
  },
  {
   "cell_type": "code",
   "execution_count": 36,
   "metadata": {
    "id": "WhCSooF8_Zcv"
   },
   "outputs": [
    {
     "data": {
      "text/plain": [
       "genre\n",
       "pop            5892\n",
       "dance          4435\n",
       "rock           3965\n",
       "electronic     3786\n",
       "hiphop         2096\n",
       "classical      1616\n",
       "world          1432\n",
       "alternative    1379\n",
       "ruspop         1372\n",
       "rusrap         1161\n",
       "Name: genre, dtype: int64"
      ]
     },
     "execution_count": 36,
     "metadata": {},
     "output_type": "execute_result"
    }
   ],
   "source": [
    "# просмотр первых 10 строк moscow_genres\n",
    "moscow_genres.head(10)"
   ]
  },
  {
   "cell_type": "code",
   "execution_count": 37,
   "metadata": {
    "id": "gluLIpE7_Zcv"
   },
   "outputs": [],
   "source": [
    "# группировка таблицы spb_general по столбцу 'genre'\n",
    "spb_genres = spb_general.groupby('genre')['genre'].count().sort_values(ascending=False)"
   ]
  },
  {
   "cell_type": "code",
   "execution_count": 38,
   "metadata": {
    "id": "uaGJHjVU_Zcv"
   },
   "outputs": [
    {
     "data": {
      "text/plain": [
       "genre\n",
       "pop            2431\n",
       "dance          1932\n",
       "rock           1879\n",
       "electronic     1736\n",
       "hiphop          960\n",
       "alternative     649\n",
       "classical       646\n",
       "rusrap          564\n",
       "ruspop          538\n",
       "world           515\n",
       "Name: genre, dtype: int64"
      ]
     },
     "execution_count": 38,
     "metadata": {},
     "output_type": "execute_result"
    }
   ],
   "source": [
    "# просмотр первых 10 строк spb_genres\n",
    "spb_genres.head(10)"
   ]
  },
  {
   "cell_type": "markdown",
   "metadata": {
    "id": "RY51YJYu_Zcv"
   },
   "source": [
    "**Выводы**"
   ]
  },
  {
   "cell_type": "markdown",
   "metadata": {
    "id": "nVhnJEm__Zcv"
   },
   "source": [
    "Гипотеза частично подтвердилась:\n",
    "* Поп-музыка — самый популярный жанр в Москве, как и предполагала гипотеза. Более того, в топ-10 жанров встречается близкий жанр — русская популярная музыка.\n",
    "* Вопреки ожиданиям, рэп имеет примерно одинаковую популярность в Москве и Петербурге."
   ]
  },
  {
   "cell_type": "code",
   "execution_count": 39,
   "metadata": {},
   "outputs": [
    {
     "data": {
      "text/html": [
       "<div>\n",
       "<style scoped>\n",
       "    .dataframe tbody tr th:only-of-type {\n",
       "        vertical-align: middle;\n",
       "    }\n",
       "\n",
       "    .dataframe tbody tr th {\n",
       "        vertical-align: top;\n",
       "    }\n",
       "\n",
       "    .dataframe thead th {\n",
       "        text-align: right;\n",
       "    }\n",
       "</style>\n",
       "<table border=\"1\" class=\"dataframe\">\n",
       "  <thead>\n",
       "    <tr style=\"text-align: right;\">\n",
       "      <th></th>\n",
       "      <th>Жанр</th>\n",
       "      <th>Количество прослушиваний</th>\n",
       "      <th>% от ТОП-10</th>\n",
       "    </tr>\n",
       "  </thead>\n",
       "  <tbody>\n",
       "    <tr>\n",
       "      <th>0</th>\n",
       "      <td>pop</td>\n",
       "      <td>5892</td>\n",
       "      <td>21.7</td>\n",
       "    </tr>\n",
       "    <tr>\n",
       "      <th>1</th>\n",
       "      <td>dance</td>\n",
       "      <td>4435</td>\n",
       "      <td>16.3</td>\n",
       "    </tr>\n",
       "    <tr>\n",
       "      <th>2</th>\n",
       "      <td>rock</td>\n",
       "      <td>3965</td>\n",
       "      <td>14.6</td>\n",
       "    </tr>\n",
       "    <tr>\n",
       "      <th>3</th>\n",
       "      <td>electronic</td>\n",
       "      <td>3786</td>\n",
       "      <td>14.0</td>\n",
       "    </tr>\n",
       "    <tr>\n",
       "      <th>4</th>\n",
       "      <td>hiphop</td>\n",
       "      <td>2096</td>\n",
       "      <td>7.7</td>\n",
       "    </tr>\n",
       "    <tr>\n",
       "      <th>5</th>\n",
       "      <td>classical</td>\n",
       "      <td>1616</td>\n",
       "      <td>6.0</td>\n",
       "    </tr>\n",
       "    <tr>\n",
       "      <th>6</th>\n",
       "      <td>word</td>\n",
       "      <td>1432</td>\n",
       "      <td>5.3</td>\n",
       "    </tr>\n",
       "    <tr>\n",
       "      <th>7</th>\n",
       "      <td>alternative</td>\n",
       "      <td>1379</td>\n",
       "      <td>5.1</td>\n",
       "    </tr>\n",
       "    <tr>\n",
       "      <th>8</th>\n",
       "      <td>ruspop</td>\n",
       "      <td>1372</td>\n",
       "      <td>5.1</td>\n",
       "    </tr>\n",
       "    <tr>\n",
       "      <th>9</th>\n",
       "      <td>rusrap</td>\n",
       "      <td>1161</td>\n",
       "      <td>4.3</td>\n",
       "    </tr>\n",
       "  </tbody>\n",
       "</table>\n",
       "</div>"
      ],
      "text/plain": [
       "          Жанр  Количество прослушиваний  % от ТОП-10\n",
       "0          pop                      5892         21.7\n",
       "1        dance                      4435         16.3\n",
       "2         rock                      3965         14.6\n",
       "3   electronic                      3786         14.0\n",
       "4       hiphop                      2096          7.7\n",
       "5    classical                      1616          6.0\n",
       "6         word                      1432          5.3\n",
       "7  alternative                      1379          5.1\n",
       "8       ruspop                      1372          5.1\n",
       "9       rusrap                      1161          4.3"
      ]
     },
     "execution_count": 39,
     "metadata": {},
     "output_type": "execute_result"
    }
   ],
   "source": [
    "pd.DataFrame(data=[['pop', 5892, 21.7], ['dance', 4435, 16.3], ['rock', 3965, 14.6], ['electronic', 3786, 14.0], ['hiphop', 2096, 7.7],['classical', 1616, 6.0], ['word', 1432, 5.3], ['alternative', 1379, 5.1], ['ruspop', 1372, 5.1], ['rusrap', 1161, 4.3]], columns=['Жанр', 'Количество прослушиваний', '% от ТОП-10'])"
   ]
  },
  {
   "cell_type": "markdown",
   "metadata": {
    "id": "ykKQ0N65_Zcv"
   },
   "source": [
    "## Итоги исследования"
   ]
  },
  {
   "cell_type": "markdown",
   "metadata": {
    "id": "tjUwbHb3_Zcv"
   },
   "source": [
    "Гипотезы, которые проверялись в исследовании, были следующими:\n",
    "1. Активность пользователей зависит от дня недели. Причём в Москве и Петербурге это проявляется по-разному.\n",
    "2. В понедельник утром в Москве преобладают одни жанры, а в Петербурге — другие. Так же и вечером пятницы преобладают разные жанры — в зависимости от города. \n",
    "3. Москва и Петербург предпочитают разные жанры музыки. В Москве чаще слушают поп-музыку, в Петербурге — русский рэп.\n",
    "\n",
    "\n",
    "В результате исследования мы установили следующее:\n",
    "1. День недели по-разному влияет на активность пользователей в Москве и Петербурге. \n",
    "Первая гипотеза полностью подтвердилась.\n",
    "\n",
    "2. Музыкальные предпочтения не сильно меняются в течение недели — будь то Москва или Петербург. Небольшие различия заметны в начале недели, по понедельникам:\n",
    "* в Москве слушают музыку жанра “world”,\n",
    "* в Петербурге — джаз и классику.\n",
    "Таким образом, вторая гипотеза подтвердилась лишь отчасти. Этот результат мог оказаться иным, если бы не пропуски в данных.\n",
    "\n",
    "3. Во вкусах пользователей Москвы и Петербурга больше общего, чем различий. Вопреки ожиданиям, предпочтения жанров в Петербурге напоминают московские.\n",
    "Третья гипотеза не подтвердилась. Если различия в предпочтениях и существуют, на основной массе пользователей они незаметны.\n",
    "\n",
    "**Следует учитывать, что из данных одного сервиса не всегда можно сделать вывод о всех жителях города.**"
   ]
  }
 ],
 "metadata": {
  "ExecuteTimeLog": [
   {
    "duration": 276,
    "start_time": "2022-02-06T15:16:26.561Z"
   },
   {
    "duration": 560,
    "start_time": "2022-02-06T15:16:36.821Z"
   },
   {
    "duration": 128,
    "start_time": "2022-02-06T15:16:38.100Z"
   },
   {
    "duration": 18,
    "start_time": "2022-02-06T15:17:13.229Z"
   },
   {
    "duration": 9,
    "start_time": "2022-02-06T15:17:26.851Z"
   },
   {
    "duration": 4,
    "start_time": "2022-02-06T15:19:15.068Z"
   },
   {
    "duration": 4,
    "start_time": "2022-02-06T15:22:01.666Z"
   },
   {
    "duration": 84,
    "start_time": "2022-02-06T15:22:16.720Z"
   },
   {
    "duration": 21,
    "start_time": "2022-02-06T15:22:26.249Z"
   },
   {
    "duration": 23,
    "start_time": "2022-02-06T15:22:29.120Z"
   },
   {
    "duration": 4,
    "start_time": "2022-02-06T15:22:31.721Z"
   },
   {
    "duration": 29,
    "start_time": "2022-02-06T15:23:00.017Z"
   },
   {
    "duration": 33,
    "start_time": "2022-02-06T15:23:10.195Z"
   },
   {
    "duration": 75,
    "start_time": "2022-02-06T15:33:42.121Z"
   },
   {
    "duration": 266,
    "start_time": "2022-02-06T15:34:01.875Z"
   },
   {
    "duration": 253,
    "start_time": "2022-02-06T15:34:26.785Z"
   },
   {
    "duration": 135,
    "start_time": "2022-02-06T15:35:23.808Z"
   },
   {
    "duration": 12,
    "start_time": "2022-02-06T15:35:41.025Z"
   },
   {
    "duration": 30,
    "start_time": "2022-02-06T15:36:16.793Z"
   },
   {
    "duration": 23,
    "start_time": "2022-02-06T15:36:27.311Z"
   },
   {
    "duration": 282,
    "start_time": "2022-02-06T15:37:03.423Z"
   },
   {
    "duration": 218,
    "start_time": "2022-02-06T15:37:10.072Z"
   },
   {
    "duration": 221,
    "start_time": "2022-02-06T15:37:18.895Z"
   },
   {
    "duration": 57,
    "start_time": "2022-02-06T15:37:53.439Z"
   },
   {
    "duration": 54,
    "start_time": "2022-02-06T15:38:01.294Z"
   },
   {
    "duration": 217,
    "start_time": "2022-02-06T15:38:37.229Z"
   },
   {
    "duration": 265,
    "start_time": "2022-02-06T15:38:43.862Z"
   },
   {
    "duration": 68,
    "start_time": "2022-02-06T15:39:03.957Z"
   },
   {
    "duration": 59,
    "start_time": "2022-02-06T15:39:15.773Z"
   },
   {
    "duration": 58,
    "start_time": "2022-02-06T15:39:33.333Z"
   },
   {
    "duration": 52,
    "start_time": "2022-02-06T15:39:35.196Z"
   },
   {
    "duration": 63,
    "start_time": "2022-02-06T15:40:28.364Z"
   },
   {
    "duration": 51,
    "start_time": "2022-02-06T15:40:30.648Z"
   },
   {
    "duration": 230,
    "start_time": "2022-02-06T15:41:36.331Z"
   },
   {
    "duration": 228,
    "start_time": "2022-02-06T15:41:47.668Z"
   },
   {
    "duration": 7,
    "start_time": "2022-02-06T15:42:08.875Z"
   },
   {
    "duration": 223,
    "start_time": "2022-02-06T15:48:03.432Z"
   },
   {
    "duration": 7,
    "start_time": "2022-02-06T15:48:21.087Z"
   },
   {
    "duration": 226,
    "start_time": "2022-02-06T15:48:57.359Z"
   },
   {
    "duration": 237,
    "start_time": "2022-02-06T15:50:09.359Z"
   },
   {
    "duration": 233,
    "start_time": "2022-02-06T15:50:41.686Z"
   },
   {
    "duration": 246,
    "start_time": "2022-02-06T15:50:56.910Z"
   },
   {
    "duration": 291,
    "start_time": "2022-02-06T15:51:06.551Z"
   },
   {
    "duration": 237,
    "start_time": "2022-02-06T15:52:04.615Z"
   },
   {
    "duration": 287,
    "start_time": "2022-02-06T15:52:21.551Z"
   },
   {
    "duration": 52,
    "start_time": "2022-02-06T15:52:33.077Z"
   },
   {
    "duration": 50,
    "start_time": "2022-02-06T15:52:42.544Z"
   },
   {
    "duration": 280,
    "start_time": "2022-02-06T15:53:03.017Z"
   },
   {
    "duration": 47,
    "start_time": "2022-02-06T15:53:26.551Z"
   },
   {
    "duration": 45,
    "start_time": "2022-02-06T15:53:42.397Z"
   },
   {
    "duration": 41,
    "start_time": "2022-02-06T15:53:49.264Z"
   },
   {
    "duration": 116,
    "start_time": "2022-02-06T15:56:28.086Z"
   },
   {
    "duration": 5,
    "start_time": "2022-02-06T15:56:35.259Z"
   },
   {
    "duration": 496,
    "start_time": "2022-02-06T15:58:17.380Z"
   },
   {
    "duration": 3,
    "start_time": "2022-02-06T15:58:43.194Z"
   },
   {
    "duration": 10,
    "start_time": "2022-02-06T15:58:45.234Z"
   },
   {
    "duration": 41,
    "start_time": "2022-02-06T15:59:08.162Z"
   },
   {
    "duration": 43,
    "start_time": "2022-02-06T16:00:27.314Z"
   },
   {
    "duration": 41,
    "start_time": "2022-02-06T16:00:29.475Z"
   },
   {
    "duration": 42,
    "start_time": "2022-02-06T16:00:31.326Z"
   },
   {
    "duration": 309,
    "start_time": "2022-02-07T03:41:26.112Z"
   },
   {
    "duration": 560,
    "start_time": "2022-02-07T03:41:32.941Z"
   },
   {
    "duration": 124,
    "start_time": "2022-02-07T03:41:33.503Z"
   },
   {
    "duration": 17,
    "start_time": "2022-02-07T03:41:33.629Z"
   },
   {
    "duration": 7,
    "start_time": "2022-02-07T03:41:33.648Z"
   },
   {
    "duration": 4,
    "start_time": "2022-02-07T03:41:33.657Z"
   },
   {
    "duration": 19,
    "start_time": "2022-02-07T03:41:33.663Z"
   },
   {
    "duration": 43,
    "start_time": "2022-02-07T03:41:33.684Z"
   },
   {
    "duration": 21,
    "start_time": "2022-02-07T03:41:33.730Z"
   },
   {
    "duration": 124,
    "start_time": "2022-02-07T03:41:33.753Z"
   },
   {
    "duration": 22,
    "start_time": "2022-02-07T03:41:33.878Z"
   },
   {
    "duration": 65,
    "start_time": "2022-02-07T03:41:33.901Z"
   },
   {
    "duration": 70,
    "start_time": "2022-02-07T03:41:33.968Z"
   },
   {
    "duration": 45,
    "start_time": "2022-02-07T03:41:34.040Z"
   },
   {
    "duration": 61,
    "start_time": "2022-02-07T03:41:34.087Z"
   },
   {
    "duration": 4,
    "start_time": "2022-02-07T03:41:34.150Z"
   },
   {
    "duration": 11,
    "start_time": "2022-02-07T03:41:34.156Z"
   },
   {
    "duration": 60,
    "start_time": "2022-02-07T03:41:34.169Z"
   },
   {
    "duration": 284,
    "start_time": "2022-02-07T03:41:34.231Z"
   },
   {
    "duration": -1808,
    "start_time": "2022-02-07T03:41:36.326Z"
   },
   {
    "duration": -1817,
    "start_time": "2022-02-07T03:41:36.336Z"
   },
   {
    "duration": -1819,
    "start_time": "2022-02-07T03:41:36.339Z"
   },
   {
    "duration": -1819,
    "start_time": "2022-02-07T03:41:36.341Z"
   },
   {
    "duration": -1820,
    "start_time": "2022-02-07T03:41:36.343Z"
   },
   {
    "duration": -1828,
    "start_time": "2022-02-07T03:41:36.352Z"
   },
   {
    "duration": -1830,
    "start_time": "2022-02-07T03:41:36.355Z"
   },
   {
    "duration": -1831,
    "start_time": "2022-02-07T03:41:36.358Z"
   },
   {
    "duration": -1833,
    "start_time": "2022-02-07T03:41:36.361Z"
   },
   {
    "duration": -1834,
    "start_time": "2022-02-07T03:41:36.363Z"
   },
   {
    "duration": -1835,
    "start_time": "2022-02-07T03:41:36.365Z"
   },
   {
    "duration": -1836,
    "start_time": "2022-02-07T03:41:36.368Z"
   },
   {
    "duration": -1837,
    "start_time": "2022-02-07T03:41:36.370Z"
   },
   {
    "duration": -1838,
    "start_time": "2022-02-07T03:41:36.372Z"
   },
   {
    "duration": -1839,
    "start_time": "2022-02-07T03:41:36.374Z"
   },
   {
    "duration": -1840,
    "start_time": "2022-02-07T03:41:36.377Z"
   },
   {
    "duration": -1841,
    "start_time": "2022-02-07T03:41:36.379Z"
   },
   {
    "duration": -1842,
    "start_time": "2022-02-07T03:41:36.381Z"
   },
   {
    "duration": -1843,
    "start_time": "2022-02-07T03:41:36.384Z"
   },
   {
    "duration": -1845,
    "start_time": "2022-02-07T03:41:36.387Z"
   },
   {
    "duration": 2,
    "start_time": "2022-02-07T03:43:24.263Z"
   },
   {
    "duration": 9,
    "start_time": "2022-02-07T03:43:27.034Z"
   },
   {
    "duration": 35,
    "start_time": "2022-02-07T03:43:28.619Z"
   },
   {
    "duration": 2,
    "start_time": "2022-02-07T03:43:34.106Z"
   },
   {
    "duration": 151,
    "start_time": "2022-02-07T03:43:34.110Z"
   },
   {
    "duration": 8,
    "start_time": "2022-02-07T03:43:34.264Z"
   },
   {
    "duration": 9,
    "start_time": "2022-02-07T03:43:34.274Z"
   },
   {
    "duration": 5,
    "start_time": "2022-02-07T03:43:34.285Z"
   },
   {
    "duration": 36,
    "start_time": "2022-02-07T03:43:34.291Z"
   },
   {
    "duration": 4,
    "start_time": "2022-02-07T03:43:34.329Z"
   },
   {
    "duration": 22,
    "start_time": "2022-02-07T03:43:34.334Z"
   },
   {
    "duration": 121,
    "start_time": "2022-02-07T03:43:34.358Z"
   },
   {
    "duration": 18,
    "start_time": "2022-02-07T03:43:34.481Z"
   },
   {
    "duration": 61,
    "start_time": "2022-02-07T03:43:34.500Z"
   },
   {
    "duration": 51,
    "start_time": "2022-02-07T03:43:34.562Z"
   },
   {
    "duration": 51,
    "start_time": "2022-02-07T03:43:34.615Z"
   },
   {
    "duration": 41,
    "start_time": "2022-02-07T03:43:34.667Z"
   },
   {
    "duration": 17,
    "start_time": "2022-02-07T03:43:34.710Z"
   },
   {
    "duration": 16,
    "start_time": "2022-02-07T03:43:34.729Z"
   },
   {
    "duration": 51,
    "start_time": "2022-02-07T03:43:34.746Z"
   },
   {
    "duration": 282,
    "start_time": "2022-02-07T03:43:34.799Z"
   },
   {
    "duration": -1799,
    "start_time": "2022-02-07T03:43:36.883Z"
   },
   {
    "duration": -1802,
    "start_time": "2022-02-07T03:43:36.887Z"
   },
   {
    "duration": -1821,
    "start_time": "2022-02-07T03:43:36.908Z"
   },
   {
    "duration": -1823,
    "start_time": "2022-02-07T03:43:36.911Z"
   },
   {
    "duration": -1824,
    "start_time": "2022-02-07T03:43:36.913Z"
   },
   {
    "duration": -1827,
    "start_time": "2022-02-07T03:43:36.918Z"
   },
   {
    "duration": -1829,
    "start_time": "2022-02-07T03:43:36.921Z"
   },
   {
    "duration": -1831,
    "start_time": "2022-02-07T03:43:36.924Z"
   },
   {
    "duration": -1832,
    "start_time": "2022-02-07T03:43:36.927Z"
   },
   {
    "duration": -1834,
    "start_time": "2022-02-07T03:43:36.930Z"
   },
   {
    "duration": -1836,
    "start_time": "2022-02-07T03:43:36.933Z"
   },
   {
    "duration": -1837,
    "start_time": "2022-02-07T03:43:36.936Z"
   },
   {
    "duration": -1840,
    "start_time": "2022-02-07T03:43:36.939Z"
   },
   {
    "duration": -1842,
    "start_time": "2022-02-07T03:43:36.942Z"
   },
   {
    "duration": -1842,
    "start_time": "2022-02-07T03:43:36.944Z"
   },
   {
    "duration": -1851,
    "start_time": "2022-02-07T03:43:36.953Z"
   },
   {
    "duration": -1854,
    "start_time": "2022-02-07T03:43:36.957Z"
   },
   {
    "duration": -1855,
    "start_time": "2022-02-07T03:43:36.959Z"
   },
   {
    "duration": -1857,
    "start_time": "2022-02-07T03:43:36.962Z"
   },
   {
    "duration": -1859,
    "start_time": "2022-02-07T03:43:36.965Z"
   },
   {
    "duration": 2,
    "start_time": "2022-02-07T03:44:15.212Z"
   },
   {
    "duration": 5,
    "start_time": "2022-02-07T03:44:16.347Z"
   },
   {
    "duration": 2,
    "start_time": "2022-02-07T03:44:26.396Z"
   },
   {
    "duration": 138,
    "start_time": "2022-02-07T03:44:26.400Z"
   },
   {
    "duration": 8,
    "start_time": "2022-02-07T03:44:26.540Z"
   },
   {
    "duration": 8,
    "start_time": "2022-02-07T03:44:26.550Z"
   },
   {
    "duration": 4,
    "start_time": "2022-02-07T03:44:26.560Z"
   },
   {
    "duration": 12,
    "start_time": "2022-02-07T03:44:26.565Z"
   },
   {
    "duration": 3,
    "start_time": "2022-02-07T03:44:26.579Z"
   },
   {
    "duration": 53,
    "start_time": "2022-02-07T03:44:26.584Z"
   },
   {
    "duration": 113,
    "start_time": "2022-02-07T03:44:26.639Z"
   },
   {
    "duration": 18,
    "start_time": "2022-02-07T03:44:26.754Z"
   },
   {
    "duration": 59,
    "start_time": "2022-02-07T03:44:26.774Z"
   },
   {
    "duration": 52,
    "start_time": "2022-02-07T03:44:26.835Z"
   },
   {
    "duration": 56,
    "start_time": "2022-02-07T03:44:26.889Z"
   },
   {
    "duration": 42,
    "start_time": "2022-02-07T03:44:26.947Z"
   },
   {
    "duration": 2,
    "start_time": "2022-02-07T03:44:26.991Z"
   },
   {
    "duration": 7,
    "start_time": "2022-02-07T03:44:26.995Z"
   },
   {
    "duration": 60,
    "start_time": "2022-02-07T03:44:27.003Z"
   },
   {
    "duration": 275,
    "start_time": "2022-02-07T03:44:27.065Z"
   },
   {
    "duration": -1811,
    "start_time": "2022-02-07T03:44:29.154Z"
   },
   {
    "duration": -1819,
    "start_time": "2022-02-07T03:44:29.162Z"
   },
   {
    "duration": -1822,
    "start_time": "2022-02-07T03:44:29.166Z"
   },
   {
    "duration": -1824,
    "start_time": "2022-02-07T03:44:29.169Z"
   },
   {
    "duration": -1827,
    "start_time": "2022-02-07T03:44:29.172Z"
   },
   {
    "duration": -1828,
    "start_time": "2022-02-07T03:44:29.174Z"
   },
   {
    "duration": -1829,
    "start_time": "2022-02-07T03:44:29.176Z"
   },
   {
    "duration": -1833,
    "start_time": "2022-02-07T03:44:29.180Z"
   },
   {
    "duration": -1839,
    "start_time": "2022-02-07T03:44:29.187Z"
   },
   {
    "duration": -1841,
    "start_time": "2022-02-07T03:44:29.190Z"
   },
   {
    "duration": -1842,
    "start_time": "2022-02-07T03:44:29.192Z"
   },
   {
    "duration": -1844,
    "start_time": "2022-02-07T03:44:29.195Z"
   },
   {
    "duration": -1846,
    "start_time": "2022-02-07T03:44:29.197Z"
   },
   {
    "duration": -1848,
    "start_time": "2022-02-07T03:44:29.200Z"
   },
   {
    "duration": -1851,
    "start_time": "2022-02-07T03:44:29.204Z"
   },
   {
    "duration": -1854,
    "start_time": "2022-02-07T03:44:29.207Z"
   },
   {
    "duration": -1855,
    "start_time": "2022-02-07T03:44:29.209Z"
   },
   {
    "duration": -1857,
    "start_time": "2022-02-07T03:44:29.212Z"
   },
   {
    "duration": -1858,
    "start_time": "2022-02-07T03:44:29.214Z"
   },
   {
    "duration": -1862,
    "start_time": "2022-02-07T03:44:29.218Z"
   },
   {
    "duration": 561,
    "start_time": "2022-02-07T03:44:44.914Z"
   },
   {
    "duration": 117,
    "start_time": "2022-02-07T03:44:45.477Z"
   },
   {
    "duration": 14,
    "start_time": "2022-02-07T03:44:45.596Z"
   },
   {
    "duration": 16,
    "start_time": "2022-02-07T03:44:45.611Z"
   },
   {
    "duration": 4,
    "start_time": "2022-02-07T03:44:45.629Z"
   },
   {
    "duration": 18,
    "start_time": "2022-02-07T03:44:45.634Z"
   },
   {
    "duration": 4,
    "start_time": "2022-02-07T03:44:45.653Z"
   },
   {
    "duration": 19,
    "start_time": "2022-02-07T03:44:45.659Z"
   },
   {
    "duration": 134,
    "start_time": "2022-02-07T03:44:45.680Z"
   },
   {
    "duration": 23,
    "start_time": "2022-02-07T03:44:45.816Z"
   },
   {
    "duration": 47,
    "start_time": "2022-02-07T03:44:45.841Z"
   },
   {
    "duration": 75,
    "start_time": "2022-02-07T03:44:45.890Z"
   },
   {
    "duration": 43,
    "start_time": "2022-02-07T03:44:45.967Z"
   },
   {
    "duration": 69,
    "start_time": "2022-02-07T03:44:46.011Z"
   },
   {
    "duration": 2,
    "start_time": "2022-02-07T03:44:46.082Z"
   },
   {
    "duration": 9,
    "start_time": "2022-02-07T03:44:46.086Z"
   },
   {
    "duration": 56,
    "start_time": "2022-02-07T03:44:46.096Z"
   },
   {
    "duration": 332,
    "start_time": "2022-02-07T03:44:46.154Z"
   },
   {
    "duration": -1781,
    "start_time": "2022-02-07T03:44:48.270Z"
   },
   {
    "duration": -1782,
    "start_time": "2022-02-07T03:44:48.272Z"
   },
   {
    "duration": -1786,
    "start_time": "2022-02-07T03:44:48.276Z"
   },
   {
    "duration": -1800,
    "start_time": "2022-02-07T03:44:48.292Z"
   },
   {
    "duration": -1805,
    "start_time": "2022-02-07T03:44:48.297Z"
   },
   {
    "duration": -1808,
    "start_time": "2022-02-07T03:44:48.301Z"
   },
   {
    "duration": -1811,
    "start_time": "2022-02-07T03:44:48.305Z"
   },
   {
    "duration": -1814,
    "start_time": "2022-02-07T03:44:48.309Z"
   },
   {
    "duration": -1816,
    "start_time": "2022-02-07T03:44:48.312Z"
   },
   {
    "duration": -1820,
    "start_time": "2022-02-07T03:44:48.317Z"
   },
   {
    "duration": -1823,
    "start_time": "2022-02-07T03:44:48.321Z"
   },
   {
    "duration": -1824,
    "start_time": "2022-02-07T03:44:48.323Z"
   },
   {
    "duration": -1827,
    "start_time": "2022-02-07T03:44:48.327Z"
   },
   {
    "duration": -1829,
    "start_time": "2022-02-07T03:44:48.330Z"
   },
   {
    "duration": -1831,
    "start_time": "2022-02-07T03:44:48.333Z"
   },
   {
    "duration": -1832,
    "start_time": "2022-02-07T03:44:48.335Z"
   },
   {
    "duration": -1834,
    "start_time": "2022-02-07T03:44:48.338Z"
   },
   {
    "duration": -1835,
    "start_time": "2022-02-07T03:44:48.340Z"
   },
   {
    "duration": -1836,
    "start_time": "2022-02-07T03:44:48.342Z"
   },
   {
    "duration": -1837,
    "start_time": "2022-02-07T03:44:48.344Z"
   },
   {
    "duration": 3,
    "start_time": "2022-02-07T03:46:11.563Z"
   },
   {
    "duration": -1807,
    "start_time": "2022-02-07T03:47:13.787Z"
   },
   {
    "duration": -1812,
    "start_time": "2022-02-07T03:47:13.792Z"
   },
   {
    "duration": -1816,
    "start_time": "2022-02-07T03:47:13.797Z"
   },
   {
    "duration": -1818,
    "start_time": "2022-02-07T03:47:13.800Z"
   },
   {
    "duration": -1820,
    "start_time": "2022-02-07T03:47:13.803Z"
   },
   {
    "duration": -1826,
    "start_time": "2022-02-07T03:47:13.810Z"
   },
   {
    "duration": -1829,
    "start_time": "2022-02-07T03:47:13.814Z"
   },
   {
    "duration": -1832,
    "start_time": "2022-02-07T03:47:13.817Z"
   },
   {
    "duration": -1834,
    "start_time": "2022-02-07T03:47:13.820Z"
   },
   {
    "duration": -1837,
    "start_time": "2022-02-07T03:47:13.824Z"
   },
   {
    "duration": -1839,
    "start_time": "2022-02-07T03:47:13.827Z"
   },
   {
    "duration": -1841,
    "start_time": "2022-02-07T03:47:13.829Z"
   },
   {
    "duration": -1844,
    "start_time": "2022-02-07T03:47:13.833Z"
   },
   {
    "duration": -1846,
    "start_time": "2022-02-07T03:47:13.836Z"
   },
   {
    "duration": -1848,
    "start_time": "2022-02-07T03:47:13.839Z"
   },
   {
    "duration": -1850,
    "start_time": "2022-02-07T03:47:13.842Z"
   },
   {
    "duration": -1853,
    "start_time": "2022-02-07T03:47:13.845Z"
   },
   {
    "duration": -1855,
    "start_time": "2022-02-07T03:47:13.848Z"
   },
   {
    "duration": -1858,
    "start_time": "2022-02-07T03:47:13.852Z"
   },
   {
    "duration": -1861,
    "start_time": "2022-02-07T03:47:13.855Z"
   },
   {
    "duration": -1863,
    "start_time": "2022-02-07T03:47:13.858Z"
   },
   {
    "duration": -1872,
    "start_time": "2022-02-07T03:47:13.868Z"
   },
   {
    "duration": -1873,
    "start_time": "2022-02-07T03:47:13.870Z"
   },
   {
    "duration": -1878,
    "start_time": "2022-02-07T03:47:13.875Z"
   },
   {
    "duration": -1881,
    "start_time": "2022-02-07T03:47:13.879Z"
   },
   {
    "duration": -1884,
    "start_time": "2022-02-07T03:47:13.883Z"
   },
   {
    "duration": -1889,
    "start_time": "2022-02-07T03:47:13.889Z"
   },
   {
    "duration": -1892,
    "start_time": "2022-02-07T03:47:13.892Z"
   },
   {
    "duration": -1895,
    "start_time": "2022-02-07T03:47:13.896Z"
   },
   {
    "duration": -1899,
    "start_time": "2022-02-07T03:47:13.901Z"
   },
   {
    "duration": -1901,
    "start_time": "2022-02-07T03:47:13.904Z"
   },
   {
    "duration": -1902,
    "start_time": "2022-02-07T03:47:13.906Z"
   },
   {
    "duration": -1904,
    "start_time": "2022-02-07T03:47:13.909Z"
   },
   {
    "duration": -1906,
    "start_time": "2022-02-07T03:47:13.912Z"
   },
   {
    "duration": -1909,
    "start_time": "2022-02-07T03:47:13.915Z"
   },
   {
    "duration": -1910,
    "start_time": "2022-02-07T03:47:13.917Z"
   },
   {
    "duration": -1912,
    "start_time": "2022-02-07T03:47:13.920Z"
   },
   {
    "duration": -1913,
    "start_time": "2022-02-07T03:47:13.922Z"
   },
   {
    "duration": 538,
    "start_time": "2022-02-07T03:47:21.857Z"
   },
   {
    "duration": 120,
    "start_time": "2022-02-07T03:47:22.397Z"
   },
   {
    "duration": 17,
    "start_time": "2022-02-07T03:47:22.519Z"
   },
   {
    "duration": 9,
    "start_time": "2022-02-07T03:47:22.538Z"
   },
   {
    "duration": 5,
    "start_time": "2022-02-07T03:47:22.549Z"
   },
   {
    "duration": 19,
    "start_time": "2022-02-07T03:47:22.555Z"
   },
   {
    "duration": 3,
    "start_time": "2022-02-07T03:47:22.576Z"
   },
   {
    "duration": 50,
    "start_time": "2022-02-07T03:47:22.581Z"
   },
   {
    "duration": 117,
    "start_time": "2022-02-07T03:47:22.632Z"
   },
   {
    "duration": 18,
    "start_time": "2022-02-07T03:47:22.751Z"
   },
   {
    "duration": 59,
    "start_time": "2022-02-07T03:47:22.771Z"
   },
   {
    "duration": 62,
    "start_time": "2022-02-07T03:47:22.832Z"
   },
   {
    "duration": 61,
    "start_time": "2022-02-07T03:47:22.895Z"
   },
   {
    "duration": 44,
    "start_time": "2022-02-07T03:47:22.958Z"
   },
   {
    "duration": 3,
    "start_time": "2022-02-07T03:47:23.004Z"
   },
   {
    "duration": -1815,
    "start_time": "2022-02-07T03:48:26.282Z"
   },
   {
    "duration": -1821,
    "start_time": "2022-02-07T03:48:26.289Z"
   },
   {
    "duration": -1827,
    "start_time": "2022-02-07T03:48:26.295Z"
   },
   {
    "duration": -1831,
    "start_time": "2022-02-07T03:48:26.300Z"
   },
   {
    "duration": -1836,
    "start_time": "2022-02-07T03:48:26.306Z"
   },
   {
    "duration": -1843,
    "start_time": "2022-02-07T03:48:26.314Z"
   },
   {
    "duration": -1846,
    "start_time": "2022-02-07T03:48:26.317Z"
   },
   {
    "duration": -1846,
    "start_time": "2022-02-07T03:48:26.319Z"
   },
   {
    "duration": -1848,
    "start_time": "2022-02-07T03:48:26.321Z"
   },
   {
    "duration": -1850,
    "start_time": "2022-02-07T03:48:26.324Z"
   },
   {
    "duration": -1851,
    "start_time": "2022-02-07T03:48:26.326Z"
   },
   {
    "duration": -1852,
    "start_time": "2022-02-07T03:48:26.328Z"
   },
   {
    "duration": -1856,
    "start_time": "2022-02-07T03:48:26.333Z"
   },
   {
    "duration": -1857,
    "start_time": "2022-02-07T03:48:26.335Z"
   },
   {
    "duration": -1859,
    "start_time": "2022-02-07T03:48:26.338Z"
   },
   {
    "duration": -1860,
    "start_time": "2022-02-07T03:48:26.340Z"
   },
   {
    "duration": -1862,
    "start_time": "2022-02-07T03:48:26.343Z"
   },
   {
    "duration": -1864,
    "start_time": "2022-02-07T03:48:26.346Z"
   },
   {
    "duration": -1865,
    "start_time": "2022-02-07T03:48:26.348Z"
   },
   {
    "duration": -1867,
    "start_time": "2022-02-07T03:48:26.350Z"
   },
   {
    "duration": -1869,
    "start_time": "2022-02-07T03:48:26.353Z"
   },
   {
    "duration": -1869,
    "start_time": "2022-02-07T03:48:26.357Z"
   },
   {
    "duration": -1871,
    "start_time": "2022-02-07T03:48:26.360Z"
   },
   {
    "duration": -1872,
    "start_time": "2022-02-07T03:48:26.364Z"
   },
   {
    "duration": 520,
    "start_time": "2022-02-07T03:49:28.153Z"
   },
   {
    "duration": 117,
    "start_time": "2022-02-07T03:49:28.675Z"
   },
   {
    "duration": 15,
    "start_time": "2022-02-07T03:49:28.793Z"
   },
   {
    "duration": 20,
    "start_time": "2022-02-07T03:49:28.809Z"
   },
   {
    "duration": 5,
    "start_time": "2022-02-07T03:49:28.830Z"
   },
   {
    "duration": 17,
    "start_time": "2022-02-07T03:49:28.836Z"
   },
   {
    "duration": 3,
    "start_time": "2022-02-07T03:49:28.854Z"
   },
   {
    "duration": 22,
    "start_time": "2022-02-07T03:49:28.859Z"
   },
   {
    "duration": 130,
    "start_time": "2022-02-07T03:49:28.883Z"
   },
   {
    "duration": 18,
    "start_time": "2022-02-07T03:49:29.014Z"
   },
   {
    "duration": 71,
    "start_time": "2022-02-07T03:49:29.034Z"
   },
   {
    "duration": 113,
    "start_time": "2022-02-07T03:49:29.107Z"
   },
   {
    "duration": 73,
    "start_time": "2022-02-07T03:49:29.222Z"
   },
   {
    "duration": 74,
    "start_time": "2022-02-07T03:49:29.297Z"
   },
   {
    "duration": 2,
    "start_time": "2022-02-07T03:49:29.373Z"
   },
   {
    "duration": 316,
    "start_time": "2022-02-07T03:49:29.376Z"
   },
   {
    "duration": -1781,
    "start_time": "2022-02-07T03:49:31.475Z"
   },
   {
    "duration": -1785,
    "start_time": "2022-02-07T03:49:31.480Z"
   },
   {
    "duration": -1803,
    "start_time": "2022-02-07T03:49:31.499Z"
   },
   {
    "duration": -1810,
    "start_time": "2022-02-07T03:49:31.507Z"
   },
   {
    "duration": -1836,
    "start_time": "2022-02-07T03:49:31.534Z"
   },
   {
    "duration": -1841,
    "start_time": "2022-02-07T03:49:31.540Z"
   },
   {
    "duration": -1842,
    "start_time": "2022-02-07T03:49:31.542Z"
   },
   {
    "duration": -1843,
    "start_time": "2022-02-07T03:49:31.544Z"
   },
   {
    "duration": -1845,
    "start_time": "2022-02-07T03:49:31.547Z"
   },
   {
    "duration": -1847,
    "start_time": "2022-02-07T03:49:31.550Z"
   },
   {
    "duration": -1849,
    "start_time": "2022-02-07T03:49:31.553Z"
   },
   {
    "duration": -1851,
    "start_time": "2022-02-07T03:49:31.555Z"
   },
   {
    "duration": -1852,
    "start_time": "2022-02-07T03:49:31.557Z"
   },
   {
    "duration": -1853,
    "start_time": "2022-02-07T03:49:31.559Z"
   },
   {
    "duration": -1854,
    "start_time": "2022-02-07T03:49:31.561Z"
   },
   {
    "duration": -1856,
    "start_time": "2022-02-07T03:49:31.564Z"
   },
   {
    "duration": -1857,
    "start_time": "2022-02-07T03:49:31.566Z"
   },
   {
    "duration": -1858,
    "start_time": "2022-02-07T03:49:31.568Z"
   },
   {
    "duration": -1859,
    "start_time": "2022-02-07T03:49:31.570Z"
   },
   {
    "duration": -1861,
    "start_time": "2022-02-07T03:49:31.573Z"
   },
   {
    "duration": -1863,
    "start_time": "2022-02-07T03:49:31.575Z"
   },
   {
    "duration": -1864,
    "start_time": "2022-02-07T03:49:31.577Z"
   },
   {
    "duration": 584,
    "start_time": "2022-02-07T03:49:49.522Z"
   },
   {
    "duration": 119,
    "start_time": "2022-02-07T03:49:50.108Z"
   },
   {
    "duration": 17,
    "start_time": "2022-02-07T03:49:50.228Z"
   },
   {
    "duration": 13,
    "start_time": "2022-02-07T03:49:50.247Z"
   },
   {
    "duration": 7,
    "start_time": "2022-02-07T03:49:50.262Z"
   },
   {
    "duration": 22,
    "start_time": "2022-02-07T03:49:50.270Z"
   },
   {
    "duration": 7,
    "start_time": "2022-02-07T03:49:50.293Z"
   },
   {
    "duration": 44,
    "start_time": "2022-02-07T03:49:50.303Z"
   },
   {
    "duration": 122,
    "start_time": "2022-02-07T03:49:50.349Z"
   },
   {
    "duration": 21,
    "start_time": "2022-02-07T03:49:50.473Z"
   },
   {
    "duration": 74,
    "start_time": "2022-02-07T03:49:50.496Z"
   },
   {
    "duration": 74,
    "start_time": "2022-02-07T03:49:50.572Z"
   },
   {
    "duration": 47,
    "start_time": "2022-02-07T03:49:50.648Z"
   },
   {
    "duration": 64,
    "start_time": "2022-02-07T03:49:50.697Z"
   },
   {
    "duration": 3,
    "start_time": "2022-02-07T03:49:50.763Z"
   },
   {
    "duration": 529,
    "start_time": "2022-02-07T03:50:57.649Z"
   },
   {
    "duration": 118,
    "start_time": "2022-02-07T03:50:58.179Z"
   },
   {
    "duration": 15,
    "start_time": "2022-02-07T03:50:58.299Z"
   },
   {
    "duration": 12,
    "start_time": "2022-02-07T03:50:58.316Z"
   },
   {
    "duration": 4,
    "start_time": "2022-02-07T03:50:58.329Z"
   },
   {
    "duration": 17,
    "start_time": "2022-02-07T03:50:58.334Z"
   },
   {
    "duration": 3,
    "start_time": "2022-02-07T03:50:58.353Z"
   },
   {
    "duration": 22,
    "start_time": "2022-02-07T03:50:58.359Z"
   },
   {
    "duration": 138,
    "start_time": "2022-02-07T03:50:58.383Z"
   },
   {
    "duration": 20,
    "start_time": "2022-02-07T03:50:58.522Z"
   },
   {
    "duration": 50,
    "start_time": "2022-02-07T03:50:58.543Z"
   },
   {
    "duration": 85,
    "start_time": "2022-02-07T03:50:58.594Z"
   },
   {
    "duration": 53,
    "start_time": "2022-02-07T03:50:58.681Z"
   },
   {
    "duration": 42,
    "start_time": "2022-02-07T03:50:58.736Z"
   },
   {
    "duration": 3,
    "start_time": "2022-02-07T03:50:58.779Z"
   },
   {
    "duration": 19512,
    "start_time": "2022-02-07T03:50:58.783Z"
   },
   {
    "duration": -1849,
    "start_time": "2022-02-07T03:51:20.147Z"
   },
   {
    "duration": -1851,
    "start_time": "2022-02-07T03:51:20.150Z"
   },
   {
    "duration": -1860,
    "start_time": "2022-02-07T03:51:20.160Z"
   },
   {
    "duration": -1862,
    "start_time": "2022-02-07T03:51:20.163Z"
   },
   {
    "duration": -1864,
    "start_time": "2022-02-07T03:51:20.166Z"
   },
   {
    "duration": -1867,
    "start_time": "2022-02-07T03:51:20.170Z"
   },
   {
    "duration": -1868,
    "start_time": "2022-02-07T03:51:20.172Z"
   },
   {
    "duration": -1870,
    "start_time": "2022-02-07T03:51:20.175Z"
   },
   {
    "duration": -1873,
    "start_time": "2022-02-07T03:51:20.178Z"
   },
   {
    "duration": -1874,
    "start_time": "2022-02-07T03:51:20.181Z"
   },
   {
    "duration": -1877,
    "start_time": "2022-02-07T03:51:20.184Z"
   },
   {
    "duration": -1878,
    "start_time": "2022-02-07T03:51:20.186Z"
   },
   {
    "duration": -1880,
    "start_time": "2022-02-07T03:51:20.189Z"
   },
   {
    "duration": -1881,
    "start_time": "2022-02-07T03:51:20.191Z"
   },
   {
    "duration": -1883,
    "start_time": "2022-02-07T03:51:20.194Z"
   },
   {
    "duration": -1893,
    "start_time": "2022-02-07T03:51:20.205Z"
   },
   {
    "duration": -1896,
    "start_time": "2022-02-07T03:51:20.209Z"
   },
   {
    "duration": -1900,
    "start_time": "2022-02-07T03:51:20.214Z"
   },
   {
    "duration": -1904,
    "start_time": "2022-02-07T03:51:20.218Z"
   },
   {
    "duration": -1907,
    "start_time": "2022-02-07T03:51:20.222Z"
   },
   {
    "duration": -1909,
    "start_time": "2022-02-07T03:51:20.225Z"
   },
   {
    "duration": -1911,
    "start_time": "2022-02-07T03:51:20.228Z"
   },
   {
    "duration": 547,
    "start_time": "2022-02-07T03:51:25.635Z"
   },
   {
    "duration": 121,
    "start_time": "2022-02-07T03:51:26.184Z"
   },
   {
    "duration": 24,
    "start_time": "2022-02-07T03:51:26.307Z"
   },
   {
    "duration": 8,
    "start_time": "2022-02-07T03:51:26.333Z"
   },
   {
    "duration": 6,
    "start_time": "2022-02-07T03:51:26.342Z"
   },
   {
    "duration": 19,
    "start_time": "2022-02-07T03:51:26.349Z"
   },
   {
    "duration": 3,
    "start_time": "2022-02-07T03:51:26.370Z"
   },
   {
    "duration": 59,
    "start_time": "2022-02-07T03:51:26.376Z"
   },
   {
    "duration": 123,
    "start_time": "2022-02-07T03:51:26.438Z"
   },
   {
    "duration": 21,
    "start_time": "2022-02-07T03:51:26.563Z"
   },
   {
    "duration": 72,
    "start_time": "2022-02-07T03:51:26.586Z"
   },
   {
    "duration": 77,
    "start_time": "2022-02-07T03:51:26.660Z"
   },
   {
    "duration": 46,
    "start_time": "2022-02-07T03:51:26.739Z"
   },
   {
    "duration": 61,
    "start_time": "2022-02-07T03:51:26.787Z"
   },
   {
    "duration": 3,
    "start_time": "2022-02-07T03:51:26.850Z"
   },
   {
    "duration": 54568,
    "start_time": "2022-02-07T03:51:26.855Z"
   },
   {
    "duration": -1788,
    "start_time": "2022-02-07T03:52:23.213Z"
   },
   {
    "duration": -1807,
    "start_time": "2022-02-07T03:52:23.234Z"
   },
   {
    "duration": -1810,
    "start_time": "2022-02-07T03:52:23.238Z"
   },
   {
    "duration": -1812,
    "start_time": "2022-02-07T03:52:23.242Z"
   },
   {
    "duration": -1814,
    "start_time": "2022-02-07T03:52:23.245Z"
   },
   {
    "duration": -1817,
    "start_time": "2022-02-07T03:52:23.249Z"
   },
   {
    "duration": -1820,
    "start_time": "2022-02-07T03:52:23.252Z"
   },
   {
    "duration": -1821,
    "start_time": "2022-02-07T03:52:23.254Z"
   },
   {
    "duration": -1822,
    "start_time": "2022-02-07T03:52:23.257Z"
   },
   {
    "duration": -1825,
    "start_time": "2022-02-07T03:52:23.260Z"
   },
   {
    "duration": -1826,
    "start_time": "2022-02-07T03:52:23.263Z"
   },
   {
    "duration": -1829,
    "start_time": "2022-02-07T03:52:23.266Z"
   },
   {
    "duration": -1837,
    "start_time": "2022-02-07T03:52:23.275Z"
   },
   {
    "duration": -1844,
    "start_time": "2022-02-07T03:52:23.283Z"
   },
   {
    "duration": -1845,
    "start_time": "2022-02-07T03:52:23.285Z"
   },
   {
    "duration": -1847,
    "start_time": "2022-02-07T03:52:23.288Z"
   },
   {
    "duration": -1848,
    "start_time": "2022-02-07T03:52:23.290Z"
   },
   {
    "duration": -1850,
    "start_time": "2022-02-07T03:52:23.293Z"
   },
   {
    "duration": -1853,
    "start_time": "2022-02-07T03:52:23.297Z"
   },
   {
    "duration": -1860,
    "start_time": "2022-02-07T03:52:23.305Z"
   },
   {
    "duration": -1864,
    "start_time": "2022-02-07T03:52:23.310Z"
   },
   {
    "duration": -1867,
    "start_time": "2022-02-07T03:52:23.314Z"
   },
   {
    "duration": 2,
    "start_time": "2022-02-07T03:53:20.605Z"
   },
   {
    "duration": 901,
    "start_time": "2022-02-07T03:53:22.700Z"
   },
   {
    "duration": 2,
    "start_time": "2022-02-07T03:55:07.540Z"
   },
   {
    "duration": 14,
    "start_time": "2022-02-07T03:55:08.946Z"
   },
   {
    "duration": 43,
    "start_time": "2022-02-07T03:55:11.602Z"
   },
   {
    "duration": 10,
    "start_time": "2022-02-07T03:55:20.805Z"
   },
   {
    "duration": 38,
    "start_time": "2022-02-07T03:55:29.515Z"
   },
   {
    "duration": 3,
    "start_time": "2022-02-07T03:58:07.441Z"
   },
   {
    "duration": 13,
    "start_time": "2022-02-07T03:58:08.353Z"
   },
   {
    "duration": 37,
    "start_time": "2022-02-07T03:58:09.400Z"
   },
   {
    "duration": 284,
    "start_time": "2022-02-07T03:58:59.232Z"
   },
   {
    "duration": 4172,
    "start_time": "2022-02-07T03:59:07.937Z"
   },
   {
    "duration": 34,
    "start_time": "2022-02-07T03:59:32.841Z"
   },
   {
    "duration": 300,
    "start_time": "2022-02-07T04:00:18.000Z"
   },
   {
    "duration": 273,
    "start_time": "2022-02-07T04:00:29.033Z"
   },
   {
    "duration": 36,
    "start_time": "2022-02-07T04:00:40.303Z"
   },
   {
    "duration": 272,
    "start_time": "2022-02-07T04:01:03.983Z"
   },
   {
    "duration": 14,
    "start_time": "2022-02-07T04:04:23.572Z"
   },
   {
    "duration": 13,
    "start_time": "2022-02-07T04:06:06.531Z"
   },
   {
    "duration": 3,
    "start_time": "2022-02-07T04:13:59.654Z"
   },
   {
    "duration": 11,
    "start_time": "2022-02-07T04:14:37.269Z"
   },
   {
    "duration": 12,
    "start_time": "2022-02-07T04:14:54.812Z"
   },
   {
    "duration": 11,
    "start_time": "2022-02-07T04:15:01.901Z"
   },
   {
    "duration": 11,
    "start_time": "2022-02-07T04:15:39.260Z"
   },
   {
    "duration": 3,
    "start_time": "2022-02-07T04:16:49.501Z"
   },
   {
    "duration": 540,
    "start_time": "2022-02-07T04:16:51.499Z"
   },
   {
    "duration": 3,
    "start_time": "2022-02-07T04:18:22.202Z"
   },
   {
    "duration": 14,
    "start_time": "2022-02-07T04:18:23.695Z"
   },
   {
    "duration": 4,
    "start_time": "2022-02-07T04:19:13.186Z"
   },
   {
    "duration": 547,
    "start_time": "2022-02-07T04:19:14.049Z"
   },
   {
    "duration": 5,
    "start_time": "2022-02-07T04:19:34.737Z"
   },
   {
    "duration": 556,
    "start_time": "2022-02-07T04:19:35.475Z"
   },
   {
    "duration": 4,
    "start_time": "2022-02-07T04:19:47.609Z"
   },
   {
    "duration": 562,
    "start_time": "2022-02-07T04:19:48.233Z"
   },
   {
    "duration": 2,
    "start_time": "2022-02-07T04:20:37.905Z"
   },
   {
    "duration": 13,
    "start_time": "2022-02-07T04:20:38.721Z"
   },
   {
    "duration": 3,
    "start_time": "2022-02-07T04:21:18.138Z"
   },
   {
    "duration": 12,
    "start_time": "2022-02-07T04:21:18.840Z"
   },
   {
    "duration": 3,
    "start_time": "2022-02-07T04:21:43.721Z"
   },
   {
    "duration": 554,
    "start_time": "2022-02-07T04:21:44.368Z"
   },
   {
    "duration": 3,
    "start_time": "2022-02-07T04:22:14.553Z"
   },
   {
    "duration": -1820,
    "start_time": "2022-02-07T04:22:20.917Z"
   },
   {
    "duration": 3,
    "start_time": "2022-02-07T04:22:30.960Z"
   },
   {
    "duration": 3794,
    "start_time": "2022-02-07T04:22:31.679Z"
   },
   {
    "duration": -1820,
    "start_time": "2022-02-07T04:22:37.294Z"
   },
   {
    "duration": 11,
    "start_time": "2022-02-07T04:24:17.151Z"
   },
   {
    "duration": 18,
    "start_time": "2022-02-07T04:25:39.607Z"
   },
   {
    "duration": 3,
    "start_time": "2022-02-07T04:26:25.710Z"
   },
   {
    "duration": 3999,
    "start_time": "2022-02-07T04:26:26.581Z"
   },
   {
    "duration": 3,
    "start_time": "2022-02-07T04:27:17.005Z"
   },
   {
    "duration": 7389,
    "start_time": "2022-02-07T04:27:17.748Z"
   },
   {
    "duration": 3,
    "start_time": "2022-02-07T04:27:34.252Z"
   },
   {
    "duration": 550,
    "start_time": "2022-02-07T04:27:35.173Z"
   },
   {
    "duration": 3,
    "start_time": "2022-02-07T04:27:45.684Z"
   },
   {
    "duration": 22,
    "start_time": "2022-02-07T04:27:46.356Z"
   },
   {
    "duration": 3,
    "start_time": "2022-02-07T04:28:11.492Z"
   },
   {
    "duration": 542,
    "start_time": "2022-02-07T04:28:12.387Z"
   },
   {
    "duration": 4,
    "start_time": "2022-02-07T04:29:43.283Z"
   },
   {
    "duration": 556,
    "start_time": "2022-02-07T04:29:44.106Z"
   },
   {
    "duration": 4,
    "start_time": "2022-02-07T04:29:56.010Z"
   },
   {
    "duration": 3,
    "start_time": "2022-02-07T04:30:02.755Z"
   },
   {
    "duration": 12,
    "start_time": "2022-02-07T04:30:03.483Z"
   },
   {
    "duration": 3,
    "start_time": "2022-02-07T04:30:39.658Z"
   },
   {
    "duration": 11,
    "start_time": "2022-02-07T04:30:40.258Z"
   },
   {
    "duration": 11,
    "start_time": "2022-02-07T04:30:47.898Z"
   },
   {
    "duration": 559,
    "start_time": "2022-02-07T04:30:48.570Z"
   },
   {
    "duration": 3,
    "start_time": "2022-02-07T04:33:57.904Z"
   },
   {
    "duration": 21,
    "start_time": "2022-02-07T04:33:58.599Z"
   },
   {
    "duration": 3,
    "start_time": "2022-02-07T04:34:22.311Z"
   },
   {
    "duration": 7402,
    "start_time": "2022-02-07T04:34:23.524Z"
   },
   {
    "duration": 4,
    "start_time": "2022-02-07T04:34:34.200Z"
   },
   {
    "duration": 6954,
    "start_time": "2022-02-07T04:34:34.687Z"
   },
   {
    "duration": 3,
    "start_time": "2022-02-07T04:35:11.511Z"
   },
   {
    "duration": 21,
    "start_time": "2022-02-07T04:35:12.182Z"
   },
   {
    "duration": 3,
    "start_time": "2022-02-07T04:35:42.087Z"
   },
   {
    "duration": 2786,
    "start_time": "2022-02-07T04:35:42.686Z"
   },
   {
    "duration": 4,
    "start_time": "2022-02-07T04:36:00.838Z"
   },
   {
    "duration": 8114,
    "start_time": "2022-02-07T04:36:02.230Z"
   },
   {
    "duration": 3,
    "start_time": "2022-02-07T04:43:00.842Z"
   },
   {
    "duration": 7164,
    "start_time": "2022-02-07T04:43:01.977Z"
   },
   {
    "duration": 3,
    "start_time": "2022-02-07T04:43:28.801Z"
   },
   {
    "duration": 15,
    "start_time": "2022-02-07T04:43:29.424Z"
   },
   {
    "duration": 3,
    "start_time": "2022-02-07T04:44:38.240Z"
   },
   {
    "duration": 15,
    "start_time": "2022-02-07T04:44:39.007Z"
   },
   {
    "duration": 14,
    "start_time": "2022-02-07T04:45:21.399Z"
   },
   {
    "duration": 14,
    "start_time": "2022-02-07T04:46:05.111Z"
   },
   {
    "duration": 13,
    "start_time": "2022-02-07T04:46:06.846Z"
   },
   {
    "duration": 16,
    "start_time": "2022-02-07T04:46:08.446Z"
   },
   {
    "duration": 14,
    "start_time": "2022-02-07T04:46:10.542Z"
   },
   {
    "duration": 5,
    "start_time": "2022-02-07T04:48:41.221Z"
   },
   {
    "duration": 7,
    "start_time": "2022-02-07T04:49:00.517Z"
   },
   {
    "duration": 299,
    "start_time": "2022-02-07T04:49:54.166Z"
   },
   {
    "duration": 287,
    "start_time": "2022-02-07T04:50:22.116Z"
   },
   {
    "duration": 8,
    "start_time": "2022-02-07T04:51:12.100Z"
   },
   {
    "duration": 8,
    "start_time": "2022-02-07T04:52:14.876Z"
   },
   {
    "duration": 84,
    "start_time": "2022-02-07T04:58:23.398Z"
   },
   {
    "duration": -1791,
    "start_time": "2022-02-07T04:58:25.275Z"
   },
   {
    "duration": 5105,
    "start_time": "2022-02-07T04:58:49.711Z"
   },
   {
    "duration": 5339,
    "start_time": "2022-02-07T04:59:50.838Z"
   },
   {
    "duration": 5759,
    "start_time": "2022-02-07T05:00:16.942Z"
   },
   {
    "duration": -2922,
    "start_time": "2022-02-07T05:00:25.625Z"
   },
   {
    "duration": 14,
    "start_time": "2022-02-07T05:03:07.436Z"
   },
   {
    "duration": 21,
    "start_time": "2022-02-07T05:03:44.468Z"
   },
   {
    "duration": 18,
    "start_time": "2022-02-07T05:04:16.540Z"
   },
   {
    "duration": 288,
    "start_time": "2022-02-07T05:10:50.253Z"
   },
   {
    "duration": 4,
    "start_time": "2022-02-07T05:10:58.981Z"
   },
   {
    "duration": 16,
    "start_time": "2022-02-07T05:11:00.277Z"
   },
   {
    "duration": 13,
    "start_time": "2022-02-07T05:11:18.358Z"
   },
   {
    "duration": 13,
    "start_time": "2022-02-07T05:11:24.149Z"
   },
   {
    "duration": 13,
    "start_time": "2022-02-07T05:11:42.237Z"
   },
   {
    "duration": 11,
    "start_time": "2022-02-07T05:11:43.309Z"
   },
   {
    "duration": 16,
    "start_time": "2022-02-07T05:12:04.180Z"
   },
   {
    "duration": 13,
    "start_time": "2022-02-07T05:12:08.916Z"
   },
   {
    "duration": 3,
    "start_time": "2022-02-07T05:12:11.676Z"
   },
   {
    "duration": 12,
    "start_time": "2022-02-07T05:12:12.564Z"
   },
   {
    "duration": 18,
    "start_time": "2022-02-07T05:12:36.341Z"
   },
   {
    "duration": 17,
    "start_time": "2022-02-07T05:12:47.860Z"
   },
   {
    "duration": 14,
    "start_time": "2022-02-07T05:12:53.389Z"
   },
   {
    "duration": 17,
    "start_time": "2022-02-07T05:13:09.724Z"
   },
   {
    "duration": 277,
    "start_time": "2022-02-07T05:13:29.716Z"
   },
   {
    "duration": 9,
    "start_time": "2022-02-07T05:13:48.028Z"
   },
   {
    "duration": 3,
    "start_time": "2022-02-07T05:13:48.843Z"
   },
   {
    "duration": 17,
    "start_time": "2022-02-07T05:13:50.235Z"
   },
   {
    "duration": 17,
    "start_time": "2022-02-07T05:13:52.939Z"
   },
   {
    "duration": 2,
    "start_time": "2022-02-07T05:13:53.243Z"
   },
   {
    "duration": 21,
    "start_time": "2022-02-07T05:14:47.243Z"
   },
   {
    "duration": 16,
    "start_time": "2022-02-07T05:14:52.738Z"
   },
   {
    "duration": 16,
    "start_time": "2022-02-07T05:14:56.931Z"
   },
   {
    "duration": 13,
    "start_time": "2022-02-07T05:15:13.458Z"
   },
   {
    "duration": 10,
    "start_time": "2022-02-07T05:15:14.082Z"
   },
   {
    "duration": 3,
    "start_time": "2022-02-07T05:15:15.066Z"
   },
   {
    "duration": 22,
    "start_time": "2022-02-07T05:15:16.258Z"
   },
   {
    "duration": 17,
    "start_time": "2022-02-07T05:15:17.978Z"
   },
   {
    "duration": 20,
    "start_time": "2022-02-07T05:15:18.569Z"
   },
   {
    "duration": 17,
    "start_time": "2022-02-07T05:15:19.866Z"
   },
   {
    "duration": 523,
    "start_time": "2022-02-07T05:16:47.258Z"
   },
   {
    "duration": 123,
    "start_time": "2022-02-07T05:16:47.783Z"
   },
   {
    "duration": 19,
    "start_time": "2022-02-07T05:16:47.911Z"
   },
   {
    "duration": 7,
    "start_time": "2022-02-07T05:16:47.931Z"
   },
   {
    "duration": 6,
    "start_time": "2022-02-07T05:16:47.940Z"
   },
   {
    "duration": 19,
    "start_time": "2022-02-07T05:16:47.947Z"
   },
   {
    "duration": 3,
    "start_time": "2022-02-07T05:16:47.968Z"
   },
   {
    "duration": 20,
    "start_time": "2022-02-07T05:16:47.973Z"
   },
   {
    "duration": 137,
    "start_time": "2022-02-07T05:16:47.995Z"
   },
   {
    "duration": 19,
    "start_time": "2022-02-07T05:16:48.133Z"
   },
   {
    "duration": 51,
    "start_time": "2022-02-07T05:16:48.153Z"
   },
   {
    "duration": 73,
    "start_time": "2022-02-07T05:16:48.205Z"
   },
   {
    "duration": 53,
    "start_time": "2022-02-07T05:16:48.280Z"
   },
   {
    "duration": 42,
    "start_time": "2022-02-07T05:16:48.335Z"
   },
   {
    "duration": 3,
    "start_time": "2022-02-07T05:16:48.379Z"
   },
   {
    "duration": 15,
    "start_time": "2022-02-07T05:16:48.383Z"
   },
   {
    "duration": 58,
    "start_time": "2022-02-07T05:16:48.399Z"
   },
   {
    "duration": 11,
    "start_time": "2022-02-07T05:16:48.458Z"
   },
   {
    "duration": 10,
    "start_time": "2022-02-07T05:16:48.471Z"
   },
   {
    "duration": 3,
    "start_time": "2022-02-07T05:16:48.483Z"
   },
   {
    "duration": 19,
    "start_time": "2022-02-07T05:16:48.487Z"
   },
   {
    "duration": 28,
    "start_time": "2022-02-07T05:16:48.509Z"
   },
   {
    "duration": 12,
    "start_time": "2022-02-07T05:16:48.539Z"
   },
   {
    "duration": 11,
    "start_time": "2022-02-07T05:16:48.552Z"
   },
   {
    "duration": 13,
    "start_time": "2022-02-07T05:16:48.565Z"
   },
   {
    "duration": 12,
    "start_time": "2022-02-07T05:16:48.579Z"
   },
   {
    "duration": 37,
    "start_time": "2022-02-07T05:16:48.593Z"
   },
   {
    "duration": 13,
    "start_time": "2022-02-07T05:16:48.631Z"
   },
   {
    "duration": 8,
    "start_time": "2022-02-07T05:16:48.645Z"
   },
   {
    "duration": 3,
    "start_time": "2022-02-07T05:16:48.655Z"
   },
   {
    "duration": 25,
    "start_time": "2022-02-07T05:16:48.659Z"
   },
   {
    "duration": 15,
    "start_time": "2022-02-07T05:16:48.686Z"
   },
   {
    "duration": 38,
    "start_time": "2022-02-07T05:16:48.703Z"
   },
   {
    "duration": 14,
    "start_time": "2022-02-07T05:16:48.743Z"
   },
   {
    "duration": 2,
    "start_time": "2022-02-07T05:16:48.759Z"
   },
   {
    "duration": 4,
    "start_time": "2022-02-07T05:16:48.762Z"
   },
   {
    "duration": 4,
    "start_time": "2022-02-07T05:16:48.767Z"
   },
   {
    "duration": 4,
    "start_time": "2022-02-07T05:16:48.773Z"
   },
   {
    "duration": 332,
    "start_time": "2022-02-07T17:59:54.275Z"
   },
   {
    "duration": 1195,
    "start_time": "2022-02-07T18:00:16.885Z"
   },
   {
    "duration": 181,
    "start_time": "2022-02-07T18:00:18.082Z"
   },
   {
    "duration": 26,
    "start_time": "2022-02-07T18:00:18.266Z"
   },
   {
    "duration": 11,
    "start_time": "2022-02-07T18:00:18.296Z"
   },
   {
    "duration": 10,
    "start_time": "2022-02-07T18:00:18.310Z"
   },
   {
    "duration": 29,
    "start_time": "2022-02-07T18:00:18.349Z"
   },
   {
    "duration": 5,
    "start_time": "2022-02-07T18:00:18.380Z"
   },
   {
    "duration": 29,
    "start_time": "2022-02-07T18:00:18.390Z"
   },
   {
    "duration": 199,
    "start_time": "2022-02-07T18:00:18.422Z"
   },
   {
    "duration": 33,
    "start_time": "2022-02-07T18:00:18.624Z"
   },
   {
    "duration": 98,
    "start_time": "2022-02-07T18:00:18.660Z"
   },
   {
    "duration": 113,
    "start_time": "2022-02-07T18:00:18.761Z"
   },
   {
    "duration": 102,
    "start_time": "2022-02-07T18:00:18.877Z"
   },
   {
    "duration": 88,
    "start_time": "2022-02-07T18:00:18.981Z"
   },
   {
    "duration": 4,
    "start_time": "2022-02-07T18:00:19.072Z"
   },
   {
    "duration": 25,
    "start_time": "2022-02-07T18:00:19.078Z"
   },
   {
    "duration": 86,
    "start_time": "2022-02-07T18:00:19.106Z"
   },
   {
    "duration": 18,
    "start_time": "2022-02-07T18:00:19.194Z"
   },
   {
    "duration": 37,
    "start_time": "2022-02-07T18:00:19.215Z"
   },
   {
    "duration": 5,
    "start_time": "2022-02-07T18:00:19.254Z"
   },
   {
    "duration": 37,
    "start_time": "2022-02-07T18:00:19.262Z"
   },
   {
    "duration": 19,
    "start_time": "2022-02-07T18:00:19.302Z"
   },
   {
    "duration": 40,
    "start_time": "2022-02-07T18:00:19.326Z"
   },
   {
    "duration": 17,
    "start_time": "2022-02-07T18:00:19.369Z"
   },
   {
    "duration": 20,
    "start_time": "2022-02-07T18:00:19.389Z"
   },
   {
    "duration": 47,
    "start_time": "2022-02-07T18:00:19.412Z"
   },
   {
    "duration": 12,
    "start_time": "2022-02-07T18:00:19.462Z"
   },
   {
    "duration": 20,
    "start_time": "2022-02-07T18:00:19.476Z"
   },
   {
    "duration": 13,
    "start_time": "2022-02-07T18:00:19.498Z"
   },
   {
    "duration": 38,
    "start_time": "2022-02-07T18:00:19.513Z"
   },
   {
    "duration": 37,
    "start_time": "2022-02-07T18:00:19.554Z"
   },
   {
    "duration": 27,
    "start_time": "2022-02-07T18:00:19.593Z"
   },
   {
    "duration": 56,
    "start_time": "2022-02-07T18:00:19.623Z"
   },
   {
    "duration": 25,
    "start_time": "2022-02-07T18:00:19.682Z"
   },
   {
    "duration": 455,
    "start_time": "2022-02-07T18:00:19.710Z"
   },
   {
    "duration": 212,
    "start_time": "2022-02-07T18:00:19.956Z"
   },
   {
    "duration": 210,
    "start_time": "2022-02-07T18:00:19.960Z"
   },
   {
    "duration": 209,
    "start_time": "2022-02-07T18:00:19.963Z"
   },
   {
    "duration": 341,
    "start_time": "2022-02-07T18:00:25.374Z"
   },
   {
    "duration": 32,
    "start_time": "2022-02-07T18:00:35.096Z"
   },
   {
    "duration": 13,
    "start_time": "2022-02-07T18:00:51.591Z"
   },
   {
    "duration": 37,
    "start_time": "2022-02-07T18:01:01.615Z"
   },
   {
    "duration": 12,
    "start_time": "2022-02-07T18:01:03.502Z"
   },
   {
    "duration": 487,
    "start_time": "2022-02-07T18:03:45.125Z"
   },
   {
    "duration": 37,
    "start_time": "2022-02-07T18:04:30.476Z"
   },
   {
    "duration": 12,
    "start_time": "2022-02-07T18:04:31.620Z"
   },
   {
    "duration": 247,
    "start_time": "2022-02-07T18:05:02.675Z"
   },
   {
    "duration": 235,
    "start_time": "2022-02-07T18:05:15.115Z"
   },
   {
    "duration": 37,
    "start_time": "2022-02-07T18:06:04.624Z"
   },
   {
    "duration": 12,
    "start_time": "2022-02-07T18:06:05.923Z"
   },
   {
    "duration": 854,
    "start_time": "2022-02-07T18:06:45.139Z"
   },
   {
    "duration": 203,
    "start_time": "2022-02-07T18:06:45.793Z"
   },
   {
    "duration": 241,
    "start_time": "2022-02-07T18:06:53.690Z"
   },
   {
    "duration": 12,
    "start_time": "2022-02-07T18:07:03.842Z"
   },
   {
    "duration": 7,
    "start_time": "2022-02-07T18:07:05.025Z"
   },
   {
    "duration": 8,
    "start_time": "2022-02-07T18:08:16.305Z"
   },
   {
    "duration": 281,
    "start_time": "2022-02-07T18:08:17.168Z"
   },
   {
    "duration": 8,
    "start_time": "2022-02-07T18:08:41.185Z"
   },
   {
    "duration": 7,
    "start_time": "2022-02-07T18:08:42.064Z"
   },
   {
    "duration": 678,
    "start_time": "2022-02-13T14:13:14.122Z"
   },
   {
    "duration": 156,
    "start_time": "2022-02-13T14:13:14.802Z"
   },
   {
    "duration": 18,
    "start_time": "2022-02-13T14:13:14.961Z"
   },
   {
    "duration": 40,
    "start_time": "2022-02-13T14:13:14.981Z"
   },
   {
    "duration": 5,
    "start_time": "2022-02-13T14:13:15.023Z"
   },
   {
    "duration": 40,
    "start_time": "2022-02-13T14:13:15.030Z"
   },
   {
    "duration": 16,
    "start_time": "2022-02-13T14:13:15.072Z"
   },
   {
    "duration": 29,
    "start_time": "2022-02-13T14:13:15.091Z"
   },
   {
    "duration": 150,
    "start_time": "2022-02-13T14:13:15.122Z"
   },
   {
    "duration": 44,
    "start_time": "2022-02-13T14:13:15.275Z"
   },
   {
    "duration": 63,
    "start_time": "2022-02-13T14:13:15.322Z"
   },
   {
    "duration": 89,
    "start_time": "2022-02-13T14:13:15.386Z"
   },
   {
    "duration": 73,
    "start_time": "2022-02-13T14:13:15.477Z"
   },
   {
    "duration": 56,
    "start_time": "2022-02-13T14:13:15.552Z"
   },
   {
    "duration": 3,
    "start_time": "2022-02-13T14:13:15.611Z"
   },
   {
    "duration": 21,
    "start_time": "2022-02-13T14:13:15.616Z"
   },
   {
    "duration": 45,
    "start_time": "2022-02-13T14:13:15.639Z"
   },
   {
    "duration": 36,
    "start_time": "2022-02-13T14:13:15.686Z"
   },
   {
    "duration": 14,
    "start_time": "2022-02-13T14:13:15.724Z"
   },
   {
    "duration": 4,
    "start_time": "2022-02-13T14:13:15.740Z"
   },
   {
    "duration": 31,
    "start_time": "2022-02-13T14:13:15.746Z"
   },
   {
    "duration": 39,
    "start_time": "2022-02-13T14:13:15.779Z"
   },
   {
    "duration": 17,
    "start_time": "2022-02-13T14:13:15.821Z"
   },
   {
    "duration": 16,
    "start_time": "2022-02-13T14:13:15.841Z"
   },
   {
    "duration": 49,
    "start_time": "2022-02-13T14:13:15.859Z"
   },
   {
    "duration": 17,
    "start_time": "2022-02-13T14:13:15.910Z"
   },
   {
    "duration": 9,
    "start_time": "2022-02-13T14:13:15.929Z"
   },
   {
    "duration": 14,
    "start_time": "2022-02-13T14:13:15.941Z"
   },
   {
    "duration": 11,
    "start_time": "2022-02-13T14:13:15.957Z"
   },
   {
    "duration": 4,
    "start_time": "2022-02-13T14:13:15.970Z"
   },
   {
    "duration": 30,
    "start_time": "2022-02-13T14:13:16.009Z"
   },
   {
    "duration": 20,
    "start_time": "2022-02-13T14:13:16.041Z"
   },
   {
    "duration": 57,
    "start_time": "2022-02-13T14:13:16.064Z"
   },
   {
    "duration": 24,
    "start_time": "2022-02-13T14:13:16.123Z"
   },
   {
    "duration": 8,
    "start_time": "2022-02-13T14:13:16.149Z"
   },
   {
    "duration": 7,
    "start_time": "2022-02-13T14:13:16.159Z"
   },
   {
    "duration": 8,
    "start_time": "2022-02-13T14:13:16.167Z"
   },
   {
    "duration": 31,
    "start_time": "2022-02-13T14:13:16.177Z"
   },
   {
    "duration": 34,
    "start_time": "2022-02-13T14:15:35.852Z"
   },
   {
    "duration": 3,
    "start_time": "2022-02-13T14:25:05.318Z"
   },
   {
    "duration": 13,
    "start_time": "2022-02-13T14:25:07.710Z"
   },
   {
    "duration": 46,
    "start_time": "2022-02-13T14:25:14.061Z"
   },
   {
    "duration": 4,
    "start_time": "2022-02-13T14:25:20.453Z"
   },
   {
    "duration": 19,
    "start_time": "2022-02-13T14:28:17.172Z"
   },
   {
    "duration": 290,
    "start_time": "2022-02-13T18:57:33.458Z"
   },
   {
    "duration": 776,
    "start_time": "2022-02-13T18:57:46.222Z"
   },
   {
    "duration": 180,
    "start_time": "2022-02-13T18:57:47.000Z"
   },
   {
    "duration": 28,
    "start_time": "2022-02-13T18:57:47.183Z"
   },
   {
    "duration": 9,
    "start_time": "2022-02-13T18:57:47.213Z"
   },
   {
    "duration": 11,
    "start_time": "2022-02-13T18:57:47.224Z"
   },
   {
    "duration": 23,
    "start_time": "2022-02-13T18:57:47.237Z"
   },
   {
    "duration": 7,
    "start_time": "2022-02-13T18:57:47.262Z"
   },
   {
    "duration": 45,
    "start_time": "2022-02-13T18:57:47.272Z"
   },
   {
    "duration": 156,
    "start_time": "2022-02-13T18:57:47.320Z"
   },
   {
    "duration": 30,
    "start_time": "2022-02-13T18:57:47.478Z"
   },
   {
    "duration": 68,
    "start_time": "2022-02-13T18:57:47.510Z"
   },
   {
    "duration": 73,
    "start_time": "2022-02-13T18:57:47.580Z"
   },
   {
    "duration": 66,
    "start_time": "2022-02-13T18:57:47.655Z"
   },
   {
    "duration": 53,
    "start_time": "2022-02-13T18:57:47.723Z"
   },
   {
    "duration": 3,
    "start_time": "2022-02-13T18:57:47.778Z"
   },
   {
    "duration": 35,
    "start_time": "2022-02-13T18:57:47.783Z"
   },
   {
    "duration": 43,
    "start_time": "2022-02-13T18:57:47.820Z"
   },
   {
    "duration": 16,
    "start_time": "2022-02-13T18:57:47.864Z"
   },
   {
    "duration": 36,
    "start_time": "2022-02-13T18:57:47.881Z"
   },
   {
    "duration": 3,
    "start_time": "2022-02-13T18:57:47.919Z"
   },
   {
    "duration": 29,
    "start_time": "2022-02-13T18:57:47.924Z"
   },
   {
    "duration": 16,
    "start_time": "2022-02-13T18:57:47.955Z"
   },
   {
    "duration": 43,
    "start_time": "2022-02-13T18:57:47.975Z"
   },
   {
    "duration": 17,
    "start_time": "2022-02-13T18:57:48.021Z"
   },
   {
    "duration": 20,
    "start_time": "2022-02-13T18:57:48.040Z"
   },
   {
    "duration": 51,
    "start_time": "2022-02-13T18:57:48.062Z"
   },
   {
    "duration": 9,
    "start_time": "2022-02-13T18:57:48.115Z"
   },
   {
    "duration": 21,
    "start_time": "2022-02-13T18:57:48.125Z"
   },
   {
    "duration": 10,
    "start_time": "2022-02-13T18:57:48.149Z"
   },
   {
    "duration": 4,
    "start_time": "2022-02-13T18:57:48.161Z"
   },
   {
    "duration": 52,
    "start_time": "2022-02-13T18:57:48.167Z"
   },
   {
    "duration": 22,
    "start_time": "2022-02-13T18:57:48.221Z"
   },
   {
    "duration": 25,
    "start_time": "2022-02-13T18:57:48.244Z"
   },
   {
    "duration": 44,
    "start_time": "2022-02-13T18:57:48.271Z"
   },
   {
    "duration": 9,
    "start_time": "2022-02-13T18:57:48.317Z"
   },
   {
    "duration": 4,
    "start_time": "2022-02-13T18:57:48.328Z"
   },
   {
    "duration": 9,
    "start_time": "2022-02-13T18:57:48.334Z"
   },
   {
    "duration": 5,
    "start_time": "2022-02-13T18:57:48.344Z"
   },
   {
    "duration": 37,
    "start_time": "2022-02-13T18:58:19.294Z"
   },
   {
    "duration": 39,
    "start_time": "2022-02-13T19:01:36.229Z"
   },
   {
    "duration": 38,
    "start_time": "2022-02-13T19:03:50.467Z"
   },
   {
    "duration": 9,
    "start_time": "2022-02-13T19:05:15.243Z"
   },
   {
    "duration": 10,
    "start_time": "2022-02-13T19:06:53.649Z"
   },
   {
    "duration": 3,
    "start_time": "2022-02-13T19:07:00.173Z"
   },
   {
    "duration": 187,
    "start_time": "2022-02-13T19:07:00.179Z"
   },
   {
    "duration": 12,
    "start_time": "2022-02-13T19:07:00.368Z"
   },
   {
    "duration": 59,
    "start_time": "2022-02-13T19:07:00.382Z"
   },
   {
    "duration": 6,
    "start_time": "2022-02-13T19:07:00.444Z"
   },
   {
    "duration": 40,
    "start_time": "2022-02-13T19:07:00.452Z"
   },
   {
    "duration": 14,
    "start_time": "2022-02-13T19:07:00.495Z"
   },
   {
    "duration": 36,
    "start_time": "2022-02-13T19:07:00.511Z"
   },
   {
    "duration": 171,
    "start_time": "2022-02-13T19:07:00.549Z"
   },
   {
    "duration": 25,
    "start_time": "2022-02-13T19:07:00.722Z"
   },
   {
    "duration": 78,
    "start_time": "2022-02-13T19:07:00.749Z"
   },
   {
    "duration": 78,
    "start_time": "2022-02-13T19:07:00.829Z"
   },
   {
    "duration": 59,
    "start_time": "2022-02-13T19:07:00.910Z"
   },
   {
    "duration": 60,
    "start_time": "2022-02-13T19:07:00.972Z"
   },
   {
    "duration": 5,
    "start_time": "2022-02-13T19:07:01.035Z"
   },
   {
    "duration": 22,
    "start_time": "2022-02-13T19:07:01.042Z"
   },
   {
    "duration": 64,
    "start_time": "2022-02-13T19:07:01.067Z"
   },
   {
    "duration": 13,
    "start_time": "2022-02-13T19:07:01.133Z"
   },
   {
    "duration": 41,
    "start_time": "2022-02-13T19:07:01.150Z"
   },
   {
    "duration": 3,
    "start_time": "2022-02-13T19:07:01.194Z"
   },
   {
    "duration": 41,
    "start_time": "2022-02-13T19:07:01.200Z"
   },
   {
    "duration": 24,
    "start_time": "2022-02-13T19:07:01.243Z"
   },
   {
    "duration": 39,
    "start_time": "2022-02-13T19:07:01.270Z"
   },
   {
    "duration": 42,
    "start_time": "2022-02-13T19:07:01.311Z"
   },
   {
    "duration": 24,
    "start_time": "2022-02-13T19:07:01.356Z"
   },
   {
    "duration": 20,
    "start_time": "2022-02-13T19:07:01.383Z"
   },
   {
    "duration": 29,
    "start_time": "2022-02-13T19:07:01.405Z"
   },
   {
    "duration": 35,
    "start_time": "2022-02-13T19:07:01.447Z"
   },
   {
    "duration": 26,
    "start_time": "2022-02-13T19:07:01.484Z"
   },
   {
    "duration": 10,
    "start_time": "2022-02-13T19:07:01.513Z"
   },
   {
    "duration": 81,
    "start_time": "2022-02-13T19:07:01.526Z"
   },
   {
    "duration": 44,
    "start_time": "2022-02-13T19:07:01.610Z"
   },
   {
    "duration": 28,
    "start_time": "2022-02-13T19:07:01.657Z"
   },
   {
    "duration": 24,
    "start_time": "2022-02-13T19:07:01.687Z"
   },
   {
    "duration": 10,
    "start_time": "2022-02-13T19:07:01.714Z"
   },
   {
    "duration": 10,
    "start_time": "2022-02-13T19:07:01.726Z"
   },
   {
    "duration": 10,
    "start_time": "2022-02-13T19:07:01.738Z"
   },
   {
    "duration": 19,
    "start_time": "2022-02-13T19:07:01.750Z"
   },
   {
    "duration": 21,
    "start_time": "2022-02-13T19:08:01.168Z"
   },
   {
    "duration": 20,
    "start_time": "2022-02-13T19:08:02.135Z"
   },
   {
    "duration": 15,
    "start_time": "2022-02-13T19:08:25.200Z"
   },
   {
    "duration": 21,
    "start_time": "2022-02-13T19:08:43.246Z"
   },
   {
    "duration": 4,
    "start_time": "2022-02-13T19:11:06.253Z"
   },
   {
    "duration": 3,
    "start_time": "2022-02-13T19:11:13.490Z"
   },
   {
    "duration": 173,
    "start_time": "2022-02-13T19:11:13.495Z"
   },
   {
    "duration": 13,
    "start_time": "2022-02-13T19:11:13.670Z"
   },
   {
    "duration": 48,
    "start_time": "2022-02-13T19:11:13.685Z"
   },
   {
    "duration": 8,
    "start_time": "2022-02-13T19:11:13.735Z"
   },
   {
    "duration": 18,
    "start_time": "2022-02-13T19:11:13.745Z"
   },
   {
    "duration": 5,
    "start_time": "2022-02-13T19:11:13.765Z"
   },
   {
    "duration": 50,
    "start_time": "2022-02-13T19:11:13.772Z"
   },
   {
    "duration": 142,
    "start_time": "2022-02-13T19:11:13.824Z"
   },
   {
    "duration": 26,
    "start_time": "2022-02-13T19:11:13.968Z"
   },
   {
    "duration": 60,
    "start_time": "2022-02-13T19:11:14.007Z"
   },
   {
    "duration": 85,
    "start_time": "2022-02-13T19:11:14.069Z"
   },
   {
    "duration": 60,
    "start_time": "2022-02-13T19:11:14.156Z"
   },
   {
    "duration": 44,
    "start_time": "2022-02-13T19:11:14.218Z"
   },
   {
    "duration": 2,
    "start_time": "2022-02-13T19:11:14.264Z"
   },
   {
    "duration": 572,
    "start_time": "2022-02-13T19:11:14.269Z"
   },
   {
    "duration": -215,
    "start_time": "2022-02-13T19:11:15.059Z"
   },
   {
    "duration": -220,
    "start_time": "2022-02-13T19:11:15.066Z"
   },
   {
    "duration": -226,
    "start_time": "2022-02-13T19:11:15.073Z"
   },
   {
    "duration": -229,
    "start_time": "2022-02-13T19:11:15.078Z"
   },
   {
    "duration": -234,
    "start_time": "2022-02-13T19:11:15.084Z"
   },
   {
    "duration": -238,
    "start_time": "2022-02-13T19:11:15.090Z"
   },
   {
    "duration": -242,
    "start_time": "2022-02-13T19:11:15.096Z"
   },
   {
    "duration": -248,
    "start_time": "2022-02-13T19:11:15.103Z"
   },
   {
    "duration": -251,
    "start_time": "2022-02-13T19:11:15.108Z"
   },
   {
    "duration": -255,
    "start_time": "2022-02-13T19:11:15.114Z"
   },
   {
    "duration": -260,
    "start_time": "2022-02-13T19:11:15.120Z"
   },
   {
    "duration": -272,
    "start_time": "2022-02-13T19:11:15.134Z"
   },
   {
    "duration": -277,
    "start_time": "2022-02-13T19:11:15.140Z"
   },
   {
    "duration": -282,
    "start_time": "2022-02-13T19:11:15.147Z"
   },
   {
    "duration": -289,
    "start_time": "2022-02-13T19:11:15.154Z"
   },
   {
    "duration": -294,
    "start_time": "2022-02-13T19:11:15.161Z"
   },
   {
    "duration": -297,
    "start_time": "2022-02-13T19:11:15.165Z"
   },
   {
    "duration": -300,
    "start_time": "2022-02-13T19:11:15.169Z"
   },
   {
    "duration": -304,
    "start_time": "2022-02-13T19:11:15.174Z"
   },
   {
    "duration": -307,
    "start_time": "2022-02-13T19:11:15.178Z"
   },
   {
    "duration": -310,
    "start_time": "2022-02-13T19:11:15.182Z"
   },
   {
    "duration": -314,
    "start_time": "2022-02-13T19:11:15.188Z"
   },
   {
    "duration": 3,
    "start_time": "2022-02-13T19:12:06.597Z"
   },
   {
    "duration": 15,
    "start_time": "2022-02-13T19:12:07.965Z"
   },
   {
    "duration": 43,
    "start_time": "2022-02-13T19:12:12.659Z"
   },
   {
    "duration": 2,
    "start_time": "2022-02-13T19:12:20.471Z"
   },
   {
    "duration": 167,
    "start_time": "2022-02-13T19:12:20.476Z"
   },
   {
    "duration": 10,
    "start_time": "2022-02-13T19:12:20.646Z"
   },
   {
    "duration": 28,
    "start_time": "2022-02-13T19:12:20.658Z"
   },
   {
    "duration": 21,
    "start_time": "2022-02-13T19:12:20.688Z"
   },
   {
    "duration": 26,
    "start_time": "2022-02-13T19:12:20.711Z"
   },
   {
    "duration": 5,
    "start_time": "2022-02-13T19:12:20.739Z"
   },
   {
    "duration": 26,
    "start_time": "2022-02-13T19:12:20.747Z"
   },
   {
    "duration": 167,
    "start_time": "2022-02-13T19:12:20.775Z"
   },
   {
    "duration": 25,
    "start_time": "2022-02-13T19:12:20.944Z"
   },
   {
    "duration": 82,
    "start_time": "2022-02-13T19:12:20.971Z"
   },
   {
    "duration": 83,
    "start_time": "2022-02-13T19:12:21.055Z"
   },
   {
    "duration": 58,
    "start_time": "2022-02-13T19:12:21.140Z"
   },
   {
    "duration": 50,
    "start_time": "2022-02-13T19:12:21.208Z"
   },
   {
    "duration": 8,
    "start_time": "2022-02-13T19:12:21.260Z"
   },
   {
    "duration": 38,
    "start_time": "2022-02-13T19:12:21.269Z"
   },
   {
    "duration": 55,
    "start_time": "2022-02-13T19:12:21.310Z"
   },
   {
    "duration": 33,
    "start_time": "2022-02-13T19:12:21.368Z"
   },
   {
    "duration": 14,
    "start_time": "2022-02-13T19:12:21.406Z"
   },
   {
    "duration": 4,
    "start_time": "2022-02-13T19:12:21.422Z"
   },
   {
    "duration": 30,
    "start_time": "2022-02-13T19:12:21.428Z"
   },
   {
    "duration": 19,
    "start_time": "2022-02-13T19:12:21.460Z"
   },
   {
    "duration": 37,
    "start_time": "2022-02-13T19:12:21.481Z"
   },
   {
    "duration": 16,
    "start_time": "2022-02-13T19:12:21.520Z"
   },
   {
    "duration": 18,
    "start_time": "2022-02-13T19:12:21.538Z"
   },
   {
    "duration": 16,
    "start_time": "2022-02-13T19:12:21.558Z"
   },
   {
    "duration": 9,
    "start_time": "2022-02-13T19:12:21.608Z"
   },
   {
    "duration": 33,
    "start_time": "2022-02-13T19:12:21.620Z"
   },
   {
    "duration": 21,
    "start_time": "2022-02-13T19:12:21.655Z"
   },
   {
    "duration": 4,
    "start_time": "2022-02-13T19:12:21.679Z"
   },
   {
    "duration": 48,
    "start_time": "2022-02-13T19:12:21.685Z"
   },
   {
    "duration": 22,
    "start_time": "2022-02-13T19:12:21.735Z"
   },
   {
    "duration": 45,
    "start_time": "2022-02-13T19:12:21.770Z"
   },
   {
    "duration": 19,
    "start_time": "2022-02-13T19:12:21.817Z"
   },
   {
    "duration": 10,
    "start_time": "2022-02-13T19:12:21.838Z"
   },
   {
    "duration": 7,
    "start_time": "2022-02-13T19:12:21.850Z"
   },
   {
    "duration": 29,
    "start_time": "2022-02-13T19:12:21.859Z"
   },
   {
    "duration": 22,
    "start_time": "2022-02-13T19:12:21.890Z"
   },
   {
    "duration": 4,
    "start_time": "2022-02-13T19:23:29.589Z"
   },
   {
    "duration": 20,
    "start_time": "2022-02-13T19:23:35.309Z"
   },
   {
    "duration": 21,
    "start_time": "2022-02-13T19:23:37.708Z"
   },
   {
    "duration": 29,
    "start_time": "2022-02-13T19:23:38.013Z"
   },
   {
    "duration": 16,
    "start_time": "2022-02-13T19:23:38.588Z"
   },
   {
    "duration": 10,
    "start_time": "2022-02-13T19:23:42.450Z"
   },
   {
    "duration": 6,
    "start_time": "2022-02-13T19:23:42.850Z"
   },
   {
    "duration": 7,
    "start_time": "2022-02-13T19:23:43.483Z"
   },
   {
    "duration": 5,
    "start_time": "2022-02-13T19:23:44.035Z"
   },
   {
    "duration": 65,
    "start_time": "2022-02-13T19:41:49.403Z"
   },
   {
    "duration": 77,
    "start_time": "2022-02-13T19:42:08.422Z"
   },
   {
    "duration": 3,
    "start_time": "2022-02-13T19:45:46.300Z"
   },
   {
    "duration": 110,
    "start_time": "2022-02-13T19:53:13.382Z"
   },
   {
    "duration": 11,
    "start_time": "2022-02-13T19:53:21.062Z"
   },
   {
    "duration": 209,
    "start_time": "2022-02-13T19:54:10.360Z"
   },
   {
    "duration": 12,
    "start_time": "2022-02-13T19:55:40.492Z"
   },
   {
    "duration": 65,
    "start_time": "2022-02-13T19:57:54.027Z"
   },
   {
    "duration": 66,
    "start_time": "2022-02-13T20:00:20.633Z"
   },
   {
    "duration": 12,
    "start_time": "2022-02-13T20:00:27.513Z"
   },
   {
    "duration": 11,
    "start_time": "2022-02-13T20:01:17.936Z"
   },
   {
    "duration": 594,
    "start_time": "2022-02-13T20:02:22.135Z"
   },
   {
    "duration": 151,
    "start_time": "2022-02-13T20:02:22.731Z"
   },
   {
    "duration": 25,
    "start_time": "2022-02-13T20:02:22.885Z"
   },
   {
    "duration": 27,
    "start_time": "2022-02-13T20:02:22.912Z"
   },
   {
    "duration": 4,
    "start_time": "2022-02-13T20:02:22.941Z"
   },
   {
    "duration": 23,
    "start_time": "2022-02-13T20:02:22.947Z"
   },
   {
    "duration": 37,
    "start_time": "2022-02-13T20:02:22.972Z"
   },
   {
    "duration": 25,
    "start_time": "2022-02-13T20:02:23.012Z"
   },
   {
    "duration": 172,
    "start_time": "2022-02-13T20:02:23.039Z"
   },
   {
    "duration": 25,
    "start_time": "2022-02-13T20:02:23.213Z"
   },
   {
    "duration": 78,
    "start_time": "2022-02-13T20:02:23.240Z"
   },
   {
    "duration": 77,
    "start_time": "2022-02-13T20:02:23.320Z"
   },
   {
    "duration": 57,
    "start_time": "2022-02-13T20:02:23.407Z"
   },
   {
    "duration": 56,
    "start_time": "2022-02-13T20:02:23.466Z"
   },
   {
    "duration": 10,
    "start_time": "2022-02-13T20:02:23.524Z"
   },
   {
    "duration": 32,
    "start_time": "2022-02-13T20:02:23.536Z"
   },
   {
    "duration": 57,
    "start_time": "2022-02-13T20:02:23.570Z"
   },
   {
    "duration": 21,
    "start_time": "2022-02-13T20:02:23.629Z"
   },
   {
    "duration": 20,
    "start_time": "2022-02-13T20:02:23.652Z"
   },
   {
    "duration": 9,
    "start_time": "2022-02-13T20:02:23.674Z"
   },
   {
    "duration": 34,
    "start_time": "2022-02-13T20:02:23.684Z"
   },
   {
    "duration": 17,
    "start_time": "2022-02-13T20:02:23.719Z"
   },
   {
    "duration": 18,
    "start_time": "2022-02-13T20:02:23.740Z"
   },
   {
    "duration": 16,
    "start_time": "2022-02-13T20:02:23.760Z"
   },
   {
    "duration": 19,
    "start_time": "2022-02-13T20:02:23.806Z"
   },
   {
    "duration": 17,
    "start_time": "2022-02-13T20:02:23.827Z"
   },
   {
    "duration": 8,
    "start_time": "2022-02-13T20:02:23.847Z"
   },
   {
    "duration": 52,
    "start_time": "2022-02-13T20:02:23.857Z"
   },
   {
    "duration": 20,
    "start_time": "2022-02-13T20:02:23.911Z"
   },
   {
    "duration": 5,
    "start_time": "2022-02-13T20:02:23.933Z"
   },
   {
    "duration": 267,
    "start_time": "2022-02-13T20:02:23.939Z"
   },
   {
    "duration": -213,
    "start_time": "2022-02-13T20:02:24.421Z"
   },
   {
    "duration": -235,
    "start_time": "2022-02-13T20:02:24.444Z"
   },
   {
    "duration": -237,
    "start_time": "2022-02-13T20:02:24.448Z"
   },
   {
    "duration": -239,
    "start_time": "2022-02-13T20:02:24.451Z"
   },
   {
    "duration": -241,
    "start_time": "2022-02-13T20:02:24.454Z"
   },
   {
    "duration": -243,
    "start_time": "2022-02-13T20:02:24.457Z"
   },
   {
    "duration": -245,
    "start_time": "2022-02-13T20:02:24.460Z"
   },
   {
    "duration": -246,
    "start_time": "2022-02-13T20:02:24.463Z"
   },
   {
    "duration": 3,
    "start_time": "2022-02-13T20:04:34.894Z"
   },
   {
    "duration": 8,
    "start_time": "2022-02-13T20:04:36.732Z"
   },
   {
    "duration": 4,
    "start_time": "2022-02-13T20:05:04.461Z"
   },
   {
    "duration": 8,
    "start_time": "2022-02-13T20:05:06.267Z"
   },
   {
    "duration": 46,
    "start_time": "2022-02-13T20:05:10.420Z"
   },
   {
    "duration": 4,
    "start_time": "2022-02-13T20:05:34.916Z"
   },
   {
    "duration": 10,
    "start_time": "2022-02-13T20:05:36.516Z"
   },
   {
    "duration": 43,
    "start_time": "2022-02-13T20:05:42.963Z"
   },
   {
    "duration": 3,
    "start_time": "2022-02-13T20:06:35.860Z"
   },
   {
    "duration": 10,
    "start_time": "2022-02-13T20:06:37.475Z"
   },
   {
    "duration": 46,
    "start_time": "2022-02-13T20:06:41.651Z"
   },
   {
    "duration": 640,
    "start_time": "2022-02-13T20:07:09.073Z"
   },
   {
    "duration": 159,
    "start_time": "2022-02-13T20:07:09.716Z"
   },
   {
    "duration": 21,
    "start_time": "2022-02-13T20:07:09.877Z"
   },
   {
    "duration": 30,
    "start_time": "2022-02-13T20:07:09.909Z"
   },
   {
    "duration": 4,
    "start_time": "2022-02-13T20:07:09.941Z"
   },
   {
    "duration": 26,
    "start_time": "2022-02-13T20:07:09.947Z"
   },
   {
    "duration": 7,
    "start_time": "2022-02-13T20:07:09.975Z"
   },
   {
    "duration": 26,
    "start_time": "2022-02-13T20:07:10.009Z"
   },
   {
    "duration": 186,
    "start_time": "2022-02-13T20:07:10.038Z"
   },
   {
    "duration": 25,
    "start_time": "2022-02-13T20:07:10.227Z"
   },
   {
    "duration": 81,
    "start_time": "2022-02-13T20:07:10.253Z"
   },
   {
    "duration": 89,
    "start_time": "2022-02-13T20:07:10.336Z"
   },
   {
    "duration": 59,
    "start_time": "2022-02-13T20:07:10.427Z"
   },
   {
    "duration": 62,
    "start_time": "2022-02-13T20:07:10.488Z"
   },
   {
    "duration": 5,
    "start_time": "2022-02-13T20:07:10.552Z"
   },
   {
    "duration": 19,
    "start_time": "2022-02-13T20:07:10.559Z"
   },
   {
    "duration": 69,
    "start_time": "2022-02-13T20:07:10.580Z"
   },
   {
    "duration": 13,
    "start_time": "2022-02-13T20:07:10.651Z"
   },
   {
    "duration": 13,
    "start_time": "2022-02-13T20:07:10.666Z"
   },
   {
    "duration": 28,
    "start_time": "2022-02-13T20:07:10.681Z"
   },
   {
    "duration": 33,
    "start_time": "2022-02-13T20:07:10.712Z"
   },
   {
    "duration": 17,
    "start_time": "2022-02-13T20:07:10.747Z"
   },
   {
    "duration": 17,
    "start_time": "2022-02-13T20:07:10.768Z"
   },
   {
    "duration": 37,
    "start_time": "2022-02-13T20:07:10.787Z"
   },
   {
    "duration": 19,
    "start_time": "2022-02-13T20:07:10.826Z"
   },
   {
    "duration": 17,
    "start_time": "2022-02-13T20:07:10.848Z"
   },
   {
    "duration": 40,
    "start_time": "2022-02-13T20:07:10.867Z"
   },
   {
    "duration": 22,
    "start_time": "2022-02-13T20:07:10.909Z"
   },
   {
    "duration": 19,
    "start_time": "2022-02-13T20:07:10.933Z"
   },
   {
    "duration": 5,
    "start_time": "2022-02-13T20:07:10.954Z"
   },
   {
    "duration": 377,
    "start_time": "2022-02-13T20:07:10.960Z"
   },
   {
    "duration": -218,
    "start_time": "2022-02-13T20:07:11.557Z"
   },
   {
    "duration": -222,
    "start_time": "2022-02-13T20:07:11.562Z"
   },
   {
    "duration": -227,
    "start_time": "2022-02-13T20:07:11.568Z"
   },
   {
    "duration": -230,
    "start_time": "2022-02-13T20:07:11.572Z"
   },
   {
    "duration": -234,
    "start_time": "2022-02-13T20:07:11.577Z"
   },
   {
    "duration": -237,
    "start_time": "2022-02-13T20:07:11.582Z"
   },
   {
    "duration": -241,
    "start_time": "2022-02-13T20:07:11.587Z"
   },
   {
    "duration": -243,
    "start_time": "2022-02-13T20:07:11.591Z"
   },
   {
    "duration": 609,
    "start_time": "2022-02-13T20:08:13.616Z"
   },
   {
    "duration": 158,
    "start_time": "2022-02-13T20:08:14.226Z"
   },
   {
    "duration": 23,
    "start_time": "2022-02-13T20:08:14.387Z"
   },
   {
    "duration": 34,
    "start_time": "2022-02-13T20:08:14.412Z"
   },
   {
    "duration": 10,
    "start_time": "2022-02-13T20:08:14.450Z"
   },
   {
    "duration": 46,
    "start_time": "2022-02-13T20:08:14.462Z"
   },
   {
    "duration": 5,
    "start_time": "2022-02-13T20:08:14.510Z"
   },
   {
    "duration": 35,
    "start_time": "2022-02-13T20:08:14.518Z"
   },
   {
    "duration": 163,
    "start_time": "2022-02-13T20:08:14.555Z"
   },
   {
    "duration": 25,
    "start_time": "2022-02-13T20:08:14.720Z"
   },
   {
    "duration": 80,
    "start_time": "2022-02-13T20:08:14.748Z"
   },
   {
    "duration": 81,
    "start_time": "2022-02-13T20:08:14.829Z"
   },
   {
    "duration": 58,
    "start_time": "2022-02-13T20:08:14.912Z"
   },
   {
    "duration": 58,
    "start_time": "2022-02-13T20:08:14.972Z"
   },
   {
    "duration": 23,
    "start_time": "2022-02-13T20:08:15.032Z"
   },
   {
    "duration": 19,
    "start_time": "2022-02-13T20:08:15.058Z"
   },
   {
    "duration": 53,
    "start_time": "2022-02-13T20:08:15.079Z"
   },
   {
    "duration": 13,
    "start_time": "2022-02-13T20:08:15.134Z"
   },
   {
    "duration": 20,
    "start_time": "2022-02-13T20:08:15.149Z"
   },
   {
    "duration": 3,
    "start_time": "2022-02-13T20:08:15.171Z"
   },
   {
    "duration": 44,
    "start_time": "2022-02-13T20:08:15.176Z"
   },
   {
    "duration": 18,
    "start_time": "2022-02-13T20:08:15.222Z"
   },
   {
    "duration": 18,
    "start_time": "2022-02-13T20:08:15.243Z"
   },
   {
    "duration": 16,
    "start_time": "2022-02-13T20:08:15.263Z"
   },
   {
    "duration": 20,
    "start_time": "2022-02-13T20:08:15.308Z"
   },
   {
    "duration": 18,
    "start_time": "2022-02-13T20:08:15.330Z"
   },
   {
    "duration": 10,
    "start_time": "2022-02-13T20:08:15.350Z"
   },
   {
    "duration": 55,
    "start_time": "2022-02-13T20:08:15.363Z"
   },
   {
    "duration": 21,
    "start_time": "2022-02-13T20:08:15.421Z"
   },
   {
    "duration": 5,
    "start_time": "2022-02-13T20:08:15.445Z"
   },
   {
    "duration": 280,
    "start_time": "2022-02-13T20:08:15.452Z"
   },
   {
    "duration": -224,
    "start_time": "2022-02-13T20:08:15.959Z"
   },
   {
    "duration": -226,
    "start_time": "2022-02-13T20:08:15.963Z"
   },
   {
    "duration": -229,
    "start_time": "2022-02-13T20:08:15.967Z"
   },
   {
    "duration": -230,
    "start_time": "2022-02-13T20:08:15.970Z"
   },
   {
    "duration": -232,
    "start_time": "2022-02-13T20:08:15.974Z"
   },
   {
    "duration": -234,
    "start_time": "2022-02-13T20:08:15.977Z"
   },
   {
    "duration": -235,
    "start_time": "2022-02-13T20:08:15.980Z"
   },
   {
    "duration": -236,
    "start_time": "2022-02-13T20:08:15.983Z"
   },
   {
    "duration": 684,
    "start_time": "2022-02-13T20:09:45.242Z"
   },
   {
    "duration": 164,
    "start_time": "2022-02-13T20:09:45.929Z"
   },
   {
    "duration": 22,
    "start_time": "2022-02-13T20:09:46.096Z"
   },
   {
    "duration": 27,
    "start_time": "2022-02-13T20:09:46.121Z"
   },
   {
    "duration": 11,
    "start_time": "2022-02-13T20:09:46.149Z"
   },
   {
    "duration": 24,
    "start_time": "2022-02-13T20:09:46.161Z"
   },
   {
    "duration": 23,
    "start_time": "2022-02-13T20:09:46.186Z"
   },
   {
    "duration": 33,
    "start_time": "2022-02-13T20:09:46.212Z"
   },
   {
    "duration": 182,
    "start_time": "2022-02-13T20:09:46.247Z"
   },
   {
    "duration": 26,
    "start_time": "2022-02-13T20:09:46.432Z"
   },
   {
    "duration": 85,
    "start_time": "2022-02-13T20:09:46.460Z"
   },
   {
    "duration": 96,
    "start_time": "2022-02-13T20:09:46.547Z"
   },
   {
    "duration": 70,
    "start_time": "2022-02-13T20:09:46.645Z"
   },
   {
    "duration": 45,
    "start_time": "2022-02-13T20:09:46.717Z"
   },
   {
    "duration": 3,
    "start_time": "2022-02-13T20:09:46.765Z"
   },
   {
    "duration": 40,
    "start_time": "2022-02-13T20:09:46.771Z"
   },
   {
    "duration": 50,
    "start_time": "2022-02-13T20:09:46.813Z"
   },
   {
    "duration": 13,
    "start_time": "2022-02-13T20:09:46.865Z"
   },
   {
    "duration": 34,
    "start_time": "2022-02-13T20:09:46.880Z"
   },
   {
    "duration": 4,
    "start_time": "2022-02-13T20:09:46.916Z"
   },
   {
    "duration": 32,
    "start_time": "2022-02-13T20:09:46.922Z"
   },
   {
    "duration": 18,
    "start_time": "2022-02-13T20:09:46.956Z"
   },
   {
    "duration": 42,
    "start_time": "2022-02-13T20:09:46.977Z"
   },
   {
    "duration": 17,
    "start_time": "2022-02-13T20:09:47.021Z"
   },
   {
    "duration": 19,
    "start_time": "2022-02-13T20:09:47.040Z"
   },
   {
    "duration": 46,
    "start_time": "2022-02-13T20:09:47.061Z"
   },
   {
    "duration": 9,
    "start_time": "2022-02-13T20:09:47.110Z"
   },
   {
    "duration": 38,
    "start_time": "2022-02-13T20:09:47.121Z"
   },
   {
    "duration": 19,
    "start_time": "2022-02-13T20:09:47.161Z"
   },
   {
    "duration": 5,
    "start_time": "2022-02-13T20:09:47.182Z"
   },
   {
    "duration": 392,
    "start_time": "2022-02-13T20:09:47.189Z"
   },
   {
    "duration": -225,
    "start_time": "2022-02-13T20:09:47.808Z"
   },
   {
    "duration": -234,
    "start_time": "2022-02-13T20:09:47.818Z"
   },
   {
    "duration": -237,
    "start_time": "2022-02-13T20:09:47.821Z"
   },
   {
    "duration": -241,
    "start_time": "2022-02-13T20:09:47.826Z"
   },
   {
    "duration": -243,
    "start_time": "2022-02-13T20:09:47.829Z"
   },
   {
    "duration": -245,
    "start_time": "2022-02-13T20:09:47.832Z"
   },
   {
    "duration": -247,
    "start_time": "2022-02-13T20:09:47.835Z"
   },
   {
    "duration": -250,
    "start_time": "2022-02-13T20:09:47.839Z"
   },
   {
    "duration": 4,
    "start_time": "2022-02-13T20:10:09.549Z"
   },
   {
    "duration": 11,
    "start_time": "2022-02-13T20:10:13.196Z"
   },
   {
    "duration": 46,
    "start_time": "2022-02-13T20:10:15.813Z"
   },
   {
    "duration": 620,
    "start_time": "2022-02-13T20:10:25.895Z"
   },
   {
    "duration": 149,
    "start_time": "2022-02-13T20:10:26.517Z"
   },
   {
    "duration": 18,
    "start_time": "2022-02-13T20:10:26.668Z"
   },
   {
    "duration": 34,
    "start_time": "2022-02-13T20:10:26.688Z"
   },
   {
    "duration": 6,
    "start_time": "2022-02-13T20:10:26.724Z"
   },
   {
    "duration": 23,
    "start_time": "2022-02-13T20:10:26.731Z"
   },
   {
    "duration": 8,
    "start_time": "2022-02-13T20:10:26.757Z"
   },
   {
    "duration": 51,
    "start_time": "2022-02-13T20:10:26.768Z"
   },
   {
    "duration": 174,
    "start_time": "2022-02-13T20:10:26.822Z"
   },
   {
    "duration": 33,
    "start_time": "2022-02-13T20:10:26.998Z"
   },
   {
    "duration": 75,
    "start_time": "2022-02-13T20:10:27.033Z"
   },
   {
    "duration": 95,
    "start_time": "2022-02-13T20:10:27.112Z"
   },
   {
    "duration": 59,
    "start_time": "2022-02-13T20:10:27.210Z"
   },
   {
    "duration": 52,
    "start_time": "2022-02-13T20:10:27.271Z"
   },
   {
    "duration": 3,
    "start_time": "2022-02-13T20:10:27.325Z"
   },
   {
    "duration": 13,
    "start_time": "2022-02-13T20:10:27.330Z"
   },
   {
    "duration": 70,
    "start_time": "2022-02-13T20:10:27.345Z"
   },
   {
    "duration": 13,
    "start_time": "2022-02-13T20:10:27.417Z"
   },
   {
    "duration": 14,
    "start_time": "2022-02-13T20:10:27.432Z"
   },
   {
    "duration": 3,
    "start_time": "2022-02-13T20:10:27.448Z"
   },
   {
    "duration": 31,
    "start_time": "2022-02-13T20:10:27.453Z"
   },
   {
    "duration": 38,
    "start_time": "2022-02-13T20:10:27.485Z"
   },
   {
    "duration": 18,
    "start_time": "2022-02-13T20:10:27.527Z"
   },
   {
    "duration": 16,
    "start_time": "2022-02-13T20:10:27.548Z"
   },
   {
    "duration": 50,
    "start_time": "2022-02-13T20:10:27.567Z"
   },
   {
    "duration": 18,
    "start_time": "2022-02-13T20:10:27.619Z"
   },
   {
    "duration": 9,
    "start_time": "2022-02-13T20:10:27.639Z"
   },
   {
    "duration": 29,
    "start_time": "2022-02-13T20:10:27.650Z"
   },
   {
    "duration": 46,
    "start_time": "2022-02-13T20:10:27.681Z"
   },
   {
    "duration": 4,
    "start_time": "2022-02-13T20:10:27.729Z"
   },
   {
    "duration": 300,
    "start_time": "2022-02-13T20:10:27.736Z"
   },
   {
    "duration": -222,
    "start_time": "2022-02-13T20:10:28.260Z"
   },
   {
    "duration": -225,
    "start_time": "2022-02-13T20:10:28.264Z"
   },
   {
    "duration": -228,
    "start_time": "2022-02-13T20:10:28.268Z"
   },
   {
    "duration": -232,
    "start_time": "2022-02-13T20:10:28.273Z"
   },
   {
    "duration": -236,
    "start_time": "2022-02-13T20:10:28.278Z"
   },
   {
    "duration": -239,
    "start_time": "2022-02-13T20:10:28.282Z"
   },
   {
    "duration": -240,
    "start_time": "2022-02-13T20:10:28.285Z"
   },
   {
    "duration": -243,
    "start_time": "2022-02-13T20:10:28.289Z"
   },
   {
    "duration": 225,
    "start_time": "2022-02-13T20:13:47.688Z"
   },
   {
    "duration": 10,
    "start_time": "2022-02-13T20:14:25.279Z"
   },
   {
    "duration": 5,
    "start_time": "2022-02-13T20:14:26.798Z"
   },
   {
    "duration": 266,
    "start_time": "2022-02-13T20:14:28.254Z"
   },
   {
    "duration": 15,
    "start_time": "2022-02-13T20:14:29.983Z"
   },
   {
    "duration": 249,
    "start_time": "2022-02-13T20:14:30.758Z"
   },
   {
    "duration": 15,
    "start_time": "2022-02-13T20:14:31.399Z"
   },
   {
    "duration": 204,
    "start_time": "2022-02-13T20:14:58.178Z"
   },
   {
    "duration": 606,
    "start_time": "2022-02-13T20:15:09.135Z"
   },
   {
    "duration": 154,
    "start_time": "2022-02-13T20:15:09.744Z"
   },
   {
    "duration": 24,
    "start_time": "2022-02-13T20:15:09.901Z"
   },
   {
    "duration": 32,
    "start_time": "2022-02-13T20:15:09.927Z"
   },
   {
    "duration": 9,
    "start_time": "2022-02-13T20:15:09.961Z"
   },
   {
    "duration": 39,
    "start_time": "2022-02-13T20:15:09.971Z"
   },
   {
    "duration": 25,
    "start_time": "2022-02-13T20:15:10.012Z"
   },
   {
    "duration": 61,
    "start_time": "2022-02-13T20:15:10.041Z"
   },
   {
    "duration": 162,
    "start_time": "2022-02-13T20:15:10.105Z"
   },
   {
    "duration": 25,
    "start_time": "2022-02-13T20:15:10.269Z"
   },
   {
    "duration": 75,
    "start_time": "2022-02-13T20:15:10.296Z"
   },
   {
    "duration": 94,
    "start_time": "2022-02-13T20:15:10.373Z"
   },
   {
    "duration": 69,
    "start_time": "2022-02-13T20:15:10.469Z"
   },
   {
    "duration": 45,
    "start_time": "2022-02-13T20:15:10.541Z"
   },
   {
    "duration": 20,
    "start_time": "2022-02-13T20:15:10.588Z"
   },
   {
    "duration": 14,
    "start_time": "2022-02-13T20:15:10.610Z"
   },
   {
    "duration": 45,
    "start_time": "2022-02-13T20:15:10.626Z"
   },
   {
    "duration": 38,
    "start_time": "2022-02-13T20:15:10.673Z"
   },
   {
    "duration": 15,
    "start_time": "2022-02-13T20:15:10.714Z"
   },
   {
    "duration": 5,
    "start_time": "2022-02-13T20:15:10.731Z"
   },
   {
    "duration": 27,
    "start_time": "2022-02-13T20:15:10.738Z"
   },
   {
    "duration": 41,
    "start_time": "2022-02-13T20:15:10.767Z"
   },
   {
    "duration": 18,
    "start_time": "2022-02-13T20:15:10.812Z"
   },
   {
    "duration": 16,
    "start_time": "2022-02-13T20:15:10.832Z"
   },
   {
    "duration": 20,
    "start_time": "2022-02-13T20:15:10.850Z"
   },
   {
    "duration": 50,
    "start_time": "2022-02-13T20:15:10.872Z"
   },
   {
    "duration": 10,
    "start_time": "2022-02-13T20:15:10.924Z"
   },
   {
    "duration": 16,
    "start_time": "2022-02-13T20:15:10.936Z"
   },
   {
    "duration": 10,
    "start_time": "2022-02-13T20:15:10.954Z"
   },
   {
    "duration": 8,
    "start_time": "2022-02-13T20:15:10.966Z"
   },
   {
    "duration": 52,
    "start_time": "2022-02-13T20:15:10.976Z"
   },
   {
    "duration": 15,
    "start_time": "2022-02-13T20:15:11.030Z"
   },
   {
    "duration": 24,
    "start_time": "2022-02-13T20:15:11.046Z"
   },
   {
    "duration": 46,
    "start_time": "2022-02-13T20:15:11.072Z"
   },
   {
    "duration": 9,
    "start_time": "2022-02-13T20:15:11.120Z"
   },
   {
    "duration": 6,
    "start_time": "2022-02-13T20:15:11.131Z"
   },
   {
    "duration": 15,
    "start_time": "2022-02-13T20:15:11.139Z"
   },
   {
    "duration": 5,
    "start_time": "2022-02-13T20:15:11.156Z"
   },
   {
    "duration": 12,
    "start_time": "2022-02-13T20:15:11.163Z"
   },
   {
    "duration": 635,
    "start_time": "2022-02-14T02:53:35.516Z"
   },
   {
    "duration": 150,
    "start_time": "2022-02-14T02:53:36.153Z"
   },
   {
    "duration": 20,
    "start_time": "2022-02-14T02:53:36.306Z"
   },
   {
    "duration": 27,
    "start_time": "2022-02-14T02:53:36.328Z"
   },
   {
    "duration": 5,
    "start_time": "2022-02-14T02:53:36.358Z"
   },
   {
    "duration": 56,
    "start_time": "2022-02-14T02:53:36.365Z"
   },
   {
    "duration": 5,
    "start_time": "2022-02-14T02:53:36.423Z"
   },
   {
    "duration": 29,
    "start_time": "2022-02-14T02:53:36.430Z"
   },
   {
    "duration": 181,
    "start_time": "2022-02-14T02:53:36.463Z"
   },
   {
    "duration": 23,
    "start_time": "2022-02-14T02:53:36.646Z"
   },
   {
    "duration": 76,
    "start_time": "2022-02-14T02:53:36.671Z"
   },
   {
    "duration": 85,
    "start_time": "2022-02-14T02:53:36.749Z"
   },
   {
    "duration": 58,
    "start_time": "2022-02-14T02:53:36.836Z"
   },
   {
    "duration": 43,
    "start_time": "2022-02-14T02:53:36.908Z"
   },
   {
    "duration": 3,
    "start_time": "2022-02-14T02:53:36.953Z"
   },
   {
    "duration": 15,
    "start_time": "2022-02-14T02:53:36.957Z"
   },
   {
    "duration": 62,
    "start_time": "2022-02-14T02:53:36.974Z"
   },
   {
    "duration": 13,
    "start_time": "2022-02-14T02:53:37.038Z"
   },
   {
    "duration": 12,
    "start_time": "2022-02-14T02:53:37.053Z"
   },
   {
    "duration": 3,
    "start_time": "2022-02-14T02:53:37.067Z"
   },
   {
    "duration": 50,
    "start_time": "2022-02-14T02:53:37.072Z"
   },
   {
    "duration": 17,
    "start_time": "2022-02-14T02:53:37.124Z"
   },
   {
    "duration": 17,
    "start_time": "2022-02-14T02:53:37.143Z"
   },
   {
    "duration": 16,
    "start_time": "2022-02-14T02:53:37.161Z"
   },
   {
    "duration": 19,
    "start_time": "2022-02-14T02:53:37.208Z"
   },
   {
    "duration": 17,
    "start_time": "2022-02-14T02:53:37.229Z"
   },
   {
    "duration": 10,
    "start_time": "2022-02-14T02:53:37.249Z"
   },
   {
    "duration": 46,
    "start_time": "2022-02-14T02:53:37.261Z"
   },
   {
    "duration": 10,
    "start_time": "2022-02-14T02:53:37.309Z"
   },
   {
    "duration": 5,
    "start_time": "2022-02-14T02:53:37.321Z"
   },
   {
    "duration": 45,
    "start_time": "2022-02-14T02:53:37.327Z"
   },
   {
    "duration": 16,
    "start_time": "2022-02-14T02:53:37.374Z"
   },
   {
    "duration": 29,
    "start_time": "2022-02-14T02:53:37.392Z"
   },
   {
    "duration": 14,
    "start_time": "2022-02-14T02:53:37.422Z"
   },
   {
    "duration": 9,
    "start_time": "2022-02-14T02:53:37.438Z"
   },
   {
    "duration": 8,
    "start_time": "2022-02-14T02:53:37.449Z"
   },
   {
    "duration": 20,
    "start_time": "2022-02-14T02:53:37.459Z"
   },
   {
    "duration": 14,
    "start_time": "2022-02-14T02:53:37.481Z"
   },
   {
    "duration": 14,
    "start_time": "2022-02-14T02:53:37.507Z"
   }
  ],
  "colab": {
   "collapsed_sections": [
    "E0vqbgi9ay0H",
    "VUC88oWjTJw2"
   ],
   "name": "yandex_music_project_2021.2.ipynb",
   "provenance": []
  },
  "kernelspec": {
   "display_name": "Python 3 (ipykernel)",
   "language": "python",
   "name": "python3"
  },
  "language_info": {
   "codemirror_mode": {
    "name": "ipython",
    "version": 3
   },
   "file_extension": ".py",
   "mimetype": "text/x-python",
   "name": "python",
   "nbconvert_exporter": "python",
   "pygments_lexer": "ipython3",
   "version": "3.9.10"
  },
  "toc": {
   "base_numbering": 1,
   "nav_menu": {
    "height": "211px",
    "width": "857px"
   },
   "number_sections": true,
   "sideBar": true,
   "skip_h1_title": true,
   "title_cell": "Table of Contents",
   "title_sidebar": "Contents",
   "toc_cell": false,
   "toc_position": {
    "height": "calc(100% - 180px)",
    "left": "10px",
    "top": "150px",
    "width": "306.4px"
   },
   "toc_section_display": true,
   "toc_window_display": true
  }
 },
 "nbformat": 4,
 "nbformat_minor": 1
}
