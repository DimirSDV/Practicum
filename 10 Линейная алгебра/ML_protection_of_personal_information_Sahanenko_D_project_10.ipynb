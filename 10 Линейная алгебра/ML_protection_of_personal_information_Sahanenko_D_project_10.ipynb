{
 "cells": [
  {
   "cell_type": "markdown",
   "metadata": {
    "toc": true
   },
   "source": [
    "<h1>Содержание<span class=\"tocSkip\"></span></h1>\n",
    "<div class=\"toc\"><ul class=\"toc-item\"><li><span><a href=\"#Описание-проекта\" data-toc-modified-id=\"Описание-проекта-1\"><span class=\"toc-item-num\">1&nbsp;&nbsp;</span>Описание проекта</a></span></li><li><span><a href=\"#План-по-выполнению-проекта\" data-toc-modified-id=\"План-по-выполнению-проекта-2\"><span class=\"toc-item-num\">2&nbsp;&nbsp;</span>План по выполнению проекта</a></span></li><li><span><a href=\"#Описание-данных\" data-toc-modified-id=\"Описание-данных-3\"><span class=\"toc-item-num\">3&nbsp;&nbsp;</span>Описание данных</a></span></li><li><span><a href=\"#Шаг-1.-Загрузка-и-изучение-данных\" data-toc-modified-id=\"Шаг-1.-Загрузка-и-изучение-данных-4\"><span class=\"toc-item-num\">4&nbsp;&nbsp;</span>Шаг 1. Загрузка и изучение данных</a></span><ul class=\"toc-item\"><li><span><a href=\"#Шаг-1.1.-Открыть-файлы-и-провести-предобработку-данных.\" data-toc-modified-id=\"Шаг-1.1.-Открыть-файлы-и-провести-предобработку-данных.-4.1\"><span class=\"toc-item-num\">4.1&nbsp;&nbsp;</span>Шаг 1.1. Открыть файлы и провести предобработку данных.</a></span></li><li><span><a href=\"#Шаг-1.2.-Изучить-данные\" data-toc-modified-id=\"Шаг-1.2.-Изучить-данные-4.2\"><span class=\"toc-item-num\">4.2&nbsp;&nbsp;</span>Шаг 1.2. Изучить данные</a></span></li><li><span><a href=\"#Вывод-по-&quot;Шаг-1.-Загрузка-и-изучение-данных.&quot;\" data-toc-modified-id=\"Вывод-по-&quot;Шаг-1.-Загрузка-и-изучение-данных.&quot;-4.3\"><span class=\"toc-item-num\">4.3&nbsp;&nbsp;</span>Вывод по \"Шаг 1. Загрузка и изучение данных.\"</a></span></li></ul></li><li><span><a href=\"#Шаг-2.-Умножение-матриц\" data-toc-modified-id=\"Шаг-2.-Умножение-матриц-5\"><span class=\"toc-item-num\">5&nbsp;&nbsp;</span>Шаг 2. Умножение матриц</a></span><ul class=\"toc-item\"><li><span><a href=\"#Вывод-по-&quot;Шаг-2.-Умножение-матриц.&quot;\" data-toc-modified-id=\"Вывод-по-&quot;Шаг-2.-Умножение-матриц.&quot;-5.1\"><span class=\"toc-item-num\">5.1&nbsp;&nbsp;</span>Вывод по \"Шаг 2. Умножение матриц.\"</a></span></li></ul></li><li><span><a href=\"#Шаг-3.-Алгоритм-преобразования\" data-toc-modified-id=\"Шаг-3.-Алгоритм-преобразования-6\"><span class=\"toc-item-num\">6&nbsp;&nbsp;</span>Шаг 3. Алгоритм преобразования</a></span><ul class=\"toc-item\"><li><span><a href=\"#Вывод-по-&quot;Шаг-3.-Алгоритм-преобразования.&quot;\" data-toc-modified-id=\"Вывод-по-&quot;Шаг-3.-Алгоритм-преобразования.&quot;-6.1\"><span class=\"toc-item-num\">6.1&nbsp;&nbsp;</span>Вывод по \"Шаг 3. Алгоритм преобразования.\"</a></span></li></ul></li><li><span><a href=\"#Проверка-алгоритма\" data-toc-modified-id=\"Проверка-алгоритма-7\"><span class=\"toc-item-num\">7&nbsp;&nbsp;</span>Проверка алгоритма</a></span><ul class=\"toc-item\"><li><span><a href=\"#Вывод-по-&quot;Шаг-4.-Проверка-алгоритма.&quot;\" data-toc-modified-id=\"Вывод-по-&quot;Шаг-4.-Проверка-алгоритма.&quot;-7.1\"><span class=\"toc-item-num\">7.1&nbsp;&nbsp;</span>Вывод по \"Шаг 4. Проверка алгоритма.\"</a></span></li></ul></li><li><span><a href=\"#Общий-вывод-по-проекту\" data-toc-modified-id=\"Общий-вывод-по-проекту-8\"><span class=\"toc-item-num\">8&nbsp;&nbsp;</span>Общий вывод по проекту</a></span></li></ul></div>"
   ]
  },
  {
   "cell_type": "markdown",
   "metadata": {},
   "source": [
    "# Спринт \"Линейная алгебра\". Проект \"Защита данных клиентов страховой компании\""
   ]
  },
  {
   "cell_type": "markdown",
   "metadata": {},
   "source": [
    "## Описание проекта\n",
    "\n",
    "Требуется защитить данные клиентов страховой компании «Хоть потоп». Разработать такой метод преобразования данных, чтобы по ним было сложно восстановить персональную информацию. Обосновать корректность его работы.\n",
    "Нужно защитить данные, чтобы при преобразовании качество моделей машинного обучения не ухудшилось. Подбирать наилучшую модель не требуется."
   ]
  },
  {
   "cell_type": "markdown",
   "metadata": {},
   "source": [
    "## План по выполнению проекта\n",
    "1. Загрузить и изучить данные. \n",
    "2. Произвести умножение матриц\n",
    "3. Предложить алгоритм преобразования данных\n",
    "4. Запрограммировать этот алгоритм, применив матричные операции "
   ]
  },
  {
   "cell_type": "markdown",
   "metadata": {},
   "source": [
    "## Описание данных\n",
    "\n",
    "    Набор данных находится в файле /datasets/insurance.csv. Скачать датасет.\n",
    "    Признаки: пол, возраст и зарплата застрахованного, количество членов его семьи.\n",
    "    Целевой признак: количество страховых выплат клиенту за последние 5 лет."
   ]
  },
  {
   "cell_type": "markdown",
   "metadata": {},
   "source": [
    "## Шаг 1. Загрузка и изучение данных"
   ]
  },
  {
   "cell_type": "markdown",
   "metadata": {},
   "source": [
    "### Шаг 1.1. Открыть файлы и провести предобработку данных."
   ]
  },
  {
   "cell_type": "code",
   "execution_count": 1,
   "metadata": {},
   "outputs": [],
   "source": [
    "# в первой ячейке будем собирать импорты всех библиотек для наглядности \n",
    "import pandas as pd\n",
    "import numpy as np\n",
    "import matplotlib.pyplot as plt\n",
    "from scipy import stats as st\n",
    "import seaborn as sns\n",
    "\n",
    "from sklearn.preprocessing import StandardScaler\n",
    "from sklearn.linear_model import LinearRegression\n",
    "\n",
    "from sklearn import metrics\n",
    "from sklearn.metrics import r2_score, mean_squared_error"
   ]
  },
  {
   "cell_type": "code",
   "execution_count": 2,
   "metadata": {},
   "outputs": [],
   "source": [
    "# константы для всего проекта\n",
    "# RANDOM_STATE = 12345"
   ]
  },
  {
   "cell_type": "code",
   "execution_count": 3,
   "metadata": {},
   "outputs": [
    {
     "name": "stdout",
     "output_type": "stream",
     "text": [
      "<class 'pandas.core.frame.DataFrame'>\n",
      "RangeIndex: 5000 entries, 0 to 4999\n",
      "Data columns (total 5 columns):\n",
      " #   Column             Non-Null Count  Dtype  \n",
      "---  ------             --------------  -----  \n",
      " 0   Пол                5000 non-null   int64  \n",
      " 1   Возраст            5000 non-null   float64\n",
      " 2   Зарплата           5000 non-null   float64\n",
      " 3   Члены семьи        5000 non-null   int64  \n",
      " 4   Страховые выплаты  5000 non-null   int64  \n",
      "dtypes: float64(2), int64(3)\n",
      "memory usage: 195.4 KB\n"
     ]
    },
    {
     "data": {
      "text/html": [
       "<div>\n",
       "<style scoped>\n",
       "    .dataframe tbody tr th:only-of-type {\n",
       "        vertical-align: middle;\n",
       "    }\n",
       "\n",
       "    .dataframe tbody tr th {\n",
       "        vertical-align: top;\n",
       "    }\n",
       "\n",
       "    .dataframe thead th {\n",
       "        text-align: right;\n",
       "    }\n",
       "</style>\n",
       "<table border=\"1\" class=\"dataframe\">\n",
       "  <thead>\n",
       "    <tr style=\"text-align: right;\">\n",
       "      <th></th>\n",
       "      <th>Пол</th>\n",
       "      <th>Возраст</th>\n",
       "      <th>Зарплата</th>\n",
       "      <th>Члены семьи</th>\n",
       "      <th>Страховые выплаты</th>\n",
       "    </tr>\n",
       "  </thead>\n",
       "  <tbody>\n",
       "    <tr>\n",
       "      <th>0</th>\n",
       "      <td>1</td>\n",
       "      <td>41.0</td>\n",
       "      <td>49600.0</td>\n",
       "      <td>1</td>\n",
       "      <td>0</td>\n",
       "    </tr>\n",
       "    <tr>\n",
       "      <th>1</th>\n",
       "      <td>0</td>\n",
       "      <td>46.0</td>\n",
       "      <td>38000.0</td>\n",
       "      <td>1</td>\n",
       "      <td>1</td>\n",
       "    </tr>\n",
       "    <tr>\n",
       "      <th>2</th>\n",
       "      <td>0</td>\n",
       "      <td>29.0</td>\n",
       "      <td>21000.0</td>\n",
       "      <td>0</td>\n",
       "      <td>0</td>\n",
       "    </tr>\n",
       "    <tr>\n",
       "      <th>3</th>\n",
       "      <td>0</td>\n",
       "      <td>21.0</td>\n",
       "      <td>41700.0</td>\n",
       "      <td>2</td>\n",
       "      <td>0</td>\n",
       "    </tr>\n",
       "    <tr>\n",
       "      <th>4</th>\n",
       "      <td>1</td>\n",
       "      <td>28.0</td>\n",
       "      <td>26100.0</td>\n",
       "      <td>0</td>\n",
       "      <td>0</td>\n",
       "    </tr>\n",
       "  </tbody>\n",
       "</table>\n",
       "</div>"
      ],
      "text/plain": [
       "   Пол  Возраст  Зарплата  Члены семьи  Страховые выплаты\n",
       "0    1     41.0   49600.0            1                  0\n",
       "1    0     46.0   38000.0            1                  1\n",
       "2    0     29.0   21000.0            0                  0\n",
       "3    0     21.0   41700.0            2                  0\n",
       "4    1     28.0   26100.0            0                  0"
      ]
     },
     "metadata": {},
     "output_type": "display_data"
    }
   ],
   "source": [
    "# откроем и изучим датасеты \n",
    "try:\n",
    "    df_insurance = pd.read_csv('e:/Яндекс.Практикум/Спринт 13 Линейная алгебра/insurance.csv')\n",
    "except FileNotFoundError:\n",
    "    df_insurance = pd.read_csv('/datasets/insurance.csv')\n",
    "    \n",
    "df_insurance.info()\n",
    "display(df_insurance.head())"
   ]
  },
  {
   "cell_type": "code",
   "execution_count": 4,
   "metadata": {},
   "outputs": [
    {
     "name": "stdout",
     "output_type": "stream",
     "text": [
      "df_insurance: дубликатов выявлено: 153\n"
     ]
    }
   ],
   "source": [
    "#проверим на дубликаты\n",
    "print(\"df_insurance: дубликатов выявлено:\", df_insurance.duplicated().sum())"
   ]
  },
  {
   "cell_type": "code",
   "execution_count": 5,
   "metadata": {},
   "outputs": [
    {
     "name": "stdout",
     "output_type": "stream",
     "text": [
      "Дубликатов после удаления: 0\n"
     ]
    }
   ],
   "source": [
    "#удалим дубликаты\n",
    "df_insurance = df_insurance.drop_duplicates().reset_index(drop=True)\n",
    "\n",
    "#проверим, что все дубликаты удалены (в данном df дубликаты не обнаружены)\n",
    "print(\"Дубликатов после удаления:\", df_insurance.duplicated().sum())"
   ]
  },
  {
   "cell_type": "code",
   "execution_count": 6,
   "metadata": {},
   "outputs": [
    {
     "data": {
      "text/plain": [
       "Пол                    2\n",
       "Возраст               46\n",
       "Зарплата             524\n",
       "Члены семьи            7\n",
       "Страховые выплаты      6\n",
       "dtype: int64"
      ]
     },
     "execution_count": 6,
     "metadata": {},
     "output_type": "execute_result"
    }
   ],
   "source": [
    "# посмотрим, сколько уникальных значений в признаках\n",
    "df_insurance.nunique()"
   ]
  },
  {
   "cell_type": "code",
   "execution_count": 7,
   "metadata": {},
   "outputs": [
    {
     "data": {
      "text/html": [
       "<div>\n",
       "<style scoped>\n",
       "    .dataframe tbody tr th:only-of-type {\n",
       "        vertical-align: middle;\n",
       "    }\n",
       "\n",
       "    .dataframe tbody tr th {\n",
       "        vertical-align: top;\n",
       "    }\n",
       "\n",
       "    .dataframe thead th {\n",
       "        text-align: right;\n",
       "    }\n",
       "</style>\n",
       "<table border=\"1\" class=\"dataframe\">\n",
       "  <thead>\n",
       "    <tr style=\"text-align: right;\">\n",
       "      <th></th>\n",
       "      <th>Пол</th>\n",
       "      <th>Возраст</th>\n",
       "      <th>Зарплата</th>\n",
       "      <th>Члены семьи</th>\n",
       "      <th>Страховые выплаты</th>\n",
       "    </tr>\n",
       "  </thead>\n",
       "  <tbody>\n",
       "    <tr>\n",
       "      <th>count</th>\n",
       "      <td>4847.000000</td>\n",
       "      <td>4847.000000</td>\n",
       "      <td>4847.000000</td>\n",
       "      <td>4847.000000</td>\n",
       "      <td>4847.000000</td>\n",
       "    </tr>\n",
       "    <tr>\n",
       "      <th>mean</th>\n",
       "      <td>0.498453</td>\n",
       "      <td>31.023932</td>\n",
       "      <td>39895.811842</td>\n",
       "      <td>1.203425</td>\n",
       "      <td>0.152259</td>\n",
       "    </tr>\n",
       "    <tr>\n",
       "      <th>std</th>\n",
       "      <td>0.500049</td>\n",
       "      <td>8.487995</td>\n",
       "      <td>9972.953985</td>\n",
       "      <td>1.098664</td>\n",
       "      <td>0.468934</td>\n",
       "    </tr>\n",
       "    <tr>\n",
       "      <th>min</th>\n",
       "      <td>0.000000</td>\n",
       "      <td>18.000000</td>\n",
       "      <td>5300.000000</td>\n",
       "      <td>0.000000</td>\n",
       "      <td>0.000000</td>\n",
       "    </tr>\n",
       "    <tr>\n",
       "      <th>25%</th>\n",
       "      <td>0.000000</td>\n",
       "      <td>24.000000</td>\n",
       "      <td>33200.000000</td>\n",
       "      <td>0.000000</td>\n",
       "      <td>0.000000</td>\n",
       "    </tr>\n",
       "    <tr>\n",
       "      <th>50%</th>\n",
       "      <td>0.000000</td>\n",
       "      <td>30.000000</td>\n",
       "      <td>40200.000000</td>\n",
       "      <td>1.000000</td>\n",
       "      <td>0.000000</td>\n",
       "    </tr>\n",
       "    <tr>\n",
       "      <th>75%</th>\n",
       "      <td>1.000000</td>\n",
       "      <td>37.000000</td>\n",
       "      <td>46600.000000</td>\n",
       "      <td>2.000000</td>\n",
       "      <td>0.000000</td>\n",
       "    </tr>\n",
       "    <tr>\n",
       "      <th>max</th>\n",
       "      <td>1.000000</td>\n",
       "      <td>65.000000</td>\n",
       "      <td>79000.000000</td>\n",
       "      <td>6.000000</td>\n",
       "      <td>5.000000</td>\n",
       "    </tr>\n",
       "  </tbody>\n",
       "</table>\n",
       "</div>"
      ],
      "text/plain": [
       "               Пол      Возраст      Зарплата  Члены семьи  Страховые выплаты\n",
       "count  4847.000000  4847.000000   4847.000000  4847.000000        4847.000000\n",
       "mean      0.498453    31.023932  39895.811842     1.203425           0.152259\n",
       "std       0.500049     8.487995   9972.953985     1.098664           0.468934\n",
       "min       0.000000    18.000000   5300.000000     0.000000           0.000000\n",
       "25%       0.000000    24.000000  33200.000000     0.000000           0.000000\n",
       "50%       0.000000    30.000000  40200.000000     1.000000           0.000000\n",
       "75%       1.000000    37.000000  46600.000000     2.000000           0.000000\n",
       "max       1.000000    65.000000  79000.000000     6.000000           5.000000"
      ]
     },
     "execution_count": 7,
     "metadata": {},
     "output_type": "execute_result"
    }
   ],
   "source": [
    "# сделаем быстрый взгляд на статистики\n",
    "df_insurance.describe()"
   ]
  },
  {
   "cell_type": "markdown",
   "metadata": {},
   "source": [
    "### Шаг 1.2. Изучить данные"
   ]
  },
  {
   "cell_type": "code",
   "execution_count": 8,
   "metadata": {},
   "outputs": [
    {
     "data": {
      "text/html": [
       "<div>\n",
       "<style scoped>\n",
       "    .dataframe tbody tr th:only-of-type {\n",
       "        vertical-align: middle;\n",
       "    }\n",
       "\n",
       "    .dataframe tbody tr th {\n",
       "        vertical-align: top;\n",
       "    }\n",
       "\n",
       "    .dataframe thead th {\n",
       "        text-align: right;\n",
       "    }\n",
       "</style>\n",
       "<table border=\"1\" class=\"dataframe\">\n",
       "  <thead>\n",
       "    <tr style=\"text-align: right;\">\n",
       "      <th></th>\n",
       "      <th>Пол</th>\n",
       "      <th>Возраст</th>\n",
       "      <th>Зарплата</th>\n",
       "      <th>Члены семьи</th>\n",
       "      <th>Страховые выплаты</th>\n",
       "    </tr>\n",
       "  </thead>\n",
       "  <tbody>\n",
       "    <tr>\n",
       "      <th>Пол</th>\n",
       "      <td>1.000000</td>\n",
       "      <td>0.001953</td>\n",
       "      <td>0.015456</td>\n",
       "      <td>-0.007315</td>\n",
       "      <td>0.011565</td>\n",
       "    </tr>\n",
       "    <tr>\n",
       "      <th>Возраст</th>\n",
       "      <td>0.001953</td>\n",
       "      <td>1.000000</td>\n",
       "      <td>-0.017386</td>\n",
       "      <td>-0.009064</td>\n",
       "      <td>0.654964</td>\n",
       "    </tr>\n",
       "    <tr>\n",
       "      <th>Зарплата</th>\n",
       "      <td>0.015456</td>\n",
       "      <td>-0.017386</td>\n",
       "      <td>1.000000</td>\n",
       "      <td>-0.031687</td>\n",
       "      <td>-0.013123</td>\n",
       "    </tr>\n",
       "    <tr>\n",
       "      <th>Члены семьи</th>\n",
       "      <td>-0.007315</td>\n",
       "      <td>-0.009064</td>\n",
       "      <td>-0.031687</td>\n",
       "      <td>1.000000</td>\n",
       "      <td>-0.039303</td>\n",
       "    </tr>\n",
       "    <tr>\n",
       "      <th>Страховые выплаты</th>\n",
       "      <td>0.011565</td>\n",
       "      <td>0.654964</td>\n",
       "      <td>-0.013123</td>\n",
       "      <td>-0.039303</td>\n",
       "      <td>1.000000</td>\n",
       "    </tr>\n",
       "  </tbody>\n",
       "</table>\n",
       "</div>"
      ],
      "text/plain": [
       "                        Пол   Возраст  Зарплата  Члены семьи  \\\n",
       "Пол                1.000000  0.001953  0.015456    -0.007315   \n",
       "Возраст            0.001953  1.000000 -0.017386    -0.009064   \n",
       "Зарплата           0.015456 -0.017386  1.000000    -0.031687   \n",
       "Члены семьи       -0.007315 -0.009064 -0.031687     1.000000   \n",
       "Страховые выплаты  0.011565  0.654964 -0.013123    -0.039303   \n",
       "\n",
       "                   Страховые выплаты  \n",
       "Пол                         0.011565  \n",
       "Возраст                     0.654964  \n",
       "Зарплата                   -0.013123  \n",
       "Члены семьи                -0.039303  \n",
       "Страховые выплаты           1.000000  "
      ]
     },
     "metadata": {},
     "output_type": "display_data"
    }
   ],
   "source": [
    "# взглянем на матрицу корреляции для общего понимания зависимости признаков\n",
    "df_for_corr = df_insurance\n",
    "display(df_for_corr.corr())"
   ]
  },
  {
   "cell_type": "code",
   "execution_count": 9,
   "metadata": {},
   "outputs": [
    {
     "data": {
      "text/plain": [
       "<AxesSubplot:title={'center':'Матрица корреляции признаков'}>"
      ]
     },
     "execution_count": 9,
     "metadata": {},
     "output_type": "execute_result"
    },
    {
     "data": {
      "image/png": "[encoded data removed]",
      "text/plain": [
       "<Figure size 576x576 with 2 Axes>"
      ]
     },
     "metadata": {
      "needs_background": "light"
     },
     "output_type": "display_data"
    }
   ],
   "source": [
    "# построим heatmap матрицы корреляции для наглядного понимания зависимости признаков, т.к.\n",
    "# понимание структуры/особенностей/качества данных способствует улучшению качества модели\n",
    "plt.figure(figsize = (8,8))\n",
    "plt.title('Матрица корреляции признаков', size=14)\n",
    "sns.heatmap(df_for_corr.corr(), annot = True, square=True)"
   ]
  },
  {
   "cell_type": "code",
   "execution_count": 10,
   "metadata": {},
   "outputs": [
    {
     "data": {
      "image/png": "[encoded data removed]",
      "text/plain": [
       "<Figure size 432x288 with 1 Axes>"
      ]
     },
     "metadata": {
      "needs_background": "light"
     },
     "output_type": "display_data"
    },
    {
     "data": {
      "image/png": "[encoded data removed]",
      "text/plain": [
       "<Figure size 432x288 with 1 Axes>"
      ]
     },
     "metadata": {
      "needs_background": "light"
     },
     "output_type": "display_data"
    },
    {
     "data": {
      "image/png": "[encoded data removed]",
      "text/plain": [
       "<Figure size 432x288 with 1 Axes>"
      ]
     },
     "metadata": {
      "needs_background": "light"
     },
     "output_type": "display_data"
    },
    {
     "data": {
      "image/png": "[encoded data removed]",
      "text/plain": [
       "<Figure size 432x288 with 1 Axes>"
      ]
     },
     "metadata": {
      "needs_background": "light"
     },
     "output_type": "display_data"
    },
    {
     "data": {
      "image/png": "[encoded data removed]",
      "text/plain": [
       "<Figure size 432x288 with 1 Axes>"
      ]
     },
     "metadata": {
      "needs_background": "light"
     },
     "output_type": "display_data"
    }
   ],
   "source": [
    "#построим гистограммы распределения\n",
    "columns = ['Пол', 'Возраст', 'Зарплата' ,'Члены семьи', 'Страховые выплаты']\n",
    "\n",
    "for column in columns:\n",
    "    df_insurance.plot(kind='hist', y=column, bins=30, label=column, grid=True)\n",
    "    #подпишем оси на графике\n",
    "    plt.xlabel(column)\n",
    "    plt.title(column)\n",
    "    plt.ylabel(\"amount\")\n",
    "    plt.show()"
   ]
  },
  {
   "cell_type": "code",
   "execution_count": 11,
   "metadata": {},
   "outputs": [
    {
     "data": {
      "image/png": "[encoded data removed]",
      "text/plain": [
       "<Figure size 432x288 with 1 Axes>"
      ]
     },
     "metadata": {
      "needs_background": "light"
     },
     "output_type": "display_data"
    },
    {
     "data": {
      "image/png": "[encoded data removed]",
      "text/plain": [
       "<Figure size 432x288 with 1 Axes>"
      ]
     },
     "metadata": {
      "needs_background": "light"
     },
     "output_type": "display_data"
    },
    {
     "data": {
      "image/png": "[encoded data removed]",
      "text/plain": [
       "<Figure size 432x288 with 1 Axes>"
      ]
     },
     "metadata": {
      "needs_background": "light"
     },
     "output_type": "display_data"
    },
    {
     "data": {
      "image/png": "[encoded data removed]",
      "text/plain": [
       "<Figure size 432x288 with 1 Axes>"
      ]
     },
     "metadata": {
      "needs_background": "light"
     },
     "output_type": "display_data"
    },
    {
     "data": {
      "image/png": "[encoded data removed]",
      "text/plain": [
       "<Figure size 432x288 with 1 Axes>"
      ]
     },
     "metadata": {
      "needs_background": "light"
     },
     "output_type": "display_data"
    }
   ],
   "source": [
    "#построим boxplot \n",
    "for column in columns:\n",
    "    df_insurance.boxplot(column=column)\n",
    "    plt.show()"
   ]
  },
  {
   "cell_type": "markdown",
   "metadata": {},
   "source": [
    "### Вывод по \"Шаг 1. Загрузка и изучение данных.\"\n",
    "\n",
    "    Файл открыт, данные загружены. \n",
    "    Датафрейм не содержал пропущенных значений, но присутствовали дубликаты в количестве 153 из 5000 (или 3%), которые были удалены. \n",
    "    Типы данных не требуют преобразования. \n",
    "    На хит-мэпах видна область высокой прямой корреляции между возрастом и количеством страховых выплат.\n",
    "    Данные в целом имеют нормальное распределение по признакам с учетом наличия скосов (например, скос влево по признаку \"Возраст\") или распределение 1-0 (\"Пол\"). Медианные значения отражены на графиках \"ящик с усами\".\n",
    "    Предобработка данных завершена успешно."
   ]
  },
  {
   "cell_type": "markdown",
   "metadata": {},
   "source": [
    "## Шаг 2. Умножение матриц"
   ]
  },
  {
   "cell_type": "markdown",
   "metadata": {},
   "source": [
    "В данном шаге мы должны ответить на вопрос и обосновать решение.\n",
    "\n",
    "    Вопрос: признаки умножают на обратимую матрицу. Изменится ли качество линейной регрессии? (Её можно обучить заново.)\n",
    "        a. Изменится. Привести примеры матриц.\n",
    "        b. Не изменится. Указать, как связаны параметры линейной регрессии в исходной задаче и в преобразованной."
   ]
  },
  {
   "cell_type": "markdown",
   "metadata": {},
   "source": [
    "Обозначения:\n",
    "\n",
    "- $X$ — матрица признаков (нулевой столбец состоит из единиц)\n",
    "\n",
    "- $y$ — вектор целевого признака\n",
    "\n",
    "- $P$ — матрица, на которую умножаются признаки\n",
    "\n",
    "- $w$ — вектор весов линейной регрессии (нулевой элемент равен сдвигу)"
   ]
  },
  {
   "cell_type": "markdown",
   "metadata": {},
   "source": [
    "Предсказания:\n",
    "\n",
    "$$\n",
    "a = Xw\n",
    "$$\n",
    "\n",
    "Задача обучения:\n",
    "\n",
    "$$\n",
    "w = \\arg\\min_w MSE(Xw, y)\n",
    "$$\n",
    "\n",
    "Формула обучения:\n",
    "\n",
    "$$\n",
    "w = (X^T X)^{-1} X^T y\n",
    "$$"
   ]
  },
  {
   "cell_type": "markdown",
   "metadata": {},
   "source": [
    "**Ответ:** В случае, когда признаки умножаем на обратимую матрицу, предсказания модели не меняются, при этом поменяются веса для новых признаков. Потребуется переобучение модели на новых признаках!\n",
    "\n",
    "**Обоснование:** \n",
    "Формула расчета весов для линейной регрессии выглядит так:\n",
    "\n",
    "$$\n",
    "w = (X^T X)^{-1} X^T y\n",
    "$$\n",
    "\n",
    "Представим новую матрицу признаков $X1$ как произведение исходной матрицы $X$ на матрицу $P$ (обратимую):\n",
    "\n",
    "$$\n",
    "X1 = X * P\n",
    "$$\n",
    "\n",
    "Подставим новое значение X1 в формулу $w1$:\n",
    "\n",
    "$$\n",
    "w1 = ((X P)^T X P)^{-1} (X P)^T y\n",
    "$$\n",
    "\n",
    "Раскроем произведение $ (XP)^T $:\n",
    "\n",
    "$$\n",
    "w1 = (P^T X^T X P)^{-1} P^T X^T y\n",
    "$$\n",
    "\n",
    "Перегруппируем множители в скобках (станет выглядеть как произведение трех множителей):\n",
    "\n",
    "$$\n",
    "w1 = (P^T (X^T X) P)^{-1} P^T X^T y\n",
    "$$\n",
    "\n",
    "Раскроем скобки $ (P^T (X^T X) P)^{-1} $:\n",
    "\n",
    "$$\n",
    "w1 = P^{-1} (X^T X)^{-1} (P^T)^{-1} P^T X^T y\n",
    "$$\n",
    "\n",
    "Так как $P$ по условию обратимая, то произведение $(P^T)^{-1} P^T$ равно $E$ (единичная матрица):\n",
    "\n",
    "$$\n",
    "w1 = P^{-1} (X^T X)^{-1} E X^T y = P^{-1} (X^T X)^{-1} X^T y\n",
    "$$\n",
    "\n",
    "Справа получилась формула для $w$:\n",
    "\n",
    "$$\n",
    "w1 = P^{-1} (X^T X)^{-1} X^T y = P^{-1} w\n",
    "$$\n",
    "\n",
    "Подставим новое значение весов 𝑤1 в формулу для предсказаний линейной регрессии.\n",
    "Предсказания модели линейной регрессии расчитываются по формуле:\n",
    "\n",
    "$$\n",
    "a = Xw\n",
    "$$\n",
    "\n",
    "Подставим в формулу значения $X1$ и $w1$ для того, чтобы на их основе вычислить предсказания модели $a1$:\n",
    "\n",
    "$$\n",
    "a1 = X1w1 = XPP^{-1} w\n",
    "$$\n",
    "\n",
    "Так как $P$ по условию обратимая, то произведение $PP^{-1}$ снова равно $E$:\n",
    "\n",
    "$$\n",
    "a1 = XPP^{-1} w = X E w = X w = a\n",
    "$$\n",
    "\n",
    "Таким образом, мы доказали, что предсказания $a1$ для матрицы признаков, умноженных на обратимую матрицу $P$, равны предсказаниям $a$.<br>\n",
    "\n",
    "Вывод: качество линейной регрессии при умножении признаков на обратимую матрицу не изменится. \n",
    "В данном случае, параметры линейной регрессии в исходной задаче $w$ и в преобразованной $w1$ связаны следующим образом:\n",
    "\n",
    "$$\n",
    "w1 = P^{-1} w\n",
    "$$"
   ]
  },
  {
   "cell_type": "markdown",
   "metadata": {},
   "source": [
    "### Вывод по \"Шаг 2. Умножение матриц.\"\n",
    "При умножении признаков на обратимую матрицу предсказания модели не поменяются, но меняются веса для новых признаков, что потребует переобучать модель на новых признаках."
   ]
  },
  {
   "cell_type": "markdown",
   "metadata": {},
   "source": [
    "## Шаг 3. Алгоритм преобразования"
   ]
  },
  {
   "cell_type": "markdown",
   "metadata": {},
   "source": [
    "В данном шаге нам необходимо предложить алгоритм преобразования данных для решения задачи, а также обосновать, почему качество линейной регрессии не поменяется."
   ]
  },
  {
   "cell_type": "markdown",
   "metadata": {},
   "source": [
    "**Алгоритм**\n",
    "\n",
    "1) методом *make_spd_matrix* необходимо создать случайную матрицу A\n",
    "\n",
    "2) методом *np.linalg.inv()* проверим матрицу А на обратимость и получим $А^{-1}$. Если матрица А не прошла тест на обратимость (что крайне маловероятно), необходимо создать новую случайную матрицу. \n",
    "\n",
    "Поскольку нам надо закодировать персональные данные клиентов, матрица А будет ключом кодирования. \n",
    "\n",
    "3) умножим матрицу признаков X на полученную матрицу А и получим матрицу B с закодированными данными о клиентах:\n",
    "\n",
    "$$ B = X @ A $$\n",
    "\n",
    "Затем переходим к обучению модели линейной регрессии. "
   ]
  },
  {
   "cell_type": "markdown",
   "metadata": {},
   "source": [
    "**Обоснование**\n",
    "\n",
    "Вышеописанный алгоритм позволит защитить персональную информацию клиентов, но при этом не повлияет на качество работы модели."
   ]
  },
  {
   "cell_type": "code",
   "execution_count": 12,
   "metadata": {},
   "outputs": [
    {
     "data": {
      "text/plain": [
       "array([[186, 335, 641, 431],\n",
       "       [562, 740, 308, 909],\n",
       "       [ 33, 178, 847, 275],\n",
       "       [886, 715, 942, 971]])"
      ]
     },
     "execution_count": 12,
     "metadata": {},
     "output_type": "execute_result"
    }
   ],
   "source": [
    "# по условию задачи матрица при умножении на матрицу признаков должна давать матрицу такого же размера\n",
    "#как исходная, поэтому $P$ должна быть квадратной с размером 4 (количество признаков исходной матрицы).\n",
    "matrix_random = np.random.randint(1000,size = (4, 4))\n",
    "matrix_random"
   ]
  },
  {
   "cell_type": "code",
   "execution_count": 13,
   "metadata": {},
   "outputs": [
    {
     "data": {
      "text/plain": [
       "array([[ 0.00633904, -0.00369231, -0.00608679,  0.00236668],\n",
       "       [ 0.06594562, -0.01687135, -0.0420175 , -0.00157743],\n",
       "       [ 0.00516525, -0.00209916, -0.00233672,  0.0003342 ],\n",
       "       [-0.05935445,  0.01782884,  0.03876065, -0.00029231]])"
      ]
     },
     "execution_count": 13,
     "metadata": {},
     "output_type": "execute_result"
    }
   ],
   "source": [
    "# проверим матрицу на обратимость \n",
    "matrix_inverted = np.linalg.inv(matrix_random)\n",
    "matrix_inverted"
   ]
  },
  {
   "cell_type": "markdown",
   "metadata": {},
   "source": [
    "Расчитаем вектора предсказаний $a$ и $a1$ по формулам. Если они равны (или расхождение крайне незначительно), то качество модели не меняется, т.к как качество модели считается от предсказаний и целевого признака, а предсказания одинаковы до и после преобразований."
   ]
  },
  {
   "cell_type": "code",
   "execution_count": 14,
   "metadata": {},
   "outputs": [],
   "source": [
    "# выделим в переменные признаки и целевой признак\n",
    "features = df_insurance.drop('Страховые выплаты', axis = 1)\n",
    "target = df_insurance['Страховые выплаты']\n",
    " \n",
    "# с помощью StandardScaler() сделаем масштабирование признаков и сохраним результат в переменную\n",
    "scaler = StandardScaler()\n",
    "scaler.fit(features)\n",
    "features_scaled = scaler.transform(features)"
   ]
  },
  {
   "cell_type": "code",
   "execution_count": 15,
   "metadata": {},
   "outputs": [
    {
     "data": {
      "text/plain": [
       "2.846052386817899e-13"
      ]
     },
     "execution_count": 15,
     "metadata": {},
     "output_type": "execute_result"
    }
   ],
   "source": [
    "# рассчитаем веса 𝑤 для исходных признаков по стандартной формуле 𝑤 = (X^T X)^{-1} X^T y\n",
    "w = np.linalg.inv(features_scaled.T.dot(features_scaled)).dot(features_scaled.T).dot(target)\n",
    "\n",
    "# рассчитаем вектор предсказаний по исходным признакам по формуле 𝑎 = 𝑋𝑤\n",
    "a = features_scaled @ w\n",
    "\n",
    "# проведем преобразование признаков:\n",
    "features_scaled_converted = features_scaled @ matrix_random\n",
    "\n",
    "# рассчитаем веса 𝑤1 для преобразованных признаков по стандартной формуле 𝑤 = (X^T X)^{-1} X^T y\n",
    "w1 = np.linalg.inv(features_scaled_converted.T.dot(features_scaled_converted)).dot(features_scaled_converted.T).dot(target)\n",
    "\n",
    "# рассчитаем вектор предсказаний по преобразованным признакам по формуле 𝑎 = 𝑋𝑤\n",
    "a1 = features_scaled_converted @ w1\n",
    "\n",
    "# получим вектор разниц между предсказаниями по исходным признакам 𝑎 и преобразованным 𝑎1 :\n",
    "difference_vector = a - a1\n",
    "\n",
    "# просуммируем все элементы вектора diff, чтобы убедиться, что расхождения минимальны.\n",
    "difference_vector.sum()"
   ]
  },
  {
   "cell_type": "markdown",
   "metadata": {},
   "source": [
    "### Вывод по \"Шаг 3. Алгоритм преобразования.\"\n",
    "В этом шаге предложен алгоритм преобразования данных, при использовании которого обоснованно не меняется качество линейной регрессии. Данное утверждение подтверждается на исходных данных: вектора предсказаний $a$ и $a1$ равны!"
   ]
  },
  {
   "cell_type": "markdown",
   "metadata": {},
   "source": [
    "## Проверка алгоритма"
   ]
  },
  {
   "cell_type": "markdown",
   "metadata": {},
   "source": [
    "На данном этапе предстоит запрограммировать алгоритм преобразования данных, применив матричные операции. Необходимо будет проверить, что качество линейной регрессии из sklearn не отличается до и после преобразования. В качестве метрики используем метрику R2."
   ]
  },
  {
   "cell_type": "code",
   "execution_count": 16,
   "metadata": {},
   "outputs": [
    {
     "name": "stdout",
     "output_type": "stream",
     "text": [
      "MSE Score =  0.12527263826681603\n",
      "R2_Score для модели на исходных данных =  0.4302010044852067\n"
     ]
    }
   ],
   "source": [
    "# создадим модель линейной регрессии для исходных данных, а также посмотрим ее оценку R2_Score\n",
    "model = LinearRegression(normalize = True)\n",
    "model.fit(features, target)\n",
    "predictions = model.predict(features)\n",
    "mse = mean_squared_error(target, predictions)\n",
    "print('MSE Score = ', mse)\n",
    "print('R2_Score для модели на исходных данных = ',r2_score(target, predictions))"
   ]
  },
  {
   "cell_type": "code",
   "execution_count": 17,
   "metadata": {},
   "outputs": [
    {
     "name": "stdout",
     "output_type": "stream",
     "text": [
      "MSE Score =  0.12527263826681603\n",
      "R2_Score для модели с преобразованными признаками =  0.4302010044852067\n"
     ]
    }
   ],
   "source": [
    "# преобразуем признаки, умножив на матрицу P, а также рассчитаем R2_Score\n",
    "features_matrix = features_scaled @ matrix_random\n",
    "model.fit(features_matrix, target)\n",
    "predictions_matrix = model.predict(features_matrix)\n",
    "mse = mean_squared_error(target, predictions)\n",
    "print('MSE Score = ', mse)\n",
    "print('R2_Score для модели с преобразованными признаками = ',r2_score(target, predictions_matrix))"
   ]
  },
  {
   "cell_type": "markdown",
   "metadata": {},
   "source": [
    "### Вывод по \"Шаг 4. Проверка алгоритма.\"\n",
    "Проверка работы алгоритма преобразования данных подтвердила, что качество линейной регрессии не поменяется."
   ]
  },
  {
   "cell_type": "markdown",
   "metadata": {},
   "source": [
    "## Общий вывод по проекту\n",
    "\n",
    "**Цель проекта достигнута: разработан такой алгоритм преобразования данных клиентов страховой компании «Хоть потоп», при котором сложно восстановить персональную информацию, при этом при преобразовании качество моделей машинного обучения не ухудшилось.**\n",
    "\n",
    "**Шаг 1. Загрузка и изучение данных.\"**\n",
    "    Файл открыт, данные загружены. \n",
    "    Датафрейм не содержал пропущенных значений, но присутствовали дубликаты в количестве 153 из 5000 (или 3%), которые были удалены. \n",
    "    Типы данных не требуют преобразования. \n",
    "    На хит-мэпах видна область высокой прямой корреляции между возрастом и количеством страховых выплат.\n",
    "    Данные в целом имеют нормальное распределение по признакам с учетом наличия скосов (например, скос влево по признаку \"Возраст\") или распределение 1-0 (\"Пол\"). Медианные значения отражены на графиках \"ящик с усами\".\n",
    "    Предобработка данных завершена успешно.\n",
    "    \n",
    "**Шаг 2. Умножение матриц.**\n",
    "    При умножении признаков на обратимую матрицу предсказания модели не поменяются, но меняются веса для новых признаков, что потребует переобучать модель на новых признаках.\n",
    "\n",
    "**Шаг 3. Алгоритм преобразования.**\n",
    "    Предложен алгоритм преобразования данных, при использовании которого обоснованно не меняется качество линейной регрессии. Данное утверждение подтверждается на исходных данных: вектора предсказаний $a$ и $a1$ равны!\n",
    "\n",
    "**Шаг 4. Проверка алгоритма.**\n",
    "    Проверка работы алгоритма преобразования данных подтвердила, что качество линейной регрессии не поменяется."
   ]
  }
 ],
 "metadata": {
  "kernelspec": {
   "display_name": "Python 3 (ipykernel)",
   "language": "python",
   "name": "python3"
  },
  "language_info": {
   "codemirror_mode": {
    "name": "ipython",
    "version": 3
   },
   "file_extension": ".py",
   "mimetype": "text/x-python",
   "name": "python",
   "nbconvert_exporter": "python",
   "pygments_lexer": "ipython3",
   "version": "3.9.7"
  },
  "toc": {
   "base_numbering": 1,
   "nav_menu": {},
   "number_sections": true,
   "sideBar": true,
   "skip_h1_title": true,
   "title_cell": "Содержание",
   "title_sidebar": "Contents",
   "toc_cell": true,
   "toc_position": {},
   "toc_section_display": true,
   "toc_window_display": true
  }
 },
 "nbformat": 4,
 "nbformat_minor": 2
}
