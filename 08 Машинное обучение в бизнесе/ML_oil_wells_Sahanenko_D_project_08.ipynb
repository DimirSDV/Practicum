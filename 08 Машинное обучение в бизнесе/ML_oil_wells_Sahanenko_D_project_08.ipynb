{
 "cells": [
  {
   "cell_type": "markdown",
   "metadata": {
    "toc": true
   },
   "source": [
    "<h1>Table of Contents<span class=\"tocSkip\"></span></h1>\n",
    "<div class=\"toc\"><ul class=\"toc-item\"><li><span><a href=\"#Описание-проекта\" data-toc-modified-id=\"Описание-проекта-1\"><span class=\"toc-item-num\">1&nbsp;&nbsp;</span>Описание проекта</a></span></li><li><span><a href=\"#План-по-выполнению-проекта\" data-toc-modified-id=\"План-по-выполнению-проекта-2\"><span class=\"toc-item-num\">2&nbsp;&nbsp;</span>План по выполнению проекта</a></span></li><li><span><a href=\"#Описание-данных\" data-toc-modified-id=\"Описание-данных-3\"><span class=\"toc-item-num\">3&nbsp;&nbsp;</span>Описание данных</a></span></li><li><span><a href=\"#Условия-задачи:\" data-toc-modified-id=\"Условия-задачи:-4\"><span class=\"toc-item-num\">4&nbsp;&nbsp;</span>Условия задачи:</a></span></li><li><span><a href=\"#Исследование-по-шагам\" data-toc-modified-id=\"Исследование-по-шагам-5\"><span class=\"toc-item-num\">5&nbsp;&nbsp;</span>Исследование по шагам</a></span><ul class=\"toc-item\"><li><span><a href=\"#Шаг-№1.-Загрузить-и-подготовить-данные.\" data-toc-modified-id=\"Шаг-№1.-Загрузить-и-подготовить-данные.-5.1\"><span class=\"toc-item-num\">5.1&nbsp;&nbsp;</span>Шаг №1. Загрузить и подготовить данные.</a></span><ul class=\"toc-item\"><li><span><a href=\"#Вывод-по-&quot;Шаг-№1.-Загрузить-и-подготовить-данные.&quot;\" data-toc-modified-id=\"Вывод-по-&quot;Шаг-№1.-Загрузить-и-подготовить-данные.&quot;-5.1.1\"><span class=\"toc-item-num\">5.1.1&nbsp;&nbsp;</span>Вывод по \"Шаг №1. Загрузить и подготовить данные.\"</a></span></li></ul></li><li><span><a href=\"#Шаг-2.-Обучить-и-проверить-модель-для-каждого-региона.\" data-toc-modified-id=\"Шаг-2.-Обучить-и-проверить-модель-для-каждого-региона.-5.2\"><span class=\"toc-item-num\">5.2&nbsp;&nbsp;</span>Шаг 2. Обучить и проверить модель для каждого региона.</a></span><ul class=\"toc-item\"><li><span><a href=\"#Шаг-2.1.-Разбить-данные-на-обучающую-и-валидационную-выборки-в-соотношении-75:25\" data-toc-modified-id=\"Шаг-2.1.-Разбить-данные-на-обучающую-и-валидационную-выборки-в-соотношении-75:25-5.2.1\"><span class=\"toc-item-num\">5.2.1&nbsp;&nbsp;</span>Шаг 2.1. Разбить данные на обучающую и валидационную выборки в соотношении 75:25</a></span></li><li><span><a href=\"#Шаг-2.2-Обучить-модель-и-сделать-предсказания-на-валидационной-выборке.\" data-toc-modified-id=\"Шаг-2.2-Обучить-модель-и-сделать-предсказания-на-валидационной-выборке.-5.2.2\"><span class=\"toc-item-num\">5.2.2&nbsp;&nbsp;</span>Шаг 2.2 Обучить модель и сделать предсказания на валидационной выборке.</a></span></li><li><span><a href=\"#Шаг-2.3.-Сохранить-предсказания-и-правильные-ответы-на-валидационной-выборке.\" data-toc-modified-id=\"Шаг-2.3.-Сохранить-предсказания-и-правильные-ответы-на-валидационной-выборке.-5.2.3\"><span class=\"toc-item-num\">5.2.3&nbsp;&nbsp;</span>Шаг 2.3. Сохранить предсказания и правильные ответы на валидационной выборке.</a></span></li><li><span><a href=\"#Шаг-2.4.-Напечатать-на-экране-средний-запас-предсказанного-сырья-и-RMSE-модели.\" data-toc-modified-id=\"Шаг-2.4.-Напечатать-на-экране-средний-запас-предсказанного-сырья-и-RMSE-модели.-5.2.4\"><span class=\"toc-item-num\">5.2.4&nbsp;&nbsp;</span>Шаг 2.4. Напечатать на экране средний запас предсказанного сырья и RMSE модели.</a></span></li><li><span><a href=\"#Шаг-2.5.-Проанализировать-результаты.\" data-toc-modified-id=\"Шаг-2.5.-Проанализировать-результаты.-5.2.5\"><span class=\"toc-item-num\">5.2.5&nbsp;&nbsp;</span>Шаг 2.5. Проанализировать результаты.</a></span></li><li><span><a href=\"#Вывод-по-&quot;Шаг-2.-Обучить-и-проверить-модель-для-каждого-региона.&quot;\" data-toc-modified-id=\"Вывод-по-&quot;Шаг-2.-Обучить-и-проверить-модель-для-каждого-региона.&quot;-5.2.6\"><span class=\"toc-item-num\">5.2.6&nbsp;&nbsp;</span>Вывод по \"Шаг 2. Обучить и проверить модель для каждого региона.\"</a></span></li></ul></li><li><span><a href=\"#Шаг-3.-Подготовиться-к-расчёту-прибыли\" data-toc-modified-id=\"Шаг-3.-Подготовиться-к-расчёту-прибыли-5.3\"><span class=\"toc-item-num\">5.3&nbsp;&nbsp;</span>Шаг 3. Подготовиться к расчёту прибыли</a></span><ul class=\"toc-item\"><li><span><a href=\"#Вывод-по-&quot;Шаг-3.-Подготовиться-к-расчёту-прибыли&quot;\" data-toc-modified-id=\"Вывод-по-&quot;Шаг-3.-Подготовиться-к-расчёту-прибыли&quot;-5.3.1\"><span class=\"toc-item-num\">5.3.1&nbsp;&nbsp;</span>Вывод по \"Шаг 3. Подготовиться к расчёту прибыли\"</a></span></li></ul></li><li><span><a href=\"#Шаг-4.-Написать-функцию-для-расчёта-прибыли-по-выбранным-скважинам-и-предсказаниям-модели\" data-toc-modified-id=\"Шаг-4.-Написать-функцию-для-расчёта-прибыли-по-выбранным-скважинам-и-предсказаниям-модели-5.4\"><span class=\"toc-item-num\">5.4&nbsp;&nbsp;</span>Шаг 4. Написать функцию для расчёта прибыли по выбранным скважинам и предсказаниям модели</a></span><ul class=\"toc-item\"><li><span><a href=\"#Вывод-по-шаг-&quot;4.-Написать-функцию-для-расчёта-прибыли-по-выбранным-скважинам-и-предсказаниям-модели&quot;\" data-toc-modified-id=\"Вывод-по-шаг-&quot;4.-Написать-функцию-для-расчёта-прибыли-по-выбранным-скважинам-и-предсказаниям-модели&quot;-5.4.1\"><span class=\"toc-item-num\">5.4.1&nbsp;&nbsp;</span>Вывод по шаг \"4. Написать функцию для расчёта прибыли по выбранным скважинам и предсказаниям модели\"</a></span></li></ul></li><li><span><a href=\"#Шаг-5.-Посчитать-риски-и-прибыль-для-каждого-региона.\" data-toc-modified-id=\"Шаг-5.-Посчитать-риски-и-прибыль-для-каждого-региона.-5.5\"><span class=\"toc-item-num\">5.5&nbsp;&nbsp;</span>Шаг 5. Посчитать риски и прибыль для каждого региона.</a></span><ul class=\"toc-item\"><li><span><a href=\"#Вывод-по-&quot;Шаг-5.-Посчитать-риски-и-прибыль-для-каждого-региона.&quot;\" data-toc-modified-id=\"Вывод-по-&quot;Шаг-5.-Посчитать-риски-и-прибыль-для-каждого-региона.&quot;-5.5.1\"><span class=\"toc-item-num\">5.5.1&nbsp;&nbsp;</span>Вывод по \"Шаг 5. Посчитать риски и прибыль для каждого региона.\"</a></span></li></ul></li></ul></li><li><span><a href=\"#Общий-вывод-по-исследованию-&quot;Нефтяные-скважины&quot;\" data-toc-modified-id=\"Общий-вывод-по-исследованию-&quot;Нефтяные-скважины&quot;-6\"><span class=\"toc-item-num\">6&nbsp;&nbsp;</span>Общий вывод по исследованию \"Нефтяные скважины\"</a></span><ul class=\"toc-item\"><li><ul class=\"toc-item\"><li><span><a href=\"#В-результате-исследования-была-достигнута-цель-проекта,-а-именно-построена-модель-для-определения-региона,-где-добыча-принесёт-наибольшую-прибыль-и-проанализированы-возможная-прибыль-и-риски-техникой-Bootstrap.\" data-toc-modified-id=\"В-результате-исследования-была-достигнута-цель-проекта,-а-именно-построена-модель-для-определения-региона,-где-добыча-принесёт-наибольшую-прибыль-и-проанализированы-возможная-прибыль-и-риски-техникой-Bootstrap.-6.0.1\"><span class=\"toc-item-num\">6.0.1&nbsp;&nbsp;</span>В результате исследования была достигнута цель проекта, а именно построена модель для определения региона, где добыча принесёт наибольшую прибыль и проанализированы возможная прибыль и риски техникой Bootstrap.</a></span></li></ul></li></ul></li></ul></div>"
   ]
  },
  {
   "cell_type": "markdown",
   "metadata": {
    "id": "Wclx95AQ1H_Y"
   },
   "source": [
    "# \"Машинное обучение в бизнесе\". Проект \"Нефтяные скважины\""
   ]
  },
  {
   "cell_type": "markdown",
   "metadata": {
    "id": "8TLiUL2A0s7W"
   },
   "source": [
    "## Описание проекта\n",
    "    Допустим, вы работаете в добывающей компании «ГлавРосНефть». Нужно решить, где бурить новую скважину.\n",
    "    Шаги для выбора локации обычно такие:\n",
    "        В избранном регионе собирают характеристики для скважин: качество нефти и объём её запасов;\n",
    "        Строят модель для предсказания объёма запасов в новых скважинах;\n",
    "        Выбирают скважины с самыми высокими оценками значений;\n",
    "        Определяют регион с максимальной суммарной прибылью отобранных скважин.\n",
    "\n",
    "    Вам предоставлены пробы нефти в трёх регионах. Характеристики для каждой скважины в регионе уже известны. Постройте модель для определения региона, где добыча принесёт наибольшую прибыль. Проанализируйте возможную прибыль и риски техникой Bootstrap."
   ]
  },
  {
   "cell_type": "markdown",
   "metadata": {
    "id": "4dlysgdD0_l0"
   },
   "source": [
    "## План по выполнению проекта\n",
    "1. Загрузить и подготовить данные.\n",
    "2. Обучить и проверить модель для каждого региона:\n",
    "3. Рассчитать достаточный объём сырья для безубыточной разработки новой скважины. \n",
    "4. Рассчитать прибыль для полученного объёма сырья по выбранным скважинам\n",
    "5. Посчитать риски, прибыль для каждого региона (техникой Bootstrap) и предложить регион для разработки скважин"
   ]
  },
  {
   "cell_type": "markdown",
   "metadata": {
    "id": "KDnxYxa61gH6"
   },
   "source": [
    "## Описание данных\n",
    "      \n",
    "    Данные геологоразведки трёх регионов находятся в файлах:\n",
    "        /datasets/geo_data_0.csv. Скачать датасет\n",
    "        /datasets/geo_data_1.csv. Скачать датасет\n",
    "        /datasets/geo_data_2.csv. Скачать датасет\n",
    "        id — уникальный идентификатор скважины;\n",
    "        f0, f1, f2 — три признака точек (неважно, что они означают, но сами признаки значимы);\n",
    "        product — объём запасов в скважине (тыс. баррелей).  "
   ]
  },
  {
   "cell_type": "markdown",
   "metadata": {},
   "source": [
    "## Условия задачи:\n",
    "    1. Для обучения модели подходит только линейная регрессия (остальные — недостаточно предсказуемые).\n",
    "    2. При разведке региона исследуют 500 точек, из которых с помощью машинного обучения выбирают 200 лучших для разработки.\n",
    "    3. Бюджет на разработку скважин в регионе — 10 млрд рублей.\n",
    "    4. При нынешних ценах один баррель сырья приносит 450 рублей дохода. Доход с каждой единицы продукта составляет 450 тыс. рублей, поскольку объём указан в тысячах баррелей.\n",
    "    5. После оценки рисков нужно оставить лишь те регионы, в которых вероятность убытков меньше 2.5%. Среди них выбирают регион с наибольшей средней прибылью.\n",
    "    6. Данные синтетические: детали контрактов и характеристики месторождений не разглашаются."
   ]
  },
  {
   "cell_type": "markdown",
   "metadata": {
    "id": "e7l4A8QU5MPg"
   },
   "source": [
    "## Исследование по шагам"
   ]
  },
  {
   "cell_type": "markdown",
   "metadata": {
    "id": "bWJsfm-X5OqC"
   },
   "source": [
    "### Шаг №1. Загрузить и подготовить данные. "
   ]
  },
  {
   "cell_type": "code",
   "execution_count": 1,
   "metadata": {},
   "outputs": [],
   "source": [
    "# в первой ячейке будем собирать импорты всех библиотек для наглядности \n",
    "import pandas as pd\n",
    "import numpy as np\n",
    "import matplotlib.pyplot as plt\n",
    "from scipy import stats as st\n",
    "import seaborn as sns\n",
    "#import plotly.express as px\n",
    "\n",
    "from sklearn.model_selection import train_test_split\n",
    "from sklearn.linear_model import LinearRegression\n",
    "\n",
    "from sklearn.metrics import mean_squared_error\n",
    "\n",
    "from sklearn.metrics import mean_absolute_error"
   ]
  },
  {
   "cell_type": "code",
   "execution_count": 2,
   "metadata": {},
   "outputs": [],
   "source": [
    "# константы для всего проекта\n",
    "RANDOM_STATE = 12345\n",
    "\n",
    "WELLS_IN_REGION = 500 # количество точек в регионе для исследования\n",
    "\n",
    "WELLS_THE_BEST = 200 # количество лучших точек для разработки в регионе\n",
    "\n",
    "DEVELOPMENT_BUDGET_FOR_REGION = 10000000000 # бюджет на разработку скважин в регионе в рублях\n",
    "\n",
    "INCOME_PER_BARREL = 450 # доход с одного барреля в рублях, доход с каждой единицы продукта составляет 450 тыс. рублей, поскольку объём указан в тысячах баррелей.\n",
    "\n",
    "LOSS_PROBABILITY = 0.025 # верхняя граница вероятности убытков для выбора региона\n",
    "\n",
    "CONFIDENCE_INTERVAL_GIVEN = 0.95 # заданный доверительный интервал\n",
    "\n",
    "NUMBER_OF_SAMPLES = 1000 # количество выборок"
   ]
  },
  {
   "cell_type": "code",
   "execution_count": 3,
   "metadata": {
    "colab": {
     "base_uri": "https://localhost:8080/",
     "height": 217
    },
    "id": "QRtrnhQM55B7",
    "outputId": "a7584843-1178-40c5-bf22-76749b2ab4aa"
   },
   "outputs": [
    {
     "name": "stdout",
     "output_type": "stream",
     "text": [
      "<class 'pandas.core.frame.DataFrame'>\n",
      "RangeIndex: 100000 entries, 0 to 99999\n",
      "Data columns (total 5 columns):\n",
      " #   Column   Non-Null Count   Dtype  \n",
      "---  ------   --------------   -----  \n",
      " 0   id       100000 non-null  object \n",
      " 1   f0       100000 non-null  float64\n",
      " 2   f1       100000 non-null  float64\n",
      " 3   f2       100000 non-null  float64\n",
      " 4   product  100000 non-null  float64\n",
      "dtypes: float64(4), object(1)\n",
      "memory usage: 3.8+ MB\n"
     ]
    },
    {
     "data": {
      "text/html": [
       "<div>\n",
       "<style scoped>\n",
       "    .dataframe tbody tr th:only-of-type {\n",
       "        vertical-align: middle;\n",
       "    }\n",
       "\n",
       "    .dataframe tbody tr th {\n",
       "        vertical-align: top;\n",
       "    }\n",
       "\n",
       "    .dataframe thead th {\n",
       "        text-align: right;\n",
       "    }\n",
       "</style>\n",
       "<table border=\"1\" class=\"dataframe\">\n",
       "  <thead>\n",
       "    <tr style=\"text-align: right;\">\n",
       "      <th></th>\n",
       "      <th>id</th>\n",
       "      <th>f0</th>\n",
       "      <th>f1</th>\n",
       "      <th>f2</th>\n",
       "      <th>product</th>\n",
       "    </tr>\n",
       "  </thead>\n",
       "  <tbody>\n",
       "    <tr>\n",
       "      <th>0</th>\n",
       "      <td>txEyH</td>\n",
       "      <td>0.705745</td>\n",
       "      <td>-0.497823</td>\n",
       "      <td>1.221170</td>\n",
       "      <td>105.280062</td>\n",
       "    </tr>\n",
       "    <tr>\n",
       "      <th>1</th>\n",
       "      <td>2acmU</td>\n",
       "      <td>1.334711</td>\n",
       "      <td>-0.340164</td>\n",
       "      <td>4.365080</td>\n",
       "      <td>73.037750</td>\n",
       "    </tr>\n",
       "    <tr>\n",
       "      <th>2</th>\n",
       "      <td>409Wp</td>\n",
       "      <td>1.022732</td>\n",
       "      <td>0.151990</td>\n",
       "      <td>1.419926</td>\n",
       "      <td>85.265647</td>\n",
       "    </tr>\n",
       "    <tr>\n",
       "      <th>3</th>\n",
       "      <td>iJLyR</td>\n",
       "      <td>-0.032172</td>\n",
       "      <td>0.139033</td>\n",
       "      <td>2.978566</td>\n",
       "      <td>168.620776</td>\n",
       "    </tr>\n",
       "    <tr>\n",
       "      <th>4</th>\n",
       "      <td>Xdl7t</td>\n",
       "      <td>1.988431</td>\n",
       "      <td>0.155413</td>\n",
       "      <td>4.751769</td>\n",
       "      <td>154.036647</td>\n",
       "    </tr>\n",
       "    <tr>\n",
       "      <th>...</th>\n",
       "      <td>...</td>\n",
       "      <td>...</td>\n",
       "      <td>...</td>\n",
       "      <td>...</td>\n",
       "      <td>...</td>\n",
       "    </tr>\n",
       "    <tr>\n",
       "      <th>99995</th>\n",
       "      <td>DLsed</td>\n",
       "      <td>0.971957</td>\n",
       "      <td>0.370953</td>\n",
       "      <td>6.075346</td>\n",
       "      <td>110.744026</td>\n",
       "    </tr>\n",
       "    <tr>\n",
       "      <th>99996</th>\n",
       "      <td>QKivN</td>\n",
       "      <td>1.392429</td>\n",
       "      <td>-0.382606</td>\n",
       "      <td>1.273912</td>\n",
       "      <td>122.346843</td>\n",
       "    </tr>\n",
       "    <tr>\n",
       "      <th>99997</th>\n",
       "      <td>3rnvd</td>\n",
       "      <td>1.029585</td>\n",
       "      <td>0.018787</td>\n",
       "      <td>-1.348308</td>\n",
       "      <td>64.375443</td>\n",
       "    </tr>\n",
       "    <tr>\n",
       "      <th>99998</th>\n",
       "      <td>7kl59</td>\n",
       "      <td>0.998163</td>\n",
       "      <td>-0.528582</td>\n",
       "      <td>1.583869</td>\n",
       "      <td>74.040764</td>\n",
       "    </tr>\n",
       "    <tr>\n",
       "      <th>99999</th>\n",
       "      <td>1CWhH</td>\n",
       "      <td>1.764754</td>\n",
       "      <td>-0.266417</td>\n",
       "      <td>5.722849</td>\n",
       "      <td>149.633246</td>\n",
       "    </tr>\n",
       "  </tbody>\n",
       "</table>\n",
       "<p>100000 rows × 5 columns</p>\n",
       "</div>"
      ],
      "text/plain": [
       "          id        f0        f1        f2     product\n",
       "0      txEyH  0.705745 -0.497823  1.221170  105.280062\n",
       "1      2acmU  1.334711 -0.340164  4.365080   73.037750\n",
       "2      409Wp  1.022732  0.151990  1.419926   85.265647\n",
       "3      iJLyR -0.032172  0.139033  2.978566  168.620776\n",
       "4      Xdl7t  1.988431  0.155413  4.751769  154.036647\n",
       "...      ...       ...       ...       ...         ...\n",
       "99995  DLsed  0.971957  0.370953  6.075346  110.744026\n",
       "99996  QKivN  1.392429 -0.382606  1.273912  122.346843\n",
       "99997  3rnvd  1.029585  0.018787 -1.348308   64.375443\n",
       "99998  7kl59  0.998163 -0.528582  1.583869   74.040764\n",
       "99999  1CWhH  1.764754 -0.266417  5.722849  149.633246\n",
       "\n",
       "[100000 rows x 5 columns]"
      ]
     },
     "metadata": {},
     "output_type": "display_data"
    }
   ],
   "source": [
    "# откроем и изучим датасеты \n",
    "try:\n",
    "    df0 = pd.read_csv('e:/Яндекс.Практикум/Спринт 09 Машинное обучение в бизнесе/geo_data_0.csv')\n",
    "except FileNotFoundError:\n",
    "    df0 = pd.read_csv('/datasets/geo_data_0.csv')\n",
    "    \n",
    "df0.info()\n",
    "display(df0)"
   ]
  },
  {
   "cell_type": "code",
   "execution_count": 4,
   "metadata": {},
   "outputs": [
    {
     "name": "stdout",
     "output_type": "stream",
     "text": [
      "<class 'pandas.core.frame.DataFrame'>\n",
      "RangeIndex: 100000 entries, 0 to 99999\n",
      "Data columns (total 5 columns):\n",
      " #   Column   Non-Null Count   Dtype  \n",
      "---  ------   --------------   -----  \n",
      " 0   id       100000 non-null  object \n",
      " 1   f0       100000 non-null  float64\n",
      " 2   f1       100000 non-null  float64\n",
      " 3   f2       100000 non-null  float64\n",
      " 4   product  100000 non-null  float64\n",
      "dtypes: float64(4), object(1)\n",
      "memory usage: 3.8+ MB\n"
     ]
    },
    {
     "data": {
      "text/html": [
       "<div>\n",
       "<style scoped>\n",
       "    .dataframe tbody tr th:only-of-type {\n",
       "        vertical-align: middle;\n",
       "    }\n",
       "\n",
       "    .dataframe tbody tr th {\n",
       "        vertical-align: top;\n",
       "    }\n",
       "\n",
       "    .dataframe thead th {\n",
       "        text-align: right;\n",
       "    }\n",
       "</style>\n",
       "<table border=\"1\" class=\"dataframe\">\n",
       "  <thead>\n",
       "    <tr style=\"text-align: right;\">\n",
       "      <th></th>\n",
       "      <th>id</th>\n",
       "      <th>f0</th>\n",
       "      <th>f1</th>\n",
       "      <th>f2</th>\n",
       "      <th>product</th>\n",
       "    </tr>\n",
       "  </thead>\n",
       "  <tbody>\n",
       "    <tr>\n",
       "      <th>0</th>\n",
       "      <td>kBEdx</td>\n",
       "      <td>-15.001348</td>\n",
       "      <td>-8.276000</td>\n",
       "      <td>-0.005876</td>\n",
       "      <td>3.179103</td>\n",
       "    </tr>\n",
       "    <tr>\n",
       "      <th>1</th>\n",
       "      <td>62mP7</td>\n",
       "      <td>14.272088</td>\n",
       "      <td>-3.475083</td>\n",
       "      <td>0.999183</td>\n",
       "      <td>26.953261</td>\n",
       "    </tr>\n",
       "    <tr>\n",
       "      <th>2</th>\n",
       "      <td>vyE1P</td>\n",
       "      <td>6.263187</td>\n",
       "      <td>-5.948386</td>\n",
       "      <td>5.001160</td>\n",
       "      <td>134.766305</td>\n",
       "    </tr>\n",
       "    <tr>\n",
       "      <th>3</th>\n",
       "      <td>KcrkZ</td>\n",
       "      <td>-13.081196</td>\n",
       "      <td>-11.506057</td>\n",
       "      <td>4.999415</td>\n",
       "      <td>137.945408</td>\n",
       "    </tr>\n",
       "    <tr>\n",
       "      <th>4</th>\n",
       "      <td>AHL4O</td>\n",
       "      <td>12.702195</td>\n",
       "      <td>-8.147433</td>\n",
       "      <td>5.004363</td>\n",
       "      <td>134.766305</td>\n",
       "    </tr>\n",
       "    <tr>\n",
       "      <th>...</th>\n",
       "      <td>...</td>\n",
       "      <td>...</td>\n",
       "      <td>...</td>\n",
       "      <td>...</td>\n",
       "      <td>...</td>\n",
       "    </tr>\n",
       "    <tr>\n",
       "      <th>99995</th>\n",
       "      <td>QywKC</td>\n",
       "      <td>9.535637</td>\n",
       "      <td>-6.878139</td>\n",
       "      <td>1.998296</td>\n",
       "      <td>53.906522</td>\n",
       "    </tr>\n",
       "    <tr>\n",
       "      <th>99996</th>\n",
       "      <td>ptvty</td>\n",
       "      <td>-10.160631</td>\n",
       "      <td>-12.558096</td>\n",
       "      <td>5.005581</td>\n",
       "      <td>137.945408</td>\n",
       "    </tr>\n",
       "    <tr>\n",
       "      <th>99997</th>\n",
       "      <td>09gWa</td>\n",
       "      <td>-7.378891</td>\n",
       "      <td>-3.084104</td>\n",
       "      <td>4.998651</td>\n",
       "      <td>137.945408</td>\n",
       "    </tr>\n",
       "    <tr>\n",
       "      <th>99998</th>\n",
       "      <td>rqwUm</td>\n",
       "      <td>0.665714</td>\n",
       "      <td>-6.152593</td>\n",
       "      <td>1.000146</td>\n",
       "      <td>30.132364</td>\n",
       "    </tr>\n",
       "    <tr>\n",
       "      <th>99999</th>\n",
       "      <td>relB0</td>\n",
       "      <td>-3.426139</td>\n",
       "      <td>-7.794274</td>\n",
       "      <td>-0.003299</td>\n",
       "      <td>3.179103</td>\n",
       "    </tr>\n",
       "  </tbody>\n",
       "</table>\n",
       "<p>100000 rows × 5 columns</p>\n",
       "</div>"
      ],
      "text/plain": [
       "          id         f0         f1        f2     product\n",
       "0      kBEdx -15.001348  -8.276000 -0.005876    3.179103\n",
       "1      62mP7  14.272088  -3.475083  0.999183   26.953261\n",
       "2      vyE1P   6.263187  -5.948386  5.001160  134.766305\n",
       "3      KcrkZ -13.081196 -11.506057  4.999415  137.945408\n",
       "4      AHL4O  12.702195  -8.147433  5.004363  134.766305\n",
       "...      ...        ...        ...       ...         ...\n",
       "99995  QywKC   9.535637  -6.878139  1.998296   53.906522\n",
       "99996  ptvty -10.160631 -12.558096  5.005581  137.945408\n",
       "99997  09gWa  -7.378891  -3.084104  4.998651  137.945408\n",
       "99998  rqwUm   0.665714  -6.152593  1.000146   30.132364\n",
       "99999  relB0  -3.426139  -7.794274 -0.003299    3.179103\n",
       "\n",
       "[100000 rows x 5 columns]"
      ]
     },
     "metadata": {},
     "output_type": "display_data"
    }
   ],
   "source": [
    "# откроем и изучим датасеты \n",
    "try:\n",
    "    df1 = pd.read_csv('e:/Яндекс.Практикум/Спринт 09 Машинное обучение в бизнесе/geo_data_1.csv')\n",
    "except FileNotFoundError:\n",
    "    df1 = pd.read_csv('/datasets/geo_data_1.csv')\n",
    "    \n",
    "df1.info()\n",
    "display(df1)"
   ]
  },
  {
   "cell_type": "code",
   "execution_count": 5,
   "metadata": {},
   "outputs": [
    {
     "name": "stdout",
     "output_type": "stream",
     "text": [
      "<class 'pandas.core.frame.DataFrame'>\n",
      "RangeIndex: 100000 entries, 0 to 99999\n",
      "Data columns (total 5 columns):\n",
      " #   Column   Non-Null Count   Dtype  \n",
      "---  ------   --------------   -----  \n",
      " 0   id       100000 non-null  object \n",
      " 1   f0       100000 non-null  float64\n",
      " 2   f1       100000 non-null  float64\n",
      " 3   f2       100000 non-null  float64\n",
      " 4   product  100000 non-null  float64\n",
      "dtypes: float64(4), object(1)\n",
      "memory usage: 3.8+ MB\n"
     ]
    },
    {
     "data": {
      "text/html": [
       "<div>\n",
       "<style scoped>\n",
       "    .dataframe tbody tr th:only-of-type {\n",
       "        vertical-align: middle;\n",
       "    }\n",
       "\n",
       "    .dataframe tbody tr th {\n",
       "        vertical-align: top;\n",
       "    }\n",
       "\n",
       "    .dataframe thead th {\n",
       "        text-align: right;\n",
       "    }\n",
       "</style>\n",
       "<table border=\"1\" class=\"dataframe\">\n",
       "  <thead>\n",
       "    <tr style=\"text-align: right;\">\n",
       "      <th></th>\n",
       "      <th>id</th>\n",
       "      <th>f0</th>\n",
       "      <th>f1</th>\n",
       "      <th>f2</th>\n",
       "      <th>product</th>\n",
       "    </tr>\n",
       "  </thead>\n",
       "  <tbody>\n",
       "    <tr>\n",
       "      <th>0</th>\n",
       "      <td>fwXo0</td>\n",
       "      <td>-1.146987</td>\n",
       "      <td>0.963328</td>\n",
       "      <td>-0.828965</td>\n",
       "      <td>27.758673</td>\n",
       "    </tr>\n",
       "    <tr>\n",
       "      <th>1</th>\n",
       "      <td>WJtFt</td>\n",
       "      <td>0.262778</td>\n",
       "      <td>0.269839</td>\n",
       "      <td>-2.530187</td>\n",
       "      <td>56.069697</td>\n",
       "    </tr>\n",
       "    <tr>\n",
       "      <th>2</th>\n",
       "      <td>ovLUW</td>\n",
       "      <td>0.194587</td>\n",
       "      <td>0.289035</td>\n",
       "      <td>-5.586433</td>\n",
       "      <td>62.871910</td>\n",
       "    </tr>\n",
       "    <tr>\n",
       "      <th>3</th>\n",
       "      <td>q6cA6</td>\n",
       "      <td>2.236060</td>\n",
       "      <td>-0.553760</td>\n",
       "      <td>0.930038</td>\n",
       "      <td>114.572842</td>\n",
       "    </tr>\n",
       "    <tr>\n",
       "      <th>4</th>\n",
       "      <td>WPMUX</td>\n",
       "      <td>-0.515993</td>\n",
       "      <td>1.716266</td>\n",
       "      <td>5.899011</td>\n",
       "      <td>149.600746</td>\n",
       "    </tr>\n",
       "    <tr>\n",
       "      <th>...</th>\n",
       "      <td>...</td>\n",
       "      <td>...</td>\n",
       "      <td>...</td>\n",
       "      <td>...</td>\n",
       "      <td>...</td>\n",
       "    </tr>\n",
       "    <tr>\n",
       "      <th>99995</th>\n",
       "      <td>4GxBu</td>\n",
       "      <td>-1.777037</td>\n",
       "      <td>1.125220</td>\n",
       "      <td>6.263374</td>\n",
       "      <td>172.327046</td>\n",
       "    </tr>\n",
       "    <tr>\n",
       "      <th>99996</th>\n",
       "      <td>YKFjq</td>\n",
       "      <td>-1.261523</td>\n",
       "      <td>-0.894828</td>\n",
       "      <td>2.524545</td>\n",
       "      <td>138.748846</td>\n",
       "    </tr>\n",
       "    <tr>\n",
       "      <th>99997</th>\n",
       "      <td>tKPY3</td>\n",
       "      <td>-1.199934</td>\n",
       "      <td>-2.957637</td>\n",
       "      <td>5.219411</td>\n",
       "      <td>157.080080</td>\n",
       "    </tr>\n",
       "    <tr>\n",
       "      <th>99998</th>\n",
       "      <td>nmxp2</td>\n",
       "      <td>-2.419896</td>\n",
       "      <td>2.417221</td>\n",
       "      <td>-5.548444</td>\n",
       "      <td>51.795253</td>\n",
       "    </tr>\n",
       "    <tr>\n",
       "      <th>99999</th>\n",
       "      <td>V9kWn</td>\n",
       "      <td>-2.551421</td>\n",
       "      <td>-2.025625</td>\n",
       "      <td>6.090891</td>\n",
       "      <td>102.775767</td>\n",
       "    </tr>\n",
       "  </tbody>\n",
       "</table>\n",
       "<p>100000 rows × 5 columns</p>\n",
       "</div>"
      ],
      "text/plain": [
       "          id        f0        f1        f2     product\n",
       "0      fwXo0 -1.146987  0.963328 -0.828965   27.758673\n",
       "1      WJtFt  0.262778  0.269839 -2.530187   56.069697\n",
       "2      ovLUW  0.194587  0.289035 -5.586433   62.871910\n",
       "3      q6cA6  2.236060 -0.553760  0.930038  114.572842\n",
       "4      WPMUX -0.515993  1.716266  5.899011  149.600746\n",
       "...      ...       ...       ...       ...         ...\n",
       "99995  4GxBu -1.777037  1.125220  6.263374  172.327046\n",
       "99996  YKFjq -1.261523 -0.894828  2.524545  138.748846\n",
       "99997  tKPY3 -1.199934 -2.957637  5.219411  157.080080\n",
       "99998  nmxp2 -2.419896  2.417221 -5.548444   51.795253\n",
       "99999  V9kWn -2.551421 -2.025625  6.090891  102.775767\n",
       "\n",
       "[100000 rows x 5 columns]"
      ]
     },
     "metadata": {},
     "output_type": "display_data"
    }
   ],
   "source": [
    "# откроем и изучим датасеты\n",
    "try:\n",
    "    df2 = pd.read_csv('e:/Яндекс.Практикум/Спринт 09 Машинное обучение в бизнесе/geo_data_2.csv')\n",
    "except FileNotFoundError:\n",
    "    df2 = pd.read_csv('/datasets/geo_data_2.csv')\n",
    "    \n",
    "df1.info()\n",
    "display(df2)"
   ]
  },
  {
   "cell_type": "markdown",
   "metadata": {},
   "source": [
    "В данных нет пропусков, что упрощает дальнейшее исследование!"
   ]
  },
  {
   "cell_type": "code",
   "execution_count": 6,
   "metadata": {
    "id": "bvqntYWp68yq"
   },
   "outputs": [
    {
     "name": "stdout",
     "output_type": "stream",
     "text": [
      "df0: дубликатов выявлено: 0\n",
      "df1: дубликатов выявлено: 0\n",
      "df2: дубликатов выявлено: 0\n"
     ]
    }
   ],
   "source": [
    "#проверим на дубликаты\n",
    "print(\"df0: дубликатов выявлено:\", df0.duplicated().sum())\n",
    "print(\"df1: дубликатов выявлено:\", df1.duplicated().sum())\n",
    "print(\"df2: дубликатов выявлено:\", df2.duplicated().sum())"
   ]
  },
  {
   "cell_type": "markdown",
   "metadata": {},
   "source": [
    "Дубликаты не выявлены.\n",
    "Замена типов данных не требуется."
   ]
  },
  {
   "cell_type": "code",
   "execution_count": 7,
   "metadata": {},
   "outputs": [
    {
     "data": {
      "text/plain": [
       "id          99990\n",
       "f0         100000\n",
       "f1         100000\n",
       "f2         100000\n",
       "product    100000\n",
       "dtype: int64"
      ]
     },
     "execution_count": 7,
     "metadata": {},
     "output_type": "execute_result"
    }
   ],
   "source": [
    "# посмотрим, сколько уникальных значений в каждом признаке\n",
    "df0.nunique()"
   ]
  },
  {
   "cell_type": "code",
   "execution_count": 8,
   "metadata": {},
   "outputs": [
    {
     "data": {
      "text/plain": [
       "id          99996\n",
       "f0         100000\n",
       "f1         100000\n",
       "f2         100000\n",
       "product        12\n",
       "dtype: int64"
      ]
     },
     "execution_count": 8,
     "metadata": {},
     "output_type": "execute_result"
    }
   ],
   "source": [
    "# посмотрим, сколько уникальных значений в каждом признаке\n",
    "df1.nunique()"
   ]
  },
  {
   "cell_type": "code",
   "execution_count": 9,
   "metadata": {},
   "outputs": [
    {
     "data": {
      "text/plain": [
       "id          99996\n",
       "f0         100000\n",
       "f1         100000\n",
       "f2         100000\n",
       "product    100000\n",
       "dtype: int64"
      ]
     },
     "execution_count": 9,
     "metadata": {},
     "output_type": "execute_result"
    }
   ],
   "source": [
    "# посмотрим, сколько уникальных значений в каждом признаке\n",
    "df2.nunique()"
   ]
  },
  {
   "cell_type": "code",
   "execution_count": 10,
   "metadata": {},
   "outputs": [
    {
     "data": {
      "text/plain": [
       "array([  3.17910258,  26.95326103, 134.76630516, 137.94540774,\n",
       "        84.03888568, 110.99214671,  53.90652206,   0.        ,\n",
       "       107.81304413,  57.08562465,  30.13236361,  80.85978309])"
      ]
     },
     "metadata": {},
     "output_type": "display_data"
    },
    {
     "data": {
      "text/plain": [
       "53.906522     0.08472\n",
       "26.953261     0.08468\n",
       "84.038886     0.08431\n",
       "57.085625     0.08390\n",
       "3.179103      0.08337\n",
       "80.859783     0.08320\n",
       "30.132364     0.08306\n",
       "134.766305    0.08304\n",
       "110.992147    0.08303\n",
       "0.000000      0.08235\n",
       "137.945408    0.08233\n",
       "107.813044    0.08201\n",
       "Name: product, dtype: float64"
      ]
     },
     "metadata": {},
     "output_type": "display_data"
    }
   ],
   "source": [
    "# проверим df1['product'] на уникальные значения для ручного поиска ошибок\n",
    "display(df1['product'].unique())\n",
    "# посмотрим распределение значений запаса скважин\n",
    "display(df1['product'].value_counts(normalize=True))"
   ]
  },
  {
   "cell_type": "markdown",
   "metadata": {},
   "source": [
    "    Выявлены следующие моменты:\n",
    "        1) Во всех датафреймах присутствуют незначительные повторения по признаку id (уникальный идентификатор скважины): от 4 в датафремах df1 и df2 до 10 значений в датафрейме df0.\n",
    "        2) В признаке df1 ['product'] всего 12 уникальных значений. Данные в этом датасете агрегированные, т.к. практически все id уникальны.  "
   ]
  },
  {
   "cell_type": "code",
   "execution_count": 11,
   "metadata": {},
   "outputs": [
    {
     "data": {
      "text/html": [
       "<div>\n",
       "<style scoped>\n",
       "    .dataframe tbody tr th:only-of-type {\n",
       "        vertical-align: middle;\n",
       "    }\n",
       "\n",
       "    .dataframe tbody tr th {\n",
       "        vertical-align: top;\n",
       "    }\n",
       "\n",
       "    .dataframe thead th {\n",
       "        text-align: right;\n",
       "    }\n",
       "</style>\n",
       "<table border=\"1\" class=\"dataframe\">\n",
       "  <thead>\n",
       "    <tr style=\"text-align: right;\">\n",
       "      <th></th>\n",
       "      <th>f0</th>\n",
       "      <th>f1</th>\n",
       "      <th>f2</th>\n",
       "      <th>product</th>\n",
       "    </tr>\n",
       "  </thead>\n",
       "  <tbody>\n",
       "    <tr>\n",
       "      <th>count</th>\n",
       "      <td>100000.000000</td>\n",
       "      <td>100000.000000</td>\n",
       "      <td>100000.000000</td>\n",
       "      <td>100000.000000</td>\n",
       "    </tr>\n",
       "    <tr>\n",
       "      <th>mean</th>\n",
       "      <td>0.500419</td>\n",
       "      <td>0.250143</td>\n",
       "      <td>2.502647</td>\n",
       "      <td>92.500000</td>\n",
       "    </tr>\n",
       "    <tr>\n",
       "      <th>std</th>\n",
       "      <td>0.871832</td>\n",
       "      <td>0.504433</td>\n",
       "      <td>3.248248</td>\n",
       "      <td>44.288691</td>\n",
       "    </tr>\n",
       "    <tr>\n",
       "      <th>min</th>\n",
       "      <td>-1.408605</td>\n",
       "      <td>-0.848218</td>\n",
       "      <td>-12.088328</td>\n",
       "      <td>0.000000</td>\n",
       "    </tr>\n",
       "    <tr>\n",
       "      <th>25%</th>\n",
       "      <td>-0.072580</td>\n",
       "      <td>-0.200881</td>\n",
       "      <td>0.287748</td>\n",
       "      <td>56.497507</td>\n",
       "    </tr>\n",
       "    <tr>\n",
       "      <th>50%</th>\n",
       "      <td>0.502360</td>\n",
       "      <td>0.250252</td>\n",
       "      <td>2.515969</td>\n",
       "      <td>91.849972</td>\n",
       "    </tr>\n",
       "    <tr>\n",
       "      <th>75%</th>\n",
       "      <td>1.073581</td>\n",
       "      <td>0.700646</td>\n",
       "      <td>4.715088</td>\n",
       "      <td>128.564089</td>\n",
       "    </tr>\n",
       "    <tr>\n",
       "      <th>max</th>\n",
       "      <td>2.362331</td>\n",
       "      <td>1.343769</td>\n",
       "      <td>16.003790</td>\n",
       "      <td>185.364347</td>\n",
       "    </tr>\n",
       "  </tbody>\n",
       "</table>\n",
       "</div>"
      ],
      "text/plain": [
       "                  f0             f1             f2        product\n",
       "count  100000.000000  100000.000000  100000.000000  100000.000000\n",
       "mean        0.500419       0.250143       2.502647      92.500000\n",
       "std         0.871832       0.504433       3.248248      44.288691\n",
       "min        -1.408605      -0.848218     -12.088328       0.000000\n",
       "25%        -0.072580      -0.200881       0.287748      56.497507\n",
       "50%         0.502360       0.250252       2.515969      91.849972\n",
       "75%         1.073581       0.700646       4.715088     128.564089\n",
       "max         2.362331       1.343769      16.003790     185.364347"
      ]
     },
     "execution_count": 11,
     "metadata": {},
     "output_type": "execute_result"
    }
   ],
   "source": [
    "# сделаем быстрый взгляд на статистики\n",
    "df0.describe()"
   ]
  },
  {
   "cell_type": "code",
   "execution_count": 12,
   "metadata": {},
   "outputs": [
    {
     "data": {
      "text/html": [
       "<div>\n",
       "<style scoped>\n",
       "    .dataframe tbody tr th:only-of-type {\n",
       "        vertical-align: middle;\n",
       "    }\n",
       "\n",
       "    .dataframe tbody tr th {\n",
       "        vertical-align: top;\n",
       "    }\n",
       "\n",
       "    .dataframe thead th {\n",
       "        text-align: right;\n",
       "    }\n",
       "</style>\n",
       "<table border=\"1\" class=\"dataframe\">\n",
       "  <thead>\n",
       "    <tr style=\"text-align: right;\">\n",
       "      <th></th>\n",
       "      <th>f0</th>\n",
       "      <th>f1</th>\n",
       "      <th>f2</th>\n",
       "      <th>product</th>\n",
       "    </tr>\n",
       "  </thead>\n",
       "  <tbody>\n",
       "    <tr>\n",
       "      <th>count</th>\n",
       "      <td>100000.000000</td>\n",
       "      <td>100000.000000</td>\n",
       "      <td>100000.000000</td>\n",
       "      <td>100000.000000</td>\n",
       "    </tr>\n",
       "    <tr>\n",
       "      <th>mean</th>\n",
       "      <td>1.141296</td>\n",
       "      <td>-4.796579</td>\n",
       "      <td>2.494541</td>\n",
       "      <td>68.825000</td>\n",
       "    </tr>\n",
       "    <tr>\n",
       "      <th>std</th>\n",
       "      <td>8.965932</td>\n",
       "      <td>5.119872</td>\n",
       "      <td>1.703572</td>\n",
       "      <td>45.944423</td>\n",
       "    </tr>\n",
       "    <tr>\n",
       "      <th>min</th>\n",
       "      <td>-31.609576</td>\n",
       "      <td>-26.358598</td>\n",
       "      <td>-0.018144</td>\n",
       "      <td>0.000000</td>\n",
       "    </tr>\n",
       "    <tr>\n",
       "      <th>25%</th>\n",
       "      <td>-6.298551</td>\n",
       "      <td>-8.267985</td>\n",
       "      <td>1.000021</td>\n",
       "      <td>26.953261</td>\n",
       "    </tr>\n",
       "    <tr>\n",
       "      <th>50%</th>\n",
       "      <td>1.153055</td>\n",
       "      <td>-4.813172</td>\n",
       "      <td>2.011479</td>\n",
       "      <td>57.085625</td>\n",
       "    </tr>\n",
       "    <tr>\n",
       "      <th>75%</th>\n",
       "      <td>8.621015</td>\n",
       "      <td>-1.332816</td>\n",
       "      <td>3.999904</td>\n",
       "      <td>107.813044</td>\n",
       "    </tr>\n",
       "    <tr>\n",
       "      <th>max</th>\n",
       "      <td>29.421755</td>\n",
       "      <td>18.734063</td>\n",
       "      <td>5.019721</td>\n",
       "      <td>137.945408</td>\n",
       "    </tr>\n",
       "  </tbody>\n",
       "</table>\n",
       "</div>"
      ],
      "text/plain": [
       "                  f0             f1             f2        product\n",
       "count  100000.000000  100000.000000  100000.000000  100000.000000\n",
       "mean        1.141296      -4.796579       2.494541      68.825000\n",
       "std         8.965932       5.119872       1.703572      45.944423\n",
       "min       -31.609576     -26.358598      -0.018144       0.000000\n",
       "25%        -6.298551      -8.267985       1.000021      26.953261\n",
       "50%         1.153055      -4.813172       2.011479      57.085625\n",
       "75%         8.621015      -1.332816       3.999904     107.813044\n",
       "max        29.421755      18.734063       5.019721     137.945408"
      ]
     },
     "execution_count": 12,
     "metadata": {},
     "output_type": "execute_result"
    }
   ],
   "source": [
    "# сделаем быстрый взгляд на статистики\n",
    "df1.describe()"
   ]
  },
  {
   "cell_type": "code",
   "execution_count": 13,
   "metadata": {},
   "outputs": [
    {
     "data": {
      "text/html": [
       "<div>\n",
       "<style scoped>\n",
       "    .dataframe tbody tr th:only-of-type {\n",
       "        vertical-align: middle;\n",
       "    }\n",
       "\n",
       "    .dataframe tbody tr th {\n",
       "        vertical-align: top;\n",
       "    }\n",
       "\n",
       "    .dataframe thead th {\n",
       "        text-align: right;\n",
       "    }\n",
       "</style>\n",
       "<table border=\"1\" class=\"dataframe\">\n",
       "  <thead>\n",
       "    <tr style=\"text-align: right;\">\n",
       "      <th></th>\n",
       "      <th>f0</th>\n",
       "      <th>f1</th>\n",
       "      <th>f2</th>\n",
       "      <th>product</th>\n",
       "    </tr>\n",
       "  </thead>\n",
       "  <tbody>\n",
       "    <tr>\n",
       "      <th>count</th>\n",
       "      <td>100000.000000</td>\n",
       "      <td>100000.000000</td>\n",
       "      <td>100000.000000</td>\n",
       "      <td>100000.000000</td>\n",
       "    </tr>\n",
       "    <tr>\n",
       "      <th>mean</th>\n",
       "      <td>0.002023</td>\n",
       "      <td>-0.002081</td>\n",
       "      <td>2.495128</td>\n",
       "      <td>95.000000</td>\n",
       "    </tr>\n",
       "    <tr>\n",
       "      <th>std</th>\n",
       "      <td>1.732045</td>\n",
       "      <td>1.730417</td>\n",
       "      <td>3.473445</td>\n",
       "      <td>44.749921</td>\n",
       "    </tr>\n",
       "    <tr>\n",
       "      <th>min</th>\n",
       "      <td>-8.760004</td>\n",
       "      <td>-7.084020</td>\n",
       "      <td>-11.970335</td>\n",
       "      <td>0.000000</td>\n",
       "    </tr>\n",
       "    <tr>\n",
       "      <th>25%</th>\n",
       "      <td>-1.162288</td>\n",
       "      <td>-1.174820</td>\n",
       "      <td>0.130359</td>\n",
       "      <td>59.450441</td>\n",
       "    </tr>\n",
       "    <tr>\n",
       "      <th>50%</th>\n",
       "      <td>0.009424</td>\n",
       "      <td>-0.009482</td>\n",
       "      <td>2.484236</td>\n",
       "      <td>94.925613</td>\n",
       "    </tr>\n",
       "    <tr>\n",
       "      <th>75%</th>\n",
       "      <td>1.158535</td>\n",
       "      <td>1.163678</td>\n",
       "      <td>4.858794</td>\n",
       "      <td>130.595027</td>\n",
       "    </tr>\n",
       "    <tr>\n",
       "      <th>max</th>\n",
       "      <td>7.238262</td>\n",
       "      <td>7.844801</td>\n",
       "      <td>16.739402</td>\n",
       "      <td>190.029838</td>\n",
       "    </tr>\n",
       "  </tbody>\n",
       "</table>\n",
       "</div>"
      ],
      "text/plain": [
       "                  f0             f1             f2        product\n",
       "count  100000.000000  100000.000000  100000.000000  100000.000000\n",
       "mean        0.002023      -0.002081       2.495128      95.000000\n",
       "std         1.732045       1.730417       3.473445      44.749921\n",
       "min        -8.760004      -7.084020     -11.970335       0.000000\n",
       "25%        -1.162288      -1.174820       0.130359      59.450441\n",
       "50%         0.009424      -0.009482       2.484236      94.925613\n",
       "75%         1.158535       1.163678       4.858794     130.595027\n",
       "max         7.238262       7.844801      16.739402     190.029838"
      ]
     },
     "execution_count": 13,
     "metadata": {},
     "output_type": "execute_result"
    }
   ],
   "source": [
    "# сделаем быстрый взгляд на статистики\n",
    "df2.describe()"
   ]
  },
  {
   "cell_type": "code",
   "execution_count": 14,
   "metadata": {},
   "outputs": [
    {
     "data": {
      "image/png": "[encoded data removed]",
      "text/plain": [
       "<Figure size 432x288 with 1 Axes>"
      ]
     },
     "metadata": {
      "needs_background": "light"
     },
     "output_type": "display_data"
    }
   ],
   "source": [
    "# посмотрим на диаграмме \"ящик с усами\" выбросы и медианы по признакам \"Balance\" и \"EstimatedSalary\" без \n",
    "# разбивки по целевому признаку, проведя таким образом начальный EDA\n",
    "# в дальнейшем будем использовать исходный датафрейм df, поэтому введем для анализа новую переменную df_eda\n",
    "df_eda0 = df0\n",
    "\n",
    "# построим диаграмму \"ящик с усами\" для всего датасета по признакам \"Balance\" и \"EstimatedSalary\"\n",
    "df_eda0.boxplot(column=['f0', 'f1', 'f2'])\n",
    "plt.show()"
   ]
  },
  {
   "cell_type": "code",
   "execution_count": 15,
   "metadata": {},
   "outputs": [
    {
     "data": {
      "image/png": "[encoded data removed]",
      "text/plain": [
       "<Figure size 432x288 with 1 Axes>"
      ]
     },
     "metadata": {
      "needs_background": "light"
     },
     "output_type": "display_data"
    }
   ],
   "source": [
    "# посмотрим на диаграмме \"ящик с усами\" выбросы и медианы по признакам \"Balance\" и \"EstimatedSalary\" без \n",
    "# разбивки по целевому признаку, проведя таким образом начальный EDA\n",
    "# в дальнейшем будем использовать исходный датафрейм df, поэтому введем для анализа новую переменную df_eda\n",
    "df_eda1 = df1\n",
    "\n",
    "# построим диаграмму \"ящик с усами\" для всего датасета по признакам \"Balance\" и \"EstimatedSalary\"\n",
    "df_eda1.boxplot(column=['f0', 'f1', 'f2'])\n",
    "plt.show()"
   ]
  },
  {
   "cell_type": "code",
   "execution_count": 16,
   "metadata": {},
   "outputs": [
    {
     "data": {
      "image/png": "[encoded data removed]",
      "text/plain": [
       "<Figure size 432x288 with 1 Axes>"
      ]
     },
     "metadata": {
      "needs_background": "light"
     },
     "output_type": "display_data"
    }
   ],
   "source": [
    "# посмотрим на диаграмме \"ящик с усами\" выбросы и медианы по признакам \"Balance\" и \"EstimatedSalary\" без \n",
    "# разбивки по целевому признаку, проведя таким образом начальный EDA\n",
    "# в дальнейшем будем использовать исходный датафрейм df, поэтому введем для анализа новую переменную df_eda\n",
    "df_eda2 = df2\n",
    "\n",
    "# построим диаграмму \"ящик с усами\" для всего датасета по признакам \"Balance\" и \"EstimatedSalary\"\n",
    "df_eda2.boxplot(column=['f0', 'f1', 'f2'])\n",
    "plt.show()"
   ]
  },
  {
   "cell_type": "markdown",
   "metadata": {},
   "source": [
    "    В датафрейме df0 данные по признакам f0 и f1 распределены без выбросов.\n",
    "    В датафрейме df1 данные по признакам f0 и f2 распределены почти без выбросов.\n",
    "    В датафрейме df2 данные по признакам f0 и f2 распределены со значительными выбросами."
   ]
  },
  {
   "cell_type": "code",
   "execution_count": 17,
   "metadata": {},
   "outputs": [
    {
     "data": {
      "text/html": [
       "<div>\n",
       "<style scoped>\n",
       "    .dataframe tbody tr th:only-of-type {\n",
       "        vertical-align: middle;\n",
       "    }\n",
       "\n",
       "    .dataframe tbody tr th {\n",
       "        vertical-align: top;\n",
       "    }\n",
       "\n",
       "    .dataframe thead th {\n",
       "        text-align: right;\n",
       "    }\n",
       "</style>\n",
       "<table border=\"1\" class=\"dataframe\">\n",
       "  <thead>\n",
       "    <tr style=\"text-align: right;\">\n",
       "      <th></th>\n",
       "      <th>f0</th>\n",
       "      <th>f1</th>\n",
       "      <th>f2</th>\n",
       "      <th>product</th>\n",
       "    </tr>\n",
       "  </thead>\n",
       "  <tbody>\n",
       "    <tr>\n",
       "      <th>f0</th>\n",
       "      <td>1.000000</td>\n",
       "      <td>-0.440723</td>\n",
       "      <td>-0.003153</td>\n",
       "      <td>0.143536</td>\n",
       "    </tr>\n",
       "    <tr>\n",
       "      <th>f1</th>\n",
       "      <td>-0.440723</td>\n",
       "      <td>1.000000</td>\n",
       "      <td>0.001724</td>\n",
       "      <td>-0.192356</td>\n",
       "    </tr>\n",
       "    <tr>\n",
       "      <th>f2</th>\n",
       "      <td>-0.003153</td>\n",
       "      <td>0.001724</td>\n",
       "      <td>1.000000</td>\n",
       "      <td>0.483663</td>\n",
       "    </tr>\n",
       "    <tr>\n",
       "      <th>product</th>\n",
       "      <td>0.143536</td>\n",
       "      <td>-0.192356</td>\n",
       "      <td>0.483663</td>\n",
       "      <td>1.000000</td>\n",
       "    </tr>\n",
       "  </tbody>\n",
       "</table>\n",
       "</div>"
      ],
      "text/plain": [
       "               f0        f1        f2   product\n",
       "f0       1.000000 -0.440723 -0.003153  0.143536\n",
       "f1      -0.440723  1.000000  0.001724 -0.192356\n",
       "f2      -0.003153  0.001724  1.000000  0.483663\n",
       "product  0.143536 -0.192356  0.483663  1.000000"
      ]
     },
     "execution_count": 17,
     "metadata": {},
     "output_type": "execute_result"
    }
   ],
   "source": [
    "# взглянем на матрицу корреляции для общего понимания зависимости признаков\n",
    "df_for_corr0 = df0.drop(['id'], axis=1)\n",
    "df_for_corr0.corr()"
   ]
  },
  {
   "cell_type": "code",
   "execution_count": 18,
   "metadata": {},
   "outputs": [
    {
     "data": {
      "text/html": [
       "<div>\n",
       "<style scoped>\n",
       "    .dataframe tbody tr th:only-of-type {\n",
       "        vertical-align: middle;\n",
       "    }\n",
       "\n",
       "    .dataframe tbody tr th {\n",
       "        vertical-align: top;\n",
       "    }\n",
       "\n",
       "    .dataframe thead th {\n",
       "        text-align: right;\n",
       "    }\n",
       "</style>\n",
       "<table border=\"1\" class=\"dataframe\">\n",
       "  <thead>\n",
       "    <tr style=\"text-align: right;\">\n",
       "      <th></th>\n",
       "      <th>f0</th>\n",
       "      <th>f1</th>\n",
       "      <th>f2</th>\n",
       "      <th>product</th>\n",
       "    </tr>\n",
       "  </thead>\n",
       "  <tbody>\n",
       "    <tr>\n",
       "      <th>f0</th>\n",
       "      <td>1.000000</td>\n",
       "      <td>0.182287</td>\n",
       "      <td>-0.001777</td>\n",
       "      <td>-0.030491</td>\n",
       "    </tr>\n",
       "    <tr>\n",
       "      <th>f1</th>\n",
       "      <td>0.182287</td>\n",
       "      <td>1.000000</td>\n",
       "      <td>-0.002595</td>\n",
       "      <td>-0.010155</td>\n",
       "    </tr>\n",
       "    <tr>\n",
       "      <th>f2</th>\n",
       "      <td>-0.001777</td>\n",
       "      <td>-0.002595</td>\n",
       "      <td>1.000000</td>\n",
       "      <td>0.999397</td>\n",
       "    </tr>\n",
       "    <tr>\n",
       "      <th>product</th>\n",
       "      <td>-0.030491</td>\n",
       "      <td>-0.010155</td>\n",
       "      <td>0.999397</td>\n",
       "      <td>1.000000</td>\n",
       "    </tr>\n",
       "  </tbody>\n",
       "</table>\n",
       "</div>"
      ],
      "text/plain": [
       "               f0        f1        f2   product\n",
       "f0       1.000000  0.182287 -0.001777 -0.030491\n",
       "f1       0.182287  1.000000 -0.002595 -0.010155\n",
       "f2      -0.001777 -0.002595  1.000000  0.999397\n",
       "product -0.030491 -0.010155  0.999397  1.000000"
      ]
     },
     "execution_count": 18,
     "metadata": {},
     "output_type": "execute_result"
    }
   ],
   "source": [
    "# взглянем на матрицу корреляции для общего понимания зависимости признаков\n",
    "df_for_corr1 = df1.drop(['id'], axis=1)\n",
    "df_for_corr1.corr()"
   ]
  },
  {
   "cell_type": "code",
   "execution_count": 19,
   "metadata": {},
   "outputs": [
    {
     "data": {
      "text/html": [
       "<div>\n",
       "<style scoped>\n",
       "    .dataframe tbody tr th:only-of-type {\n",
       "        vertical-align: middle;\n",
       "    }\n",
       "\n",
       "    .dataframe tbody tr th {\n",
       "        vertical-align: top;\n",
       "    }\n",
       "\n",
       "    .dataframe thead th {\n",
       "        text-align: right;\n",
       "    }\n",
       "</style>\n",
       "<table border=\"1\" class=\"dataframe\">\n",
       "  <thead>\n",
       "    <tr style=\"text-align: right;\">\n",
       "      <th></th>\n",
       "      <th>f0</th>\n",
       "      <th>f1</th>\n",
       "      <th>f2</th>\n",
       "      <th>product</th>\n",
       "    </tr>\n",
       "  </thead>\n",
       "  <tbody>\n",
       "    <tr>\n",
       "      <th>f0</th>\n",
       "      <td>1.000000</td>\n",
       "      <td>0.000528</td>\n",
       "      <td>-0.000448</td>\n",
       "      <td>-0.001987</td>\n",
       "    </tr>\n",
       "    <tr>\n",
       "      <th>f1</th>\n",
       "      <td>0.000528</td>\n",
       "      <td>1.000000</td>\n",
       "      <td>0.000779</td>\n",
       "      <td>-0.001012</td>\n",
       "    </tr>\n",
       "    <tr>\n",
       "      <th>f2</th>\n",
       "      <td>-0.000448</td>\n",
       "      <td>0.000779</td>\n",
       "      <td>1.000000</td>\n",
       "      <td>0.445871</td>\n",
       "    </tr>\n",
       "    <tr>\n",
       "      <th>product</th>\n",
       "      <td>-0.001987</td>\n",
       "      <td>-0.001012</td>\n",
       "      <td>0.445871</td>\n",
       "      <td>1.000000</td>\n",
       "    </tr>\n",
       "  </tbody>\n",
       "</table>\n",
       "</div>"
      ],
      "text/plain": [
       "               f0        f1        f2   product\n",
       "f0       1.000000  0.000528 -0.000448 -0.001987\n",
       "f1       0.000528  1.000000  0.000779 -0.001012\n",
       "f2      -0.000448  0.000779  1.000000  0.445871\n",
       "product -0.001987 -0.001012  0.445871  1.000000"
      ]
     },
     "execution_count": 19,
     "metadata": {},
     "output_type": "execute_result"
    }
   ],
   "source": [
    "# взглянем на матрицу корреляции для общего понимания зависимости признаков\n",
    "df_for_corr2 = df2.drop(['id'], axis=1)\n",
    "df_for_corr2.corr()"
   ]
  },
  {
   "cell_type": "code",
   "execution_count": 20,
   "metadata": {},
   "outputs": [
    {
     "data": {
      "text/plain": [
       "<AxesSubplot:>"
      ]
     },
     "execution_count": 20,
     "metadata": {},
     "output_type": "execute_result"
    },
    {
     "data": {
      "image/png": "[encoded data removed]",
      "text/plain": [
       "<Figure size 432x288 with 2 Axes>"
      ]
     },
     "metadata": {
      "needs_background": "light"
     },
     "output_type": "display_data"
    }
   ],
   "source": [
    "# построим heatmap матрицы корреляции для наглядного понимания зависимости признаков, т.к.\n",
    "# понимание структуры/особенностей/качества данных способствует улучшению качества модели\n",
    "sns.heatmap(df_for_corr0.corr())"
   ]
  },
  {
   "cell_type": "code",
   "execution_count": 21,
   "metadata": {},
   "outputs": [
    {
     "data": {
      "text/plain": [
       "<AxesSubplot:>"
      ]
     },
     "execution_count": 21,
     "metadata": {},
     "output_type": "execute_result"
    },
    {
     "data": {
      "image/png": "[encoded data removed]",
      "text/plain": [
       "<Figure size 432x288 with 2 Axes>"
      ]
     },
     "metadata": {
      "needs_background": "light"
     },
     "output_type": "display_data"
    }
   ],
   "source": [
    "# построим heatmap матрицы корреляции для наглядного понимания зависимости признаков, т.к.\n",
    "# понимание структуры/особенностей/качества данных способствует улучшению качества модели\n",
    "sns.heatmap(df_for_corr1.corr())"
   ]
  },
  {
   "cell_type": "code",
   "execution_count": 22,
   "metadata": {},
   "outputs": [
    {
     "data": {
      "text/plain": [
       "<AxesSubplot:>"
      ]
     },
     "execution_count": 22,
     "metadata": {},
     "output_type": "execute_result"
    },
    {
     "data": {
      "image/png": "[encoded data removed]",
      "text/plain": [
       "<Figure size 432x288 with 2 Axes>"
      ]
     },
     "metadata": {
      "needs_background": "light"
     },
     "output_type": "display_data"
    }
   ],
   "source": [
    "# построим heatmap матрицы корреляции для наглядного понимания зависимости признаков, т.к.\n",
    "# понимание структуры/особенностей/качества данных способствует улучшению качества модели\n",
    "sns.heatmap(df_for_corr2.corr())"
   ]
  },
  {
   "cell_type": "markdown",
   "metadata": {},
   "source": [
    "По всем датафреймам наблюдается прямая корреляция между f2 и product. Особенно сильна эта зависимость для датафрейма df1 (0.999397)"
   ]
  },
  {
   "cell_type": "markdown",
   "metadata": {},
   "source": [
    "#### Вывод по \"Шаг №1. Загрузить и подготовить данные.\"\n",
    "\n",
    "    Файл открыт, данные загружены. \n",
    "    Датафреймы не содержат пропущенные значений. \n",
    "    Датафреймы не содержат дубликатов, типы данных не требуют преобразования. \n",
    "    Признаки и целевой признак не содержат нелогичных значений.    \n",
    "    В датафрейме df0 и df1 данные по признакам f0 и f1 распределены без выбросов, а в датафрейме df2, наоборот, данные по признакам f0 и f2 распределены со значительными выбросами.\n",
    "    По построенной диаграмме \"тепловая карта корреляции\" выявлена существенной зависимость между признаками:  по всем датафреймам наблюдается прямая корреляция между f2 и product. Особенно сильна эта зависимость для датафрейма df1 (значение коэффициента корреляции = 0.999397) .\n",
    "    \n",
    "    Дополнительно выявлены следующие моменты:\n",
    "        1) Во всех датафреймах присутствуют незначительные повторения по признаку id (уникальный идентификатор скважины): от 4 значений в датафремах df1 и df2 до 10 значений в датафрейме df0. Величина крайне незначительная, поэтому, если невозможно получить ответ от других служб, данным моментом можно пренебречь.\n",
    "        2) В признаке df1 ['product'] всего 12 уникальных значений. Данные в этом датасете агрегированные, т.к. практически все id уникальны. Следует рекомендовать разобраться с данным моментом до начала исследования."
   ]
  },
  {
   "cell_type": "markdown",
   "metadata": {},
   "source": [
    "### Шаг 2. Обучить и проверить модель для каждого региона."
   ]
  },
  {
   "cell_type": "markdown",
   "metadata": {},
   "source": [
    "#### Шаг 2.1. Разбить данные на обучающую и валидационную выборки в соотношении 75:25"
   ]
  },
  {
   "cell_type": "code",
   "execution_count": 23,
   "metadata": {},
   "outputs": [],
   "source": [
    "# разделим каждый датафрейм на обучающую и валидационную выборки\n",
    "\n",
    "# разделим датафрейм на 2 части: 75% на обучающую выборку и 25% на валидационную выборку\n",
    "df_0_train, df_0_valid = train_test_split(df0, test_size=0.25, random_state=RANDOM_STATE)\n",
    "df_1_train, df_1_valid = train_test_split(df1, test_size=0.25, random_state=RANDOM_STATE)\n",
    "df_2_train, df_2_valid = train_test_split(df2, test_size=0.25, random_state=RANDOM_STATE)"
   ]
  },
  {
   "cell_type": "markdown",
   "metadata": {},
   "source": [
    "В данном случае при попытке использовать параметр stratify=df0['product'] (для стратифицированной разбивки данных по целевому признаку) код выпадает в ошибку, т.к. имеются уникальные объекты по признаку df0['product'], а минимальное количество групп для любого класса не может быть менее 2. Поэтому параметр stratify=df0['product'] не используем!"
   ]
  },
  {
   "cell_type": "code",
   "execution_count": 24,
   "metadata": {},
   "outputs": [
    {
     "data": {
      "text/html": [
       "<div>\n",
       "<style scoped>\n",
       "    .dataframe tbody tr th:only-of-type {\n",
       "        vertical-align: middle;\n",
       "    }\n",
       "\n",
       "    .dataframe tbody tr th {\n",
       "        vertical-align: top;\n",
       "    }\n",
       "\n",
       "    .dataframe thead th {\n",
       "        text-align: right;\n",
       "    }\n",
       "</style>\n",
       "<table border=\"1\" class=\"dataframe\">\n",
       "  <thead>\n",
       "    <tr style=\"text-align: right;\">\n",
       "      <th></th>\n",
       "      <th>f0</th>\n",
       "      <th>f1</th>\n",
       "      <th>f2</th>\n",
       "      <th>product</th>\n",
       "    </tr>\n",
       "  </thead>\n",
       "  <tbody>\n",
       "    <tr>\n",
       "      <th>count</th>\n",
       "      <td>75000.000000</td>\n",
       "      <td>75000.000000</td>\n",
       "      <td>75000.000000</td>\n",
       "      <td>75000.000000</td>\n",
       "    </tr>\n",
       "    <tr>\n",
       "      <th>mean</th>\n",
       "      <td>0.497441</td>\n",
       "      <td>0.250064</td>\n",
       "      <td>2.505917</td>\n",
       "      <td>92.640468</td>\n",
       "    </tr>\n",
       "    <tr>\n",
       "      <th>std</th>\n",
       "      <td>0.871824</td>\n",
       "      <td>0.504203</td>\n",
       "      <td>3.249684</td>\n",
       "      <td>44.288688</td>\n",
       "    </tr>\n",
       "    <tr>\n",
       "      <th>min</th>\n",
       "      <td>-1.408605</td>\n",
       "      <td>-0.848218</td>\n",
       "      <td>-10.138341</td>\n",
       "      <td>0.000000</td>\n",
       "    </tr>\n",
       "    <tr>\n",
       "      <th>25%</th>\n",
       "      <td>-0.075827</td>\n",
       "      <td>-0.199952</td>\n",
       "      <td>0.296284</td>\n",
       "      <td>56.652603</td>\n",
       "    </tr>\n",
       "    <tr>\n",
       "      <th>50%</th>\n",
       "      <td>0.499079</td>\n",
       "      <td>0.249690</td>\n",
       "      <td>2.519854</td>\n",
       "      <td>92.131131</td>\n",
       "    </tr>\n",
       "    <tr>\n",
       "      <th>75%</th>\n",
       "      <td>1.070328</td>\n",
       "      <td>0.700239</td>\n",
       "      <td>4.725356</td>\n",
       "      <td>128.719821</td>\n",
       "    </tr>\n",
       "    <tr>\n",
       "      <th>max</th>\n",
       "      <td>2.362331</td>\n",
       "      <td>1.343769</td>\n",
       "      <td>16.003790</td>\n",
       "      <td>185.364347</td>\n",
       "    </tr>\n",
       "  </tbody>\n",
       "</table>\n",
       "</div>"
      ],
      "text/plain": [
       "                 f0            f1            f2       product\n",
       "count  75000.000000  75000.000000  75000.000000  75000.000000\n",
       "mean       0.497441      0.250064      2.505917     92.640468\n",
       "std        0.871824      0.504203      3.249684     44.288688\n",
       "min       -1.408605     -0.848218    -10.138341      0.000000\n",
       "25%       -0.075827     -0.199952      0.296284     56.652603\n",
       "50%        0.499079      0.249690      2.519854     92.131131\n",
       "75%        1.070328      0.700239      4.725356    128.719821\n",
       "max        2.362331      1.343769     16.003790    185.364347"
      ]
     },
     "metadata": {},
     "output_type": "display_data"
    },
    {
     "data": {
      "text/html": [
       "<div>\n",
       "<style scoped>\n",
       "    .dataframe tbody tr th:only-of-type {\n",
       "        vertical-align: middle;\n",
       "    }\n",
       "\n",
       "    .dataframe tbody tr th {\n",
       "        vertical-align: top;\n",
       "    }\n",
       "\n",
       "    .dataframe thead th {\n",
       "        text-align: right;\n",
       "    }\n",
       "</style>\n",
       "<table border=\"1\" class=\"dataframe\">\n",
       "  <thead>\n",
       "    <tr style=\"text-align: right;\">\n",
       "      <th></th>\n",
       "      <th>f0</th>\n",
       "      <th>f1</th>\n",
       "      <th>f2</th>\n",
       "      <th>product</th>\n",
       "    </tr>\n",
       "  </thead>\n",
       "  <tbody>\n",
       "    <tr>\n",
       "      <th>count</th>\n",
       "      <td>25000.000000</td>\n",
       "      <td>25000.000000</td>\n",
       "      <td>25000.000000</td>\n",
       "      <td>25000.000000</td>\n",
       "    </tr>\n",
       "    <tr>\n",
       "      <th>mean</th>\n",
       "      <td>0.509356</td>\n",
       "      <td>0.250381</td>\n",
       "      <td>2.492837</td>\n",
       "      <td>92.078597</td>\n",
       "    </tr>\n",
       "    <tr>\n",
       "      <th>std</th>\n",
       "      <td>0.871812</td>\n",
       "      <td>0.505131</td>\n",
       "      <td>3.243980</td>\n",
       "      <td>44.286913</td>\n",
       "    </tr>\n",
       "    <tr>\n",
       "      <th>min</th>\n",
       "      <td>-1.302227</td>\n",
       "      <td>-0.807215</td>\n",
       "      <td>-12.088328</td>\n",
       "      <td>0.004022</td>\n",
       "    </tr>\n",
       "    <tr>\n",
       "      <th>25%</th>\n",
       "      <td>-0.064883</td>\n",
       "      <td>-0.202686</td>\n",
       "      <td>0.256892</td>\n",
       "      <td>56.059494</td>\n",
       "    </tr>\n",
       "    <tr>\n",
       "      <th>50%</th>\n",
       "      <td>0.510247</td>\n",
       "      <td>0.251546</td>\n",
       "      <td>2.505296</td>\n",
       "      <td>90.897664</td>\n",
       "    </tr>\n",
       "    <tr>\n",
       "      <th>75%</th>\n",
       "      <td>1.084742</td>\n",
       "      <td>0.701453</td>\n",
       "      <td>4.686501</td>\n",
       "      <td>128.160698</td>\n",
       "    </tr>\n",
       "    <tr>\n",
       "      <th>max</th>\n",
       "      <td>2.299810</td>\n",
       "      <td>1.331253</td>\n",
       "      <td>15.014250</td>\n",
       "      <td>185.315412</td>\n",
       "    </tr>\n",
       "  </tbody>\n",
       "</table>\n",
       "</div>"
      ],
      "text/plain": [
       "                 f0            f1            f2       product\n",
       "count  25000.000000  25000.000000  25000.000000  25000.000000\n",
       "mean       0.509356      0.250381      2.492837     92.078597\n",
       "std        0.871812      0.505131      3.243980     44.286913\n",
       "min       -1.302227     -0.807215    -12.088328      0.004022\n",
       "25%       -0.064883     -0.202686      0.256892     56.059494\n",
       "50%        0.510247      0.251546      2.505296     90.897664\n",
       "75%        1.084742      0.701453      4.686501    128.160698\n",
       "max        2.299810      1.331253     15.014250    185.315412"
      ]
     },
     "metadata": {},
     "output_type": "display_data"
    }
   ],
   "source": [
    "# сравним статистики по df_0_train и df_0_valid для проверки качества разбивки\n",
    "display(df_0_train.describe())\n",
    "display(df_0_valid.describe())"
   ]
  },
  {
   "cell_type": "code",
   "execution_count": 25,
   "metadata": {},
   "outputs": [
    {
     "data": {
      "text/html": [
       "<div>\n",
       "<style scoped>\n",
       "    .dataframe tbody tr th:only-of-type {\n",
       "        vertical-align: middle;\n",
       "    }\n",
       "\n",
       "    .dataframe tbody tr th {\n",
       "        vertical-align: top;\n",
       "    }\n",
       "\n",
       "    .dataframe thead th {\n",
       "        text-align: right;\n",
       "    }\n",
       "</style>\n",
       "<table border=\"1\" class=\"dataframe\">\n",
       "  <thead>\n",
       "    <tr style=\"text-align: right;\">\n",
       "      <th></th>\n",
       "      <th>f0</th>\n",
       "      <th>f1</th>\n",
       "      <th>f2</th>\n",
       "      <th>product</th>\n",
       "    </tr>\n",
       "  </thead>\n",
       "  <tbody>\n",
       "    <tr>\n",
       "      <th>count</th>\n",
       "      <td>75000.000000</td>\n",
       "      <td>75000.000000</td>\n",
       "      <td>75000.000000</td>\n",
       "      <td>75000.000000</td>\n",
       "    </tr>\n",
       "    <tr>\n",
       "      <th>mean</th>\n",
       "      <td>1.139877</td>\n",
       "      <td>-4.791885</td>\n",
       "      <td>2.495747</td>\n",
       "      <td>68.858955</td>\n",
       "    </tr>\n",
       "    <tr>\n",
       "      <th>std</th>\n",
       "      <td>8.965661</td>\n",
       "      <td>5.126975</td>\n",
       "      <td>1.702572</td>\n",
       "      <td>45.918736</td>\n",
       "    </tr>\n",
       "    <tr>\n",
       "      <th>min</th>\n",
       "      <td>-31.609576</td>\n",
       "      <td>-26.358598</td>\n",
       "      <td>-0.018144</td>\n",
       "      <td>0.000000</td>\n",
       "    </tr>\n",
       "    <tr>\n",
       "      <th>25%</th>\n",
       "      <td>-6.293124</td>\n",
       "      <td>-8.261050</td>\n",
       "      <td>1.000074</td>\n",
       "      <td>26.953261</td>\n",
       "    </tr>\n",
       "    <tr>\n",
       "      <th>50%</th>\n",
       "      <td>1.155425</td>\n",
       "      <td>-4.797439</td>\n",
       "      <td>2.012397</td>\n",
       "      <td>57.085625</td>\n",
       "    </tr>\n",
       "    <tr>\n",
       "      <th>75%</th>\n",
       "      <td>8.625869</td>\n",
       "      <td>-1.321777</td>\n",
       "      <td>3.999912</td>\n",
       "      <td>107.813044</td>\n",
       "    </tr>\n",
       "    <tr>\n",
       "      <th>max</th>\n",
       "      <td>29.421755</td>\n",
       "      <td>18.734063</td>\n",
       "      <td>5.019721</td>\n",
       "      <td>137.945408</td>\n",
       "    </tr>\n",
       "  </tbody>\n",
       "</table>\n",
       "</div>"
      ],
      "text/plain": [
       "                 f0            f1            f2       product\n",
       "count  75000.000000  75000.000000  75000.000000  75000.000000\n",
       "mean       1.139877     -4.791885      2.495747     68.858955\n",
       "std        8.965661      5.126975      1.702572     45.918736\n",
       "min      -31.609576    -26.358598     -0.018144      0.000000\n",
       "25%       -6.293124     -8.261050      1.000074     26.953261\n",
       "50%        1.155425     -4.797439      2.012397     57.085625\n",
       "75%        8.625869     -1.321777      3.999912    107.813044\n",
       "max       29.421755     18.734063      5.019721    137.945408"
      ]
     },
     "metadata": {},
     "output_type": "display_data"
    },
    {
     "data": {
      "text/html": [
       "<div>\n",
       "<style scoped>\n",
       "    .dataframe tbody tr th:only-of-type {\n",
       "        vertical-align: middle;\n",
       "    }\n",
       "\n",
       "    .dataframe tbody tr th {\n",
       "        vertical-align: top;\n",
       "    }\n",
       "\n",
       "    .dataframe thead th {\n",
       "        text-align: right;\n",
       "    }\n",
       "</style>\n",
       "<table border=\"1\" class=\"dataframe\">\n",
       "  <thead>\n",
       "    <tr style=\"text-align: right;\">\n",
       "      <th></th>\n",
       "      <th>f0</th>\n",
       "      <th>f1</th>\n",
       "      <th>f2</th>\n",
       "      <th>product</th>\n",
       "    </tr>\n",
       "  </thead>\n",
       "  <tbody>\n",
       "    <tr>\n",
       "      <th>count</th>\n",
       "      <td>25000.000000</td>\n",
       "      <td>25000.000000</td>\n",
       "      <td>25000.000000</td>\n",
       "      <td>25000.000000</td>\n",
       "    </tr>\n",
       "    <tr>\n",
       "      <th>mean</th>\n",
       "      <td>1.145552</td>\n",
       "      <td>-4.810661</td>\n",
       "      <td>2.490924</td>\n",
       "      <td>68.723136</td>\n",
       "    </tr>\n",
       "    <tr>\n",
       "      <th>std</th>\n",
       "      <td>8.966920</td>\n",
       "      <td>5.098579</td>\n",
       "      <td>1.706594</td>\n",
       "      <td>46.022165</td>\n",
       "    </tr>\n",
       "    <tr>\n",
       "      <th>min</th>\n",
       "      <td>-24.738401</td>\n",
       "      <td>-25.291518</td>\n",
       "      <td>-0.017686</td>\n",
       "      <td>0.000000</td>\n",
       "    </tr>\n",
       "    <tr>\n",
       "      <th>25%</th>\n",
       "      <td>-6.330435</td>\n",
       "      <td>-8.288350</td>\n",
       "      <td>0.999896</td>\n",
       "      <td>26.953261</td>\n",
       "    </tr>\n",
       "    <tr>\n",
       "      <th>50%</th>\n",
       "      <td>1.148456</td>\n",
       "      <td>-4.854744</td>\n",
       "      <td>2.009842</td>\n",
       "      <td>57.085625</td>\n",
       "    </tr>\n",
       "    <tr>\n",
       "      <th>75%</th>\n",
       "      <td>8.600052</td>\n",
       "      <td>-1.364010</td>\n",
       "      <td>3.999865</td>\n",
       "      <td>107.813044</td>\n",
       "    </tr>\n",
       "    <tr>\n",
       "      <th>max</th>\n",
       "      <td>26.535304</td>\n",
       "      <td>16.737196</td>\n",
       "      <td>5.019091</td>\n",
       "      <td>137.945408</td>\n",
       "    </tr>\n",
       "  </tbody>\n",
       "</table>\n",
       "</div>"
      ],
      "text/plain": [
       "                 f0            f1            f2       product\n",
       "count  25000.000000  25000.000000  25000.000000  25000.000000\n",
       "mean       1.145552     -4.810661      2.490924     68.723136\n",
       "std        8.966920      5.098579      1.706594     46.022165\n",
       "min      -24.738401    -25.291518     -0.017686      0.000000\n",
       "25%       -6.330435     -8.288350      0.999896     26.953261\n",
       "50%        1.148456     -4.854744      2.009842     57.085625\n",
       "75%        8.600052     -1.364010      3.999865    107.813044\n",
       "max       26.535304     16.737196      5.019091    137.945408"
      ]
     },
     "metadata": {},
     "output_type": "display_data"
    }
   ],
   "source": [
    "# сравним статистики по df_1_train и df_1_valid для проверки качества разбивки\n",
    "display(df_1_train.describe())\n",
    "display(df_1_valid.describe())"
   ]
  },
  {
   "cell_type": "code",
   "execution_count": 26,
   "metadata": {},
   "outputs": [
    {
     "data": {
      "text/html": [
       "<div>\n",
       "<style scoped>\n",
       "    .dataframe tbody tr th:only-of-type {\n",
       "        vertical-align: middle;\n",
       "    }\n",
       "\n",
       "    .dataframe tbody tr th {\n",
       "        vertical-align: top;\n",
       "    }\n",
       "\n",
       "    .dataframe thead th {\n",
       "        text-align: right;\n",
       "    }\n",
       "</style>\n",
       "<table border=\"1\" class=\"dataframe\">\n",
       "  <thead>\n",
       "    <tr style=\"text-align: right;\">\n",
       "      <th></th>\n",
       "      <th>f0</th>\n",
       "      <th>f1</th>\n",
       "      <th>f2</th>\n",
       "      <th>product</th>\n",
       "    </tr>\n",
       "  </thead>\n",
       "  <tbody>\n",
       "    <tr>\n",
       "      <th>count</th>\n",
       "      <td>75000.000000</td>\n",
       "      <td>75000.000000</td>\n",
       "      <td>75000.000000</td>\n",
       "      <td>75000.000000</td>\n",
       "    </tr>\n",
       "    <tr>\n",
       "      <th>mean</th>\n",
       "      <td>0.004484</td>\n",
       "      <td>-0.005079</td>\n",
       "      <td>2.498313</td>\n",
       "      <td>95.038589</td>\n",
       "    </tr>\n",
       "    <tr>\n",
       "      <th>std</th>\n",
       "      <td>1.732019</td>\n",
       "      <td>1.731381</td>\n",
       "      <td>3.471952</td>\n",
       "      <td>44.699018</td>\n",
       "    </tr>\n",
       "    <tr>\n",
       "      <th>min</th>\n",
       "      <td>-8.760004</td>\n",
       "      <td>-7.084020</td>\n",
       "      <td>-11.970335</td>\n",
       "      <td>0.014135</td>\n",
       "    </tr>\n",
       "    <tr>\n",
       "      <th>25%</th>\n",
       "      <td>-1.158866</td>\n",
       "      <td>-1.179468</td>\n",
       "      <td>0.142410</td>\n",
       "      <td>59.555706</td>\n",
       "    </tr>\n",
       "    <tr>\n",
       "      <th>50%</th>\n",
       "      <td>0.011144</td>\n",
       "      <td>-0.014117</td>\n",
       "      <td>2.480633</td>\n",
       "      <td>94.891036</td>\n",
       "    </tr>\n",
       "    <tr>\n",
       "      <th>75%</th>\n",
       "      <td>1.157356</td>\n",
       "      <td>1.163504</td>\n",
       "      <td>4.860134</td>\n",
       "      <td>130.601722</td>\n",
       "    </tr>\n",
       "    <tr>\n",
       "      <th>max</th>\n",
       "      <td>7.238262</td>\n",
       "      <td>7.844801</td>\n",
       "      <td>16.739402</td>\n",
       "      <td>190.029838</td>\n",
       "    </tr>\n",
       "  </tbody>\n",
       "</table>\n",
       "</div>"
      ],
      "text/plain": [
       "                 f0            f1            f2       product\n",
       "count  75000.000000  75000.000000  75000.000000  75000.000000\n",
       "mean       0.004484     -0.005079      2.498313     95.038589\n",
       "std        1.732019      1.731381      3.471952     44.699018\n",
       "min       -8.760004     -7.084020    -11.970335      0.014135\n",
       "25%       -1.158866     -1.179468      0.142410     59.555706\n",
       "50%        0.011144     -0.014117      2.480633     94.891036\n",
       "75%        1.157356      1.163504      4.860134    130.601722\n",
       "max        7.238262      7.844801     16.739402    190.029838"
      ]
     },
     "metadata": {},
     "output_type": "display_data"
    },
    {
     "data": {
      "text/html": [
       "<div>\n",
       "<style scoped>\n",
       "    .dataframe tbody tr th:only-of-type {\n",
       "        vertical-align: middle;\n",
       "    }\n",
       "\n",
       "    .dataframe tbody tr th {\n",
       "        vertical-align: top;\n",
       "    }\n",
       "\n",
       "    .dataframe thead th {\n",
       "        text-align: right;\n",
       "    }\n",
       "</style>\n",
       "<table border=\"1\" class=\"dataframe\">\n",
       "  <thead>\n",
       "    <tr style=\"text-align: right;\">\n",
       "      <th></th>\n",
       "      <th>f0</th>\n",
       "      <th>f1</th>\n",
       "      <th>f2</th>\n",
       "      <th>product</th>\n",
       "    </tr>\n",
       "  </thead>\n",
       "  <tbody>\n",
       "    <tr>\n",
       "      <th>count</th>\n",
       "      <td>25000.000000</td>\n",
       "      <td>25000.000000</td>\n",
       "      <td>25000.000000</td>\n",
       "      <td>25000.000000</td>\n",
       "    </tr>\n",
       "    <tr>\n",
       "      <th>mean</th>\n",
       "      <td>-0.005361</td>\n",
       "      <td>0.006916</td>\n",
       "      <td>2.485571</td>\n",
       "      <td>94.884233</td>\n",
       "    </tr>\n",
       "    <tr>\n",
       "      <th>std</th>\n",
       "      <td>1.732137</td>\n",
       "      <td>1.727525</td>\n",
       "      <td>3.477971</td>\n",
       "      <td>44.902982</td>\n",
       "    </tr>\n",
       "    <tr>\n",
       "      <th>min</th>\n",
       "      <td>-7.189498</td>\n",
       "      <td>-6.748357</td>\n",
       "      <td>-11.148282</td>\n",
       "      <td>0.000000</td>\n",
       "    </tr>\n",
       "    <tr>\n",
       "      <th>25%</th>\n",
       "      <td>-1.171923</td>\n",
       "      <td>-1.159960</td>\n",
       "      <td>0.106862</td>\n",
       "      <td>59.217876</td>\n",
       "    </tr>\n",
       "    <tr>\n",
       "      <th>50%</th>\n",
       "      <td>0.002777</td>\n",
       "      <td>0.002243</td>\n",
       "      <td>2.495001</td>\n",
       "      <td>94.979468</td>\n",
       "    </tr>\n",
       "    <tr>\n",
       "      <th>75%</th>\n",
       "      <td>1.161601</td>\n",
       "      <td>1.163826</td>\n",
       "      <td>4.854390</td>\n",
       "      <td>130.568416</td>\n",
       "    </tr>\n",
       "    <tr>\n",
       "      <th>max</th>\n",
       "      <td>6.246261</td>\n",
       "      <td>6.824058</td>\n",
       "      <td>14.919819</td>\n",
       "      <td>190.010982</td>\n",
       "    </tr>\n",
       "  </tbody>\n",
       "</table>\n",
       "</div>"
      ],
      "text/plain": [
       "                 f0            f1            f2       product\n",
       "count  25000.000000  25000.000000  25000.000000  25000.000000\n",
       "mean      -0.005361      0.006916      2.485571     94.884233\n",
       "std        1.732137      1.727525      3.477971     44.902982\n",
       "min       -7.189498     -6.748357    -11.148282      0.000000\n",
       "25%       -1.171923     -1.159960      0.106862     59.217876\n",
       "50%        0.002777      0.002243      2.495001     94.979468\n",
       "75%        1.161601      1.163826      4.854390    130.568416\n",
       "max        6.246261      6.824058     14.919819    190.010982"
      ]
     },
     "metadata": {},
     "output_type": "display_data"
    }
   ],
   "source": [
    "# сравним статистики по df_2_train и df_2_valid для проверки качества разбивки\n",
    "display(df_2_train.describe())\n",
    "display(df_2_valid.describe())"
   ]
  },
  {
   "cell_type": "markdown",
   "metadata": {},
   "source": [
    "Разбивка датасетов методом train_test_split произведена качественно: различие статистических метрик по train и valid выборкам по каждому региону (датасету) незначительные! "
   ]
  },
  {
   "cell_type": "markdown",
   "metadata": {},
   "source": [
    "#### Шаг 2.2 Обучить модель и сделать предсказания на валидационной выборке.\n",
    "#### Шаг 2.3. Сохранить предсказания и правильные ответы на валидационной выборке.\n",
    "#### Шаг 2.4. Напечатать на экране средний запас предсказанного сырья и RMSE модели.\n",
    "#### Шаг 2.5. Проанализировать результаты.\n",
    "\n",
    "Вышеуказанные шаги целесообразно объединить и выполнять совместно "
   ]
  },
  {
   "cell_type": "markdown",
   "metadata": {},
   "source": [
    "Коэффициент детерминации, или метрика R2 (англ. coefficient of determination; R-squared), вычисляет долю средней квадратичной ошибки модели от MSE среднего, а затем вычитает эту величину из единицы. Увеличение метрики означает прирост качества модели.\n",
    "\n",
    "    •\tЗначение метрики R2 равно единице только в одном случае, если MSE нулевое. Такая модель предсказывает все ответы идеально.\n",
    "    •\tR2 равно нулю: модель работает так же, как и среднее.\n",
    "    •\tЕсли метрика R2 отрицательна, качество модели очень низкое.\n",
    "    •\tЗначения R2 больше единицы быть не может."
   ]
  },
  {
   "cell_type": "code",
   "execution_count": 27,
   "metadata": {},
   "outputs": [
    {
     "name": "stdout",
     "output_type": "stream",
     "text": [
      "Регион № 0\n",
      "Cредний запас предсказанного сырья: 92.6\n",
      "RMSE модели линейной регрессии на валидационной выборке: 37.5794217150813\n",
      "R2 (коэффициент детерминации) =  0.27994321524487786\n",
      "MAE (среднее абсолютное отклонение) 30.919600777151313\n",
      "****************************************************************************\n",
      "Регион № 1\n",
      "Cредний запас предсказанного сырья: 68.7\n",
      "RMSE модели линейной регрессии на валидационной выборке: 0.8930992867756182\n",
      "R2 (коэффициент детерминации) =  0.9996233978805127\n",
      "MAE (среднее абсолютное отклонение) 0.7187662442124758\n",
      "****************************************************************************\n",
      "Регион № 2\n",
      "Cредний запас предсказанного сырья: 95.0\n",
      "RMSE модели линейной регрессии на валидационной выборке: 40.02970873393434\n",
      "R2 (коэффициент детерминации) =  0.20524758386040465\n",
      "MAE (среднее абсолютное отклонение) 32.79265210548181\n",
      "****************************************************************************\n"
     ]
    }
   ],
   "source": [
    "# автоматизируем циклом расчет метрик и получение предсказаний для всех регионов\n",
    "\n",
    "# создадим список датафреймов\n",
    "df_all = [\n",
    "    df0.drop('id', axis=1),\n",
    "    df1.drop('id', axis=1),\n",
    "    df2.drop('id', axis=1),\n",
    "]\n",
    "\n",
    "count_for_name = -1 # зададим счетчик для вывода на экран номера региона через print в цикле \n",
    "s_target_valid = [] # в этом списке будут сохраняться целевые признаки валидационной выборки \n",
    "s_predictions_valid = [] # в этом списке будут сохраняться предсказания целевого признака валидационной выборки\n",
    "\n",
    "for regions in range(len(df_all)):\n",
    "    count_for_name += 1\n",
    "    data = df_all[regions]\n",
    "    features = data.drop('product', axis=1)\n",
    "    target = data['product']      \n",
    "        \n",
    "    df_train, df_valid = train_test_split(data, test_size=0.25, random_state=RANDOM_STATE)\n",
    "       \n",
    "    # извлечем признаки и целевой признак\n",
    "    features_train = df_train.drop(['product'], axis=1) # извлекаем признаки в тренировочной базе \n",
    "    target_train = df_train['product'] # извлекаем целевой признак в тренировочной базе \n",
    "    features_valid = df_valid.drop(['product'], axis=1) # извлекаем признаки в валидационной базе\n",
    "    target_valid = df_valid['product'] # извлекаем целевой признак в валидационной базе\n",
    "\n",
    "    model = LinearRegression() # инициализирем модель LinearRegression\n",
    "    model.fit(features_train, target_train) # обучим модель на тренировочной выборке\n",
    "    predictions_valid = model.predict(features_valid) # получим предсказания модели на валидационной выборке\n",
    "    predicted_valid = pd.Series(predictions_valid, index=target_valid.index) #сохраним в переменной предсказания модели на валидационной выборке \n",
    "    \n",
    "    result = (mean_squared_error(target_valid, predictions_valid))**0.5 # посчитаем значение метрики RMSE на валидационной выборке\n",
    "\n",
    "    s_target_valid.append(pd.Series(target_valid)) # cохраним целевые признаки валидационной выборки в список\n",
    "    s_predictions_valid.append(pd.Series(predicted_valid)) # сохраним предсказания по валидационной выборке в список\n",
    "    \n",
    "    print(\"Регион №\", count_for_name)\n",
    "    print(\"Cредний запас предсказанного сырья:\", round(predictions_valid.mean(), 1))\n",
    "    print(\"RMSE модели линейной регрессии на валидационной выборке:\", result)\n",
    "    print(\"R2 (коэффициент детерминации) = \", model.score(features_valid, target_valid))\n",
    "    print(\"MAE (среднее абсолютное отклонение)\", mean_absolute_error(target_valid, predicted_valid))\n",
    "    print(\"****************************************************************************\")"
   ]
  },
  {
   "cell_type": "markdown",
   "metadata": {},
   "source": [
    "#### Вывод по \"Шаг 2. Обучить и проверить модель для каждого региона.\"\n",
    "\n",
    "    2.1 Разбивка датасетов методом train_test_split произведена качественно: различие статстических метрик по train и valid выборкам по каждому региону (датасету) незначительные! \n",
    "    2.2 Модель обучена, сделаны предсказания на валидационной выборке.\n",
    "    2.3. Предсказания и правильные ответы на валидационной выборке сохранены в отдельные переменные.\n",
    "    2.4. Средний запас предсказанного сырья и RMSE модели по моделям:\n",
    "\n",
    "    Модель 0: \n",
    "    Cредний запас предсказанного сырья: 92.6\n",
    "    RMSE модели линейной регрессии на валидационной выборке: 37.5794217150813\n",
    "\n",
    "    Модель 1: \n",
    "    Cредний запас предсказанного сырья: 68.7\n",
    "    RMSE модели линейной регрессии на валидационной выборке: 0.8930992867756182\n",
    "    \n",
    "    Модель 2: \n",
    "    Cредний запас предсказанного сырья: 95.0\n",
    "    RMSE модели линейной регрессии на валидационной выборке: 40.02970873393434"
   ]
  },
  {
   "cell_type": "markdown",
   "metadata": {},
   "source": [
    "### Шаг 3. Подготовиться к расчёту прибыли"
   ]
  },
  {
   "cell_type": "markdown",
   "metadata": {},
   "source": [
    "Переменные для ключевых констант исследования объявлены в начале проекта в одном месте"
   ]
  },
  {
   "cell_type": "code",
   "execution_count": 28,
   "metadata": {},
   "outputs": [
    {
     "name": "stdout",
     "output_type": "stream",
     "text": [
      "Достаточный объём сырья для безубыточной разработки новой скважины (тыс. баррелей) = 111.1\n"
     ]
    }
   ],
   "source": [
    "# рассчитаем достаточный объём сырья для безубыточной разработки новой скважины (тыс. баррелей) \n",
    "breakeven_volume_per_well = DEVELOPMENT_BUDGET_FOR_REGION / WELLS_THE_BEST / INCOME_PER_BARREL / 1000  \n",
    "print(f\"Достаточный объём сырья для безубыточной разработки новой скважины (тыс. баррелей) = {breakeven_volume_per_well:.1f}\")"
   ]
  },
  {
   "cell_type": "code",
   "execution_count": 29,
   "metadata": {},
   "outputs": [
    {
     "name": "stdout",
     "output_type": "stream",
     "text": [
      "Регион 0: средний запас двухсот лучших скважин по изначальным данным, тыс. баррелей = 184.8\n",
      "Регион 1: средний запас двухсот лучших скважин по изначальным данным, тыс. баррелей = 137.9\n",
      "Регион 2: средний запас двухсот лучших скважин по изначальным данным, тыс. баррелей = 189.6\n"
     ]
    }
   ],
   "source": [
    "# рассчитаем средний запас двухсот лучших скважин по изначальным данным по трем регионам \n",
    "# это позволит оценивать масштаб значений для дальнейшей проверки\n",
    "df0_best200 = df0.sort_values('product', ascending = False).head(200)\n",
    "df0_best200_mean = df0_best200['product'].mean()\n",
    "print(f\"Регион 0: средний запас двухсот лучших скважин по изначальным данным, тыс. баррелей = {df0_best200_mean:.1f}\")\n",
    "\n",
    "df1_best200 = df1.sort_values('product', ascending = False).head(200)\n",
    "df1_best200_mean = df1_best200['product'].mean()\n",
    "print(f\"Регион 1: средний запас двухсот лучших скважин по изначальным данным, тыс. баррелей = {df1_best200_mean:.1f}\")\n",
    "\n",
    "df2_best200 = df2.sort_values('product', ascending = False).head(200)\n",
    "df2_best200_mean = df2_best200['product'].mean()\n",
    "print(f\"Регион 2: средний запас двухсот лучших скважин по изначальным данным, тыс. баррелей = {df2_best200_mean:.1f}\")"
   ]
  },
  {
   "cell_type": "code",
   "execution_count": 30,
   "metadata": {},
   "outputs": [],
   "source": [
    "# запишем в переменные значения для дальнейших расчетов\n",
    "target_valid_0 = s_target_valid[0]\n",
    "target_valid_1 = s_target_valid[1]\n",
    "target_valid_2 = s_target_valid[2]\n",
    "\n",
    "predicted_valid_0 = s_predictions_valid[0]\n",
    "predicted_valid_1 = s_predictions_valid[1]\n",
    "predicted_valid_2 = s_predictions_valid[2]"
   ]
  },
  {
   "cell_type": "markdown",
   "metadata": {},
   "source": [
    "    Рассчитанный достаточный объём сырья для безубыточной разработки новой скважины равен 111,1 тыс. баррелей, что превышает средние значения объема запасов во всех трех регионах. Выведем эти значения на экран из ранее просчитанных статистик:\n",
    "        в регионе №0 средний запас равен 92,5 тыс. баррелей\n",
    "        в регионе №1 - 68,8 тыс. баррелей\n",
    "        в регионе №2 - 95,0 тыс. баррелей.\n",
    "    Ввиду того, что в разработку поступают только 200 лучших из 500 скважин, а полученные значения средних запасов двухсот лучших скважин по изначальным данным значительно превосходят значение 111,1 тыс. баррелей, арифметически возможна прибыль."
   ]
  },
  {
   "cell_type": "markdown",
   "metadata": {},
   "source": [
    "#### Вывод по \"Шаг 3. Подготовиться к расчёту прибыли\"\n",
    "\n",
    "Все ключевые значения для расчётов сохранены в отдельных переменных. Рассчитанный достаточный объём сырья для безубыточной разработки новой скважины (в тыс. баррелей) равен 111,1, что превышает средние значения объема во всех трех регионах: в регионе 0 средний запас равен 92,5, в регионе 1 - 68,825 и в регионе 2 - 95.\n",
    "Ввиду того, что в разработку поступают только 200 лучших из 500 скважин, возможно получение прибыли (подтверждено расчетом по двумстам лучшим скважинам)"
   ]
  },
  {
   "cell_type": "markdown",
   "metadata": {},
   "source": [
    "### Шаг 4. Написать функцию для расчёта прибыли по выбранным скважинам и предсказаниям модели"
   ]
  },
  {
   "cell_type": "code",
   "execution_count": 31,
   "metadata": {},
   "outputs": [],
   "source": [
    "# напишем функцию для расчёта прибыли по фактическим данным лучших скважин, предсказанных моделью\n",
    "def revenue(target, probabilities, WELLS_THE_BEST):\n",
    "    probs_sorted = probabilities.sort_values(ascending=False)\n",
    "    selected = target[probs_sorted.index][:WELLS_THE_BEST]\n",
    "    return selected.sum() * INCOME_PER_BARREL * 1000 - DEVELOPMENT_BUDGET_FOR_REGION"
   ]
  },
  {
   "cell_type": "code",
   "execution_count": 32,
   "metadata": {},
   "outputs": [
    {
     "name": "stdout",
     "output_type": "stream",
     "text": [
      "Фактическая прибыль (в млн руб.) по лучшим скважинам региона, предсказанным моделью, составляет = 3320.8\n"
     ]
    }
   ],
   "source": [
    "# найдем фактическую прибыль (в млн руб.) по лучшим скважинам региона №0\n",
    "print(f\"Фактическая прибыль (в млн руб.) по лучшим скважинам региона, \\\n",
    "предсказанным моделью, составляет = {revenue(target_valid_0, predicted_valid_0, WELLS_THE_BEST) / 1000000:.1f}\")"
   ]
  },
  {
   "cell_type": "code",
   "execution_count": 33,
   "metadata": {},
   "outputs": [
    {
     "name": "stdout",
     "output_type": "stream",
     "text": [
      "Фактическая прибыль (в млн руб.) по лучшим скважинам региона, предсказанным моделью, составляет = 2415.1\n"
     ]
    }
   ],
   "source": [
    "# найдем фактическую прибыль (в млн руб.) по лучшим скважинам региона №1\n",
    "print(f\"Фактическая прибыль (в млн руб.) по лучшим скважинам региона, \\\n",
    "предсказанным моделью, составляет = {revenue(target_valid_1, predicted_valid_1, WELLS_THE_BEST) / 1000000:.1f}\")"
   ]
  },
  {
   "cell_type": "code",
   "execution_count": 34,
   "metadata": {},
   "outputs": [
    {
     "name": "stdout",
     "output_type": "stream",
     "text": [
      "Фактическая прибыль (в млн руб.) по лучшим скважинам региона, предсказанным моделью, составляет = 2710.3\n"
     ]
    }
   ],
   "source": [
    "# найдем фактическую прибыль (в млн руб.) по лучшим скважинам региона №2\n",
    "print(f\"Фактическая прибыль (в млн руб.) по лучшим скважинам региона, \\\n",
    "предсказанным моделью, составляет = {revenue(target_valid_2, predicted_valid_2, WELLS_THE_BEST) / 1000000:.1f}\")"
   ]
  },
  {
   "cell_type": "markdown",
   "metadata": {},
   "source": [
    "#### Вывод по шаг \"4. Написать функцию для расчёта прибыли по выбранным скважинам и предсказаниям модели\"\n",
    "        В данном шаге в созданной функции сделано следующее: \n",
    "        4.1. Выбраны скважины с максимальными значениями предсказаний.\n",
    "        4.2. Просуммированы целевые значения объёма сырья, соответствующее предсказаниям модели.\n",
    "        4.3. Рассчитана прибыль для полученного объёма сырья.\n",
    "Регион №0 по расчетам оказался наиболее прибыльным (3320.8 млрд руб), за ним следует регион №2 (2710.3 млрд руб. прибыли), и последним идет регион №3 (2415.1 млрд руб.).        "
   ]
  },
  {
   "cell_type": "markdown",
   "metadata": {},
   "source": [
    "### Шаг 5. Посчитать риски и прибыль для каждого региона.\n",
    "\n",
    "    В данном шаге необходимо сделать следующие подшаги:\n",
    "        5.1. Применить технику Bootstrap с 1000 выборок, чтобы найти распределение прибыли.\n",
    "        5.2. Найти среднюю прибыль, 95%-й доверительный интервал и риск убытков. Убыток — это отрицательная прибыль.\n",
    "        5.3. Написать выводы: предложить регион для разработки скважин и обосновать выбор.\n",
    "        \n",
    "Для удобства пропишем все шаги в отдельной функции"
   ]
  },
  {
   "cell_type": "code",
   "execution_count": 35,
   "metadata": {},
   "outputs": [],
   "source": [
    "# напишем функцию для распределения прибыли техникой Bootstrap, расчета средней прибыли, 95%-го доверительного интервала, \n",
    "# и вероятности убытка\n",
    "def risk_and_loss (target, probabilities, \n",
    "                   WELLS_THE_BEST=200, \n",
    "                   RANDOM_STATE=12345, \n",
    "                   NUMBER_OF_SAMPLES=1000, \n",
    "                   CONFIDENCE_INTERVAL_GIVEN=0.95, \n",
    "                   LOSS_PROBABILITY=0.025):\n",
    "\n",
    "    #target_series = pd.Series(target, index=target)\n",
    "    state = np.random.RandomState(RANDOM_STATE)\n",
    "    counts_loss = 0\n",
    "\n",
    "    values = []\n",
    "    for __ in range(NUMBER_OF_SAMPLES):\n",
    "        target_subsample = target.sample(n=WELLS_IN_REGION, replace=True, random_state=state)\n",
    "        probs_subsample = probabilities[target_subsample.index]\n",
    "        res = revenue(target_subsample, probs_subsample, WELLS_THE_BEST)\n",
    "        values.append(res)\n",
    "        if res < 0:\n",
    "            counts_loss +=1\n",
    "\n",
    "    values = pd.Series(values)    \n",
    "    #confidence_interval = st.t.interval(CONFIDENCE_INTERVAL_GIVEN, len(values)-1, values.mean(), values.sem())\n",
    "    confidence_interval = (round(values.quantile(0.025) / 1000000, 1), round(values.quantile(0.975) / 1000000, 1))\n",
    "    mean = values.mean()\n",
    " \n",
    "    pvalue = 1. * counts_loss / NUMBER_OF_SAMPLES\n",
    " \n",
    "    print(f\"Средняя прибыль по региону (расчет по bootstrap), млн руб. = {mean / 1000000:.1f}\")\n",
    "    print(f\"Средняя прибыль по одной скважине, млн руб. = {mean / WELLS_THE_BEST / 1000000:.1f}\")\n",
    "    print(\"95%-ый доверительный интервал для прибыли, в млн руб.:\", confidence_interval)\n",
    "    if pvalue < LOSS_PROBABILITY:\n",
    "        print('ВЫВОД: регион подходит для дальнейшего анализа: \\\n",
    "        вероятность убытков = {:.1%} и является меньше допустимой'.format(pvalue))\n",
    "    else:\n",
    "        print('ВЫВОД: регион НЕ ПОДХОДИТ для дальнейшего анализа: \\\n",
    "        вероятность убытков = {:.1%} и является БОЛЬШЕ ДОПУСТИМОЙ'.format(pvalue))\n",
    "        #построим гистограмму распределения суммарной прибыли для наглядности\n",
    "        values.plot(kind='hist', bins=100, grid=True)\n",
    "        plt.xlabel(\"Прибыль / убыток по скважинам региона, в млрд руб.\")\n",
    "        plt.ylabel(\"количество скважин\")\n",
    "        plt.title(\"Гистограмма прогноза прибыли региона\")\n",
    "        plt.show()"
   ]
  },
  {
   "cell_type": "code",
   "execution_count": 36,
   "metadata": {},
   "outputs": [
    {
     "name": "stdout",
     "output_type": "stream",
     "text": [
      "Средняя прибыль по региону (расчет по bootstrap), млн руб. = 425.9\n",
      "Средняя прибыль по одной скважине, млн руб. = 2.1\n",
      "95%-ый доверительный интервал для прибыли, в млн руб.: (-102.1, 948.0)\n",
      "ВЫВОД: регион НЕ ПОДХОДИТ для дальнейшего анализа:         вероятность убытков = 6.0% и является БОЛЬШЕ ДОПУСТИМОЙ\n"
     ]
    },
    {
     "data": {
      "image/png": "[encoded data removed]",
      "text/plain": [
       "<Figure size 432x288 with 1 Axes>"
      ]
     },
     "metadata": {
      "needs_background": "light"
     },
     "output_type": "display_data"
    }
   ],
   "source": [
    "# применим функцию risk_and_loss для региона 0\n",
    "risk_and_loss(target_valid_0, predicted_valid_0)"
   ]
  },
  {
   "cell_type": "code",
   "execution_count": 37,
   "metadata": {},
   "outputs": [
    {
     "name": "stdout",
     "output_type": "stream",
     "text": [
      "Средняя прибыль по региону (расчет по bootstrap), млн руб. = 515.2\n",
      "Средняя прибыль по одной скважине, млн руб. = 2.6\n",
      "95%-ый доверительный интервал для прибыли, в млн руб.: (68.9, 931.5)\n",
      "ВЫВОД: регион подходит для дальнейшего анализа:         вероятность убытков = 1.0% и является меньше допустимой\n"
     ]
    }
   ],
   "source": [
    "# применим функцию risk_and_loss для региона 1\n",
    "risk_and_loss(target_valid_1, predicted_valid_1)"
   ]
  },
  {
   "cell_type": "code",
   "execution_count": 38,
   "metadata": {},
   "outputs": [
    {
     "name": "stdout",
     "output_type": "stream",
     "text": [
      "Средняя прибыль по региону (расчет по bootstrap), млн руб. = 435.0\n",
      "Средняя прибыль по одной скважине, млн руб. = 2.2\n",
      "95%-ый доверительный интервал для прибыли, в млн руб.: (-128.9, 969.7)\n",
      "ВЫВОД: регион НЕ ПОДХОДИТ для дальнейшего анализа:         вероятность убытков = 6.4% и является БОЛЬШЕ ДОПУСТИМОЙ\n"
     ]
    },
    {
     "data": {
      "image/png": "[encoded data removed]",
      "text/plain": [
       "<Figure size 432x288 with 1 Axes>"
      ]
     },
     "metadata": {
      "needs_background": "light"
     },
     "output_type": "display_data"
    }
   ],
   "source": [
    "# применим функцию risk_and_loss для региона 2\n",
    "risk_and_loss(target_valid_2, predicted_valid_2)"
   ]
  },
  {
   "cell_type": "markdown",
   "metadata": {},
   "source": [
    "#### Вывод по \"Шаг 5. Посчитать риски и прибыль для каждого региона.\"\n",
    "  В заключительном шаге исследования выполнены следующие задачи:\n",
    "        5.1. Примена техника Bootstrap с 1000 выборок, чтобы найти распределение прибыли.\n",
    "        5.2. Найдена средняя прибыль, 95%-й доверительный интервал и риск убытков. \n",
    "        5.3. Предложен регион для разработки скважин: таким регионом оказался регион №1, т.к. все остальные регионы не прошли порог вероятности убытков"
   ]
  },
  {
   "cell_type": "markdown",
   "metadata": {},
   "source": [
    "## Общий вывод по исследованию \"Нефтяные скважины\"\n",
    "\n",
    "#### В результате исследования была достигнута цель проекта, а именно построена модель для определения региона, где добыча принесёт наибольшую прибыль и проанализированы возможная прибыль и риски техникой Bootstrap.\n",
    "\n",
    "Для достижения цели были проделаны следующие шаги и получены следующие выводы: \n",
    "\n",
    "    Вывод по \"Шаг №1. Загрузить и подготовить данные. Пояснить порядок действий.\"\n",
    "    Файл открыт, данные загружены. \n",
    "    Датафреймы не содержат пропущенные значений. \n",
    "    Датафреймы не содержат дубликатов, типы данных не требуют преобразования. \n",
    "    Признаки и целевой признак не содержат нелогичных значений.    \n",
    "    В датафрейме df0 и df1 данные по признакам f0 и f1 распределены без выбросов, а в датафрейме df2, наоборот, данные по признакам f0 и f2 распределены со значительными выбросами.\n",
    "    По построенной диаграмме \"тепловая карта корреляции\" выявлена существенной зависимость между признаками:  по всем датафреймам наблюдается прямая корреляция между f2 и product. Особенно сильна эта зависимость для датафрейма df1 (значение коэффициента корреляции = 0.999397) .\n",
    "    \n",
    "    Дополнительно выявлены следующие моменты:\n",
    "        1) Во всех датафреймах присутствуют незначительные повторения по признаку id (уникальный идентификатор скважины): от 4 значений в датафремах df1 и df2 до 10 значений в датафрейме df0. Величина крайне незначительная, поэтому, если невозможно получить ответ от других служб, данным моментом можно пренебречь.\n",
    "        2) В признаке df1 ['product'] всего 12 уникальных значений. Данные в этом датасете агрегированные, т.к. практически все id уникальны. Следует рекомендовать разобраться с данным моментом до начала исследования.\n",
    "\n",
    "    Вывод по \"Шаг 2. Обучить и проверить модель для каждого региона.\"\n",
    "    2.1 Разбивка датасетов методом train_test_split произведена качественно: различие статстических метрик по train и valid выборкам по каждому региону (датасету) незначительные! \n",
    "    2.2 Модель обучена, сделаны предсказания на валидационной выборке.\n",
    "    2.3. Предсказания и правильные ответы на валидационной выборке сохранены в отдельные переменные.\n",
    "    2.4. Средний запас предсказанного сырья и RMSE модели по моделям:\n",
    "    Модель 0: \n",
    "        Cредний запас предсказанного сырья: 92.6\n",
    "        RMSE модели линейной регрессии на валидационной выборке: 37.5794217150813\n",
    "    Модель 1: \n",
    "        Cредний запас предсказанного сырья: 68.7\n",
    "        RMSE модели линейной регрессии на валидационной выборке: 0.8930992867756182\n",
    "    Модель 2: \n",
    "        Cредний запас предсказанного сырья: 95.0\n",
    "        RMSE модели линейной регрессии на валидационной выборке: 40.02970873393434\n",
    "\n",
    "    Вывод по \"Шаг 3. Подготовиться к расчёту прибыли\"\n",
    "    Все ключевые значения для расчётов сохранены в отдельных переменных. Рассчитанный достаточный объём сырья для безубыточной разработки новой скважины (в тыс. баррелей) равен 111,1, что превышает средние значения объема во всех трех регионах: в регионе 0 средний запас равен 92,5, в регионе 1 - 68,825 и в регионе 2 - 95.\n",
    "    Ввиду того, что в разработку поступают только 200 лучших из 500 скважин, возможно получение прибыли (подтверждено расчетом по двумстам лучшим скважинам)\n",
    "\n",
    "    Вывод по шаг \"4. Написать функцию для расчёта прибыли по выбранным скважинам и предсказаниям модели\"\n",
    "        В данном шаге в созданной функции сделано следующее: \n",
    "        4.1. Выбраны скважины с максимальными значениями предсказаний.\n",
    "        4.2. Просуммированы целевые значения объёма сырья, соответствующее предсказаниям модели.\n",
    "        4.3. Рассчитана прибыль для полученного объёма сырья.\n",
    "    Регион №0 по расчетам оказался наиболее прибыльным (3320.8 млрд руб), за ним следует регион №2 (2710.3 млрд руб. прибыли), и последним идет регион №3 (2415.1 млрд руб.).        \n",
    "\n",
    "    Вывод по \"Шаг 5. Посчитать риски и прибыль для каждого региона.\"\n",
    "    В заключительном шаге исследования выполнены следующие задачи:\n",
    "        5.1. Примена техника Bootstrap с 1000 выборок, чтобы найти распределение прибыли.\n",
    "        5.2. Найдена средняя прибыль, 95%-й доверительный интервал и риск убытков. \n",
    "        5.3. Предложен регион для разработки скважин: таким регионом оказался регион №1, т.к. все остальные регионы не прошли порог вероятности убытков. Итоговые показатели по региону №1 следующие:\n",
    "        \n",
    "        \n",
    "        Фактическая прибыль (в млн руб.) по лучшим скважинам региона, предсказанным моделью, составляет = 2415.1\n",
    "        Средняя прибыль по региону (расчет по bootstrap), млн руб. = 515.2\n",
    "        Средняя прибыль по одной скважине, млн руб. = 2.6\n",
    "        95%-ый доверительный интервал для прибыли, в млн руб.: (68.9, 931.5)\n",
    "        ВЫВОД: регион подходит для дальнейшего анализа и разработки месторождений: вероятность убытков = 1.0% (меньше допустимой)"
   ]
  }
 ],
 "metadata": {
  "ExecuteTimeLog": [
   {
    "duration": 1305,
    "start_time": "2022-05-30T10:47:06.951Z"
   },
   {
    "duration": 9,
    "start_time": "2022-05-30T10:47:08.258Z"
   },
   {
    "duration": 452,
    "start_time": "2022-05-30T10:47:08.407Z"
   },
   {
    "duration": 259,
    "start_time": "2022-05-30T10:47:10.207Z"
   },
   {
    "duration": 244,
    "start_time": "2022-05-30T10:47:10.791Z"
   },
   {
    "duration": 117,
    "start_time": "2022-05-30T10:48:37.134Z"
   },
   {
    "duration": 42,
    "start_time": "2022-05-30T10:48:38.336Z"
   },
   {
    "duration": 40,
    "start_time": "2022-05-30T10:48:38.536Z"
   },
   {
    "duration": 42,
    "start_time": "2022-05-30T10:48:38.858Z"
   },
   {
    "duration": 677,
    "start_time": "2022-05-30T10:48:39.097Z"
   },
   {
    "duration": 39,
    "start_time": "2022-05-30T10:49:00.410Z"
   },
   {
    "duration": 43,
    "start_time": "2022-05-30T10:49:00.997Z"
   },
   {
    "duration": 33,
    "start_time": "2022-05-30T10:49:01.636Z"
   },
   {
    "duration": 347,
    "start_time": "2022-05-30T10:49:04.004Z"
   },
   {
    "duration": 353,
    "start_time": "2022-05-30T10:49:04.591Z"
   },
   {
    "duration": 336,
    "start_time": "2022-05-30T10:49:05.273Z"
   },
   {
    "duration": 17,
    "start_time": "2022-05-30T10:49:06.578Z"
   },
   {
    "duration": 17,
    "start_time": "2022-05-30T10:49:07.136Z"
   },
   {
    "duration": 26,
    "start_time": "2022-05-30T10:49:08.714Z"
   },
   {
    "duration": 295,
    "start_time": "2022-05-30T10:49:09.402Z"
   },
   {
    "duration": 273,
    "start_time": "2022-05-30T10:49:09.870Z"
   },
   {
    "duration": 267,
    "start_time": "2022-05-30T10:49:10.472Z"
   },
   {
    "duration": 62,
    "start_time": "2022-05-30T10:51:08.908Z"
   },
   {
    "duration": 68,
    "start_time": "2022-05-30T10:51:11.291Z"
   },
   {
    "duration": 49,
    "start_time": "2022-05-30T10:51:11.866Z"
   },
   {
    "duration": 48,
    "start_time": "2022-05-30T10:51:12.439Z"
   },
   {
    "duration": 67,
    "start_time": "2022-05-30T10:51:35.567Z"
   },
   {
    "duration": 25,
    "start_time": "2022-05-30T10:51:39.670Z"
   },
   {
    "duration": 5,
    "start_time": "2022-05-30T10:56:59.297Z"
   },
   {
    "duration": 72,
    "start_time": "2022-05-30T10:57:00.010Z"
   },
   {
    "duration": 3,
    "start_time": "2022-05-30T10:57:48.110Z"
   },
   {
    "duration": 118,
    "start_time": "2022-05-30T10:57:49.878Z"
   },
   {
    "duration": 9,
    "start_time": "2022-05-30T10:57:50.336Z"
   },
   {
    "duration": 3,
    "start_time": "2022-05-30T10:58:04.298Z"
   },
   {
    "duration": 208,
    "start_time": "2022-05-30T10:58:04.835Z"
   },
   {
    "duration": 168,
    "start_time": "2022-05-30T10:58:05.392Z"
   },
   {
    "duration": 173,
    "start_time": "2022-05-30T10:58:05.562Z"
   },
   {
    "duration": 226,
    "start_time": "2022-05-30T10:58:06.023Z"
   },
   {
    "duration": 54,
    "start_time": "2022-05-30T10:58:06.310Z"
   },
   {
    "duration": 36,
    "start_time": "2022-05-30T10:58:06.458Z"
   },
   {
    "duration": 45,
    "start_time": "2022-05-30T10:58:06.594Z"
   },
   {
    "duration": 13,
    "start_time": "2022-05-30T10:58:06.729Z"
   },
   {
    "duration": 36,
    "start_time": "2022-05-30T10:58:07.605Z"
   },
   {
    "duration": 33,
    "start_time": "2022-05-30T10:58:07.762Z"
   },
   {
    "duration": 41,
    "start_time": "2022-05-30T10:58:07.898Z"
   },
   {
    "duration": 329,
    "start_time": "2022-05-30T10:58:08.042Z"
   },
   {
    "duration": 332,
    "start_time": "2022-05-30T10:58:08.372Z"
   },
   {
    "duration": 353,
    "start_time": "2022-05-30T10:58:08.705Z"
   },
   {
    "duration": 16,
    "start_time": "2022-05-30T10:58:09.060Z"
   },
   {
    "duration": 16,
    "start_time": "2022-05-30T10:58:09.078Z"
   },
   {
    "duration": 15,
    "start_time": "2022-05-30T10:58:09.095Z"
   },
   {
    "duration": 288,
    "start_time": "2022-05-30T10:58:09.124Z"
   },
   {
    "duration": 373,
    "start_time": "2022-05-30T10:58:09.414Z"
   },
   {
    "duration": 303,
    "start_time": "2022-05-30T10:58:09.788Z"
   },
   {
    "duration": 50,
    "start_time": "2022-05-30T10:58:10.313Z"
   },
   {
    "duration": 51,
    "start_time": "2022-05-30T10:58:10.638Z"
   },
   {
    "duration": 56,
    "start_time": "2022-05-30T10:58:10.789Z"
   },
   {
    "duration": 56,
    "start_time": "2022-05-30T10:58:10.946Z"
   },
   {
    "duration": 73,
    "start_time": "2022-05-30T10:58:11.558Z"
   },
   {
    "duration": 93,
    "start_time": "2022-05-30T10:58:11.736Z"
   },
   {
    "duration": 105,
    "start_time": "2022-05-30T10:58:11.930Z"
   },
   {
    "duration": 3,
    "start_time": "2022-05-30T10:58:13.098Z"
   },
   {
    "duration": 83,
    "start_time": "2022-05-30T10:58:13.406Z"
   },
   {
    "duration": 3,
    "start_time": "2022-05-30T10:58:15.538Z"
   },
   {
    "duration": 8,
    "start_time": "2022-05-30T10:58:15.888Z"
   },
   {
    "duration": 9,
    "start_time": "2022-05-30T10:58:16.070Z"
   },
   {
    "duration": 9,
    "start_time": "2022-05-30T10:58:16.736Z"
   },
   {
    "duration": 7,
    "start_time": "2022-05-30T10:58:57.058Z"
   },
   {
    "duration": 1675,
    "start_time": "2022-05-30T10:58:58.677Z"
   },
   {
    "duration": 1359,
    "start_time": "2022-05-30T10:59:00.354Z"
   },
   {
    "duration": 1649,
    "start_time": "2022-05-30T10:59:01.715Z"
   }
  ],
  "colab": {
   "collapsed_sections": [],
   "name": "Untitled0.ipynb",
   "provenance": [],
   "toc_visible": true
  },
  "kernelspec": {
   "display_name": "Python 3 (ipykernel)",
   "language": "python",
   "name": "python3"
  },
  "language_info": {
   "codemirror_mode": {
    "name": "ipython",
    "version": 3
   },
   "file_extension": ".py",
   "mimetype": "text/x-python",
   "name": "python",
   "nbconvert_exporter": "python",
   "pygments_lexer": "ipython3",
   "version": "3.9.7"
  },
  "toc": {
   "base_numbering": 1,
   "nav_menu": {
    "height": "265px",
    "width": "1027px"
   },
   "number_sections": true,
   "sideBar": true,
   "skip_h1_title": true,
   "title_cell": "Table of Contents",
   "title_sidebar": "Contents",
   "toc_cell": true,
   "toc_position": {},
   "toc_section_display": true,
   "toc_window_display": true
  }
 },
 "nbformat": 4,
 "nbformat_minor": 1
}
