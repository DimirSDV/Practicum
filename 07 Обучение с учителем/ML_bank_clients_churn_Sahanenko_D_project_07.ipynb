{
 "cells": [
  {
   "cell_type": "markdown",
   "metadata": {
    "toc": true
   },
   "source": [
    "<h1>Table of Contents<span class=\"tocSkip\"></span></h1>\n",
    "<div class=\"toc\"><ul class=\"toc-item\"><li><span><a href=\"#Описание-проекта\" data-toc-modified-id=\"Описание-проекта-1\"><span class=\"toc-item-num\">1&nbsp;&nbsp;</span>Описание проекта</a></span></li><li><span><a href=\"#Цель-проекта\" data-toc-modified-id=\"Цель-проекта-2\"><span class=\"toc-item-num\">2&nbsp;&nbsp;</span>Цель проекта</a></span></li><li><span><a href=\"#План-по-выполнению-проекта\" data-toc-modified-id=\"План-по-выполнению-проекта-3\"><span class=\"toc-item-num\">3&nbsp;&nbsp;</span>План по выполнению проекта</a></span></li><li><span><a href=\"#Описание-данных\" data-toc-modified-id=\"Описание-данных-4\"><span class=\"toc-item-num\">4&nbsp;&nbsp;</span>Описание данных</a></span></li><li><span><a href=\"#Исследование-по-шагам\" data-toc-modified-id=\"Исследование-по-шагам-5\"><span class=\"toc-item-num\">5&nbsp;&nbsp;</span>Исследование по шагам</a></span><ul class=\"toc-item\"><li><span><a href=\"#Шаг-№1.-Загрузить-и-подготовить-данные.\" data-toc-modified-id=\"Шаг-№1.-Загрузить-и-подготовить-данные.-5.1\"><span class=\"toc-item-num\">5.1&nbsp;&nbsp;</span>Шаг №1. Загрузить и подготовить данные.</a></span><ul class=\"toc-item\"><li><span><a href=\"#Вывод-по-&quot;Шаг-№1.-Загрузить-и-подготовить-данные.-Пояснить-порядок-действий.&quot;\" data-toc-modified-id=\"Вывод-по-&quot;Шаг-№1.-Загрузить-и-подготовить-данные.-Пояснить-порядок-действий.&quot;-5.1.1\"><span class=\"toc-item-num\">5.1.1&nbsp;&nbsp;</span>Вывод по \"Шаг №1. Загрузить и подготовить данные. Пояснить порядок действий.\"</a></span></li></ul></li><li><span><a href=\"#Шаг-2.-Исследовать-баланс-классов,-обучить-модель-без-учёта-дисбаланса.-Кратко-описать-выводы.\" data-toc-modified-id=\"Шаг-2.-Исследовать-баланс-классов,-обучить-модель-без-учёта-дисбаланса.-Кратко-описать-выводы.-5.2\"><span class=\"toc-item-num\">5.2&nbsp;&nbsp;</span>Шаг 2. Исследовать баланс классов, обучить модель без учёта дисбаланса. Кратко описать выводы.</a></span></li><li><span><a href=\"#Шаг-2.1.-Исследовать-баланс-классов\" data-toc-modified-id=\"Шаг-2.1.-Исследовать-баланс-классов-5.3\"><span class=\"toc-item-num\">5.3&nbsp;&nbsp;</span>Шаг 2.1. Исследовать баланс классов</a></span></li><li><span><a href=\"#Шаг-2.2.-Обучить-модель-без-учёта-дисбаланса\" data-toc-modified-id=\"Шаг-2.2.-Обучить-модель-без-учёта-дисбаланса-5.4\"><span class=\"toc-item-num\">5.4&nbsp;&nbsp;</span>Шаг 2.2. Обучить модель без учёта дисбаланса</a></span></li><li><span><a href=\"#Шаг-2.3.-Подбор-параметров-через-GridSearchCV-и-RandomizedSearchCV\" data-toc-modified-id=\"Шаг-2.3.-Подбор-параметров-через-GridSearchCV-и-RandomizedSearchCV-5.5\"><span class=\"toc-item-num\">5.5&nbsp;&nbsp;</span>Шаг 2.3. Подбор параметров через GridSearchCV и RandomizedSearchCV</a></span><ul class=\"toc-item\"><li><span><a href=\"#Шаг-2.3.1-Подбор-параметров-для-DecisionTreeClassifier()\" data-toc-modified-id=\"Шаг-2.3.1-Подбор-параметров-для-DecisionTreeClassifier()-5.5.1\"><span class=\"toc-item-num\">5.5.1&nbsp;&nbsp;</span>Шаг 2.3.1 Подбор параметров для DecisionTreeClassifier()</a></span></li><li><span><a href=\"#Шаг-2.3.2-Подбор-параметров-для-RandomForestClassifier()\" data-toc-modified-id=\"Шаг-2.3.2-Подбор-параметров-для-RandomForestClassifier()-5.5.2\"><span class=\"toc-item-num\">5.5.2&nbsp;&nbsp;</span>Шаг 2.3.2 Подбор параметров для RandomForestClassifier()</a></span></li></ul></li><li><span><a href=\"#Шаг-2.3.3-Расчет-метрик-по-двум-лучшим-моделям-с-гиперпараметрами,-подобранными-через-GridSeachCV\" data-toc-modified-id=\"Шаг-2.3.3-Расчет-метрик-по-двум-лучшим-моделям-с-гиперпараметрами,-подобранными-через-GridSeachCV-5.6\"><span class=\"toc-item-num\">5.6&nbsp;&nbsp;</span>Шаг 2.3.3 Расчет метрик по двум лучшим моделям с гиперпараметрами, подобранными через GridSeachCV</a></span><ul class=\"toc-item\"><li><span><a href=\"#Вывод-по-&quot;Шаг-2.-Исследовать-баланс-классов,-обучить-модель-без-учёта-дисбаланса.-Кратко-описать-выводы.&quot;\" data-toc-modified-id=\"Вывод-по-&quot;Шаг-2.-Исследовать-баланс-классов,-обучить-модель-без-учёта-дисбаланса.-Кратко-описать-выводы.&quot;-5.6.1\"><span class=\"toc-item-num\">5.6.1&nbsp;&nbsp;</span>Вывод по \"Шаг 2. Исследовать баланс классов, обучить модель без учёта дисбаланса. Кратко описать выводы.\"</a></span></li></ul></li><li><span><a href=\"#Шаг-3.-Улучшить-качество-модели,-учитывая-дисбаланс-классов.-Обучить-разные-модели-и-найти-лучшую.-Кратко-описать-выводы.\" data-toc-modified-id=\"Шаг-3.-Улучшить-качество-модели,-учитывая-дисбаланс-классов.-Обучить-разные-модели-и-найти-лучшую.-Кратко-описать-выводы.-5.7\"><span class=\"toc-item-num\">5.7&nbsp;&nbsp;</span>Шаг 3. Улучшить качество модели, учитывая дисбаланс классов. Обучить разные модели и найти лучшую. Кратко описать выводы.</a></span></li><li><span><a href=\"#Шаг-3.1.-Метод-устранения-дисбаланса-классов-upsampled\" data-toc-modified-id=\"Шаг-3.1.-Метод-устранения-дисбаланса-классов-upsampled-5.8\"><span class=\"toc-item-num\">5.8&nbsp;&nbsp;</span>Шаг 3.1. Метод устранения дисбаланса классов upsampled</a></span></li><li><span><a href=\"#Шаг-3.2.-Метод-устранения-дисбаланса-классов-downsampled\" data-toc-modified-id=\"Шаг-3.2.-Метод-устранения-дисбаланса-классов-downsampled-5.9\"><span class=\"toc-item-num\">5.9&nbsp;&nbsp;</span>Шаг 3.2. Метод устранения дисбаланса классов downsampled</a></span><ul class=\"toc-item\"><li><span><a href=\"#Вывод-по-&quot;Шаг-3.-Улучшить-качество-модели,-учитывая-дисбаланс-классов.-Обучить-разные-модели-и-найти-лучшую.-Кратко-описать-выводы.&quot;\" data-toc-modified-id=\"Вывод-по-&quot;Шаг-3.-Улучшить-качество-модели,-учитывая-дисбаланс-классов.-Обучить-разные-модели-и-найти-лучшую.-Кратко-описать-выводы.&quot;-5.9.1\"><span class=\"toc-item-num\">5.9.1&nbsp;&nbsp;</span>Вывод по \"Шаг 3. Улучшить качество модели, учитывая дисбаланс классов. Обучить разные модели и найти лучшую. Кратко описать выводы.\"</a></span></li></ul></li><li><span><a href=\"#Шаг-4.-Провести-финальное-тестирование.\" data-toc-modified-id=\"Шаг-4.-Провести-финальное-тестирование.-5.10\"><span class=\"toc-item-num\">5.10&nbsp;&nbsp;</span>Шаг 4. Провести финальное тестирование.</a></span><ul class=\"toc-item\"><li><span><a href=\"#Вывод-по-&quot;Шаг-4.-Провести-финальное-тестирование.&quot;\" data-toc-modified-id=\"Вывод-по-&quot;Шаг-4.-Провести-финальное-тестирование.&quot;-5.10.1\"><span class=\"toc-item-num\">5.10.1&nbsp;&nbsp;</span>Вывод по \"Шаг 4. Провести финальное тестирование.\"</a></span></li></ul></li></ul></li><li><span><a href=\"#Итоговый-вывод\" data-toc-modified-id=\"Итоговый-вывод-6\"><span class=\"toc-item-num\">6&nbsp;&nbsp;</span>Итоговый вывод</a></span></li></ul></div>"
   ]
  },
  {
   "cell_type": "markdown",
   "metadata": {
    "id": "Wclx95AQ1H_Y"
   },
   "source": [
    "# Проект \"Отток клиентов банка\""
   ]
  },
  {
   "cell_type": "markdown",
   "metadata": {
    "id": "8TLiUL2A0s7W"
   },
   "source": [
    "## Описание проекта\n",
    "    Из «Бета-Банка» стали уходить клиенты. Каждый месяц. Немного, но заметно. Банковские маркетологи посчитали: сохранять текущих клиентов дешевле, чем привлекать новых.\n",
    "    Нужно спрогнозировать, уйдёт клиент из банка в ближайшее время или нет. Вам предоставлены исторические данные о поведении клиентов и расторжении договоров с банком.\n",
    "    Постройте модель с предельно большим значением F1-меры. Чтобы сдать проект успешно, нужно довести метрику до 0.59. Проверьте F1-меру на тестовой выборке самостоятельно.\n",
    "    Дополнительно измеряйте AUC-ROC, сравнивайте её значение с F1-мерой."
   ]
  },
  {
   "cell_type": "markdown",
   "metadata": {},
   "source": [
    "## Цель проекта\n",
    "Построить модель для задачи классификации, предсказывающую воможный уход клиента из банка с предельно большим значением F1-меры (не менее 0.59)"
   ]
  },
  {
   "cell_type": "markdown",
   "metadata": {
    "id": "4dlysgdD0_l0"
   },
   "source": [
    "## План по выполнению проекта\n",
    "1. Загрузить и подготовить данные.\n",
    "2. Исследовать баланс классов, обучить модель без учёта дисбаланса.\n",
    "3. Улучшить качество модели, учитывая дисбаланс классов. Обучить разные модели и найти лучшую.\n",
    "4. Провести финальное тестирование."
   ]
  },
  {
   "cell_type": "markdown",
   "metadata": {
    "id": "KDnxYxa61gH6"
   },
   "source": [
    "## Описание данных\n",
    "      \n",
    "    Данные находятся в файле /datasets/Churn.csv (англ. «отток клиентов»). Скачать датасет\n",
    "    \n",
    "    Признаки\n",
    "        RowNumber — индекс строки в данных\n",
    "        CustomerId — уникальный идентификатор клиента\n",
    "        Surname — фамилия\n",
    "        CreditScore — кредитный рейтинг\n",
    "        Geography — страна проживания\n",
    "        Gender — пол\n",
    "        Age — возраст\n",
    "        Tenure — сколько лет человек является клиентом банка\n",
    "        Balance — баланс на счёте\n",
    "        NumOfProducts — количество продуктов банка, используемых клиентом\n",
    "        HasCrCard — наличие кредитной карты\n",
    "        IsActiveMember — активность клиента\n",
    "        EstimatedSalary — предполагаемая зарплата\n",
    "        \n",
    "    Целевой признак\n",
    "        Exited — факт ухода клиента  \n",
    "    "
   ]
  },
  {
   "cell_type": "markdown",
   "metadata": {
    "id": "e7l4A8QU5MPg"
   },
   "source": [
    "## Исследование по шагам"
   ]
  },
  {
   "cell_type": "markdown",
   "metadata": {
    "id": "bWJsfm-X5OqC"
   },
   "source": [
    "### Шаг №1. Загрузить и подготовить данные. "
   ]
  },
  {
   "cell_type": "code",
   "execution_count": 1,
   "metadata": {},
   "outputs": [],
   "source": [
    "# в первой ячейке будем собирать импорты всех библиотек для наглядности \n",
    "import pandas as pd\n",
    "import numpy as np\n",
    "import matplotlib.pyplot as plt\n",
    "from scipy import stats as st\n",
    "import seaborn as sns\n",
    "\n",
    "from sklearn.model_selection import train_test_split\n",
    "from sklearn.metrics import accuracy_score\n",
    "\n",
    "from sklearn import metrics\n",
    "\n",
    "from sklearn.ensemble import RandomForestClassifier\n",
    "\n",
    "from sklearn.tree import DecisionTreeClassifier\n",
    "\n",
    "from sklearn.linear_model import LogisticRegression \n",
    "from joblib import dump\n",
    "\n",
    "from sklearn.dummy import DummyClassifier\n",
    "\n",
    "from sklearn.impute import KNNImputer\n",
    "\n",
    "from sklearn.model_selection import GridSearchCV\n",
    "from sklearn.model_selection import RandomizedSearchCV\n",
    "\n",
    "from sklearn.utils import shuffle\n",
    "\n",
    "from sklearn.metrics import f1_score\n",
    "\n",
    "from sklearn.metrics import roc_auc_score\n",
    "\n",
    "from sklearn.metrics import roc_curve"
   ]
  },
  {
   "cell_type": "code",
   "execution_count": 2,
   "metadata": {},
   "outputs": [],
   "source": [
    "# константы для всего проекта\n",
    "RANDOM_STATE = 12345"
   ]
  },
  {
   "cell_type": "code",
   "execution_count": 3,
   "metadata": {
    "colab": {
     "base_uri": "https://localhost:8080/",
     "height": 217
    },
    "id": "QRtrnhQM55B7",
    "outputId": "a7584843-1178-40c5-bf22-76749b2ab4aa"
   },
   "outputs": [
    {
     "name": "stdout",
     "output_type": "stream",
     "text": [
      "<class 'pandas.core.frame.DataFrame'>\n",
      "RangeIndex: 10000 entries, 0 to 9999\n",
      "Data columns (total 14 columns):\n",
      " #   Column           Non-Null Count  Dtype  \n",
      "---  ------           --------------  -----  \n",
      " 0   RowNumber        10000 non-null  int64  \n",
      " 1   CustomerId       10000 non-null  int64  \n",
      " 2   Surname          10000 non-null  object \n",
      " 3   CreditScore      10000 non-null  int64  \n",
      " 4   Geography        10000 non-null  object \n",
      " 5   Gender           10000 non-null  object \n",
      " 6   Age              10000 non-null  int64  \n",
      " 7   Tenure           9091 non-null   float64\n",
      " 8   Balance          10000 non-null  float64\n",
      " 9   NumOfProducts    10000 non-null  int64  \n",
      " 10  HasCrCard        10000 non-null  int64  \n",
      " 11  IsActiveMember   10000 non-null  int64  \n",
      " 12  EstimatedSalary  10000 non-null  float64\n",
      " 13  Exited           10000 non-null  int64  \n",
      "dtypes: float64(3), int64(8), object(3)\n",
      "memory usage: 1.1+ MB\n"
     ]
    },
    {
     "data": {
      "text/html": [
       "<div>\n",
       "<style scoped>\n",
       "    .dataframe tbody tr th:only-of-type {\n",
       "        vertical-align: middle;\n",
       "    }\n",
       "\n",
       "    .dataframe tbody tr th {\n",
       "        vertical-align: top;\n",
       "    }\n",
       "\n",
       "    .dataframe thead th {\n",
       "        text-align: right;\n",
       "    }\n",
       "</style>\n",
       "<table border=\"1\" class=\"dataframe\">\n",
       "  <thead>\n",
       "    <tr style=\"text-align: right;\">\n",
       "      <th></th>\n",
       "      <th>RowNumber</th>\n",
       "      <th>CustomerId</th>\n",
       "      <th>Surname</th>\n",
       "      <th>CreditScore</th>\n",
       "      <th>Geography</th>\n",
       "      <th>Gender</th>\n",
       "      <th>Age</th>\n",
       "      <th>Tenure</th>\n",
       "      <th>Balance</th>\n",
       "      <th>NumOfProducts</th>\n",
       "      <th>HasCrCard</th>\n",
       "      <th>IsActiveMember</th>\n",
       "      <th>EstimatedSalary</th>\n",
       "      <th>Exited</th>\n",
       "    </tr>\n",
       "  </thead>\n",
       "  <tbody>\n",
       "    <tr>\n",
       "      <th>0</th>\n",
       "      <td>1</td>\n",
       "      <td>15634602</td>\n",
       "      <td>Hargrave</td>\n",
       "      <td>619</td>\n",
       "      <td>France</td>\n",
       "      <td>Female</td>\n",
       "      <td>42</td>\n",
       "      <td>2.0</td>\n",
       "      <td>0.00</td>\n",
       "      <td>1</td>\n",
       "      <td>1</td>\n",
       "      <td>1</td>\n",
       "      <td>101348.88</td>\n",
       "      <td>1</td>\n",
       "    </tr>\n",
       "    <tr>\n",
       "      <th>1</th>\n",
       "      <td>2</td>\n",
       "      <td>15647311</td>\n",
       "      <td>Hill</td>\n",
       "      <td>608</td>\n",
       "      <td>Spain</td>\n",
       "      <td>Female</td>\n",
       "      <td>41</td>\n",
       "      <td>1.0</td>\n",
       "      <td>83807.86</td>\n",
       "      <td>1</td>\n",
       "      <td>0</td>\n",
       "      <td>1</td>\n",
       "      <td>112542.58</td>\n",
       "      <td>0</td>\n",
       "    </tr>\n",
       "    <tr>\n",
       "      <th>2</th>\n",
       "      <td>3</td>\n",
       "      <td>15619304</td>\n",
       "      <td>Onio</td>\n",
       "      <td>502</td>\n",
       "      <td>France</td>\n",
       "      <td>Female</td>\n",
       "      <td>42</td>\n",
       "      <td>8.0</td>\n",
       "      <td>159660.80</td>\n",
       "      <td>3</td>\n",
       "      <td>1</td>\n",
       "      <td>0</td>\n",
       "      <td>113931.57</td>\n",
       "      <td>1</td>\n",
       "    </tr>\n",
       "    <tr>\n",
       "      <th>3</th>\n",
       "      <td>4</td>\n",
       "      <td>15701354</td>\n",
       "      <td>Boni</td>\n",
       "      <td>699</td>\n",
       "      <td>France</td>\n",
       "      <td>Female</td>\n",
       "      <td>39</td>\n",
       "      <td>1.0</td>\n",
       "      <td>0.00</td>\n",
       "      <td>2</td>\n",
       "      <td>0</td>\n",
       "      <td>0</td>\n",
       "      <td>93826.63</td>\n",
       "      <td>0</td>\n",
       "    </tr>\n",
       "    <tr>\n",
       "      <th>4</th>\n",
       "      <td>5</td>\n",
       "      <td>15737888</td>\n",
       "      <td>Mitchell</td>\n",
       "      <td>850</td>\n",
       "      <td>Spain</td>\n",
       "      <td>Female</td>\n",
       "      <td>43</td>\n",
       "      <td>2.0</td>\n",
       "      <td>125510.82</td>\n",
       "      <td>1</td>\n",
       "      <td>1</td>\n",
       "      <td>1</td>\n",
       "      <td>79084.10</td>\n",
       "      <td>0</td>\n",
       "    </tr>\n",
       "    <tr>\n",
       "      <th>...</th>\n",
       "      <td>...</td>\n",
       "      <td>...</td>\n",
       "      <td>...</td>\n",
       "      <td>...</td>\n",
       "      <td>...</td>\n",
       "      <td>...</td>\n",
       "      <td>...</td>\n",
       "      <td>...</td>\n",
       "      <td>...</td>\n",
       "      <td>...</td>\n",
       "      <td>...</td>\n",
       "      <td>...</td>\n",
       "      <td>...</td>\n",
       "      <td>...</td>\n",
       "    </tr>\n",
       "    <tr>\n",
       "      <th>9995</th>\n",
       "      <td>9996</td>\n",
       "      <td>15606229</td>\n",
       "      <td>Obijiaku</td>\n",
       "      <td>771</td>\n",
       "      <td>France</td>\n",
       "      <td>Male</td>\n",
       "      <td>39</td>\n",
       "      <td>5.0</td>\n",
       "      <td>0.00</td>\n",
       "      <td>2</td>\n",
       "      <td>1</td>\n",
       "      <td>0</td>\n",
       "      <td>96270.64</td>\n",
       "      <td>0</td>\n",
       "    </tr>\n",
       "    <tr>\n",
       "      <th>9996</th>\n",
       "      <td>9997</td>\n",
       "      <td>15569892</td>\n",
       "      <td>Johnstone</td>\n",
       "      <td>516</td>\n",
       "      <td>France</td>\n",
       "      <td>Male</td>\n",
       "      <td>35</td>\n",
       "      <td>10.0</td>\n",
       "      <td>57369.61</td>\n",
       "      <td>1</td>\n",
       "      <td>1</td>\n",
       "      <td>1</td>\n",
       "      <td>101699.77</td>\n",
       "      <td>0</td>\n",
       "    </tr>\n",
       "    <tr>\n",
       "      <th>9997</th>\n",
       "      <td>9998</td>\n",
       "      <td>15584532</td>\n",
       "      <td>Liu</td>\n",
       "      <td>709</td>\n",
       "      <td>France</td>\n",
       "      <td>Female</td>\n",
       "      <td>36</td>\n",
       "      <td>7.0</td>\n",
       "      <td>0.00</td>\n",
       "      <td>1</td>\n",
       "      <td>0</td>\n",
       "      <td>1</td>\n",
       "      <td>42085.58</td>\n",
       "      <td>1</td>\n",
       "    </tr>\n",
       "    <tr>\n",
       "      <th>9998</th>\n",
       "      <td>9999</td>\n",
       "      <td>15682355</td>\n",
       "      <td>Sabbatini</td>\n",
       "      <td>772</td>\n",
       "      <td>Germany</td>\n",
       "      <td>Male</td>\n",
       "      <td>42</td>\n",
       "      <td>3.0</td>\n",
       "      <td>75075.31</td>\n",
       "      <td>2</td>\n",
       "      <td>1</td>\n",
       "      <td>0</td>\n",
       "      <td>92888.52</td>\n",
       "      <td>1</td>\n",
       "    </tr>\n",
       "    <tr>\n",
       "      <th>9999</th>\n",
       "      <td>10000</td>\n",
       "      <td>15628319</td>\n",
       "      <td>Walker</td>\n",
       "      <td>792</td>\n",
       "      <td>France</td>\n",
       "      <td>Female</td>\n",
       "      <td>28</td>\n",
       "      <td>NaN</td>\n",
       "      <td>130142.79</td>\n",
       "      <td>1</td>\n",
       "      <td>1</td>\n",
       "      <td>0</td>\n",
       "      <td>38190.78</td>\n",
       "      <td>0</td>\n",
       "    </tr>\n",
       "  </tbody>\n",
       "</table>\n",
       "<p>10000 rows × 14 columns</p>\n",
       "</div>"
      ],
      "text/plain": [
       "      RowNumber  CustomerId    Surname  CreditScore Geography  Gender  Age  \\\n",
       "0             1    15634602   Hargrave          619    France  Female   42   \n",
       "1             2    15647311       Hill          608     Spain  Female   41   \n",
       "2             3    15619304       Onio          502    France  Female   42   \n",
       "3             4    15701354       Boni          699    France  Female   39   \n",
       "4             5    15737888   Mitchell          850     Spain  Female   43   \n",
       "...         ...         ...        ...          ...       ...     ...  ...   \n",
       "9995       9996    15606229   Obijiaku          771    France    Male   39   \n",
       "9996       9997    15569892  Johnstone          516    France    Male   35   \n",
       "9997       9998    15584532        Liu          709    France  Female   36   \n",
       "9998       9999    15682355  Sabbatini          772   Germany    Male   42   \n",
       "9999      10000    15628319     Walker          792    France  Female   28   \n",
       "\n",
       "      Tenure    Balance  NumOfProducts  HasCrCard  IsActiveMember  \\\n",
       "0        2.0       0.00              1          1               1   \n",
       "1        1.0   83807.86              1          0               1   \n",
       "2        8.0  159660.80              3          1               0   \n",
       "3        1.0       0.00              2          0               0   \n",
       "4        2.0  125510.82              1          1               1   \n",
       "...      ...        ...            ...        ...             ...   \n",
       "9995     5.0       0.00              2          1               0   \n",
       "9996    10.0   57369.61              1          1               1   \n",
       "9997     7.0       0.00              1          0               1   \n",
       "9998     3.0   75075.31              2          1               0   \n",
       "9999     NaN  130142.79              1          1               0   \n",
       "\n",
       "      EstimatedSalary  Exited  \n",
       "0           101348.88       1  \n",
       "1           112542.58       0  \n",
       "2           113931.57       1  \n",
       "3            93826.63       0  \n",
       "4            79084.10       0  \n",
       "...               ...     ...  \n",
       "9995         96270.64       0  \n",
       "9996        101699.77       0  \n",
       "9997         42085.58       1  \n",
       "9998         92888.52       1  \n",
       "9999         38190.78       0  \n",
       "\n",
       "[10000 rows x 14 columns]"
      ]
     },
     "metadata": {},
     "output_type": "display_data"
    }
   ],
   "source": [
    "# откроем и изучим датасет 'users_behavior.csv'\n",
    "try:\n",
    "    df = pd.read_csv('d:/Яндекс.Практикум/Спринт 08 Обучение с учителем/Churn.csv')\n",
    "except FileNotFoundError:\n",
    "    df = pd.read_csv('/datasets/Churn.csv')\n",
    "    \n",
    "df.info()\n",
    "display(df)"
   ]
  },
  {
   "cell_type": "markdown",
   "metadata": {},
   "source": [
    "Названия столбцов в порядке, но есть пропуски в столбце Tenure (сколько лет человек является клиентом банка)"
   ]
  },
  {
   "cell_type": "code",
   "execution_count": 4,
   "metadata": {},
   "outputs": [
    {
     "data": {
      "text/plain": [
       "count    9091.000000\n",
       "mean        4.997690\n",
       "std         2.894723\n",
       "min         0.000000\n",
       "25%         2.000000\n",
       "50%         5.000000\n",
       "75%         7.000000\n",
       "max        10.000000\n",
       "Name: Tenure, dtype: float64"
      ]
     },
     "metadata": {},
     "output_type": "display_data"
    }
   ],
   "source": [
    "# посмотрим статистики до заполнения пропусков\n",
    "\n",
    "display(df['Tenure'].describe())"
   ]
  },
  {
   "cell_type": "code",
   "execution_count": 5,
   "metadata": {},
   "outputs": [
    {
     "name": "stdout",
     "output_type": "stream",
     "text": [
      "<class 'pandas.core.frame.DataFrame'>\n",
      "RangeIndex: 10000 entries, 0 to 9999\n",
      "Data columns (total 14 columns):\n",
      " #   Column           Non-Null Count  Dtype  \n",
      "---  ------           --------------  -----  \n",
      " 0   RowNumber        10000 non-null  int64  \n",
      " 1   CustomerId       10000 non-null  int64  \n",
      " 2   Surname          10000 non-null  object \n",
      " 3   CreditScore      10000 non-null  int64  \n",
      " 4   Geography        10000 non-null  object \n",
      " 5   Gender           10000 non-null  object \n",
      " 6   Age              10000 non-null  int64  \n",
      " 7   Tenure           10000 non-null  float64\n",
      " 8   Balance          10000 non-null  float64\n",
      " 9   NumOfProducts    10000 non-null  int64  \n",
      " 10  HasCrCard        10000 non-null  int64  \n",
      " 11  IsActiveMember   10000 non-null  int64  \n",
      " 12  EstimatedSalary  10000 non-null  float64\n",
      " 13  Exited           10000 non-null  int64  \n",
      "dtypes: float64(3), int64(8), object(3)\n",
      "memory usage: 1.1+ MB\n"
     ]
    },
    {
     "data": {
      "text/html": [
       "<div>\n",
       "<style scoped>\n",
       "    .dataframe tbody tr th:only-of-type {\n",
       "        vertical-align: middle;\n",
       "    }\n",
       "\n",
       "    .dataframe tbody tr th {\n",
       "        vertical-align: top;\n",
       "    }\n",
       "\n",
       "    .dataframe thead th {\n",
       "        text-align: right;\n",
       "    }\n",
       "</style>\n",
       "<table border=\"1\" class=\"dataframe\">\n",
       "  <thead>\n",
       "    <tr style=\"text-align: right;\">\n",
       "      <th></th>\n",
       "      <th>RowNumber</th>\n",
       "      <th>CustomerId</th>\n",
       "      <th>Surname</th>\n",
       "      <th>CreditScore</th>\n",
       "      <th>Geography</th>\n",
       "      <th>Gender</th>\n",
       "      <th>Age</th>\n",
       "      <th>Tenure</th>\n",
       "      <th>Balance</th>\n",
       "      <th>NumOfProducts</th>\n",
       "      <th>HasCrCard</th>\n",
       "      <th>IsActiveMember</th>\n",
       "      <th>EstimatedSalary</th>\n",
       "      <th>Exited</th>\n",
       "    </tr>\n",
       "  </thead>\n",
       "  <tbody>\n",
       "    <tr>\n",
       "      <th>0</th>\n",
       "      <td>1</td>\n",
       "      <td>15634602</td>\n",
       "      <td>Hargrave</td>\n",
       "      <td>619</td>\n",
       "      <td>France</td>\n",
       "      <td>Female</td>\n",
       "      <td>42</td>\n",
       "      <td>2.00000</td>\n",
       "      <td>0.00</td>\n",
       "      <td>1</td>\n",
       "      <td>1</td>\n",
       "      <td>1</td>\n",
       "      <td>101348.88</td>\n",
       "      <td>1</td>\n",
       "    </tr>\n",
       "    <tr>\n",
       "      <th>1</th>\n",
       "      <td>2</td>\n",
       "      <td>15647311</td>\n",
       "      <td>Hill</td>\n",
       "      <td>608</td>\n",
       "      <td>Spain</td>\n",
       "      <td>Female</td>\n",
       "      <td>41</td>\n",
       "      <td>1.00000</td>\n",
       "      <td>83807.86</td>\n",
       "      <td>1</td>\n",
       "      <td>0</td>\n",
       "      <td>1</td>\n",
       "      <td>112542.58</td>\n",
       "      <td>0</td>\n",
       "    </tr>\n",
       "    <tr>\n",
       "      <th>2</th>\n",
       "      <td>3</td>\n",
       "      <td>15619304</td>\n",
       "      <td>Onio</td>\n",
       "      <td>502</td>\n",
       "      <td>France</td>\n",
       "      <td>Female</td>\n",
       "      <td>42</td>\n",
       "      <td>8.00000</td>\n",
       "      <td>159660.80</td>\n",
       "      <td>3</td>\n",
       "      <td>1</td>\n",
       "      <td>0</td>\n",
       "      <td>113931.57</td>\n",
       "      <td>1</td>\n",
       "    </tr>\n",
       "    <tr>\n",
       "      <th>3</th>\n",
       "      <td>4</td>\n",
       "      <td>15701354</td>\n",
       "      <td>Boni</td>\n",
       "      <td>699</td>\n",
       "      <td>France</td>\n",
       "      <td>Female</td>\n",
       "      <td>39</td>\n",
       "      <td>1.00000</td>\n",
       "      <td>0.00</td>\n",
       "      <td>2</td>\n",
       "      <td>0</td>\n",
       "      <td>0</td>\n",
       "      <td>93826.63</td>\n",
       "      <td>0</td>\n",
       "    </tr>\n",
       "    <tr>\n",
       "      <th>4</th>\n",
       "      <td>5</td>\n",
       "      <td>15737888</td>\n",
       "      <td>Mitchell</td>\n",
       "      <td>850</td>\n",
       "      <td>Spain</td>\n",
       "      <td>Female</td>\n",
       "      <td>43</td>\n",
       "      <td>2.00000</td>\n",
       "      <td>125510.82</td>\n",
       "      <td>1</td>\n",
       "      <td>1</td>\n",
       "      <td>1</td>\n",
       "      <td>79084.10</td>\n",
       "      <td>0</td>\n",
       "    </tr>\n",
       "    <tr>\n",
       "      <th>...</th>\n",
       "      <td>...</td>\n",
       "      <td>...</td>\n",
       "      <td>...</td>\n",
       "      <td>...</td>\n",
       "      <td>...</td>\n",
       "      <td>...</td>\n",
       "      <td>...</td>\n",
       "      <td>...</td>\n",
       "      <td>...</td>\n",
       "      <td>...</td>\n",
       "      <td>...</td>\n",
       "      <td>...</td>\n",
       "      <td>...</td>\n",
       "      <td>...</td>\n",
       "    </tr>\n",
       "    <tr>\n",
       "      <th>9995</th>\n",
       "      <td>9996</td>\n",
       "      <td>15606229</td>\n",
       "      <td>Obijiaku</td>\n",
       "      <td>771</td>\n",
       "      <td>France</td>\n",
       "      <td>Male</td>\n",
       "      <td>39</td>\n",
       "      <td>5.00000</td>\n",
       "      <td>0.00</td>\n",
       "      <td>2</td>\n",
       "      <td>1</td>\n",
       "      <td>0</td>\n",
       "      <td>96270.64</td>\n",
       "      <td>0</td>\n",
       "    </tr>\n",
       "    <tr>\n",
       "      <th>9996</th>\n",
       "      <td>9997</td>\n",
       "      <td>15569892</td>\n",
       "      <td>Johnstone</td>\n",
       "      <td>516</td>\n",
       "      <td>France</td>\n",
       "      <td>Male</td>\n",
       "      <td>35</td>\n",
       "      <td>10.00000</td>\n",
       "      <td>57369.61</td>\n",
       "      <td>1</td>\n",
       "      <td>1</td>\n",
       "      <td>1</td>\n",
       "      <td>101699.77</td>\n",
       "      <td>0</td>\n",
       "    </tr>\n",
       "    <tr>\n",
       "      <th>9997</th>\n",
       "      <td>9998</td>\n",
       "      <td>15584532</td>\n",
       "      <td>Liu</td>\n",
       "      <td>709</td>\n",
       "      <td>France</td>\n",
       "      <td>Female</td>\n",
       "      <td>36</td>\n",
       "      <td>7.00000</td>\n",
       "      <td>0.00</td>\n",
       "      <td>1</td>\n",
       "      <td>0</td>\n",
       "      <td>1</td>\n",
       "      <td>42085.58</td>\n",
       "      <td>1</td>\n",
       "    </tr>\n",
       "    <tr>\n",
       "      <th>9998</th>\n",
       "      <td>9999</td>\n",
       "      <td>15682355</td>\n",
       "      <td>Sabbatini</td>\n",
       "      <td>772</td>\n",
       "      <td>Germany</td>\n",
       "      <td>Male</td>\n",
       "      <td>42</td>\n",
       "      <td>3.00000</td>\n",
       "      <td>75075.31</td>\n",
       "      <td>2</td>\n",
       "      <td>1</td>\n",
       "      <td>0</td>\n",
       "      <td>92888.52</td>\n",
       "      <td>1</td>\n",
       "    </tr>\n",
       "    <tr>\n",
       "      <th>9999</th>\n",
       "      <td>10000</td>\n",
       "      <td>15628319</td>\n",
       "      <td>Walker</td>\n",
       "      <td>792</td>\n",
       "      <td>France</td>\n",
       "      <td>Female</td>\n",
       "      <td>28</td>\n",
       "      <td>4.99769</td>\n",
       "      <td>130142.79</td>\n",
       "      <td>1</td>\n",
       "      <td>1</td>\n",
       "      <td>0</td>\n",
       "      <td>38190.78</td>\n",
       "      <td>0</td>\n",
       "    </tr>\n",
       "  </tbody>\n",
       "</table>\n",
       "<p>10000 rows × 14 columns</p>\n",
       "</div>"
      ],
      "text/plain": [
       "      RowNumber  CustomerId    Surname  CreditScore Geography  Gender  Age  \\\n",
       "0             1    15634602   Hargrave          619    France  Female   42   \n",
       "1             2    15647311       Hill          608     Spain  Female   41   \n",
       "2             3    15619304       Onio          502    France  Female   42   \n",
       "3             4    15701354       Boni          699    France  Female   39   \n",
       "4             5    15737888   Mitchell          850     Spain  Female   43   \n",
       "...         ...         ...        ...          ...       ...     ...  ...   \n",
       "9995       9996    15606229   Obijiaku          771    France    Male   39   \n",
       "9996       9997    15569892  Johnstone          516    France    Male   35   \n",
       "9997       9998    15584532        Liu          709    France  Female   36   \n",
       "9998       9999    15682355  Sabbatini          772   Germany    Male   42   \n",
       "9999      10000    15628319     Walker          792    France  Female   28   \n",
       "\n",
       "        Tenure    Balance  NumOfProducts  HasCrCard  IsActiveMember  \\\n",
       "0      2.00000       0.00              1          1               1   \n",
       "1      1.00000   83807.86              1          0               1   \n",
       "2      8.00000  159660.80              3          1               0   \n",
       "3      1.00000       0.00              2          0               0   \n",
       "4      2.00000  125510.82              1          1               1   \n",
       "...        ...        ...            ...        ...             ...   \n",
       "9995   5.00000       0.00              2          1               0   \n",
       "9996  10.00000   57369.61              1          1               1   \n",
       "9997   7.00000       0.00              1          0               1   \n",
       "9998   3.00000   75075.31              2          1               0   \n",
       "9999   4.99769  130142.79              1          1               0   \n",
       "\n",
       "      EstimatedSalary  Exited  \n",
       "0           101348.88       1  \n",
       "1           112542.58       0  \n",
       "2           113931.57       1  \n",
       "3            93826.63       0  \n",
       "4            79084.10       0  \n",
       "...               ...     ...  \n",
       "9995         96270.64       0  \n",
       "9996        101699.77       0  \n",
       "9997         42085.58       1  \n",
       "9998         92888.52       1  \n",
       "9999         38190.78       0  \n",
       "\n",
       "[10000 rows x 14 columns]"
      ]
     },
     "metadata": {},
     "output_type": "display_data"
    }
   ],
   "source": [
    "# применим метод KNNImputer из библиотеки scikit-learn 1.1.1 для \n",
    "# заполнения пропусков в столбце Tenure (сколько лет человек является клиентом банка)\n",
    "# и проверим результат\n",
    "imputer = KNNImputer(n_neighbors=2, weights=\"uniform\")\n",
    "df['Tenure'] = imputer.fit_transform(df[['Tenure']])\n",
    "df.info()\n",
    "display(df)"
   ]
  },
  {
   "cell_type": "markdown",
   "metadata": {},
   "source": [
    "Класс KNNImputer обеспечивает восстановления для заполнения пропущенных значений с использованием подхода к-ближайших соседей. По умолчанию nan_euclidean_distances для поиска ближайших соседей используется евклидова метрика расстояния, поддерживающая пропущенные значения . Каждый отсутствующий объект рассчитывается с использованием значений от n_neighbors ближайших соседей, у которых есть значение для данного объекта. Характеристики соседей усредняются равномерно или взвешиваются по расстоянию до каждого соседа. Если в выборке отсутствует более одного признака, то соседи для этой выборки могут отличаться в зависимости от конкретного вменяемого признака. Когда количество доступных соседей меньше, чем n_neighbors и нет определенных расстояний до обучающей выборки, среднее значение обучающей выборки для этой функции используется во время восстановления. Если есть хотя бы один сосед с определенным расстоянием, во время восстановления будет использоваться взвешенное или невзвешенное среднее значение остальных соседей. Если функция всегда отсутствует в обучении, она удаляется во время transform."
   ]
  },
  {
   "cell_type": "code",
   "execution_count": 6,
   "metadata": {},
   "outputs": [
    {
     "data": {
      "text/plain": [
       "count    10000.00000\n",
       "mean         4.99769\n",
       "std          2.76001\n",
       "min          0.00000\n",
       "25%          3.00000\n",
       "50%          4.99769\n",
       "75%          7.00000\n",
       "max         10.00000\n",
       "Name: Tenure, dtype: float64"
      ]
     },
     "metadata": {},
     "output_type": "display_data"
    }
   ],
   "source": [
    "# посмотрим, какими значениями KNNImputer заменил пропущенные значения\n",
    "# для этого сравним статистики по признаку Tenure до и после замены\n",
    "\n",
    "display(df['Tenure'].describe())"
   ]
  },
  {
   "cell_type": "markdown",
   "metadata": {},
   "source": [
    "При сравнении статистик по столбцу 'Tenure' до и после применения метода KNNImputer не выявлено значительных расхождений. Как вариант, можно было заменить все пропущенные значения медианой. "
   ]
  },
  {
   "cell_type": "code",
   "execution_count": 7,
   "metadata": {
    "id": "bvqntYWp68yq"
   },
   "outputs": [
    {
     "name": "stdout",
     "output_type": "stream",
     "text": [
      "Дубликатов выявлено: 0\n"
     ]
    }
   ],
   "source": [
    "#проверим на дубликаты \n",
    "print(\"Дубликатов выявлено:\", df.duplicated().sum())"
   ]
  },
  {
   "cell_type": "code",
   "execution_count": 8,
   "metadata": {},
   "outputs": [],
   "source": [
    "# преобразуем данные в нужные типы для экономии памяти \n",
    "columns = ['RowNumber', 'CreditScore', 'Age', 'NumOfProducts', 'HasCrCard', 'IsActiveMember', 'Exited'] # список колонок\n",
    "df[columns] = df[columns].astype(np.int32)"
   ]
  },
  {
   "cell_type": "code",
   "execution_count": 9,
   "metadata": {},
   "outputs": [
    {
     "name": "stdout",
     "output_type": "stream",
     "text": [
      "<class 'pandas.core.frame.DataFrame'>\n",
      "RangeIndex: 10000 entries, 0 to 9999\n",
      "Data columns (total 14 columns):\n",
      " #   Column           Non-Null Count  Dtype  \n",
      "---  ------           --------------  -----  \n",
      " 0   RowNumber        10000 non-null  int32  \n",
      " 1   CustomerId       10000 non-null  int64  \n",
      " 2   Surname          10000 non-null  object \n",
      " 3   CreditScore      10000 non-null  int32  \n",
      " 4   Geography        10000 non-null  object \n",
      " 5   Gender           10000 non-null  object \n",
      " 6   Age              10000 non-null  int32  \n",
      " 7   Tenure           10000 non-null  float64\n",
      " 8   Balance          10000 non-null  float64\n",
      " 9   NumOfProducts    10000 non-null  int32  \n",
      " 10  HasCrCard        10000 non-null  int32  \n",
      " 11  IsActiveMember   10000 non-null  int32  \n",
      " 12  EstimatedSalary  10000 non-null  float64\n",
      " 13  Exited           10000 non-null  int32  \n",
      "dtypes: float64(3), int32(7), int64(1), object(3)\n",
      "memory usage: 820.4+ KB\n"
     ]
    }
   ],
   "source": [
    "# проверим правильность замены типов данных\n",
    "df.info()"
   ]
  },
  {
   "cell_type": "code",
   "execution_count": 10,
   "metadata": {},
   "outputs": [
    {
     "data": {
      "text/plain": [
       "RowNumber          10000\n",
       "CustomerId         10000\n",
       "Surname             2932\n",
       "CreditScore          460\n",
       "Geography              3\n",
       "Gender                 2\n",
       "Age                   70\n",
       "Tenure                12\n",
       "Balance             6382\n",
       "NumOfProducts          4\n",
       "HasCrCard              2\n",
       "IsActiveMember         2\n",
       "EstimatedSalary     9999\n",
       "Exited                 2\n",
       "dtype: int64"
      ]
     },
     "execution_count": 10,
     "metadata": {},
     "output_type": "execute_result"
    }
   ],
   "source": [
    "# посмотрим, сколько уникальных значений в каждом признаке\n",
    "df.nunique()"
   ]
  },
  {
   "cell_type": "code",
   "execution_count": 11,
   "metadata": {},
   "outputs": [
    {
     "data": {
      "text/plain": [
       "array(['France', 'Spain', 'Germany'], dtype=object)"
      ]
     },
     "metadata": {},
     "output_type": "display_data"
    },
    {
     "data": {
      "text/plain": [
       "array(['Female', 'Male'], dtype=object)"
      ]
     },
     "metadata": {},
     "output_type": "display_data"
    },
    {
     "data": {
      "text/plain": [
       "array([42, 41, 39, 43, 44, 50, 29, 27, 31, 24, 34, 25, 35, 45, 58, 32, 38,\n",
       "       46, 36, 33, 40, 51, 61, 49, 37, 19, 66, 56, 26, 21, 55, 75, 22, 30,\n",
       "       28, 65, 48, 52, 57, 73, 47, 54, 72, 20, 67, 79, 62, 53, 80, 59, 68,\n",
       "       23, 60, 70, 63, 64, 18, 82, 69, 74, 71, 76, 77, 88, 85, 84, 78, 81,\n",
       "       92, 83])"
      ]
     },
     "metadata": {},
     "output_type": "display_data"
    },
    {
     "data": {
      "text/plain": [
       "array([1, 3, 2, 4])"
      ]
     },
     "metadata": {},
     "output_type": "display_data"
    },
    {
     "data": {
      "text/plain": [
       "array([1, 0])"
      ]
     },
     "metadata": {},
     "output_type": "display_data"
    },
    {
     "data": {
      "text/plain": [
       "array([1, 0])"
      ]
     },
     "metadata": {},
     "output_type": "display_data"
    },
    {
     "data": {
      "text/plain": [
       "array([1, 0])"
      ]
     },
     "metadata": {},
     "output_type": "display_data"
    }
   ],
   "source": [
    "# проверим отдельные столбцы на уникальные значения для ручного поиска ошибок и обнаружения аномалий\n",
    "display(df['Geography'].unique())\n",
    "display(df['Gender'].unique())\n",
    "display(df['Age'].unique())\n",
    "display(df['NumOfProducts'].unique())\n",
    "display(df['HasCrCard'].unique())\n",
    "display(df['IsActiveMember'].unique())\n",
    "display(df['Exited'].unique())"
   ]
  },
  {
   "cell_type": "markdown",
   "metadata": {},
   "source": [
    "Типы данных заменены верно, пропусков в датасете больше нет, в уникальных значениях все логично (нет явных выбросов) и их количество разумно для каждого признака"
   ]
  },
  {
   "cell_type": "code",
   "execution_count": 12,
   "metadata": {},
   "outputs": [
    {
     "data": {
      "text/html": [
       "<div>\n",
       "<style scoped>\n",
       "    .dataframe tbody tr th:only-of-type {\n",
       "        vertical-align: middle;\n",
       "    }\n",
       "\n",
       "    .dataframe tbody tr th {\n",
       "        vertical-align: top;\n",
       "    }\n",
       "\n",
       "    .dataframe thead th {\n",
       "        text-align: right;\n",
       "    }\n",
       "</style>\n",
       "<table border=\"1\" class=\"dataframe\">\n",
       "  <thead>\n",
       "    <tr style=\"text-align: right;\">\n",
       "      <th></th>\n",
       "      <th>RowNumber</th>\n",
       "      <th>CustomerId</th>\n",
       "      <th>CreditScore</th>\n",
       "      <th>Age</th>\n",
       "      <th>Tenure</th>\n",
       "      <th>Balance</th>\n",
       "      <th>NumOfProducts</th>\n",
       "      <th>HasCrCard</th>\n",
       "      <th>IsActiveMember</th>\n",
       "      <th>EstimatedSalary</th>\n",
       "      <th>Exited</th>\n",
       "    </tr>\n",
       "  </thead>\n",
       "  <tbody>\n",
       "    <tr>\n",
       "      <th>count</th>\n",
       "      <td>10000.00000</td>\n",
       "      <td>1.000000e+04</td>\n",
       "      <td>10000.000000</td>\n",
       "      <td>10000.000000</td>\n",
       "      <td>10000.00000</td>\n",
       "      <td>10000.000000</td>\n",
       "      <td>10000.000000</td>\n",
       "      <td>10000.00000</td>\n",
       "      <td>10000.000000</td>\n",
       "      <td>10000.000000</td>\n",
       "      <td>10000.000000</td>\n",
       "    </tr>\n",
       "    <tr>\n",
       "      <th>mean</th>\n",
       "      <td>5000.50000</td>\n",
       "      <td>1.569094e+07</td>\n",
       "      <td>650.528800</td>\n",
       "      <td>38.921800</td>\n",
       "      <td>4.99769</td>\n",
       "      <td>76485.889288</td>\n",
       "      <td>1.530200</td>\n",
       "      <td>0.70550</td>\n",
       "      <td>0.515100</td>\n",
       "      <td>100090.239881</td>\n",
       "      <td>0.203700</td>\n",
       "    </tr>\n",
       "    <tr>\n",
       "      <th>std</th>\n",
       "      <td>2886.89568</td>\n",
       "      <td>7.193619e+04</td>\n",
       "      <td>96.653299</td>\n",
       "      <td>10.487806</td>\n",
       "      <td>2.76001</td>\n",
       "      <td>62397.405202</td>\n",
       "      <td>0.581654</td>\n",
       "      <td>0.45584</td>\n",
       "      <td>0.499797</td>\n",
       "      <td>57510.492818</td>\n",
       "      <td>0.402769</td>\n",
       "    </tr>\n",
       "    <tr>\n",
       "      <th>min</th>\n",
       "      <td>1.00000</td>\n",
       "      <td>1.556570e+07</td>\n",
       "      <td>350.000000</td>\n",
       "      <td>18.000000</td>\n",
       "      <td>0.00000</td>\n",
       "      <td>0.000000</td>\n",
       "      <td>1.000000</td>\n",
       "      <td>0.00000</td>\n",
       "      <td>0.000000</td>\n",
       "      <td>11.580000</td>\n",
       "      <td>0.000000</td>\n",
       "    </tr>\n",
       "    <tr>\n",
       "      <th>25%</th>\n",
       "      <td>2500.75000</td>\n",
       "      <td>1.562853e+07</td>\n",
       "      <td>584.000000</td>\n",
       "      <td>32.000000</td>\n",
       "      <td>3.00000</td>\n",
       "      <td>0.000000</td>\n",
       "      <td>1.000000</td>\n",
       "      <td>0.00000</td>\n",
       "      <td>0.000000</td>\n",
       "      <td>51002.110000</td>\n",
       "      <td>0.000000</td>\n",
       "    </tr>\n",
       "    <tr>\n",
       "      <th>50%</th>\n",
       "      <td>5000.50000</td>\n",
       "      <td>1.569074e+07</td>\n",
       "      <td>652.000000</td>\n",
       "      <td>37.000000</td>\n",
       "      <td>4.99769</td>\n",
       "      <td>97198.540000</td>\n",
       "      <td>1.000000</td>\n",
       "      <td>1.00000</td>\n",
       "      <td>1.000000</td>\n",
       "      <td>100193.915000</td>\n",
       "      <td>0.000000</td>\n",
       "    </tr>\n",
       "    <tr>\n",
       "      <th>75%</th>\n",
       "      <td>7500.25000</td>\n",
       "      <td>1.575323e+07</td>\n",
       "      <td>718.000000</td>\n",
       "      <td>44.000000</td>\n",
       "      <td>7.00000</td>\n",
       "      <td>127644.240000</td>\n",
       "      <td>2.000000</td>\n",
       "      <td>1.00000</td>\n",
       "      <td>1.000000</td>\n",
       "      <td>149388.247500</td>\n",
       "      <td>0.000000</td>\n",
       "    </tr>\n",
       "    <tr>\n",
       "      <th>max</th>\n",
       "      <td>10000.00000</td>\n",
       "      <td>1.581569e+07</td>\n",
       "      <td>850.000000</td>\n",
       "      <td>92.000000</td>\n",
       "      <td>10.00000</td>\n",
       "      <td>250898.090000</td>\n",
       "      <td>4.000000</td>\n",
       "      <td>1.00000</td>\n",
       "      <td>1.000000</td>\n",
       "      <td>199992.480000</td>\n",
       "      <td>1.000000</td>\n",
       "    </tr>\n",
       "  </tbody>\n",
       "</table>\n",
       "</div>"
      ],
      "text/plain": [
       "         RowNumber    CustomerId   CreditScore           Age       Tenure  \\\n",
       "count  10000.00000  1.000000e+04  10000.000000  10000.000000  10000.00000   \n",
       "mean    5000.50000  1.569094e+07    650.528800     38.921800      4.99769   \n",
       "std     2886.89568  7.193619e+04     96.653299     10.487806      2.76001   \n",
       "min        1.00000  1.556570e+07    350.000000     18.000000      0.00000   \n",
       "25%     2500.75000  1.562853e+07    584.000000     32.000000      3.00000   \n",
       "50%     5000.50000  1.569074e+07    652.000000     37.000000      4.99769   \n",
       "75%     7500.25000  1.575323e+07    718.000000     44.000000      7.00000   \n",
       "max    10000.00000  1.581569e+07    850.000000     92.000000     10.00000   \n",
       "\n",
       "             Balance  NumOfProducts    HasCrCard  IsActiveMember  \\\n",
       "count   10000.000000   10000.000000  10000.00000    10000.000000   \n",
       "mean    76485.889288       1.530200      0.70550        0.515100   \n",
       "std     62397.405202       0.581654      0.45584        0.499797   \n",
       "min         0.000000       1.000000      0.00000        0.000000   \n",
       "25%         0.000000       1.000000      0.00000        0.000000   \n",
       "50%     97198.540000       1.000000      1.00000        1.000000   \n",
       "75%    127644.240000       2.000000      1.00000        1.000000   \n",
       "max    250898.090000       4.000000      1.00000        1.000000   \n",
       "\n",
       "       EstimatedSalary        Exited  \n",
       "count     10000.000000  10000.000000  \n",
       "mean     100090.239881      0.203700  \n",
       "std       57510.492818      0.402769  \n",
       "min          11.580000      0.000000  \n",
       "25%       51002.110000      0.000000  \n",
       "50%      100193.915000      0.000000  \n",
       "75%      149388.247500      0.000000  \n",
       "max      199992.480000      1.000000  "
      ]
     },
     "execution_count": 12,
     "metadata": {},
     "output_type": "execute_result"
    }
   ],
   "source": [
    "# сделаем быстрый взгляд на статистики (на данном этапе не будем разбивать на два датасета)\n",
    "df.describe()"
   ]
  },
  {
   "cell_type": "code",
   "execution_count": 13,
   "metadata": {},
   "outputs": [
    {
     "data": {
      "image/png": "[encoded data removed]",
      "text/plain": [
       "<Figure size 432x288 with 1 Axes>"
      ]
     },
     "metadata": {
      "needs_background": "light"
     },
     "output_type": "display_data"
    }
   ],
   "source": [
    "# посмотрим на диаграмме \"ящик с усами\" выбросы и медианы по признакам \"Balance\" и \"EstimatedSalary\" без \n",
    "# разбивки по целевому признаку, проведя таким образом начальный EDA\n",
    "# в дальнейшем будем использовать исходный датафрейм df, поэтому введем для анализа новую переменную df_eda\n",
    "df_eda = df\n",
    "\n",
    "# построим диаграмму \"ящик с усами\" для всего датасета по признакам \"Balance\" и \"EstimatedSalary\"\n",
    "df_eda.boxplot(column=['Balance', 'EstimatedSalary'])\n",
    "plt.show()"
   ]
  },
  {
   "cell_type": "code",
   "execution_count": 14,
   "metadata": {},
   "outputs": [
    {
     "data": {
      "text/html": [
       "<div>\n",
       "<style scoped>\n",
       "    .dataframe tbody tr th:only-of-type {\n",
       "        vertical-align: middle;\n",
       "    }\n",
       "\n",
       "    .dataframe tbody tr th {\n",
       "        vertical-align: top;\n",
       "    }\n",
       "\n",
       "    .dataframe thead th {\n",
       "        text-align: right;\n",
       "    }\n",
       "</style>\n",
       "<table border=\"1\" class=\"dataframe\">\n",
       "  <thead>\n",
       "    <tr style=\"text-align: right;\">\n",
       "      <th></th>\n",
       "      <th>CreditScore</th>\n",
       "      <th>Age</th>\n",
       "      <th>Tenure</th>\n",
       "      <th>Balance</th>\n",
       "      <th>NumOfProducts</th>\n",
       "      <th>HasCrCard</th>\n",
       "      <th>IsActiveMember</th>\n",
       "      <th>EstimatedSalary</th>\n",
       "      <th>Exited</th>\n",
       "    </tr>\n",
       "  </thead>\n",
       "  <tbody>\n",
       "    <tr>\n",
       "      <th>CreditScore</th>\n",
       "      <td>1.000000</td>\n",
       "      <td>-0.003965</td>\n",
       "      <td>-0.000059</td>\n",
       "      <td>0.006268</td>\n",
       "      <td>0.012238</td>\n",
       "      <td>-0.005458</td>\n",
       "      <td>0.025651</td>\n",
       "      <td>-0.001384</td>\n",
       "      <td>-0.027094</td>\n",
       "    </tr>\n",
       "    <tr>\n",
       "      <th>Age</th>\n",
       "      <td>-0.003965</td>\n",
       "      <td>1.000000</td>\n",
       "      <td>-0.012604</td>\n",
       "      <td>0.028308</td>\n",
       "      <td>-0.030680</td>\n",
       "      <td>-0.011721</td>\n",
       "      <td>0.085472</td>\n",
       "      <td>-0.007201</td>\n",
       "      <td>0.285323</td>\n",
       "    </tr>\n",
       "    <tr>\n",
       "      <th>Tenure</th>\n",
       "      <td>-0.000059</td>\n",
       "      <td>-0.012604</td>\n",
       "      <td>1.000000</td>\n",
       "      <td>-0.007534</td>\n",
       "      <td>0.011409</td>\n",
       "      <td>0.025978</td>\n",
       "      <td>-0.030680</td>\n",
       "      <td>0.010050</td>\n",
       "      <td>-0.015988</td>\n",
       "    </tr>\n",
       "    <tr>\n",
       "      <th>Balance</th>\n",
       "      <td>0.006268</td>\n",
       "      <td>0.028308</td>\n",
       "      <td>-0.007534</td>\n",
       "      <td>1.000000</td>\n",
       "      <td>-0.304180</td>\n",
       "      <td>-0.014858</td>\n",
       "      <td>-0.010084</td>\n",
       "      <td>0.012797</td>\n",
       "      <td>0.118533</td>\n",
       "    </tr>\n",
       "    <tr>\n",
       "      <th>NumOfProducts</th>\n",
       "      <td>0.012238</td>\n",
       "      <td>-0.030680</td>\n",
       "      <td>0.011409</td>\n",
       "      <td>-0.304180</td>\n",
       "      <td>1.000000</td>\n",
       "      <td>0.003183</td>\n",
       "      <td>0.009612</td>\n",
       "      <td>0.014204</td>\n",
       "      <td>-0.047820</td>\n",
       "    </tr>\n",
       "    <tr>\n",
       "      <th>HasCrCard</th>\n",
       "      <td>-0.005458</td>\n",
       "      <td>-0.011721</td>\n",
       "      <td>0.025978</td>\n",
       "      <td>-0.014858</td>\n",
       "      <td>0.003183</td>\n",
       "      <td>1.000000</td>\n",
       "      <td>-0.011866</td>\n",
       "      <td>-0.009933</td>\n",
       "      <td>-0.007138</td>\n",
       "    </tr>\n",
       "    <tr>\n",
       "      <th>IsActiveMember</th>\n",
       "      <td>0.025651</td>\n",
       "      <td>0.085472</td>\n",
       "      <td>-0.030680</td>\n",
       "      <td>-0.010084</td>\n",
       "      <td>0.009612</td>\n",
       "      <td>-0.011866</td>\n",
       "      <td>1.000000</td>\n",
       "      <td>-0.011421</td>\n",
       "      <td>-0.156128</td>\n",
       "    </tr>\n",
       "    <tr>\n",
       "      <th>EstimatedSalary</th>\n",
       "      <td>-0.001384</td>\n",
       "      <td>-0.007201</td>\n",
       "      <td>0.010050</td>\n",
       "      <td>0.012797</td>\n",
       "      <td>0.014204</td>\n",
       "      <td>-0.009933</td>\n",
       "      <td>-0.011421</td>\n",
       "      <td>1.000000</td>\n",
       "      <td>0.012097</td>\n",
       "    </tr>\n",
       "    <tr>\n",
       "      <th>Exited</th>\n",
       "      <td>-0.027094</td>\n",
       "      <td>0.285323</td>\n",
       "      <td>-0.015988</td>\n",
       "      <td>0.118533</td>\n",
       "      <td>-0.047820</td>\n",
       "      <td>-0.007138</td>\n",
       "      <td>-0.156128</td>\n",
       "      <td>0.012097</td>\n",
       "      <td>1.000000</td>\n",
       "    </tr>\n",
       "  </tbody>\n",
       "</table>\n",
       "</div>"
      ],
      "text/plain": [
       "                 CreditScore       Age    Tenure   Balance  NumOfProducts  \\\n",
       "CreditScore         1.000000 -0.003965 -0.000059  0.006268       0.012238   \n",
       "Age                -0.003965  1.000000 -0.012604  0.028308      -0.030680   \n",
       "Tenure             -0.000059 -0.012604  1.000000 -0.007534       0.011409   \n",
       "Balance             0.006268  0.028308 -0.007534  1.000000      -0.304180   \n",
       "NumOfProducts       0.012238 -0.030680  0.011409 -0.304180       1.000000   \n",
       "HasCrCard          -0.005458 -0.011721  0.025978 -0.014858       0.003183   \n",
       "IsActiveMember      0.025651  0.085472 -0.030680 -0.010084       0.009612   \n",
       "EstimatedSalary    -0.001384 -0.007201  0.010050  0.012797       0.014204   \n",
       "Exited             -0.027094  0.285323 -0.015988  0.118533      -0.047820   \n",
       "\n",
       "                 HasCrCard  IsActiveMember  EstimatedSalary    Exited  \n",
       "CreditScore      -0.005458        0.025651        -0.001384 -0.027094  \n",
       "Age              -0.011721        0.085472        -0.007201  0.285323  \n",
       "Tenure            0.025978       -0.030680         0.010050 -0.015988  \n",
       "Balance          -0.014858       -0.010084         0.012797  0.118533  \n",
       "NumOfProducts     0.003183        0.009612         0.014204 -0.047820  \n",
       "HasCrCard         1.000000       -0.011866        -0.009933 -0.007138  \n",
       "IsActiveMember   -0.011866        1.000000        -0.011421 -0.156128  \n",
       "EstimatedSalary  -0.009933       -0.011421         1.000000  0.012097  \n",
       "Exited           -0.007138       -0.156128         0.012097  1.000000  "
      ]
     },
     "execution_count": 14,
     "metadata": {},
     "output_type": "execute_result"
    }
   ],
   "source": [
    "# взглянем на матрицу корреляции для общего понимания зависимости признаков\n",
    "df_for_corr = df.drop(['RowNumber', 'CustomerId'], axis=1)\n",
    "df_for_corr.corr()"
   ]
  },
  {
   "cell_type": "code",
   "execution_count": 15,
   "metadata": {},
   "outputs": [
    {
     "data": {
      "text/plain": [
       "<AxesSubplot:>"
      ]
     },
     "execution_count": 15,
     "metadata": {},
     "output_type": "execute_result"
    },
    {
     "data": {
      "image/png": "[encoded data removed]",
      "text/plain": [
       "<Figure size 432x288 with 2 Axes>"
      ]
     },
     "metadata": {
      "needs_background": "light"
     },
     "output_type": "display_data"
    }
   ],
   "source": [
    "# построим heatmap матрицы корреляции для наглядного понимания зависимости признаков, т.к.\n",
    "# понимание структуры/особенностей/качества данных способствует улучшению качества модели\n",
    "sns.heatmap(df_for_corr.corr())"
   ]
  },
  {
   "cell_type": "markdown",
   "metadata": {},
   "source": [
    "#### Вывод по \"Шаг №1. Загрузить и подготовить данные. Пояснить порядок действий.\"\n",
    "\n",
    "    Файл открыт, данные загружены. \n",
    "    Датафрейм содержал пропущенные значений, которые были заменены методом KNNImputer из библиотеки scikit-learn 1.1.1. Датафрейм не содержит дубликатов, типы данных приведены к требуемым по логике. Признаки и целевой признак не содержат нелогичных значений.    \n",
    "    По построенной диаграммаме \"ящик с усами\" видно, что распределение соответствует нормальному.\n",
    "    По построенной диаграмме \"тепловая карта\" не выявлено существенной зависимости между признаками (наибольшая обратная зависимость между балансом и количеством продуктов равна -0.304180)."
   ]
  },
  {
   "cell_type": "markdown",
   "metadata": {},
   "source": [
    "### Шаг 2. Исследовать баланс классов, обучить модель без учёта дисбаланса. Кратко описать выводы."
   ]
  },
  {
   "cell_type": "markdown",
   "metadata": {},
   "source": [
    "### Шаг 2.1. Исследовать баланс классов"
   ]
  },
  {
   "cell_type": "code",
   "execution_count": 16,
   "metadata": {},
   "outputs": [],
   "source": [
    "# удалим столбцы, не имеющие практического смысла для обучения модели, из датафрейма\n",
    "df = df.drop(['RowNumber', 'CustomerId', 'Surname'], axis=1)"
   ]
  },
  {
   "cell_type": "code",
   "execution_count": 17,
   "metadata": {
    "scrolled": true
   },
   "outputs": [
    {
     "data": {
      "text/html": [
       "<div>\n",
       "<style scoped>\n",
       "    .dataframe tbody tr th:only-of-type {\n",
       "        vertical-align: middle;\n",
       "    }\n",
       "\n",
       "    .dataframe tbody tr th {\n",
       "        vertical-align: top;\n",
       "    }\n",
       "\n",
       "    .dataframe thead th {\n",
       "        text-align: right;\n",
       "    }\n",
       "</style>\n",
       "<table border=\"1\" class=\"dataframe\">\n",
       "  <thead>\n",
       "    <tr style=\"text-align: right;\">\n",
       "      <th></th>\n",
       "      <th>CreditScore</th>\n",
       "      <th>Age</th>\n",
       "      <th>Tenure</th>\n",
       "      <th>Balance</th>\n",
       "      <th>NumOfProducts</th>\n",
       "      <th>HasCrCard</th>\n",
       "      <th>IsActiveMember</th>\n",
       "      <th>EstimatedSalary</th>\n",
       "      <th>Exited</th>\n",
       "      <th>Geography_Germany</th>\n",
       "      <th>Geography_Spain</th>\n",
       "      <th>Gender_Male</th>\n",
       "    </tr>\n",
       "  </thead>\n",
       "  <tbody>\n",
       "    <tr>\n",
       "      <th>0</th>\n",
       "      <td>619</td>\n",
       "      <td>42</td>\n",
       "      <td>2.0</td>\n",
       "      <td>0.00</td>\n",
       "      <td>1</td>\n",
       "      <td>1</td>\n",
       "      <td>1</td>\n",
       "      <td>101348.88</td>\n",
       "      <td>1</td>\n",
       "      <td>0</td>\n",
       "      <td>0</td>\n",
       "      <td>0</td>\n",
       "    </tr>\n",
       "    <tr>\n",
       "      <th>1</th>\n",
       "      <td>608</td>\n",
       "      <td>41</td>\n",
       "      <td>1.0</td>\n",
       "      <td>83807.86</td>\n",
       "      <td>1</td>\n",
       "      <td>0</td>\n",
       "      <td>1</td>\n",
       "      <td>112542.58</td>\n",
       "      <td>0</td>\n",
       "      <td>0</td>\n",
       "      <td>1</td>\n",
       "      <td>0</td>\n",
       "    </tr>\n",
       "    <tr>\n",
       "      <th>2</th>\n",
       "      <td>502</td>\n",
       "      <td>42</td>\n",
       "      <td>8.0</td>\n",
       "      <td>159660.80</td>\n",
       "      <td>3</td>\n",
       "      <td>1</td>\n",
       "      <td>0</td>\n",
       "      <td>113931.57</td>\n",
       "      <td>1</td>\n",
       "      <td>0</td>\n",
       "      <td>0</td>\n",
       "      <td>0</td>\n",
       "    </tr>\n",
       "    <tr>\n",
       "      <th>3</th>\n",
       "      <td>699</td>\n",
       "      <td>39</td>\n",
       "      <td>1.0</td>\n",
       "      <td>0.00</td>\n",
       "      <td>2</td>\n",
       "      <td>0</td>\n",
       "      <td>0</td>\n",
       "      <td>93826.63</td>\n",
       "      <td>0</td>\n",
       "      <td>0</td>\n",
       "      <td>0</td>\n",
       "      <td>0</td>\n",
       "    </tr>\n",
       "    <tr>\n",
       "      <th>4</th>\n",
       "      <td>850</td>\n",
       "      <td>43</td>\n",
       "      <td>2.0</td>\n",
       "      <td>125510.82</td>\n",
       "      <td>1</td>\n",
       "      <td>1</td>\n",
       "      <td>1</td>\n",
       "      <td>79084.10</td>\n",
       "      <td>0</td>\n",
       "      <td>0</td>\n",
       "      <td>1</td>\n",
       "      <td>0</td>\n",
       "    </tr>\n",
       "  </tbody>\n",
       "</table>\n",
       "</div>"
      ],
      "text/plain": [
       "   CreditScore  Age  Tenure    Balance  NumOfProducts  HasCrCard  \\\n",
       "0          619   42     2.0       0.00              1          1   \n",
       "1          608   41     1.0   83807.86              1          0   \n",
       "2          502   42     8.0  159660.80              3          1   \n",
       "3          699   39     1.0       0.00              2          0   \n",
       "4          850   43     2.0  125510.82              1          1   \n",
       "\n",
       "   IsActiveMember  EstimatedSalary  Exited  Geography_Germany  \\\n",
       "0               1        101348.88       1                  0   \n",
       "1               1        112542.58       0                  0   \n",
       "2               0        113931.57       1                  0   \n",
       "3               0         93826.63       0                  0   \n",
       "4               1         79084.10       0                  0   \n",
       "\n",
       "   Geography_Spain  Gender_Male  \n",
       "0                0            0  \n",
       "1                1            0  \n",
       "2                0            0  \n",
       "3                0            0  \n",
       "4                1            0  "
      ]
     },
     "metadata": {},
     "output_type": "display_data"
    }
   ],
   "source": [
    "# Применим прямое кодирование ко всему датафрейму, \n",
    "# вызовим функцию pd.get_dummies() c аргументом drop_first для избежания dummy-ловушки\n",
    "df_ohe = pd.get_dummies(df, drop_first=True)\n",
    "\n",
    "display(df_ohe.head())\n",
    "# < напишите код здесь >"
   ]
  },
  {
   "cell_type": "code",
   "execution_count": 18,
   "metadata": {},
   "outputs": [
    {
     "data": {
      "text/plain": [
       "0    0.7963\n",
       "1    0.2037\n",
       "Name: Exited, dtype: float64"
      ]
     },
     "execution_count": 18,
     "metadata": {},
     "output_type": "execute_result"
    }
   ],
   "source": [
    "# посмотрим, имеется ли дисбаланс классов по целевому признаку\n",
    "df_ohe[\"Exited\"].value_counts(normalize=True)"
   ]
  },
  {
   "cell_type": "markdown",
   "metadata": {},
   "source": [
    "В датасете df_ohe имеется значительный дисбаланс классов по целевому признаку \"Exited\"\n",
    "\n",
    "Проведем данный шаг исследования без учета дисбаланса классов целевого признака, в следующем шаге исследования сбалансируем классы. "
   ]
  },
  {
   "cell_type": "code",
   "execution_count": 19,
   "metadata": {},
   "outputs": [
    {
     "data": {
      "text/html": [
       "<div>\n",
       "<style scoped>\n",
       "    .dataframe tbody tr th:only-of-type {\n",
       "        vertical-align: middle;\n",
       "    }\n",
       "\n",
       "    .dataframe tbody tr th {\n",
       "        vertical-align: top;\n",
       "    }\n",
       "\n",
       "    .dataframe thead th {\n",
       "        text-align: right;\n",
       "    }\n",
       "</style>\n",
       "<table border=\"1\" class=\"dataframe\">\n",
       "  <thead>\n",
       "    <tr style=\"text-align: right;\">\n",
       "      <th></th>\n",
       "      <th>CreditScore</th>\n",
       "      <th>Age</th>\n",
       "      <th>Tenure</th>\n",
       "      <th>Balance</th>\n",
       "      <th>NumOfProducts</th>\n",
       "      <th>HasCrCard</th>\n",
       "      <th>IsActiveMember</th>\n",
       "      <th>EstimatedSalary</th>\n",
       "      <th>Exited</th>\n",
       "      <th>Geography_Germany</th>\n",
       "      <th>Geography_Spain</th>\n",
       "      <th>Gender_Male</th>\n",
       "    </tr>\n",
       "  </thead>\n",
       "  <tbody>\n",
       "    <tr>\n",
       "      <th>count</th>\n",
       "      <td>6000.000000</td>\n",
       "      <td>6000.000000</td>\n",
       "      <td>6000.000000</td>\n",
       "      <td>6000.000000</td>\n",
       "      <td>6000.000000</td>\n",
       "      <td>6000.000000</td>\n",
       "      <td>6000.000000</td>\n",
       "      <td>6000.000000</td>\n",
       "      <td>6000.000000</td>\n",
       "      <td>6000.000000</td>\n",
       "      <td>6000.00000</td>\n",
       "      <td>6000.000000</td>\n",
       "    </tr>\n",
       "    <tr>\n",
       "      <th>mean</th>\n",
       "      <td>649.881000</td>\n",
       "      <td>38.929500</td>\n",
       "      <td>5.003282</td>\n",
       "      <td>76280.718603</td>\n",
       "      <td>1.534500</td>\n",
       "      <td>0.701333</td>\n",
       "      <td>0.516500</td>\n",
       "      <td>100212.346488</td>\n",
       "      <td>0.203833</td>\n",
       "      <td>0.247167</td>\n",
       "      <td>0.24950</td>\n",
       "      <td>0.544000</td>\n",
       "    </tr>\n",
       "    <tr>\n",
       "      <th>std</th>\n",
       "      <td>96.853072</td>\n",
       "      <td>10.511959</td>\n",
       "      <td>2.748287</td>\n",
       "      <td>62501.054925</td>\n",
       "      <td>0.583552</td>\n",
       "      <td>0.457711</td>\n",
       "      <td>0.499769</td>\n",
       "      <td>57552.124703</td>\n",
       "      <td>0.402880</td>\n",
       "      <td>0.431400</td>\n",
       "      <td>0.43276</td>\n",
       "      <td>0.498102</td>\n",
       "    </tr>\n",
       "    <tr>\n",
       "      <th>min</th>\n",
       "      <td>350.000000</td>\n",
       "      <td>18.000000</td>\n",
       "      <td>0.000000</td>\n",
       "      <td>0.000000</td>\n",
       "      <td>1.000000</td>\n",
       "      <td>0.000000</td>\n",
       "      <td>0.000000</td>\n",
       "      <td>90.070000</td>\n",
       "      <td>0.000000</td>\n",
       "      <td>0.000000</td>\n",
       "      <td>0.00000</td>\n",
       "      <td>0.000000</td>\n",
       "    </tr>\n",
       "    <tr>\n",
       "      <th>25%</th>\n",
       "      <td>584.000000</td>\n",
       "      <td>32.000000</td>\n",
       "      <td>3.000000</td>\n",
       "      <td>0.000000</td>\n",
       "      <td>1.000000</td>\n",
       "      <td>0.000000</td>\n",
       "      <td>0.000000</td>\n",
       "      <td>51078.675000</td>\n",
       "      <td>0.000000</td>\n",
       "      <td>0.000000</td>\n",
       "      <td>0.00000</td>\n",
       "      <td>0.000000</td>\n",
       "    </tr>\n",
       "    <tr>\n",
       "      <th>50%</th>\n",
       "      <td>651.000000</td>\n",
       "      <td>37.000000</td>\n",
       "      <td>4.997690</td>\n",
       "      <td>97196.270000</td>\n",
       "      <td>1.000000</td>\n",
       "      <td>1.000000</td>\n",
       "      <td>1.000000</td>\n",
       "      <td>99671.805000</td>\n",
       "      <td>0.000000</td>\n",
       "      <td>0.000000</td>\n",
       "      <td>0.00000</td>\n",
       "      <td>1.000000</td>\n",
       "    </tr>\n",
       "    <tr>\n",
       "      <th>75%</th>\n",
       "      <td>717.000000</td>\n",
       "      <td>44.000000</td>\n",
       "      <td>7.000000</td>\n",
       "      <td>127903.450000</td>\n",
       "      <td>2.000000</td>\n",
       "      <td>1.000000</td>\n",
       "      <td>1.000000</td>\n",
       "      <td>149606.677500</td>\n",
       "      <td>0.000000</td>\n",
       "      <td>0.000000</td>\n",
       "      <td>0.00000</td>\n",
       "      <td>1.000000</td>\n",
       "    </tr>\n",
       "    <tr>\n",
       "      <th>max</th>\n",
       "      <td>850.000000</td>\n",
       "      <td>92.000000</td>\n",
       "      <td>10.000000</td>\n",
       "      <td>250898.090000</td>\n",
       "      <td>4.000000</td>\n",
       "      <td>1.000000</td>\n",
       "      <td>1.000000</td>\n",
       "      <td>199992.480000</td>\n",
       "      <td>1.000000</td>\n",
       "      <td>1.000000</td>\n",
       "      <td>1.00000</td>\n",
       "      <td>1.000000</td>\n",
       "    </tr>\n",
       "  </tbody>\n",
       "</table>\n",
       "</div>"
      ],
      "text/plain": [
       "       CreditScore          Age       Tenure        Balance  NumOfProducts  \\\n",
       "count  6000.000000  6000.000000  6000.000000    6000.000000    6000.000000   \n",
       "mean    649.881000    38.929500     5.003282   76280.718603       1.534500   \n",
       "std      96.853072    10.511959     2.748287   62501.054925       0.583552   \n",
       "min     350.000000    18.000000     0.000000       0.000000       1.000000   \n",
       "25%     584.000000    32.000000     3.000000       0.000000       1.000000   \n",
       "50%     651.000000    37.000000     4.997690   97196.270000       1.000000   \n",
       "75%     717.000000    44.000000     7.000000  127903.450000       2.000000   \n",
       "max     850.000000    92.000000    10.000000  250898.090000       4.000000   \n",
       "\n",
       "         HasCrCard  IsActiveMember  EstimatedSalary       Exited  \\\n",
       "count  6000.000000     6000.000000      6000.000000  6000.000000   \n",
       "mean      0.701333        0.516500    100212.346488     0.203833   \n",
       "std       0.457711        0.499769     57552.124703     0.402880   \n",
       "min       0.000000        0.000000        90.070000     0.000000   \n",
       "25%       0.000000        0.000000     51078.675000     0.000000   \n",
       "50%       1.000000        1.000000     99671.805000     0.000000   \n",
       "75%       1.000000        1.000000    149606.677500     0.000000   \n",
       "max       1.000000        1.000000    199992.480000     1.000000   \n",
       "\n",
       "       Geography_Germany  Geography_Spain  Gender_Male  \n",
       "count        6000.000000       6000.00000  6000.000000  \n",
       "mean            0.247167          0.24950     0.544000  \n",
       "std             0.431400          0.43276     0.498102  \n",
       "min             0.000000          0.00000     0.000000  \n",
       "25%             0.000000          0.00000     0.000000  \n",
       "50%             0.000000          0.00000     1.000000  \n",
       "75%             0.000000          0.00000     1.000000  \n",
       "max             1.000000          1.00000     1.000000  "
      ]
     },
     "metadata": {},
     "output_type": "display_data"
    },
    {
     "data": {
      "text/html": [
       "<div>\n",
       "<style scoped>\n",
       "    .dataframe tbody tr th:only-of-type {\n",
       "        vertical-align: middle;\n",
       "    }\n",
       "\n",
       "    .dataframe tbody tr th {\n",
       "        vertical-align: top;\n",
       "    }\n",
       "\n",
       "    .dataframe thead th {\n",
       "        text-align: right;\n",
       "    }\n",
       "</style>\n",
       "<table border=\"1\" class=\"dataframe\">\n",
       "  <thead>\n",
       "    <tr style=\"text-align: right;\">\n",
       "      <th></th>\n",
       "      <th>CreditScore</th>\n",
       "      <th>Age</th>\n",
       "      <th>Tenure</th>\n",
       "      <th>Balance</th>\n",
       "      <th>NumOfProducts</th>\n",
       "      <th>HasCrCard</th>\n",
       "      <th>IsActiveMember</th>\n",
       "      <th>EstimatedSalary</th>\n",
       "      <th>Exited</th>\n",
       "      <th>Geography_Germany</th>\n",
       "      <th>Geography_Spain</th>\n",
       "      <th>Gender_Male</th>\n",
       "    </tr>\n",
       "  </thead>\n",
       "  <tbody>\n",
       "    <tr>\n",
       "      <th>count</th>\n",
       "      <td>2000.000000</td>\n",
       "      <td>2000.00000</td>\n",
       "      <td>2000.000000</td>\n",
       "      <td>2000.000000</td>\n",
       "      <td>2000.000000</td>\n",
       "      <td>2000.000000</td>\n",
       "      <td>2000.000000</td>\n",
       "      <td>2000.000000</td>\n",
       "      <td>2000.000000</td>\n",
       "      <td>2000.00000</td>\n",
       "      <td>2000.000000</td>\n",
       "      <td>2000.00000</td>\n",
       "    </tr>\n",
       "    <tr>\n",
       "      <th>mean</th>\n",
       "      <td>650.164000</td>\n",
       "      <td>38.78200</td>\n",
       "      <td>5.014798</td>\n",
       "      <td>77603.791385</td>\n",
       "      <td>1.519500</td>\n",
       "      <td>0.711000</td>\n",
       "      <td>0.510500</td>\n",
       "      <td>100959.284460</td>\n",
       "      <td>0.203500</td>\n",
       "      <td>0.26100</td>\n",
       "      <td>0.249000</td>\n",
       "      <td>0.55250</td>\n",
       "    </tr>\n",
       "    <tr>\n",
       "      <th>std</th>\n",
       "      <td>97.054438</td>\n",
       "      <td>10.21458</td>\n",
       "      <td>2.740901</td>\n",
       "      <td>62696.661660</td>\n",
       "      <td>0.578608</td>\n",
       "      <td>0.453411</td>\n",
       "      <td>0.500015</td>\n",
       "      <td>57486.051856</td>\n",
       "      <td>0.402702</td>\n",
       "      <td>0.43929</td>\n",
       "      <td>0.432542</td>\n",
       "      <td>0.49736</td>\n",
       "    </tr>\n",
       "    <tr>\n",
       "      <th>min</th>\n",
       "      <td>350.000000</td>\n",
       "      <td>18.00000</td>\n",
       "      <td>0.000000</td>\n",
       "      <td>0.000000</td>\n",
       "      <td>1.000000</td>\n",
       "      <td>0.000000</td>\n",
       "      <td>0.000000</td>\n",
       "      <td>91.750000</td>\n",
       "      <td>0.000000</td>\n",
       "      <td>0.00000</td>\n",
       "      <td>0.000000</td>\n",
       "      <td>0.00000</td>\n",
       "    </tr>\n",
       "    <tr>\n",
       "      <th>25%</th>\n",
       "      <td>581.750000</td>\n",
       "      <td>32.00000</td>\n",
       "      <td>3.000000</td>\n",
       "      <td>0.000000</td>\n",
       "      <td>1.000000</td>\n",
       "      <td>0.000000</td>\n",
       "      <td>0.000000</td>\n",
       "      <td>50442.980000</td>\n",
       "      <td>0.000000</td>\n",
       "      <td>0.00000</td>\n",
       "      <td>0.000000</td>\n",
       "      <td>0.00000</td>\n",
       "    </tr>\n",
       "    <tr>\n",
       "      <th>50%</th>\n",
       "      <td>653.000000</td>\n",
       "      <td>37.00000</td>\n",
       "      <td>5.000000</td>\n",
       "      <td>97762.525000</td>\n",
       "      <td>1.000000</td>\n",
       "      <td>1.000000</td>\n",
       "      <td>1.000000</td>\n",
       "      <td>102689.630000</td>\n",
       "      <td>0.000000</td>\n",
       "      <td>0.00000</td>\n",
       "      <td>0.000000</td>\n",
       "      <td>1.00000</td>\n",
       "    </tr>\n",
       "    <tr>\n",
       "      <th>75%</th>\n",
       "      <td>715.000000</td>\n",
       "      <td>44.00000</td>\n",
       "      <td>7.000000</td>\n",
       "      <td>128558.150000</td>\n",
       "      <td>2.000000</td>\n",
       "      <td>1.000000</td>\n",
       "      <td>1.000000</td>\n",
       "      <td>149598.910000</td>\n",
       "      <td>0.000000</td>\n",
       "      <td>1.00000</td>\n",
       "      <td>0.000000</td>\n",
       "      <td>1.00000</td>\n",
       "    </tr>\n",
       "    <tr>\n",
       "      <th>max</th>\n",
       "      <td>850.000000</td>\n",
       "      <td>81.00000</td>\n",
       "      <td>10.000000</td>\n",
       "      <td>222267.630000</td>\n",
       "      <td>4.000000</td>\n",
       "      <td>1.000000</td>\n",
       "      <td>1.000000</td>\n",
       "      <td>199929.170000</td>\n",
       "      <td>1.000000</td>\n",
       "      <td>1.00000</td>\n",
       "      <td>1.000000</td>\n",
       "      <td>1.00000</td>\n",
       "    </tr>\n",
       "  </tbody>\n",
       "</table>\n",
       "</div>"
      ],
      "text/plain": [
       "       CreditScore         Age       Tenure        Balance  NumOfProducts  \\\n",
       "count  2000.000000  2000.00000  2000.000000    2000.000000    2000.000000   \n",
       "mean    650.164000    38.78200     5.014798   77603.791385       1.519500   \n",
       "std      97.054438    10.21458     2.740901   62696.661660       0.578608   \n",
       "min     350.000000    18.00000     0.000000       0.000000       1.000000   \n",
       "25%     581.750000    32.00000     3.000000       0.000000       1.000000   \n",
       "50%     653.000000    37.00000     5.000000   97762.525000       1.000000   \n",
       "75%     715.000000    44.00000     7.000000  128558.150000       2.000000   \n",
       "max     850.000000    81.00000    10.000000  222267.630000       4.000000   \n",
       "\n",
       "         HasCrCard  IsActiveMember  EstimatedSalary       Exited  \\\n",
       "count  2000.000000     2000.000000      2000.000000  2000.000000   \n",
       "mean      0.711000        0.510500    100959.284460     0.203500   \n",
       "std       0.453411        0.500015     57486.051856     0.402702   \n",
       "min       0.000000        0.000000        91.750000     0.000000   \n",
       "25%       0.000000        0.000000     50442.980000     0.000000   \n",
       "50%       1.000000        1.000000    102689.630000     0.000000   \n",
       "75%       1.000000        1.000000    149598.910000     0.000000   \n",
       "max       1.000000        1.000000    199929.170000     1.000000   \n",
       "\n",
       "       Geography_Germany  Geography_Spain  Gender_Male  \n",
       "count         2000.00000      2000.000000   2000.00000  \n",
       "mean             0.26100         0.249000      0.55250  \n",
       "std              0.43929         0.432542      0.49736  \n",
       "min              0.00000         0.000000      0.00000  \n",
       "25%              0.00000         0.000000      0.00000  \n",
       "50%              0.00000         0.000000      1.00000  \n",
       "75%              1.00000         0.000000      1.00000  \n",
       "max              1.00000         1.000000      1.00000  "
      ]
     },
     "metadata": {},
     "output_type": "display_data"
    },
    {
     "data": {
      "text/html": [
       "<div>\n",
       "<style scoped>\n",
       "    .dataframe tbody tr th:only-of-type {\n",
       "        vertical-align: middle;\n",
       "    }\n",
       "\n",
       "    .dataframe tbody tr th {\n",
       "        vertical-align: top;\n",
       "    }\n",
       "\n",
       "    .dataframe thead th {\n",
       "        text-align: right;\n",
       "    }\n",
       "</style>\n",
       "<table border=\"1\" class=\"dataframe\">\n",
       "  <thead>\n",
       "    <tr style=\"text-align: right;\">\n",
       "      <th></th>\n",
       "      <th>CreditScore</th>\n",
       "      <th>Age</th>\n",
       "      <th>Tenure</th>\n",
       "      <th>Balance</th>\n",
       "      <th>NumOfProducts</th>\n",
       "      <th>HasCrCard</th>\n",
       "      <th>IsActiveMember</th>\n",
       "      <th>EstimatedSalary</th>\n",
       "      <th>Exited</th>\n",
       "      <th>Geography_Germany</th>\n",
       "      <th>Geography_Spain</th>\n",
       "      <th>Gender_Male</th>\n",
       "    </tr>\n",
       "  </thead>\n",
       "  <tbody>\n",
       "    <tr>\n",
       "      <th>count</th>\n",
       "      <td>2000.000000</td>\n",
       "      <td>2000.00000</td>\n",
       "      <td>2000.000000</td>\n",
       "      <td>2000.000000</td>\n",
       "      <td>2000.000000</td>\n",
       "      <td>2000.00000</td>\n",
       "      <td>2000.000000</td>\n",
       "      <td>2000.000000</td>\n",
       "      <td>2000.000000</td>\n",
       "      <td>2000.00000</td>\n",
       "      <td>2000.000000</td>\n",
       "      <td>2000.000000</td>\n",
       "    </tr>\n",
       "    <tr>\n",
       "      <th>mean</th>\n",
       "      <td>652.837000</td>\n",
       "      <td>39.03850</td>\n",
       "      <td>4.963805</td>\n",
       "      <td>75983.499245</td>\n",
       "      <td>1.528000</td>\n",
       "      <td>0.71250</td>\n",
       "      <td>0.515500</td>\n",
       "      <td>98854.875480</td>\n",
       "      <td>0.203500</td>\n",
       "      <td>0.25200</td>\n",
       "      <td>0.241000</td>\n",
       "      <td>0.544000</td>\n",
       "    </tr>\n",
       "    <tr>\n",
       "      <th>std</th>\n",
       "      <td>95.659651</td>\n",
       "      <td>10.68668</td>\n",
       "      <td>2.814721</td>\n",
       "      <td>61801.433055</td>\n",
       "      <td>0.579123</td>\n",
       "      <td>0.45271</td>\n",
       "      <td>0.499885</td>\n",
       "      <td>57418.408636</td>\n",
       "      <td>0.402702</td>\n",
       "      <td>0.43427</td>\n",
       "      <td>0.427797</td>\n",
       "      <td>0.498185</td>\n",
       "    </tr>\n",
       "    <tr>\n",
       "      <th>min</th>\n",
       "      <td>350.000000</td>\n",
       "      <td>18.00000</td>\n",
       "      <td>0.000000</td>\n",
       "      <td>0.000000</td>\n",
       "      <td>1.000000</td>\n",
       "      <td>0.00000</td>\n",
       "      <td>0.000000</td>\n",
       "      <td>11.580000</td>\n",
       "      <td>0.000000</td>\n",
       "      <td>0.00000</td>\n",
       "      <td>0.000000</td>\n",
       "      <td>0.000000</td>\n",
       "    </tr>\n",
       "    <tr>\n",
       "      <th>25%</th>\n",
       "      <td>585.000000</td>\n",
       "      <td>32.00000</td>\n",
       "      <td>3.000000</td>\n",
       "      <td>0.000000</td>\n",
       "      <td>1.000000</td>\n",
       "      <td>0.00000</td>\n",
       "      <td>0.000000</td>\n",
       "      <td>51572.750000</td>\n",
       "      <td>0.000000</td>\n",
       "      <td>0.00000</td>\n",
       "      <td>0.000000</td>\n",
       "      <td>0.000000</td>\n",
       "    </tr>\n",
       "    <tr>\n",
       "      <th>50%</th>\n",
       "      <td>654.000000</td>\n",
       "      <td>38.00000</td>\n",
       "      <td>4.998845</td>\n",
       "      <td>96728.775000</td>\n",
       "      <td>1.000000</td>\n",
       "      <td>1.00000</td>\n",
       "      <td>1.000000</td>\n",
       "      <td>98740.830000</td>\n",
       "      <td>0.000000</td>\n",
       "      <td>0.00000</td>\n",
       "      <td>0.000000</td>\n",
       "      <td>1.000000</td>\n",
       "    </tr>\n",
       "    <tr>\n",
       "      <th>75%</th>\n",
       "      <td>719.000000</td>\n",
       "      <td>44.00000</td>\n",
       "      <td>7.000000</td>\n",
       "      <td>125517.670000</td>\n",
       "      <td>2.000000</td>\n",
       "      <td>1.00000</td>\n",
       "      <td>1.000000</td>\n",
       "      <td>147530.440000</td>\n",
       "      <td>0.000000</td>\n",
       "      <td>1.00000</td>\n",
       "      <td>0.000000</td>\n",
       "      <td>1.000000</td>\n",
       "    </tr>\n",
       "    <tr>\n",
       "      <th>max</th>\n",
       "      <td>850.000000</td>\n",
       "      <td>79.00000</td>\n",
       "      <td>10.000000</td>\n",
       "      <td>221532.800000</td>\n",
       "      <td>4.000000</td>\n",
       "      <td>1.00000</td>\n",
       "      <td>1.000000</td>\n",
       "      <td>199805.630000</td>\n",
       "      <td>1.000000</td>\n",
       "      <td>1.00000</td>\n",
       "      <td>1.000000</td>\n",
       "      <td>1.000000</td>\n",
       "    </tr>\n",
       "  </tbody>\n",
       "</table>\n",
       "</div>"
      ],
      "text/plain": [
       "       CreditScore         Age       Tenure        Balance  NumOfProducts  \\\n",
       "count  2000.000000  2000.00000  2000.000000    2000.000000    2000.000000   \n",
       "mean    652.837000    39.03850     4.963805   75983.499245       1.528000   \n",
       "std      95.659651    10.68668     2.814721   61801.433055       0.579123   \n",
       "min     350.000000    18.00000     0.000000       0.000000       1.000000   \n",
       "25%     585.000000    32.00000     3.000000       0.000000       1.000000   \n",
       "50%     654.000000    38.00000     4.998845   96728.775000       1.000000   \n",
       "75%     719.000000    44.00000     7.000000  125517.670000       2.000000   \n",
       "max     850.000000    79.00000    10.000000  221532.800000       4.000000   \n",
       "\n",
       "        HasCrCard  IsActiveMember  EstimatedSalary       Exited  \\\n",
       "count  2000.00000     2000.000000      2000.000000  2000.000000   \n",
       "mean      0.71250        0.515500     98854.875480     0.203500   \n",
       "std       0.45271        0.499885     57418.408636     0.402702   \n",
       "min       0.00000        0.000000        11.580000     0.000000   \n",
       "25%       0.00000        0.000000     51572.750000     0.000000   \n",
       "50%       1.00000        1.000000     98740.830000     0.000000   \n",
       "75%       1.00000        1.000000    147530.440000     0.000000   \n",
       "max       1.00000        1.000000    199805.630000     1.000000   \n",
       "\n",
       "       Geography_Germany  Geography_Spain  Gender_Male  \n",
       "count         2000.00000      2000.000000  2000.000000  \n",
       "mean             0.25200         0.241000     0.544000  \n",
       "std              0.43427         0.427797     0.498185  \n",
       "min              0.00000         0.000000     0.000000  \n",
       "25%              0.00000         0.000000     0.000000  \n",
       "50%              0.00000         0.000000     1.000000  \n",
       "75%              1.00000         0.000000     1.000000  \n",
       "max              1.00000         1.000000     1.000000  "
      ]
     },
     "metadata": {},
     "output_type": "display_data"
    }
   ],
   "source": [
    "# разделим датафрейм на обучающую, валидационную и тестовую выборки\n",
    "\n",
    "# разделим сначала датафрейм на 2 части: 80% на обучающую + валидационную выборку и 20% на тестовую\n",
    "df_train_valid, df_test = train_test_split(df_ohe, stratify=df_ohe['Exited'], test_size=0.20, random_state=RANDOM_STATE)\n",
    "\n",
    "# разделим полученный датафрейм df_train_valid на 2 части: 75% на обучающую выборку и 25% на валидационную\n",
    "df_train, df_valid = train_test_split(df_train_valid, stratify=df_train_valid['Exited'], test_size=0.25, random_state=RANDOM_STATE)\n",
    "\n",
    "# посмотрим статистики по каждому датасету\n",
    "display(df_train.describe())\n",
    "display(df_valid.describe())\n",
    "display(df_test.describe())"
   ]
  },
  {
   "cell_type": "markdown",
   "metadata": {},
   "source": [
    "### Шаг 2.2. Обучить модель без учёта дисбаланса"
   ]
  },
  {
   "cell_type": "code",
   "execution_count": 20,
   "metadata": {},
   "outputs": [],
   "source": [
    "#зададим целевой признак, создав датасеты для всех выборок с признаками и целевым признаком\n",
    "\n",
    "features_train = df_train.drop(['Exited'], axis=1)\n",
    "target_train = df_train['Exited']\n",
    "features_valid = df_valid.drop(['Exited'], axis=1)\n",
    "target_valid = df_valid['Exited']\n",
    "features_test = df_test.drop(['Exited', 'Exited'], axis=1)\n",
    "target_test = df_test['Exited']"
   ]
  },
  {
   "cell_type": "code",
   "execution_count": 22,
   "metadata": {},
   "outputs": [],
   "source": [
    "# создадим формулу для расчета AUC-ROC метрики для лучшей модели для валидационной выборки\n",
    "probabilities_valid=None\n",
    "\n",
    "def auc_roc(model, features_valid=None):\n",
    "    probabilities_valid = model.predict_proba(features_valid)\n",
    "    probabilities_one_valid = probabilities_valid[:, 1]\n",
    "    fpr, tpr, thresholds = metrics.roc_curve(target_valid, probabilities_one_valid, pos_label=2)\n",
    "    auc_roc = roc_auc_score(target_valid, probabilities_one_valid)    \n",
    "    return auc_roc"
   ]
  },
  {
   "cell_type": "code",
   "execution_count": 23,
   "metadata": {},
   "outputs": [],
   "source": [
    "# создадим формулу для расчета AUC-ROC метрики для лучшей модели для тестовой выборки\n",
    "probabilities_test=None\n",
    "\n",
    "def auc_roc_test(model, features_test=None):\n",
    "    probabilities_test = model.predict_proba(features_test)\n",
    "    probabilities_one_test = probabilities_test[:, 1]\n",
    "    fpr, tpr, thresholds = metrics.roc_curve(target_test, probabilities_one_test, pos_label=2)\n",
    "    auc_roc = roc_auc_score(target_test, probabilities_one_test)    \n",
    "    return auc_roc"
   ]
  },
  {
   "cell_type": "code",
   "execution_count": 24,
   "metadata": {},
   "outputs": [],
   "source": [
    "# создадим формулу для отображения графика AUC-ROC метрики для валидационной выборки\n",
    "def auc_roc_curve(model, features_valid=None):\n",
    "    probabilities_valid = model.predict_proba(features_valid)\n",
    "    probabilities_one_valid = probabilities_valid[:, 1]\n",
    "    fpr, tpr, thresholds = roc_curve(target_valid, probabilities_one_valid) # < напишите код здесь >\n",
    "\n",
    "    plt.figure()\n",
    "    plt.plot(fpr, tpr)\n",
    "    # ROC-кривая случайной модели (выглядит как прямая)\n",
    "    plt.plot([0, 1], [0, 1], linestyle='--')\n",
    "    # применим функции plt.xlim() и plt.ylim(), чтобы установить границы осей от 0 до 1\n",
    "    plt.ylim([0.0, 1.0])\n",
    "    plt.xlim([0.0, 1.0])\n",
    "    # применим функции plt.xlabel() и plt.ylabel(), чтобы подписать оси \"False Positive Rate\" и \"True Positive Rate\"\n",
    "    plt.xlabel('False Positive Rate')\n",
    "    plt.ylabel('True Positive Rate')\n",
    "    # добавим к графику заголовок \"ROC-кривая\" функцией plt.title() >\n",
    "    plt.title('ROC-кривая')\n",
    "    #plt.figure(figsize=(6, 6))\n",
    "    #plt.step(recall, precision, where='post')\n",
    "    return plt.show()"
   ]
  },
  {
   "cell_type": "code",
   "execution_count": 25,
   "metadata": {},
   "outputs": [],
   "source": [
    "# создадим формулу для отображения графика AUC-ROC метрики для тестовой выборки\n",
    "def auc_roc_curve_test(model, features_test=None):\n",
    "    probabilities_test = model.predict_proba(features_test)\n",
    "    probabilities_one_test = probabilities_test[:, 1]\n",
    "    fpr, tpr, thresholds = roc_curve(target_test, probabilities_one_test) # < напишите код здесь >\n",
    "\n",
    "    plt.figure()\n",
    "    plt.plot(fpr, tpr)\n",
    "    # ROC-кривая случайной модели (выглядит как прямая)\n",
    "    plt.plot([0, 1], [0, 1], linestyle='--')\n",
    "    # применим функции plt.xlim() и plt.ylim(), чтобы установить границы осей от 0 до 1\n",
    "    plt.ylim([0.0, 1.0])\n",
    "    plt.xlim([0.0, 1.0])\n",
    "    # применим функции plt.xlabel() и plt.ylabel(), чтобы подписать оси \"False Positive Rate\" и \"True Positive Rate\"\n",
    "    plt.xlabel('False Positive Rate')\n",
    "    plt.ylabel('True Positive Rate')\n",
    "    # добавим к графику заголовок \"ROC-кривая\" функцией plt.title() >\n",
    "    plt.title('ROC-кривая')\n",
    "    #plt.figure(figsize=(6, 6))\n",
    "    #plt.step(recall, precision, where='post')\n",
    "    return plt.show()"
   ]
  },
  {
   "cell_type": "code",
   "execution_count": 26,
   "metadata": {},
   "outputs": [
    {
     "name": "stdout",
     "output_type": "stream",
     "text": [
      "Depth (глубина 'дерева') =  8\n",
      "F1-мера наилучшей модели DecisionTreeClassifier на валидационной выборке: 0.5796269727403156\n",
      "AUC-ROC =  0.6788182635640262\n"
     ]
    },
    {
     "name": "stderr",
     "output_type": "stream",
     "text": [
      "C:\\Users\\admin\\anaconda3\\lib\\site-packages\\sklearn\\metrics\\_ranking.py:949: UndefinedMetricWarning: No positive samples in y_true, true positive value should be meaningless\n",
      "  warnings.warn(\"No positive samples in y_true, \"\n"
     ]
    },
    {
     "data": {
      "image/png": "[encoded data removed]",
      "text/plain": [
       "<Figure size 432x288 with 1 Axes>"
      ]
     },
     "metadata": {
      "needs_background": "light"
     },
     "output_type": "display_data"
    }
   ],
   "source": [
    "# DecisionTreeClassifier до устранения дисбаланса\n",
    "best_model = None\n",
    "best_result = 0\n",
    "\n",
    "for depth in range(1, 50):\n",
    "    model_dtc = DecisionTreeClassifier(random_state=RANDOM_STATE, max_depth=depth) # обучим модель с заданной глубиной дерева\n",
    "    model_dtc.fit(features_train, target_train) # обучим модель на тренировочной выборке\n",
    "    predictions_valid_dtc = model_dtc.predict(features_valid) # получим предсказания модели\n",
    "    result = f1_score(target_valid, predictions_valid_dtc) # посчитаем качество модели на валидационной выборке\n",
    "    if result > best_result:\n",
    "        best_model_dtc = model_dtc # сохраним наилучшую модель\n",
    "        best_result = result #  сохраним наилучшее значение метрики accuracy на валидационных данных\n",
    "        best_depth = depth\n",
    "        \n",
    "# выведем на экран гиперпараметр и F1-меру по лучшей модели\n",
    "print(\"Depth (глубина 'дерева') = \", best_depth)\n",
    "print(\"F1-мера наилучшей модели DecisionTreeClassifier на валидационной выборке:\", best_result)\n",
    "\n",
    "# посчитаем AUC-ROC метрику для лучшей модели\n",
    "print(\"AUC-ROC = \", auc_roc(model_dtc, features_valid))\n",
    "\n",
    "# построим график ROC-кривой\n",
    "auc_roc_curve(model_dtc, features_valid)"
   ]
  },
  {
   "cell_type": "code",
   "execution_count": 27,
   "metadata": {},
   "outputs": [
    {
     "name": "stdout",
     "output_type": "stream",
     "text": [
      "Est =  28\n",
      "F1-мера наилучшей модели RandomForestClassifier на валидационной выборке: 0.5701219512195123\n",
      "AUC-ROC =  0.8465414567109482\n"
     ]
    },
    {
     "name": "stderr",
     "output_type": "stream",
     "text": [
      "C:\\Users\\admin\\anaconda3\\lib\\site-packages\\sklearn\\metrics\\_ranking.py:949: UndefinedMetricWarning: No positive samples in y_true, true positive value should be meaningless\n",
      "  warnings.warn(\"No positive samples in y_true, \"\n"
     ]
    },
    {
     "data": {
      "image/png": "[encoded data removed]",
      "text/plain": [
       "<Figure size 432x288 with 1 Axes>"
      ]
     },
     "metadata": {
      "needs_background": "light"
     },
     "output_type": "display_data"
    }
   ],
   "source": [
    "# RandomForestClassifier до устранения дисбаланса\n",
    "best_model = None\n",
    "best_result = 0\n",
    "for est in range(1, 30):\n",
    "    model_rfc = RandomForestClassifier(random_state=RANDOM_STATE, n_estimators=est) # обучим модель с заданным количеством деревьев\n",
    "    model_rfc.fit(features_train, target_train) # обучим модель на тренировочной выборке\n",
    "    predictions_valid_rfc = model_rfc.predict(features_valid) # получим предсказания модели\n",
    "    result = f1_score(target_valid, predictions_valid_rfc) # посчитаем качество модели на валидационной выборке\n",
    "    if result > best_result:\n",
    "        best_model_rfc = model_rfc # сохраним наилучшую модель\n",
    "        best_result = result #  сохраним наилучшее значение метрики accuracy на валидационных данных\n",
    "        best_est = est\n",
    "        \n",
    "# выведем на экран гиперпараметр и F1-меру по лучшей модели\n",
    "print(\"Est = \", best_est)\n",
    "print(\"F1-мера наилучшей модели RandomForestClassifier на валидационной выборке:\", best_result)\n",
    "\n",
    "# посчитаем AUC-ROC метрику для лучшей модели\n",
    "print(\"AUC-ROC = \", auc_roc(model_rfc, features_valid))\n",
    "\n",
    "# построим график ROC-кривой\n",
    "auc_roc_curve(model_rfc, features_valid)\n"
   ]
  },
  {
   "cell_type": "code",
   "execution_count": 28,
   "metadata": {},
   "outputs": [
    {
     "name": "stdout",
     "output_type": "stream",
     "text": [
      "Max_iter_not_auto =  50\n",
      "F1-мера наилучшей модели LogisticRegression на валидационной выборке: 0.07223476297968397\n"
     ]
    },
    {
     "name": "stderr",
     "output_type": "stream",
     "text": [
      "C:\\Users\\admin\\anaconda3\\lib\\site-packages\\sklearn\\metrics\\_ranking.py:949: UndefinedMetricWarning: No positive samples in y_true, true positive value should be meaningless\n",
      "  warnings.warn(\"No positive samples in y_true, \"\n"
     ]
    },
    {
     "name": "stdout",
     "output_type": "stream",
     "text": [
      "AUC-ROC =  0.6835371581134293\n"
     ]
    },
    {
     "data": {
      "image/png": "[encoded data removed]",
      "text/plain": [
       "<Figure size 432x288 with 1 Axes>"
      ]
     },
     "metadata": {
      "needs_background": "light"
     },
     "output_type": "display_data"
    }
   ],
   "source": [
    "# LogisticRegression до устранения дисбаланса\n",
    "\n",
    "#установим значение количества итераций вручную подбором,\n",
    "# используем penalty='none', чтобы не приводить признаки к одному масштабу\n",
    "max_iter_not_auto = 50\n",
    "\n",
    "model_lr = LogisticRegression(random_state=RANDOM_STATE, max_iter=max_iter_not_auto, penalty='none')\n",
    "model_lr.fit(features_train, target_train)\n",
    "predictions_valid_lr = model_lr.predict(features_valid)\n",
    "result = f1_score(target_valid, predictions_valid_lr)\n",
    "\n",
    "# выведем на экран гиперпараметр и F1-меру по лучшей модели\n",
    "print(\"Max_iter_not_auto = \", max_iter_not_auto)\n",
    "print(\"F1-мера наилучшей модели LogisticRegression на валидационной выборке:\", result)\n",
    "\n",
    "# посчитаем AUC-ROC метрику для лучшей модели\n",
    "print(\"AUC-ROC = \", auc_roc(model_lr, features_valid))\n",
    "\n",
    "# построим график ROC-кривой\n",
    "auc_roc_curve(model_lr, features_valid)"
   ]
  },
  {
   "cell_type": "markdown",
   "metadata": {},
   "source": [
    "По умолчанию LogisticRegression реализует алгоритм с регуляризацией (penalty='l2'), чтобы решение было корректным, нужно привести признаки к одному масштабу. Если же использовать классический вариант логистической регрессии, то необходимо просто указать penalty='none'"
   ]
  },
  {
   "cell_type": "markdown",
   "metadata": {},
   "source": [
    "### Шаг 2.3. Подбор параметров через GridSearchCV и RandomizedSearchCV"
   ]
  },
  {
   "cell_type": "markdown",
   "metadata": {},
   "source": [
    "#### Шаг 2.3.1 Подбор параметров для DecisionTreeClassifier()"
   ]
  },
  {
   "cell_type": "code",
   "execution_count": 29,
   "metadata": {},
   "outputs": [
    {
     "data": {
      "text/plain": [
       "{'max_depth': 8}"
      ]
     },
     "execution_count": 29,
     "metadata": {},
     "output_type": "execute_result"
    }
   ],
   "source": [
    "# используем метод GridSearchCV для автоматического перебора параметров модели DecisionTreeClassifier()\n",
    "# в GridSearchCV валидационная выборка заменяется кросс-валидацией, которая есть внутри самого GridSearchCV,\n",
    "# поэтому зададим целевой признак на исходном подготовленном через OHE датафрейме - df_ohe \n",
    "features_train_ohe = df_ohe.drop(['Exited'], axis=1)\n",
    "target_train_ohe = df_ohe['Exited']\n",
    "\n",
    "parameters = {'max_depth': range (1, 50, 1)}\n",
    "model = DecisionTreeClassifier()\n",
    "grid = GridSearchCV(estimator=model, param_grid=parameters, cv=5, scoring='f1')\n",
    "grid.fit(features_train_ohe, target_train_ohe)\n",
    "grid.best_params_"
   ]
  },
  {
   "cell_type": "code",
   "execution_count": 30,
   "metadata": {},
   "outputs": [
    {
     "data": {
      "text/plain": [
       "{'max_depth': 9}"
      ]
     },
     "execution_count": 30,
     "metadata": {},
     "output_type": "execute_result"
    }
   ],
   "source": [
    "# используем метод RandomizedSearchCV для автоматического перебора параметров модели DecisionTreeClassifier()\n",
    "# в GridSearchCV валидационная выборка заменяется кросс-валидацией, которая есть внутри самого GridSearchCV,\n",
    "# поэтому зададим целевой признак на исходном подготовленном через OHE датафрейме - df_ohe \n",
    "features_train_ohe = df_ohe.drop(['Exited'], axis=1)\n",
    "target_train_ohe = df_ohe['Exited']\n",
    "\n",
    "parameters = {'max_depth': range (1, 50, 1)}\n",
    "model = DecisionTreeClassifier()\n",
    "grid = RandomizedSearchCV(estimator=model, param_distributions=parameters, cv=5, scoring='f1')\n",
    "grid.fit(features_train_ohe, target_train_ohe)\n",
    "grid.best_params_"
   ]
  },
  {
   "cell_type": "markdown",
   "metadata": {},
   "source": [
    "#### Шаг 2.3.2 Подбор параметров для RandomForestClassifier()"
   ]
  },
  {
   "cell_type": "code",
   "execution_count": 31,
   "metadata": {},
   "outputs": [
    {
     "data": {
      "text/plain": [
       "{'max_depth': 9, 'n_estimators': 25}"
      ]
     },
     "execution_count": 31,
     "metadata": {},
     "output_type": "execute_result"
    }
   ],
   "source": [
    "# используем метод GridSearchCV для автоматического перебора параметров модели RandomForestClassifier()\n",
    "# в GridSearchCV валидационная выборка заменяется кросс-валидацией, которая есть внутри самого GridSearchCV,\n",
    "# поэтому зададим целевой признак на исходном подготовленном через OHE датафрейме - df_ohe\n",
    "\n",
    "features_train_ohe = df_ohe.drop(['Exited'], axis=1)\n",
    "target_train_ohe = df_ohe['Exited']\n",
    "\n",
    "parameters = {'n_estimators': range (25, 35, 1), 'max_depth': range (1, 10, 1)}\n",
    "model = RandomForestClassifier()\n",
    "grid = GridSearchCV(estimator=model, param_grid=parameters, cv=5, scoring='f1')\n",
    "grid.fit(features_train_ohe, target_train_ohe)\n",
    "grid.best_params_"
   ]
  },
  {
   "cell_type": "code",
   "execution_count": 32,
   "metadata": {},
   "outputs": [
    {
     "data": {
      "text/plain": [
       "{'n_estimators': 28, 'max_depth': 8}"
      ]
     },
     "execution_count": 32,
     "metadata": {},
     "output_type": "execute_result"
    }
   ],
   "source": [
    "# используем метод RandomizedSearchCV для автоматического перебора параметров модели RandomForestClassifier()\n",
    "# в GridSearchCV валидационная выборка заменяется кросс-валидацией, которая есть внутри самого GridSearchCV,\n",
    "# поэтому зададим целевой признак на исходном подготовленном через OHE датафрейме - df_ohe\n",
    "\n",
    "features_train_ohe = df_ohe.drop(['Exited'], axis=1)\n",
    "target_train_ohe = df_ohe['Exited']\n",
    "\n",
    "parameters = {'n_estimators': range (25, 35, 1), 'max_depth': range (1, 10, 1)}\n",
    "model = RandomForestClassifier()\n",
    "grid = RandomizedSearchCV(estimator=model, param_distributions=parameters, cv=5, scoring='f1')\n",
    "grid.fit(features_train_ohe, target_train_ohe)\n",
    "grid.best_params_"
   ]
  },
  {
   "cell_type": "markdown",
   "metadata": {},
   "source": [
    "Мы использовали встроенные методы поиска лучших гиперпараметров для моделей GridSearchCV и RandomizedSearchCV. В дальнейшем будем использовать параметры, полученные через GridSearchCV. Подобранные GridSearchCV параметры \"меньше\" времени будут тратить на обучение модели, и только если их будет недостаточно для достижения метрики F1 > 0.59, будем использовать альтернативные параметры."
   ]
  },
  {
   "cell_type": "markdown",
   "metadata": {},
   "source": [
    "### Шаг 2.3.3 Расчет метрик по двум лучшим моделям с гиперпараметрами, подобранными через GridSeachCV"
   ]
  },
  {
   "cell_type": "code",
   "execution_count": 33,
   "metadata": {},
   "outputs": [
    {
     "name": "stdout",
     "output_type": "stream",
     "text": [
      "Depth (глубина 'дерева') =  8\n",
      "F1-мера наилучшей модели DecisionTreeClassifier на валидационной выборке: 0.5796269727403156\n",
      "AUC-ROC =  0.8073674599098327\n"
     ]
    },
    {
     "name": "stderr",
     "output_type": "stream",
     "text": [
      "C:\\Users\\admin\\anaconda3\\lib\\site-packages\\sklearn\\metrics\\_ranking.py:949: UndefinedMetricWarning: No positive samples in y_true, true positive value should be meaningless\n",
      "  warnings.warn(\"No positive samples in y_true, \"\n"
     ]
    },
    {
     "data": {
      "image/png": "[encoded data removed]",
      "text/plain": [
       "<Figure size 432x288 with 1 Axes>"
      ]
     },
     "metadata": {
      "needs_background": "light"
     },
     "output_type": "display_data"
    }
   ],
   "source": [
    "# посчитаем качество модели DecisionTreeClassifier() \n",
    "# на валидационной выборке с параметрами, которые подобраны через GridSearchCV\n",
    "# и убедимся, что качество модели с автоматическим подбором параметров выше, чем через подбор параметров через цикл\n",
    "# а также рассчитаем дополнительные метрики (F1, AUC-ROC)\n",
    "\n",
    "max_depth_GridSearchCV = 8\n",
    "\n",
    "model_dtc = DecisionTreeClassifier(random_state=RANDOM_STATE, max_depth=max_depth_GridSearchCV) # обучим модель с заданной глубиной дерева\n",
    "model_dtc.fit(features_train, target_train) # обучим модель на тренировочной выборке\n",
    "predictions_valid_dtc = model_dtc.predict(features_valid) # получим предсказания модели\n",
    "result = f1_score(target_valid, predictions_valid_dtc) # посчитаем качество модели на валидационной выборке\n",
    "        \n",
    "# выведем на экран гиперпараметр и F1-меру по лучшей модели\n",
    "print(\"Depth (глубина 'дерева') = \", max_depth_GridSearchCV)\n",
    "print(\"F1-мера наилучшей модели DecisionTreeClassifier на валидационной выборке:\", result)\n",
    "\n",
    "# посчитаем AUC-ROC метрику для лучшей модели\n",
    "print(\"AUC-ROC = \", auc_roc(model_dtc, features_valid))\n",
    "\n",
    "# построим график ROC-кривой\n",
    "auc_roc_curve(model_dtc, features_valid)"
   ]
  },
  {
   "cell_type": "code",
   "execution_count": 34,
   "metadata": {},
   "outputs": [
    {
     "name": "stdout",
     "output_type": "stream",
     "text": [
      "Est =  31\n",
      "F1-мера наилучшей модели RandomForestClassifier на валидационной выборке: 0.5451559934318555\n",
      "AUC-ROC =  0.8725304657508047\n"
     ]
    },
    {
     "name": "stderr",
     "output_type": "stream",
     "text": [
      "C:\\Users\\admin\\anaconda3\\lib\\site-packages\\sklearn\\metrics\\_ranking.py:949: UndefinedMetricWarning: No positive samples in y_true, true positive value should be meaningless\n",
      "  warnings.warn(\"No positive samples in y_true, \"\n"
     ]
    },
    {
     "data": {
      "image/png": "[encoded data removed]",
      "text/plain": [
       "<Figure size 432x288 with 1 Axes>"
      ]
     },
     "metadata": {
      "needs_background": "light"
     },
     "output_type": "display_data"
    }
   ],
   "source": [
    "# посчитаем качество модели RandomForestClassifier \n",
    "# на валидационной выборке с параметрами, которые подобраны через GridSearchCV\n",
    "# и убедимся, что качество модели с автоматическим подбором параметров выше, чем через подбор параметров через цикл\n",
    "# а также рассчитаем дополнительные метрики (F1, AUC-ROC)\n",
    "\n",
    "best_est_GridSearchCV = 31\n",
    "best_max_depth_GridSearchCV = 9\n",
    "\n",
    "model_rfc = RandomForestClassifier(random_state=RANDOM_STATE, n_estimators=best_est_GridSearchCV, max_depth=best_max_depth_GridSearchCV) # обучим модель с заданным количеством деревьев\n",
    "model_rfc.fit(features_train, target_train) # обучим модель на тренировочной выборке\n",
    "predictions_valid_rfc = model_rfc.predict(features_valid) # получим предсказания модели\n",
    "result = f1_score(target_valid, predictions_valid_rfc) # посчитаем качество модели на валидационной выборке\n",
    "        \n",
    "# выведем на экран гиперпараметр и F1-меру по лучшей модели\n",
    "print(\"Est = \", best_est_GridSearchCV)\n",
    "print(\"F1-мера наилучшей модели RandomForestClassifier на валидационной выборке:\", result)\n",
    "\n",
    "# посчитаем AUC-ROC метрику для лучшей модели\n",
    "print(\"AUC-ROC = \", auc_roc(model_rfc, features_valid))\n",
    "\n",
    "# построим график ROC-кривой\n",
    "auc_roc_curve(model_rfc, features_valid)"
   ]
  },
  {
   "cell_type": "markdown",
   "metadata": {},
   "source": [
    "Ни одна из двух лучших моделей не позволяет добиться метрики F-1 свыше 0,59.\n",
    "Использование GridSeachCV для подбора гиперпараметров снизило метрику F-1, поэтому остановимся на гиперпараметрах, подобранных через перебор циклом "
   ]
  },
  {
   "cell_type": "markdown",
   "metadata": {},
   "source": [
    "#### Вывод по \"Шаг 2. Исследовать баланс классов, обучить модель без учёта дисбаланса. Кратко описать выводы.\"\n",
    "\n",
    "Было проведено обучение и оценка качества различных моделей со сменой гиперпараметров, в том числе методом подбора параметров через цикл и через GridSearchCV и RandomizedSearchCV без устранения дисбаланса целевого признака. По результатам оценки качества обучения лучшие модели расположились в следующем порядке:\n",
    "\n",
    "    1) DecisionTreeClassifier. F1 на валидационной выборке: 0.5796269727403156 при Depth (глубина 'дерева') =  8\n",
    "    2) RandomForestClassifier. F1 на валидационной выборке: 0.5701219512195123 при Est (количество 'деревьев') =  28, max_depth (глубина) = 9 \n",
    "    3) LogisticRegression. F1 на валидационной выборке:     0.07223476297968397 при max_iter (количество итераций) = 50\n",
    "    \n",
    "С учетом изначального условия по качеству модели, при котором метрика F1 должна быть не менее 0,59, ни одна из моделей до устранения дисбаланса классов не соответствует минимальным требованиям по техническому заданию исследования."
   ]
  },
  {
   "cell_type": "markdown",
   "metadata": {},
   "source": [
    "### Шаг 3. Улучшить качество модели, учитывая дисбаланс классов. Обучить разные модели и найти лучшую. Кратко описать выводы."
   ]
  },
  {
   "cell_type": "markdown",
   "metadata": {},
   "source": [
    "### Шаг 3.1. Метод устранения дисбаланса классов upsampled"
   ]
  },
  {
   "cell_type": "code",
   "execution_count": 35,
   "metadata": {
    "scrolled": false
   },
   "outputs": [],
   "source": [
    "# напишем функцию upsample_repeat_positive, которая будет устранять дисбаланс классов по целевому признаку путем \n",
    "# увеличения выборки для положительного класса (как ранее выявили, объектов с положительным целевым \n",
    "# признаком примерно в 4 раза больше, чем с отрицательным (7963 отрицательных и 2037 положительных)\n",
    "\n",
    "def upsampled_repeat_positive(features, target, repeat):\n",
    "    features_zeros = features[target == 0]\n",
    "    features_ones = features[target == 1]\n",
    "    target_zeros = target[target == 0]\n",
    "    target_ones = target[target == 1]\n",
    "\n",
    "    features_upsampled = pd.concat([features_zeros] + [features_ones] * repeat)\n",
    "    target_upsampled = pd.concat([target_zeros] + [target_ones] * repeat )\n",
    "    \n",
    "    features_upsampled, target_upsampled = shuffle(\n",
    "        features_upsampled, target_upsampled, random_state=RANDOM_STATE)\n",
    "    return features_upsampled, target_upsampled\n",
    "\n",
    "# применим функцию и получим новые upsampled выборки\n",
    "features_upsampled, target_upsampled = upsampled_repeat_positive(features_train, target_train, 4)"
   ]
  },
  {
   "cell_type": "code",
   "execution_count": 36,
   "metadata": {},
   "outputs": [
    {
     "name": "stdout",
     "output_type": "stream",
     "text": [
      "Depth (глубина 'дерева') =  6\n",
      "F1-мера наилучшей модели DecisionTreeClassifier на валидационной выборке: 0.576544315129812\n",
      "AUC-ROC =  0.8073674599098327\n"
     ]
    },
    {
     "name": "stderr",
     "output_type": "stream",
     "text": [
      "C:\\Users\\admin\\anaconda3\\lib\\site-packages\\sklearn\\metrics\\_ranking.py:949: UndefinedMetricWarning: No positive samples in y_true, true positive value should be meaningless\n",
      "  warnings.warn(\"No positive samples in y_true, \"\n"
     ]
    },
    {
     "data": {
      "image/png": "[encoded data removed]",
      "text/plain": [
       "<Figure size 432x288 with 1 Axes>"
      ]
     },
     "metadata": {
      "needs_background": "light"
     },
     "output_type": "display_data"
    }
   ],
   "source": [
    "# DecisionTreeClassifier upsample_repeat_positive c подбором гиперпараметров циклом\n",
    "best_model = None\n",
    "best_result = 0\n",
    "\n",
    "for depth in range(1, 50):\n",
    "    model_dtc_upsampled = DecisionTreeClassifier(random_state=RANDOM_STATE, max_depth=depth) # обучим модель с заданной глубиной дерева\n",
    "    model_dtc_upsampled.fit(features_upsampled, target_upsampled) # обучим модель на тренировочной upsampled выборке\n",
    "    predictions_valid_dtc_upsampled = model_dtc_upsampled.predict(features_valid) # получим предсказания модели\n",
    "    result = f1_score(target_valid, predictions_valid_dtc_upsampled) # посчитаем качество модели на валидационной выборке\n",
    "    if result > best_result:\n",
    "        best_model_dtc = model_dtc # сохраним наилучшую модель\n",
    "        best_result = result #  сохраним наилучшее значение метрики accuracy на валидационных данных\n",
    "        best_depth = depth\n",
    "        \n",
    "# выведем на экран гиперпараметр и F1-меру по лучшей модели\n",
    "print(\"Depth (глубина 'дерева') = \", best_depth)\n",
    "print(\"F1-мера наилучшей модели DecisionTreeClassifier на валидационной выборке:\", best_result)\n",
    "\n",
    "# посчитаем AUC-ROC метрику для лучшей модели\n",
    "print(\"AUC-ROC = \", auc_roc(model_dtc, features_valid))\n",
    "\n",
    "# построим график ROC-кривой\n",
    "auc_roc_curve(model_dtc, features_valid)"
   ]
  },
  {
   "cell_type": "code",
   "execution_count": 37,
   "metadata": {},
   "outputs": [
    {
     "name": "stdout",
     "output_type": "stream",
     "text": [
      "Est =  27\n",
      "F1-мера наилучшей модели RandomForestClassifier на валидационной выборке: 0.5856950067476383\n",
      "AUC-ROC =  0.8406063999284338\n"
     ]
    },
    {
     "name": "stderr",
     "output_type": "stream",
     "text": [
      "C:\\Users\\admin\\anaconda3\\lib\\site-packages\\sklearn\\metrics\\_ranking.py:949: UndefinedMetricWarning: No positive samples in y_true, true positive value should be meaningless\n",
      "  warnings.warn(\"No positive samples in y_true, \"\n"
     ]
    },
    {
     "data": {
      "image/png": "[encoded data removed]",
      "text/plain": [
       "<Figure size 432x288 with 1 Axes>"
      ]
     },
     "metadata": {
      "needs_background": "light"
     },
     "output_type": "display_data"
    }
   ],
   "source": [
    "# RandomForestClassifier upsample_repeat_positive c подбором гиперпараметров циклом\n",
    "best_model = None\n",
    "best_result = 0\n",
    "for est in range(1, 30):\n",
    "    model_rfc_upsampled = RandomForestClassifier(random_state=RANDOM_STATE, n_estimators=est) # обучим модель с заданным количеством деревьев\n",
    "    model_rfc_upsampled.fit(features_upsampled, target_upsampled) # обучим модель на тренировочной выборке\n",
    "    predictions_valid_rfc_upsampled = model_rfc_upsampled.predict(features_valid) # получим предсказания модели\n",
    "    result = f1_score(target_valid, predictions_valid_rfc_upsampled) # посчитаем качество модели на валидационной выборке\n",
    "    if result > best_result:\n",
    "        best_model_rfc = model_rfc # сохраним наилучшую модель\n",
    "        best_result = result #  сохраним наилучшее значение метрики accuracy на валидационных данных\n",
    "        best_est = est\n",
    "        \n",
    "# выведем на экран гиперпараметр и F1-меру по лучшей модели\n",
    "print(\"Est = \", best_est)\n",
    "print(\"F1-мера наилучшей модели RandomForestClassifier на валидационной выборке:\", best_result)\n",
    "\n",
    "# посчитаем AUC-ROC метрику для лучшей модели\n",
    "print(\"AUC-ROC = \", auc_roc(model_rfc_upsampled, features_valid))\n",
    "\n",
    "# построим график ROC-кривой\n",
    "auc_roc_curve(model_rfc_upsampled, features_valid)\n"
   ]
  },
  {
   "cell_type": "code",
   "execution_count": 38,
   "metadata": {},
   "outputs": [
    {
     "name": "stdout",
     "output_type": "stream",
     "text": [
      "Max_depth =  8\n",
      "F1-мера наилучшей модели DecisionTreeClassifier на валидационной выборке: 0.5333333333333332\n"
     ]
    },
    {
     "name": "stderr",
     "output_type": "stream",
     "text": [
      "C:\\Users\\admin\\anaconda3\\lib\\site-packages\\sklearn\\metrics\\_ranking.py:949: UndefinedMetricWarning: No positive samples in y_true, true positive value should be meaningless\n",
      "  warnings.warn(\"No positive samples in y_true, \"\n"
     ]
    },
    {
     "name": "stdout",
     "output_type": "stream",
     "text": [
      "AUC-ROC =  0.7601029380690398\n"
     ]
    },
    {
     "data": {
      "image/png": "[encoded data removed]",
      "text/plain": [
       "<Figure size 432x288 with 1 Axes>"
      ]
     },
     "metadata": {
      "needs_background": "light"
     },
     "output_type": "display_data"
    }
   ],
   "source": [
    "# DecisionTreeClassifier upsample_repeat_positive c применением ранее подобранных гиперпараметров через GridSearchCV\n",
    "model_dtc_upsampled = DecisionTreeClassifier(random_state=RANDOM_STATE, max_depth=best_max_depth_GridSearchCV) # обучим модель с заданным количеством деревьев\n",
    "model_dtc_upsampled.fit(features_upsampled, target_upsampled) # обучим модель на тренировочной upsampled выборке\n",
    "predictions_valid_dtc_upsampled = model_dtc_upsampled.predict(features_valid) # получим предсказания модели\n",
    "result = f1_score(target_valid, predictions_valid_dtc_upsampled) # посчитаем качество модели на валидационной выборке\n",
    "\n",
    "# выведем на экран гиперпараметр и F1-меру по лучшей модели\n",
    "print(\"Max_depth = \", max_depth_GridSearchCV)\n",
    "print(\"F1-мера наилучшей модели DecisionTreeClassifier на валидационной выборке:\", result)\n",
    "\n",
    "# посчитаем AUC-ROC метрику для лучшей модели\n",
    "print(\"AUC-ROC = \", auc_roc(model_dtc_upsampled, features_valid))\n",
    "\n",
    "# построим график ROC-кривой\n",
    "auc_roc_curve(model_dtc_upsampled, features_valid)"
   ]
  },
  {
   "cell_type": "code",
   "execution_count": 39,
   "metadata": {},
   "outputs": [
    {
     "name": "stdout",
     "output_type": "stream",
     "text": [
      "Est =  31\n",
      "Max_depth =  9\n",
      "F1-мера наилучшей модели RandomForestClassifier на валидационной выборке: 0.6289308176100629\n",
      "AUC-ROC =  0.8659923405686119\n"
     ]
    },
    {
     "name": "stderr",
     "output_type": "stream",
     "text": [
      "C:\\Users\\admin\\anaconda3\\lib\\site-packages\\sklearn\\metrics\\_ranking.py:949: UndefinedMetricWarning: No positive samples in y_true, true positive value should be meaningless\n",
      "  warnings.warn(\"No positive samples in y_true, \"\n"
     ]
    },
    {
     "data": {
      "image/png": "[encoded data removed]",
      "text/plain": [
       "<Figure size 432x288 with 1 Axes>"
      ]
     },
     "metadata": {
      "needs_background": "light"
     },
     "output_type": "display_data"
    }
   ],
   "source": [
    "# RandomForestClassifier upsample_repeat_positive c применением ранее подобранных гиперпараметров через GridSearchCV\n",
    "model_rfc_upsampled = RandomForestClassifier(random_state=RANDOM_STATE, n_estimators=best_est_GridSearchCV, max_depth=best_max_depth_GridSearchCV) # обучим модель с заданным количеством деревьев\n",
    "model_rfc_upsampled.fit(features_upsampled, target_upsampled) # обучим модель на тренировочной upsampled выборке\n",
    "predictions_valid_rfc_upsampled = model_rfc_upsampled.predict(features_valid) # получим предсказания модели\n",
    "result = f1_score(target_valid, predictions_valid_rfc_upsampled) # посчитаем качество модели на валидационной выборке\n",
    "\n",
    "# выведем на экран гиперпараметр и F1-меру по лучшей модели\n",
    "print(\"Est = \", best_est_GridSearchCV)\n",
    "print(\"Max_depth = \", best_max_depth_GridSearchCV)\n",
    "print(\"F1-мера наилучшей модели RandomForestClassifier на валидационной выборке:\", result)\n",
    "\n",
    "# посчитаем AUC-ROC метрику для лучшей модели\n",
    "print(\"AUC-ROC = \", auc_roc(model_rfc_upsampled, features_valid))\n",
    "\n",
    "# построим график ROC-кривой\n",
    "auc_roc_curve(model_rfc_upsampled, features_valid)\n",
    "\n",
    "# эта модель лучшая, присвоим ей новое имя\n",
    "model_rfc_upsampled_best = model_rfc_upsampled"
   ]
  },
  {
   "cell_type": "code",
   "execution_count": 40,
   "metadata": {},
   "outputs": [
    {
     "name": "stdout",
     "output_type": "stream",
     "text": [
      "Max_iter_not_auto =  50\n",
      "F1-мера наилучшей модели LogisticRegression на валидационной выборке: 0.3706070287539936\n"
     ]
    },
    {
     "name": "stderr",
     "output_type": "stream",
     "text": [
      "C:\\Users\\admin\\anaconda3\\lib\\site-packages\\sklearn\\metrics\\_ranking.py:949: UndefinedMetricWarning: No positive samples in y_true, true positive value should be meaningless\n",
      "  warnings.warn(\"No positive samples in y_true, \"\n"
     ]
    },
    {
     "name": "stdout",
     "output_type": "stream",
     "text": [
      "AUC-ROC =  0.5988052767713785\n"
     ]
    },
    {
     "data": {
      "image/png": "[encoded data removed]",
      "text/plain": [
       "<Figure size 432x288 with 1 Axes>"
      ]
     },
     "metadata": {
      "needs_background": "light"
     },
     "output_type": "display_data"
    }
   ],
   "source": [
    "# LogisticRegression upsample_repeat_positive c подбором гиперпараметров вручную (подобран ранее)\n",
    "model_lr_upsampled = LogisticRegression(random_state=RANDOM_STATE, max_iter=max_iter_not_auto, penalty='none')\n",
    "model_lr_upsampled.fit(features_upsampled, target_upsampled)\n",
    "predictions_valid_lr_upsampled = model_lr_upsampled.predict(features_valid)\n",
    "result = f1_score(target_valid, predictions_valid_lr_upsampled) # посчитаем качество модели на валидационной выборке\n",
    "\n",
    "# выведем на экран гиперпараметр и F1-меру по лучшей модели\n",
    "print(\"Max_iter_not_auto = \", max_iter_not_auto)\n",
    "print(\"F1-мера наилучшей модели LogisticRegression на валидационной выборке:\", result)\n",
    "\n",
    "# посчитаем AUC-ROC метрику для лучшей модели\n",
    "print(\"AUC-ROC = \", auc_roc(model_lr_upsampled, features_valid))\n",
    "\n",
    "# построим график ROC-кривой\n",
    "auc_roc_curve(model_lr_upsampled, features_valid)"
   ]
  },
  {
   "cell_type": "markdown",
   "metadata": {},
   "source": [
    "### Шаг 3.2. Метод устранения дисбаланса классов downsampled"
   ]
  },
  {
   "cell_type": "code",
   "execution_count": 41,
   "metadata": {},
   "outputs": [],
   "source": [
    "# напишем функцию downsampled, которая будет устранять дисбаланс классов по целевому признаку путем \n",
    "# уменьшения выборки для отрицательного класса (как ранее выявили, объектов с положительным целевым \n",
    "# признаком примерно в 4 раза больше, чем с отрицательным (7963 отрицательных и 2037 положительных)\n",
    "\n",
    "def downsampled(features, target, fraction):\n",
    "    features_zeros = features[target == 0]\n",
    "    features_ones = features[target == 1]\n",
    "    target_zeros = target[target == 0]\n",
    "    target_ones = target[target == 1]\n",
    "    # < напишите код здесь >\n",
    "    features_downsampled = features_zeros.sample(frac=fraction, random_state=RANDOM_STATE)\n",
    "    target_downsampled = target_zeros.sample(frac=fraction, random_state=RANDOM_STATE)\n",
    "    #склеиваем таблицы через concat\n",
    "    features_downsampled = pd.concat([features_downsampled] + [features_ones])\n",
    "    target_downsampled = pd.concat([target_downsampled] + [target_ones])\n",
    "    features_downsampled, target_downsampled = shuffle(features_downsampled, target_downsampled, random_state=RANDOM_STATE)\n",
    "    return features_downsampled, target_downsampled\n",
    "\n",
    "features_downsampled, target_downsampled = downsampled(features_train, target_train, 0.255808) # fraction рассчитали как отношение положительных к отрицательным "
   ]
  },
  {
   "cell_type": "code",
   "execution_count": 42,
   "metadata": {},
   "outputs": [
    {
     "name": "stdout",
     "output_type": "stream",
     "text": [
      "Depth (глубина 'дерева') =  6\n",
      "F1-мера наилучшей модели DecisionTreeClassifier на валидационной выборке: 0.5930232558139534\n",
      "AUC-ROC =  0.8073674599098327\n"
     ]
    },
    {
     "name": "stderr",
     "output_type": "stream",
     "text": [
      "C:\\Users\\admin\\anaconda3\\lib\\site-packages\\sklearn\\metrics\\_ranking.py:949: UndefinedMetricWarning: No positive samples in y_true, true positive value should be meaningless\n",
      "  warnings.warn(\"No positive samples in y_true, \"\n"
     ]
    },
    {
     "data": {
      "image/png": "[encoded data removed]",
      "text/plain": [
       "<Figure size 432x288 with 1 Axes>"
      ]
     },
     "metadata": {
      "needs_background": "light"
     },
     "output_type": "display_data"
    }
   ],
   "source": [
    "# DecisionTreeClassifier downsampled_repeat_positive c подбором гиперпараметров циклом\n",
    "best_model = None\n",
    "best_result = 0\n",
    "\n",
    "for depth in range(1, 50):\n",
    "    model_dtc_downsampled = DecisionTreeClassifier(random_state=RANDOM_STATE, max_depth=depth) # обучим модель с заданной глубиной дерева\n",
    "    model_dtc_downsampled.fit(features_downsampled, target_downsampled) # обучим модель на тренировочной downsampled выборке\n",
    "    predictions_valid_dtc_downsampled = model_dtc_downsampled.predict(features_valid) # получим предсказания модели\n",
    "    result = f1_score(target_valid, predictions_valid_dtc_downsampled) # посчитаем качество модели на валидационной выборке\n",
    "    if result > best_result:\n",
    "        best_model_dtc = model_dtc # сохраним наилучшую модель\n",
    "        best_result = result #  сохраним наилучшее значение метрики accuracy на валидационных данных\n",
    "        best_depth = depth\n",
    "        \n",
    "# выведем на экран гиперпараметр и F1-меру по лучшей модели\n",
    "print(\"Depth (глубина 'дерева') = \", best_depth)\n",
    "print(\"F1-мера наилучшей модели DecisionTreeClassifier на валидационной выборке:\", best_result)\n",
    "\n",
    "# посчитаем AUC-ROC метрику для лучшей модели\n",
    "print(\"AUC-ROC = \", auc_roc(model_dtc, features_valid))\n",
    "\n",
    "# построим график ROC-кривой\n",
    "auc_roc_curve(model_dtc, features_valid)"
   ]
  },
  {
   "cell_type": "code",
   "execution_count": 43,
   "metadata": {},
   "outputs": [
    {
     "name": "stdout",
     "output_type": "stream",
     "text": [
      "Est =  12\n",
      "F1-мера наилучшей модели RandomForestClassifier на валидационной выборке: 0.5846774193548387\n",
      "AUC-ROC =  0.8443381748466495\n"
     ]
    },
    {
     "name": "stderr",
     "output_type": "stream",
     "text": [
      "C:\\Users\\admin\\anaconda3\\lib\\site-packages\\sklearn\\metrics\\_ranking.py:949: UndefinedMetricWarning: No positive samples in y_true, true positive value should be meaningless\n",
      "  warnings.warn(\"No positive samples in y_true, \"\n"
     ]
    },
    {
     "data": {
      "image/png": "[encoded data removed]",
      "text/plain": [
       "<Figure size 432x288 with 1 Axes>"
      ]
     },
     "metadata": {
      "needs_background": "light"
     },
     "output_type": "display_data"
    }
   ],
   "source": [
    "# RandomForestClassifier downsampled_repeat_positive c подбором гиперпараметров циклом\n",
    "best_model = None\n",
    "best_result = 0\n",
    "for est in range(1, 30):\n",
    "    model_rfc_downsampled = RandomForestClassifier(random_state=RANDOM_STATE, n_estimators=est) # обучим модель с заданным количеством деревьев\n",
    "    model_rfc_downsampled.fit(features_downsampled, target_downsampled) # обучим модель на тренировочной выборке\n",
    "    predictions_valid_rfc_downsampled = model_rfc_downsampled.predict(features_valid) # получим предсказания модели\n",
    "    result = f1_score(target_valid, predictions_valid_rfc_downsampled) # посчитаем качество модели на валидационной выборке\n",
    "    if result > best_result:\n",
    "        best_model_rfc = model_rfc # сохраним наилучшую модель\n",
    "        best_result = result #  сохраним наилучшее значение метрики accuracy на валидационных данных\n",
    "        best_est = est\n",
    "        \n",
    "# выведем на экран гиперпараметр и F1-меру по лучшей модели\n",
    "print(\"Est = \", best_est)\n",
    "print(\"F1-мера наилучшей модели RandomForestClassifier на валидационной выборке:\", best_result)\n",
    "\n",
    "# посчитаем AUC-ROC метрику для лучшей модели\n",
    "print(\"AUC-ROC = \", auc_roc(model_rfc_downsampled, features_valid))\n",
    "\n",
    "# построим график ROC-кривой\n",
    "auc_roc_curve(model_rfc_downsampled, features_valid)"
   ]
  },
  {
   "cell_type": "code",
   "execution_count": 44,
   "metadata": {},
   "outputs": [
    {
     "name": "stdout",
     "output_type": "stream",
     "text": [
      "Est =  31\n",
      "Max_depth =  9\n",
      "F1-мера наилучшей модели RandomForestClassifier на валидационной выборке: 0.6029556650246305\n",
      "AUC-ROC =  0.8608053353816065\n"
     ]
    },
    {
     "name": "stderr",
     "output_type": "stream",
     "text": [
      "C:\\Users\\admin\\anaconda3\\lib\\site-packages\\sklearn\\metrics\\_ranking.py:949: UndefinedMetricWarning: No positive samples in y_true, true positive value should be meaningless\n",
      "  warnings.warn(\"No positive samples in y_true, \"\n"
     ]
    },
    {
     "data": {
      "image/png": "[encoded data removed]",
      "text/plain": [
       "<Figure size 432x288 with 1 Axes>"
      ]
     },
     "metadata": {
      "needs_background": "light"
     },
     "output_type": "display_data"
    }
   ],
   "source": [
    "# RandomForestClassifier downsampled_repeat_positive c применением ранее подобранных гиперпараметров через GridSearchCV\n",
    "model_rfc_downsampled = RandomForestClassifier(random_state=RANDOM_STATE, n_estimators=best_est_GridSearchCV, max_depth=best_max_depth_GridSearchCV) # обучим модель с заданным количеством деревьев\n",
    "model_rfc_downsampled.fit(features_downsampled, target_downsampled) # обучим модель на тренировочной downsampled выборке\n",
    "predictions_valid_rfc_downsampled = model_rfc_downsampled.predict(features_valid) # получим предсказания модели\n",
    "result = f1_score(target_valid, predictions_valid_rfc_downsampled) # посчитаем качество модели на валидационной выборке\n",
    "\n",
    "# выведем на экран гиперпараметр и F1-меру по лучшей модели\n",
    "print(\"Est = \", best_est_GridSearchCV)\n",
    "print(\"Max_depth = \", best_max_depth_GridSearchCV)\n",
    "print(\"F1-мера наилучшей модели RandomForestClassifier на валидационной выборке:\", result)\n",
    "\n",
    "# посчитаем AUC-ROC метрику для лучшей модели\n",
    "print(\"AUC-ROC = \", auc_roc(model_rfc_downsampled, features_valid))\n",
    "\n",
    "# построим график ROC-кривой\n",
    "auc_roc_curve(model_rfc_downsampled, features_valid)\n",
    "\n",
    "# присвоим модели, показавшей второй результат по F1 мере, новое имя\n",
    "model_rfc_downsampled_best = model_rfc_downsampled"
   ]
  },
  {
   "cell_type": "code",
   "execution_count": 45,
   "metadata": {},
   "outputs": [
    {
     "name": "stdout",
     "output_type": "stream",
     "text": [
      "Max_depth =  8\n",
      "F1-мера наилучшей модели DecisionTreeClassifier на валидационной выборке: 0.5244956772334294\n",
      "AUC-ROC =  0.7631583818024495\n"
     ]
    },
    {
     "name": "stderr",
     "output_type": "stream",
     "text": [
      "C:\\Users\\admin\\anaconda3\\lib\\site-packages\\sklearn\\metrics\\_ranking.py:949: UndefinedMetricWarning: No positive samples in y_true, true positive value should be meaningless\n",
      "  warnings.warn(\"No positive samples in y_true, \"\n"
     ]
    },
    {
     "data": {
      "image/png": "[encoded data removed]",
      "text/plain": [
       "<Figure size 432x288 with 1 Axes>"
      ]
     },
     "metadata": {
      "needs_background": "light"
     },
     "output_type": "display_data"
    }
   ],
   "source": [
    "# DecisionTreeClassifier downsampled_repeat_positive c применением ранее подобранных гиперпараметров через GridSearchCV\n",
    "model_dtc_downsampled = DecisionTreeClassifier(random_state=RANDOM_STATE, max_depth=best_max_depth_GridSearchCV) # обучим модель с заданным количеством деревьев\n",
    "model_dtc_downsampled.fit(features_downsampled, target_downsampled) # обучим модель на тренировочной downsampled выборке\n",
    "predictions_valid_dtc_downsampled = model_dtc_downsampled.predict(features_valid) # получим предсказания модели\n",
    "result = f1_score(target_valid, predictions_valid_dtc_downsampled) # посчитаем качество модели на валидационной выборке\n",
    "\n",
    "# выведем на экран гиперпараметр и F1-меру по лучшей модели\n",
    "print(\"Max_depth = \", max_depth_GridSearchCV)\n",
    "print(\"F1-мера наилучшей модели DecisionTreeClassifier на валидационной выборке:\", result)\n",
    "\n",
    "# посчитаем AUC-ROC метрику для лучшей модели\n",
    "print(\"AUC-ROC = \", auc_roc(model_dtc_downsampled, features_valid))\n",
    "\n",
    "# построим график ROC-кривой\n",
    "auc_roc_curve(model_dtc_downsampled, features_valid)"
   ]
  },
  {
   "cell_type": "code",
   "execution_count": 46,
   "metadata": {},
   "outputs": [
    {
     "name": "stderr",
     "output_type": "stream",
     "text": [
      "C:\\Users\\admin\\anaconda3\\lib\\site-packages\\sklearn\\metrics\\_ranking.py:949: UndefinedMetricWarning: No positive samples in y_true, true positive value should be meaningless\n",
      "  warnings.warn(\"No positive samples in y_true, \"\n"
     ]
    },
    {
     "name": "stdout",
     "output_type": "stream",
     "text": [
      "Max_iter_not_auto =  50\n",
      "F1-мера наилучшей модели LogisticRegression на валидационной выборке: 0.46116504854368934\n",
      "AUC-ROC =  0.7261359973224379\n"
     ]
    },
    {
     "data": {
      "image/png": "[encoded data removed]",
      "text/plain": [
       "<Figure size 432x288 with 1 Axes>"
      ]
     },
     "metadata": {
      "needs_background": "light"
     },
     "output_type": "display_data"
    }
   ],
   "source": [
    "# LogisticRegression downsampled_repeat_positive c подбором гиперпараметров вручную (подобран ранее)\n",
    "model_lr_downsampled = LogisticRegression(random_state=RANDOM_STATE, max_iter=max_iter_not_auto, penalty='none')\n",
    "model_lr_downsampled.fit(features_downsampled, target_downsampled)\n",
    "predictions_valid_lr_downsampled = model_lr_downsampled.predict(features_valid)\n",
    "result = f1_score(target_valid, predictions_valid_lr_downsampled) # посчитаем качество модели на валидационной выборке\n",
    "\n",
    "# выведем на экран гиперпараметр и F1-меру по лучшей модели\n",
    "print(\"Max_iter_not_auto = \", max_iter_not_auto)\n",
    "print(\"F1-мера наилучшей модели LogisticRegression на валидационной выборке:\", result)\n",
    "\n",
    "# посчитаем AUC-ROC метрику для лучшей модели\n",
    "print(\"AUC-ROC = \", auc_roc(model_lr_downsampled, features_valid))\n",
    "\n",
    "# построим график ROC-кривой\n",
    "auc_roc_curve(model_lr_downsampled, features_valid)"
   ]
  },
  {
   "cell_type": "markdown",
   "metadata": {},
   "source": [
    "#### Вывод по \"Шаг 3. Улучшить качество модели, учитывая дисбаланс классов. Обучить разные модели и найти лучшую. Кратко описать выводы.\"\n",
    "\n",
    "Было проведено обучение и оценка качества различных моделей с устранением дисбаланса целевого признака двумя способами: upsample и downsampled. По результатам оценки качества обучения только одна модель смогла выполнить базовое условие из технического задания исследования, а имеенно, что метрика F1 должна быть не менее 0,59. Такой моделью оказалась RandomForestClassifier upsample_repeat_positive c применением ранее подобранных гиперпараметров через GridSearchCV. Ниже перечислены метрики для upsample (лучшая модель) и downsampled (справочно):\n",
    "\n",
    "    RandomForestClassifier (upsample)\n",
    "    F1: 0.6289308176100629\n",
    "    AUC-ROC: 0.8659923405686119\n",
    "\n",
    "    RandomForestClassifier (downsampled)\n",
    "    F1: 0.6029556650246305 \n",
    "    AUC-ROC: 0.8608053353816065 \n",
    "\n",
    "Таким образом, по проверкам на валидационной выборке лучшей оказалась модель RandomForestClassifier, обученная на выборке с устранением дисбаланса классов методом upsample (увеличение количества объектов для положительного класса)."
   ]
  },
  {
   "cell_type": "markdown",
   "metadata": {},
   "source": [
    "### Шаг 4. Провести финальное тестирование."
   ]
  },
  {
   "cell_type": "code",
   "execution_count": 47,
   "metadata": {},
   "outputs": [
    {
     "name": "stderr",
     "output_type": "stream",
     "text": [
      "C:\\Users\\admin\\anaconda3\\lib\\site-packages\\sklearn\\metrics\\_ranking.py:949: UndefinedMetricWarning: No positive samples in y_true, true positive value should be meaningless\n",
      "  warnings.warn(\"No positive samples in y_true, \"\n"
     ]
    },
    {
     "name": "stdout",
     "output_type": "stream",
     "text": [
      "*****************************************\n",
      "Метрики RandomForestClassifier (upsampling) на тестовой выборке при подборе параметров через GridSearchCV:\n",
      "F1-мера: 0.6200417536534446\n",
      "AUC-ROC =  0.8619929636878789\n",
      "Accuracy =  0.818\n",
      "Параметры модели: est= 31 , max_depth= 9\n",
      "*****************************************\n"
     ]
    },
    {
     "data": {
      "image/png": "[encoded data removed]",
      "text/plain": [
       "<Figure size 432x288 with 1 Axes>"
      ]
     },
     "metadata": {
      "needs_background": "light"
     },
     "output_type": "display_data"
    }
   ],
   "source": [
    "# протестируем итоговые метрики модели RandomForestClassifier upsampling на тестовой выборке \n",
    "predictions_rfc_test = model_rfc_upsampled_best.predict(features_test) # получим предсказания модели \n",
    "\n",
    "print(\"*****************************************\")\n",
    "print(\"Метрики RandomForestClassifier (upsampling) на тестовой выборке при подборе параметров через GridSearchCV:\")\n",
    "\n",
    "# выведем на экран гиперпараметр и F1-меру\n",
    "print(\"F1-мера:\", f1_score(target_test, predictions_rfc_test))\n",
    "\n",
    "# посчитаем AUC-ROC метрику\n",
    "print(\"AUC-ROC = \", auc_roc_test(model_rfc_upsampled, features_test))\n",
    "\n",
    "# посчитаем Accuracy \n",
    "print(\"Accuracy = \", accuracy_score(target_test, predictions_rfc_test))\n",
    "\n",
    "print(\"Параметры модели: est=\", best_est_GridSearchCV, \", max_depth=\", best_max_depth_GridSearchCV )\n",
    "print(\"*****************************************\")\n",
    "\n",
    "# построим график ROC-кривой\n",
    "auc_roc_curve_test(model_rfc_upsampled, features_test)\n"
   ]
  },
  {
   "cell_type": "code",
   "execution_count": 48,
   "metadata": {},
   "outputs": [
    {
     "name": "stdout",
     "output_type": "stream",
     "text": [
      "*****************************************\n",
      "Метрики RandomForestClassifier (downsampled) на тестовой выборке при подборе параметров через GridSearchCV:\n"
     ]
    },
    {
     "name": "stderr",
     "output_type": "stream",
     "text": [
      "C:\\Users\\admin\\anaconda3\\lib\\site-packages\\sklearn\\metrics\\_ranking.py:949: UndefinedMetricWarning: No positive samples in y_true, true positive value should be meaningless\n",
      "  warnings.warn(\"No positive samples in y_true, \"\n"
     ]
    },
    {
     "name": "stdout",
     "output_type": "stream",
     "text": [
      "F1-мера: 0.6017699115044247\n",
      "AUC-ROC =  0.8620176416786586\n",
      "Accuracy =  0.7975\n",
      "Параметры модели: est= 31 , max_depth= 9\n",
      "*****************************************\n"
     ]
    },
    {
     "data": {
      "image/png": "[encoded data removed]",
      "text/plain": [
       "<Figure size 432x288 with 1 Axes>"
      ]
     },
     "metadata": {
      "needs_background": "light"
     },
     "output_type": "display_data"
    }
   ],
   "source": [
    "# протестируем итоговые метрики модели RandomForestClassifier downsampled на тестовой выборке\n",
    "predictions_rfc_test_second = model_rfc_downsampled_best.predict(features_test) # получим предсказания модели \n",
    "\n",
    "print(\"*****************************************\")\n",
    "print(\"Метрики RandomForestClassifier (downsampled) на тестовой выборке при подборе параметров через GridSearchCV:\")\n",
    "\n",
    "# выведем на экран гиперпараметр и F1-меру\n",
    "print(\"F1-мера:\", f1_score(target_test, predictions_rfc_test_second))\n",
    "\n",
    "# посчитаем AUC-ROC метрику\n",
    "print(\"AUC-ROC = \", auc_roc_test(model_rfc_downsampled, features_test))\n",
    "\n",
    "# посчитаем Accuracy \n",
    "print(\"Accuracy = \", accuracy_score(target_test, predictions_rfc_test_second))\n",
    "\n",
    "print(\"Параметры модели: est=\", best_est_GridSearchCV, \", max_depth=\", best_max_depth_GridSearchCV )\n",
    "print(\"*****************************************\")\n",
    "\n",
    "# построим график ROC-кривой\n",
    "auc_roc_curve_test(model_rfc_downsampled, features_test)"
   ]
  },
  {
   "cell_type": "code",
   "execution_count": 49,
   "metadata": {},
   "outputs": [
    {
     "name": "stdout",
     "output_type": "stream",
     "text": [
      "Правильность dummy: 0.7965\n",
      "RandomForestClassifier. Accuraccy на тестовой выборке: 0.818\n"
     ]
    }
   ],
   "source": [
    "# используем DummyClassifier для простой дополнительной проверки моделей на вменяемость \n",
    "# это не заменяет полноценную проверку на вменяемость, но такая задача и не ставилась\n",
    "dummy = DummyClassifier().fit(features_train, target_train)\n",
    "pred_dummy = dummy.predict(features_test)\n",
    "result_dummy = dummy.score(features_test, target_test)\n",
    "print(\"Правильность dummy:\", result_dummy)\n",
    "\n",
    "# для наглядности выведем значения Accuraccy для наших моделей\n",
    "print(\"RandomForestClassifier. Accuraccy на тестовой выборке:\", accuracy_score(target_test, predictions_rfc_test))"
   ]
  },
  {
   "cell_type": "markdown",
   "metadata": {},
   "source": [
    "#### Вывод по \"Шаг 4. Провести финальное тестирование.\"\n",
    "\n",
    "В данной части исследования мы проверили качество лучшей из моделей, обученных в шаге №3, на тестовой выборке. Все гиперпараметры моделей, полученные ранее, использованы в данном шаге.     \n",
    "Итоговый результат по модели:\n",
    "\n",
    "Метрики RandomForestClassifier (upsampling) на тестовой выборке при подборе параметров через GridSearchCV:\n",
    "        \n",
    "        F1-мера: 0.6200417536534446\n",
    "        AUC-ROC =  0.8449065398217941\n",
    "        Accuracy =  0.818\n",
    "        Параметры модели: est= 31 , max_depth= 9\n",
    "\n",
    "    Модель соответствует техническому заданию: \n",
    "    1) метрика F1 превышает требуемые по проекту 0.59 на 0.03 \n",
    "    2) AUC-ROC существенно выше 0,5, а также превышает F1 \n",
    "    3) Справочно: метрика Accuracy на приемлемом уровне - 0.818 (расчет данной меры не требовался и не показателен, использован для сравнения с F1). \n",
    "\n",
    "Мы проверили модель на вменяемость - показатель точности (Accuraccy) у обученной модели (=0.818) оказался выше, чем предсказания по DummyClassifier (=0.7965), выбранному для проверки модели на вменяемость.\n",
    "\n",
    "Цель исследования, а имеенно построение модели с предельно большим значением F1-меры для прогнозирования ухода клиентов из банка, достигнута!"
   ]
  },
  {
   "cell_type": "markdown",
   "metadata": {},
   "source": [
    "## Итоговый вывод\n",
    "В результате исследования была достигнута цель проекта, а именно построение модели с предельно большим значением F1-меры (не менее 0,59) для прогнозирования ухода клиентов из банка.\n",
    "         \n",
    "    Для достижения цели были проделаны следующие шаги и получены следующие выводы: \n",
    "    \n",
    "       Шаг №1. Загрузить и подготовить данные. Пояснить порядок действий.\n",
    "    Файл открыт, данные загружены. Датафрейм содержал пропущенные значений, которые были заменены методом KNNImputer из библиотеки scikit-learn 1.1.1. Датафрейм не содержит дубликатов, типы данных приведены к требуемым по логике. Признаки и целевой признак не содержат нелогичных значений. По построенной диаграммаме \"ящик с усами\" видно, что распределение соответствует нормальному. По построенной диаграмме \"тепловая карта\" не выявлено существенной зависимости между признаками (наибольшая обратная зависимость между балансом и количеством продуктов равна -0.304180).     \n",
    "     \n",
    "       Шаг 2. Исследовать баланс классов, обучить модель без учёта дисбаланса. Кратко описать выводы.\n",
    "    Было проведено обучение и оценка качества различных моделей со сменой гиперпараметров, в том числе методом подбора параметров через цикл и через GridSearchCV и RandomizedSearchCV без устранения дисбаланса целевого признака. По результатам оценки качества обучения лучшие модели расположились в следующем порядке:\n",
    "    1) DecisionTreeClassifier. F1 на валидационной выборке: 0.5796269727403156 при Depth (глубина 'дерева') =  8\n",
    "    2) RandomForestClassifier. F1 на валидационной выборке: 0.5701219512195123 при Est (количество 'деревьев') =  28, max_depth (глубина) = 9 \n",
    "    3) LogisticRegression. F1 на валидационной выборке:     0.07223476297968397 при max_iter (количество итераций) = 50\n",
    "    С учетом изначального условия по качеству модели, при котором метрика F1 должна быть не менее 0,59, ни одна из моделей до устранения дисбаланса классов не соответствует минимальным требованиям по техническому заданию исследования.\n",
    "       \n",
    "       Шаг 3. Улучшить качество модели, учитывая дисбаланс классов. Обучить разные модели и найти лучшую. Кратко описать выводы.\n",
    "    Было проведено обучение и оценка качества различных моделей с устранением дисбаланса целевого признака двумя способами: upsample и downsampled. По результатам оценки качества обучения только одна модель смогла выполнить базовое условие из технического задания исследования, а имеенно, что метрика F1 должна быть не менее 0,59. Такой моделью оказалась RandomForestClassifier upsample_repeat_positive c применением ранее подобранных гиперпараметров через GridSearchCV. Ниже перечислены метрики для upsample (лучшая модель) и downsampled (справочно):\n",
    "\n",
    "    RandomForestClassifier (upsample)\n",
    "    F1: 0.6289308176100629\n",
    "    AUC-ROC: 0.8659923405686119\n",
    "\n",
    "    RandomForestClassifier (downsampled)\n",
    "    F1: 0.6029556650246305 \n",
    "    AUC-ROC: 0.8608053353816065 \n",
    "\n",
    "    Таким образом, по проверкам на валидационной выборке лучшей оказалась модель RandomForestClassifier, обученная на выборке с устранением дисбаланса классов методом upsample (увеличение количества объектов для положительного класса).\n",
    "    \n",
    "        Шаг 4. Провести финальное тестирование.\"\n",
    "    В данной части исследования мы проверили качество лучшей из моделей, обученных в шаге №3, на тестовой выборке. Все гиперпараметры моделей, полученные ранее, использованы в данном шаге. Метрики RandomForestClassifier (upsampling) на тестовой выборке при подборе параметров через GridSearchCV:    \n",
    "        F1-мера: 0.6200417536534446\n",
    "        AUC-ROC =  0.8449065398217941\n",
    "        Accuracy =  0.818\n",
    "        Параметры модели: est= 31 , max_depth= 9\n",
    "\n",
    "    Модель соответствует техническому заданию: \n",
    "    1) метрика F1 превышает требуемые по проекту 0.59 на 0.03 \n",
    "    2) AUC-ROC существенно выше 0,5, а также превышает F1 \n",
    "    3) Справочно: метрика Accuracy на приемлемом уровне - 0.818 (расчет данной меры не требовался и не показателен, использован для сравнения с F1). \n",
    "\n",
    "    Мы проверили модель на вменяемость - показатель точности (Accuraccy) у обученной модели (=0.818) оказался выше, чем предсказания по DummyClassifier (=0.7965), выбранному для проверки модели на вменяемость.  "
   ]
  }
 ],
 "metadata": {
  "colab": {
   "collapsed_sections": [],
   "name": "Untitled0.ipynb",
   "provenance": [],
   "toc_visible": true
  },
  "kernelspec": {
   "display_name": "Python 3 (ipykernel)",
   "language": "python",
   "name": "python3"
  },
  "language_info": {
   "codemirror_mode": {
    "name": "ipython",
    "version": 3
   },
   "file_extension": ".py",
   "mimetype": "text/x-python",
   "name": "python",
   "nbconvert_exporter": "python",
   "pygments_lexer": "ipython3",
   "version": "3.9.10"
  },
  "toc": {
   "base_numbering": 1,
   "nav_menu": {
    "height": "265px",
    "width": "1027px"
   },
   "number_sections": true,
   "sideBar": true,
   "skip_h1_title": true,
   "title_cell": "Table of Contents",
   "title_sidebar": "Contents",
   "toc_cell": true,
   "toc_position": {},
   "toc_section_display": true,
   "toc_window_display": true
  }
 },
 "nbformat": 4,
 "nbformat_minor": 1
}
